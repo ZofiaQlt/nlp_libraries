{
 "cells": [
  {
   "cell_type": "markdown",
   "metadata": {
    "canvas": {
     "comments": [],
     "componentType": "CodeCell",
     "copiedOriginId": "e6579e28-b493-4713-9f0f-6f53517e2ca6",
     "diskcache": false,
     "headerColor": "inherit",
     "id": "195aaa5b-f3f0-46c8-a3a9-60c142899902",
     "isComponent": false,
     "name": "",
     "parents": []
    }
   },
   "source": [
    "# Import libraries"
   ]
  },
  {
   "cell_type": "code",
   "execution_count": 1,
   "metadata": {
    "canvas": {
     "comments": [],
     "componentType": "CodeCell",
     "copiedOriginId": null,
     "diskcache": false,
     "headerColor": "none",
     "id": "abc4cbd5-6ee4-4309-91b3-0148cc5cf875",
     "isComponent": false,
     "name": "",
     "parents": []
    },
    "id": "IN7PIagE1xxq"
   },
   "outputs": [],
   "source": [
    "import pandas as pd\n",
    "import nltk\n",
    "from nltk.corpus import brown\n",
    "from nltk.corpus import webtext\n",
    "from nltk import sent_tokenize, word_tokenize\n",
    "from nltk.corpus import stopwords\n",
    "from string import punctuation\n",
    "from nltk.stem import PorterStemmer\n",
    "from nltk.stem import WordNetLemmatizer\n",
    "from nltk import pos_tag\n",
    "from nltk import sent_tokenize\n",
    "from sklearn.feature_extraction.text import CountVectorizer\n",
    "from sklearn.model_selection import train_test_split\n",
    "from sklearn.feature_extraction.text import CountVectorizer, TfidfVectorizer\n",
    "from sklearn.naive_bayes import MultinomialNB\n",
    "from sklearn.metrics import classification_report\n",
    "import warnings\n",
    "warnings.filterwarnings('ignore')"
   ]
  },
  {
   "cell_type": "markdown",
   "metadata": {
    "canvas": {
     "comments": [],
     "componentType": "CodeCell",
     "copiedOriginId": null,
     "diskcache": false,
     "headerColor": "inherit",
     "id": "1ac3f19f-80e3-47fc-b4ea-9f115cbc7ded",
     "isComponent": false,
     "name": "",
     "parents": []
    }
   },
   "source": [
    "# Brown corpus"
   ]
  },
  {
   "cell_type": "code",
   "execution_count": 2,
   "metadata": {
    "canvas": {
     "comments": [],
     "componentType": "CodeCell",
     "copiedOriginId": null,
     "diskcache": false,
     "headerColor": "none",
     "id": "30aa93ff-a154-480c-ac61-c38050498ae5",
     "isComponent": false,
     "name": "",
     "parents": []
    },
    "colab": {
     "base_uri": "https://localhost:8080/"
    },
    "id": "0FoDnu7v2OKI",
    "outputId": "2565ffc6-eb2f-47ca-d81d-83a8ba30c8fc"
   },
   "outputs": [
    {
     "name": "stderr",
     "output_type": "stream",
     "text": [
      "[nltk_data] Downloading package brown to /Users/zqldata/nltk_data...\n",
      "[nltk_data]   Package brown is already up-to-date!\n"
     ]
    },
    {
     "data": {
      "text/plain": [
       "True"
      ]
     },
     "execution_count": 2,
     "metadata": {},
     "output_type": "execute_result"
    }
   ],
   "source": [
    "nltk.download('brown')"
   ]
  },
  {
   "cell_type": "code",
   "execution_count": 3,
   "metadata": {
    "canvas": {
     "comments": [],
     "componentType": "CodeCell",
     "copiedOriginId": null,
     "diskcache": false,
     "headerColor": "inherit",
     "id": "4cd60145-6536-4ae7-932d-2f892b08d866",
     "isComponent": false,
     "name": "",
     "parents": []
    }
   },
   "outputs": [
    {
     "data": {
      "text/plain": [
       "['ca01', 'ca02', 'ca03', 'ca04', 'ca05']"
      ]
     },
     "execution_count": 3,
     "metadata": {},
     "output_type": "execute_result"
    }
   ],
   "source": [
    "# retrieving the first five fileids from the Brown corpus in NLTK\n",
    "brown.fileids()[0:5]"
   ]
  },
  {
   "cell_type": "code",
   "execution_count": 4,
   "metadata": {
    "canvas": {
     "comments": [],
     "componentType": "CodeCell",
     "copiedOriginId": null,
     "diskcache": false,
     "headerColor": "none",
     "id": "71d2a1db-dae7-4c7e-a111-b56ebc191304",
     "isComponent": false,
     "name": "",
     "parents": []
    },
    "colab": {
     "base_uri": "https://localhost:8080/"
    },
    "id": "okxRkClk3aYV",
    "outputId": "3550c7ca-31e1-4815-e3ed-1e8fdbb3e2ae"
   },
   "outputs": [
    {
     "name": "stdout",
     "output_type": "stream",
     "text": [
      "Type de la variable \"bw\" : <class 'nltk.corpus.reader.util.ConcatenatedCorpusView'>\n",
      "Mots 100 à 109 : ['Allen', 'Jr.', '.', '``', 'Only', 'a', 'relative', 'handful', 'of', 'such']\n",
      "Nombre de mots : 1161192\n"
     ]
    }
   ],
   "source": [
    "bw = brown.words()\n",
    "print(f'Type de la variable \"bw\" : {type(bw)}')\n",
    "print(f'Mots 100 à 109 : {bw[100:110]}')\n",
    "print(f'Nombre de mots : {len(brown.words())}')"
   ]
  },
  {
   "cell_type": "code",
   "execution_count": 5,
   "metadata": {
    "canvas": {
     "comments": [],
     "componentType": "CodeCell",
     "copiedOriginId": null,
     "diskcache": false,
     "headerColor": "none",
     "id": "33b8f97d-5664-46be-b251-a5f5be8618bb",
     "isComponent": false,
     "name": "",
     "parents": []
    },
    "colab": {
     "base_uri": "https://localhost:8080/"
    },
    "id": "2Md29H_C3waw",
    "outputId": "9c0ddd2c-7540-49ea-e599-4c7084beec5f"
   },
   "outputs": [
    {
     "name": "stdout",
     "output_type": "stream",
     "text": [
      "Type de la variable \"st\" : <class 'nltk.corpus.reader.util.ConcatenatedCorpusView'>\n"
     ]
    }
   ],
   "source": [
    "st = brown.sents()\n",
    "print(f'Type de la variable \"st\" : {type(st)}')"
   ]
  },
  {
   "cell_type": "code",
   "execution_count": 6,
   "metadata": {
    "canvas": {
     "comments": [],
     "componentType": "CodeCell",
     "copiedOriginId": null,
     "diskcache": false,
     "headerColor": "inherit",
     "id": "ada6176b-924c-4d5c-b63d-2a0c8cd402ee",
     "isComponent": false,
     "name": "",
     "parents": []
    }
   },
   "outputs": [
    {
     "data": {
      "text/plain": [
       "\"The mayor's present term of office expires Jan. 1 .\""
      ]
     },
     "execution_count": 6,
     "metadata": {},
     "output_type": "execute_result"
    }
   ],
   "source": [
    "#st[42]\n",
    "\" \".join(st[42])"
   ]
  },
  {
   "cell_type": "code",
   "execution_count": 7,
   "metadata": {
    "canvas": {
     "comments": [],
     "componentType": "CodeCell",
     "copiedOriginId": null,
     "diskcache": false,
     "headerColor": "none",
     "id": "52d1a553-817c-401d-aa2e-3192afda1b9c",
     "isComponent": false,
     "name": "",
     "parents": []
    },
    "colab": {
     "base_uri": "https://localhost:8080/"
    },
    "id": "iEyxa3Fd4MvJ",
    "outputId": "c759ed1d-be59-4e27-abb9-2ffca72b12ff"
   },
   "outputs": [
    {
     "data": {
      "text/plain": [
       "[['The', 'Fulton', 'County', 'Grand', 'Jury', 'said', 'Friday', 'an', 'investigation', 'of', \"Atlanta's\", 'recent', 'primary', 'election', 'produced', '``', 'no', 'evidence', \"''\", 'that', 'any', 'irregularities', 'took', 'place', '.'], ['The', 'jury', 'further', 'said', 'in', 'term-end', 'presentments', 'that', 'the', 'City', 'Executive', 'Committee', ',', 'which', 'had', 'over-all', 'charge', 'of', 'the', 'election', ',', '``', 'deserves', 'the', 'praise', 'and', 'thanks', 'of', 'the', 'City', 'of', 'Atlanta', \"''\", 'for', 'the', 'manner', 'in', 'which', 'the', 'election', 'was', 'conducted', '.'], ...]"
      ]
     },
     "execution_count": 7,
     "metadata": {},
     "output_type": "execute_result"
    }
   ],
   "source": [
    "# retrieving the sentences in the 'ca01' file from the Brown corpus in NLTK\n",
    "brown.sents(fileids='ca01')"
   ]
  },
  {
   "cell_type": "markdown",
   "metadata": {
    "canvas": {
     "comments": [],
     "componentType": "CodeCell",
     "copiedOriginId": null,
     "diskcache": false,
     "headerColor": "inherit",
     "id": "b81ce767-9a28-410b-a250-8d8c19294438",
     "isComponent": false,
     "name": "",
     "parents": []
    }
   },
   "source": [
    "# Webtext corpus"
   ]
  },
  {
   "cell_type": "code",
   "execution_count": 8,
   "metadata": {
    "canvas": {
     "comments": [],
     "componentType": "CodeCell",
     "copiedOriginId": null,
     "diskcache": false,
     "headerColor": "none",
     "id": "c5673403-9f78-4938-8a5a-9bef81c2b72e",
     "isComponent": false,
     "name": "",
     "parents": []
    },
    "colab": {
     "base_uri": "https://localhost:8080/"
    },
    "id": "a8er6Flt4rol",
    "outputId": "7c0e15c0-1249-4583-a918-75b76fde246d"
   },
   "outputs": [
    {
     "name": "stderr",
     "output_type": "stream",
     "text": [
      "[nltk_data] Downloading package webtext to /Users/zqldata/nltk_data...\n",
      "[nltk_data]   Package webtext is already up-to-date!\n"
     ]
    },
    {
     "data": {
      "text/plain": [
       "True"
      ]
     },
     "execution_count": 8,
     "metadata": {},
     "output_type": "execute_result"
    }
   ],
   "source": [
    "nltk.download('webtext')"
   ]
  },
  {
   "cell_type": "code",
   "execution_count": 9,
   "metadata": {
    "canvas": {
     "comments": [],
     "componentType": "CodeCell",
     "copiedOriginId": null,
     "diskcache": false,
     "headerColor": "none",
     "id": "7831ec97-06ae-4ae0-adaf-30825e71c2aa",
     "isComponent": false,
     "name": "",
     "parents": []
    },
    "colab": {
     "base_uri": "https://localhost:8080/"
    },
    "id": "tVtyEOJH5Si1",
    "outputId": "e6d58654-f898-4483-ded1-fa1f7c51720c"
   },
   "outputs": [
    {
     "data": {
      "text/plain": [
       "['firefox.txt',\n",
       " 'grail.txt',\n",
       " 'overheard.txt',\n",
       " 'pirates.txt',\n",
       " 'singles.txt',\n",
       " 'wine.txt']"
      ]
     },
     "execution_count": 9,
     "metadata": {},
     "output_type": "execute_result"
    }
   ],
   "source": [
    "# retrieving the fileids of the texts in the Webtext corpus in NLTK\n",
    "webtext.fileids()"
   ]
  },
  {
   "cell_type": "code",
   "execution_count": 10,
   "metadata": {
    "canvas": {
     "comments": [],
     "componentType": "CodeCell",
     "copiedOriginId": null,
     "diskcache": false,
     "headerColor": "none",
     "id": "d8db43a4-6cf8-4466-b1de-c7370bc2baa5",
     "isComponent": false,
     "name": "",
     "parents": []
    },
    "colab": {
     "base_uri": "https://localhost:8080/",
     "height": 174
    },
    "id": "pWmedY2v5b3e",
    "outputId": "03d1ef96-1d29-45f9-d5a7-5e984bb62a81"
   },
   "outputs": [
    {
     "data": {
      "text/plain": [
       "\"SCENE 1: [wind] [clop clop clop] \\nKING ARTHUR: Whoa there!  [clop clop clop] \\nSOLDIER #1: Halt!  Who goes there?\\nARTHUR: It is I, Arthur, son of Uther Pendragon, from the castle of Camelot.  King of the Britons, defeator of the Saxons, sovereign of all England!\\nSOLDIER #1: Pull the other one!\\nARTHUR: I am, ...  and this is my trusty servant Patsy.  We have ridden the length and breadth of the land in search of knights who will join me in my court at Camelot.  I must speak with your lord and master.\\nSOLDIER #1: What?  Ridden on a horse?\\nARTHUR: Yes!\\nSOLDIER #1: You're using coconuts!\\nARTHUR: What?\\nSOLDIER #1: You've got two empty halves of coconut and you're bangin' 'em together.\\nARTHUR: So?  We have ridden since the snows of winter covered this land, through the kingdom of Mercea, through--\\nSOLDIER #1: Where'd you get the coconuts?\\nARTHUR: We found them.\\nSOLDIER #1: Found them?  In Mercea?  The coconut's tropical!\\nARTHUR: What do you mean?\\nSOLDIER #1: Well, this is a temperate zone.\\nARTHUR: The swallow may fly south with the sun or the house martin or the plover may seek warmer climes in winter, yet these are not strangers to our land?\\nSOLDIER #1: Are you suggesting coconuts migrate?\\nARTHUR: Not at all.  They could be carried.\\nSOLDIER #1: What?  A swallow carrying a coconut?\\nARTHUR: It could grip it by the husk!\\nSOLDIER #1: It's not a question of where he grips it!  It's a simple question of weight ratios!  A five ounce bird could not carry a one pound coconut.\\nARTHUR: Well, it doesn't matter.  Will you go and tell your master that Arthur from the Court of Camelot is here.\\nSOLDIER #1: Listen.  In order to maintain air-speed velocity, a swallow needs to beat its wings forty-three times every second, right?\\nARTHUR: Please!\\nSOLDIER #1: Am I right?\\nARTHUR: I'm not interested!\\nSOLDIER #2: It could be carried by an African swallow!\\nSOLDIER #1: Oh, yeah, an African swallow maybe, but not a European swallow.  That's my point.\\nSOLDIER #2: Oh, yeah, I agree with that.\\nARTHUR: Will you ask your master if he wants to join my court at Camelot?!\\nSOLDIER #1: But then of course a-- African swallows are non-migratory.\\nSOLDIER #2: Oh, yeah...\\nSOLDIER #1: So they couldn't bring a coconut back anyway...  [clop clop clop] \\nSOLDIER #2: Wait a minute!  Supposing two swallows carried it together?\\nSOLDIER #1: No, they'd have to have it on a line.\\nSOLDIER #2: Well, simple!  They'd just use a strand of creeper!\\nSOLDIER #1: What, held under the dorsal guiding feathers?\\nSOLDIER #2: Well, why not?\\nSCENE 2: [thud] [clang] \\nCART-MASTER: Bring out your dead!  [clang] Bring out your dead!  [clang] Bring out your dead!  [clang] Bring out your dead!  [clang] Bring out your dead!  [cough cough...] [clang] [... cough cough] Bring out your dead!  [clang] Bring out your dead!  [clang] Bring out your dead!  Ninepence.  [clang] Bring out your dead!  [clang] Bring out your dead!  [clang] Bring out...  [rewr!] ... your dead!  [rewr!] [clang] Bring out your dead!\\nCUSTOMER: Here's one.\\nCART-MASTER: Ninepence.\\nDEAD PERSON: I'm not dead!\\nCART-MASTER: What?\\nCUSTOMER: Nothing.  Here's your ninepence.\\nDEAD PERSON: I'm not dead!\\nCART-MASTER: 'Ere.  He says he's not dead!\\nCUSTOMER: Yes he is.\\nDEAD PERSON: I'm not!\\nCART-MASTER: He isn't?\\nCUSTOMER: Well, he will be soon.  He's very ill.\\nDEAD PERSON: I'm getting better!  \\nCUSTOMER: No you're not.  You'll be stone dead in a moment.\\nCART-MASTER: Oh, I can't take him like that.  It's against regulations.\\nDEAD PERSON: I don't want to go on the cart!\\nCUSTOMER: Oh, don't be such a baby.\\nCART-MASTER: I can't take him.\\nDEAD PERSON: I feel fine!\\nCUSTOMER: Well, do us a favor.\\nCART-MASTER: I can't.\\nCUSTOMER: Well, can you hang around a couple of minutes?  He won't be long.\\nCART-MASTER: No, I've got to go to the Robinson's.  They've lost nine today.\\nCUSTOMER: Well, when's your next round?\\nCART-MASTER: Thursday.\\nDEAD PERSON: I think I'll go for a walk.\\nCUSTOMER: You're not fooling anyone you know.  Look, isn't there something you can do?\\nDEAD PERSON: [singing] I feel happy...  I feel happy.  [whop] \\nCUSTOMER: Ah, thanks very much.\\nCART-MASTER: Not at all.  See you on Thursday.\\nCUSTOMER: Right.  All right.  [howl] [clop clop clop] Who's that then?\\nCART-MASTER: I dunno.  Must be a king.\\nCUSTOMER: Why?\\nCART-MASTER: He hasn't got shit all over him.\\nSCENE 3: [thud] [King Arthur music] [thud thud thud] [King Arthur music stops] \\nARTHUR: Old woman!\\nDENNIS: Man!\\nARTHUR: Man.  Sorry.  What knight live in that castle over there?\\nDENNIS: I'm thirty-seven.\\nARTHUR: I-- what?\\nDENNIS: I'm thirty-seven.  I'm not old.\\nARTHUR: Well, I can't just call you 'Man'.\\nDENNIS: Well, you could say 'Dennis'.\\nARTHUR: Well, I didn't know you were called 'Dennis'.\\nDENNIS: Well, you didn't bother to find out, did you?\\nARTHUR: I did say 'sorry' about the 'old woman', but from the behind you looked--\\nDENNIS: What I object to is that you automatically treat me like an inferior!\\nARTHUR: Well, I am king!\\nDENNIS: Oh king, eh, very nice.  And how d'you get that,\""
      ]
     },
     "execution_count": 10,
     "metadata": {},
     "output_type": "execute_result"
    }
   ],
   "source": [
    "# retrieving the raw text from the 'grail.txt' file in the Webtext corpus\n",
    "sent = webtext.raw('grail.txt')\n",
    "sent[0:5000]"
   ]
  },
  {
   "cell_type": "code",
   "execution_count": 11,
   "metadata": {
    "canvas": {
     "comments": [],
     "componentType": "CodeCell",
     "copiedOriginId": null,
     "diskcache": false,
     "headerColor": "none",
     "id": "7b79fee8-cdd7-4475-855d-f73c53e17777",
     "isComponent": false,
     "name": "",
     "parents": []
    },
    "colab": {
     "base_uri": "https://localhost:8080/"
    },
    "id": "i_SlBhhP5muu",
    "outputId": "dde09af4-4618-44a6-fa6b-278f1e7f24eb"
   },
   "outputs": [
    {
     "data": {
      "text/plain": [
       "['SCENE 1: [wind] [clop clop clop] ',\n",
       " 'KING ARTHUR: Whoa there!  [clop clop clop] ',\n",
       " 'SOLDIER #1: Halt!  Who goes there?',\n",
       " 'ARTHUR: It is I, Arthur, son of Uther Pendragon, from the castle of Camelot.  King of the Britons, defeator of the Saxons, sovereign of all England!',\n",
       " 'SOLDIER #1: Pull the other one!',\n",
       " 'ARTHUR: I am, ...  and this is my trusty servant Patsy.  We have ridden the length and breadth of the land in search of knights who will join me in my court at Camelot.  I must speak with your lord and master.',\n",
       " 'SOLDIER #1: What?  Ridden on a horse?',\n",
       " 'ARTHUR: Yes!',\n",
       " \"SOLDIER #1: You're using coconuts!\",\n",
       " 'ARTHUR: What?']"
      ]
     },
     "execution_count": 11,
     "metadata": {},
     "output_type": "execute_result"
    }
   ],
   "source": [
    "# splitting the string variable 'sent' into a list of strings, with each string in the list representing a line of text\n",
    "sent = sent.split('\\n')\n",
    "sent[:10]"
   ]
  },
  {
   "cell_type": "code",
   "execution_count": 12,
   "metadata": {
    "canvas": {
     "comments": [],
     "componentType": "CodeCell",
     "copiedOriginId": null,
     "diskcache": false,
     "headerColor": "none",
     "id": "e7574b0b-4ae4-4139-a6b1-f353cbe7b8a1",
     "isComponent": false,
     "name": "",
     "parents": []
    },
    "colab": {
     "base_uri": "https://localhost:8080/"
    },
    "id": "xFiuIN705w0D",
    "outputId": "4d35333f-d6de-4237-f11d-80ea7504d794"
   },
   "outputs": [
    {
     "name": "stderr",
     "output_type": "stream",
     "text": [
      "[nltk_data] Downloading package punkt to ./...\n",
      "[nltk_data]   Package punkt is already up-to-date!\n"
     ]
    },
    {
     "data": {
      "text/plain": [
       "True"
      ]
     },
     "execution_count": 12,
     "metadata": {},
     "output_type": "execute_result"
    }
   ],
   "source": [
    "nltk.download('punkt', download_dir='./')"
   ]
  },
  {
   "cell_type": "code",
   "execution_count": 13,
   "metadata": {
    "canvas": {
     "comments": [],
     "componentType": "CodeCell",
     "copiedOriginId": null,
     "diskcache": false,
     "headerColor": "none",
     "id": "fdd714e6-c487-4d3e-9fec-c4d24caea486",
     "isComponent": false,
     "name": "",
     "parents": []
    },
    "colab": {
     "base_uri": "https://localhost:8080/",
     "height": 53
    },
    "id": "4Em-7-OQ_JXz",
    "outputId": "95ffdcdd-2cb0-4dbd-e437-a7ab2858ee39"
   },
   "outputs": [
    {
     "data": {
      "text/plain": [
       "'ARTHUR: I am, ...  and this is my trusty servant Patsy.  We have ridden the length and breadth of the land in search of knights who will join me in my court at Camelot.  I must speak with your lord and master.'"
      ]
     },
     "execution_count": 13,
     "metadata": {},
     "output_type": "execute_result"
    }
   ],
   "source": [
    "sent_5 = sent[5]\n",
    "sent_5"
   ]
  },
  {
   "cell_type": "code",
   "execution_count": 14,
   "metadata": {
    "canvas": {
     "comments": [],
     "componentType": "CodeCell",
     "copiedOriginId": null,
     "diskcache": false,
     "headerColor": "none",
     "id": "a566f760-92a4-48da-9d05-483a14115f9e",
     "isComponent": false,
     "name": "",
     "parents": []
    },
    "colab": {
     "base_uri": "https://localhost:8080/"
    },
    "id": "V_HAR0Uh_V2Z",
    "outputId": "fd81951b-2cb9-48d3-823c-0943d689e0c5"
   },
   "outputs": [
    {
     "data": {
      "text/plain": [
       "['ARTHUR: I am, ...  and this is my trusty servant Patsy.',\n",
       " 'We have ridden the length and breadth of the land in search of knights who will join me in my court at Camelot.',\n",
       " 'I must speak with your lord and master.']"
      ]
     },
     "execution_count": 14,
     "metadata": {},
     "output_type": "execute_result"
    }
   ],
   "source": [
    "sent_tokenize(sent_5)"
   ]
  },
  {
   "cell_type": "code",
   "execution_count": 15,
   "metadata": {
    "canvas": {
     "comments": [],
     "componentType": "CodeCell",
     "copiedOriginId": null,
     "diskcache": false,
     "headerColor": "none",
     "id": "fab3915b-f503-44bb-bffa-5cd23378d2da",
     "isComponent": false,
     "name": "",
     "parents": []
    },
    "colab": {
     "base_uri": "https://localhost:8080/"
    },
    "id": "FMF3aVEvAOR3",
    "outputId": "0d46cb45-c42f-44a2-a0ee-3b60fcd19aef"
   },
   "outputs": [
    {
     "name": "stdout",
     "output_type": "stream",
     "text": [
      "['ARTHUR', ':', 'I', 'am', ',', '...', 'and', 'this', 'is', 'my', 'trusty', 'servant', 'Patsy', '.']\n",
      "['We', 'have', 'ridden', 'the', 'length', 'and', 'breadth', 'of', 'the', 'land', 'in', 'search', 'of', 'knights', 'who', 'will', 'join', 'me', 'in', 'my', 'court', 'at', 'Camelot', '.']\n",
      "['I', 'must', 'speak', 'with', 'your', 'lord', 'and', 'master', '.']\n"
     ]
    }
   ],
   "source": [
    "for s in sent_tokenize(sent_5): \n",
    "    print(word_tokenize(s))"
   ]
  },
  {
   "cell_type": "code",
   "execution_count": 16,
   "metadata": {
    "canvas": {
     "comments": [],
     "componentType": "CodeCell",
     "copiedOriginId": null,
     "diskcache": false,
     "headerColor": "none",
     "id": "3408dd2f-db40-4c6a-bbba-8b407e9f6791",
     "isComponent": false,
     "name": "",
     "parents": []
    },
    "colab": {
     "base_uri": "https://localhost:8080/"
    },
    "id": "EFlTKM7fAySj",
    "outputId": "0c838883-54ea-4f19-c2b8-8252d82ccdcf"
   },
   "outputs": [
    {
     "data": {
      "text/plain": [
       "['Ceci', 'est', 'un', 'text', 'court', ',', 'qui', 'sera', 'tokenizé']"
      ]
     },
     "execution_count": 16,
     "metadata": {},
     "output_type": "execute_result"
    }
   ],
   "source": [
    "word_tokenize(\"Ceci est un text court, qui sera tokenizé\", language='french')"
   ]
  },
  {
   "cell_type": "markdown",
   "metadata": {
    "canvas": {
     "comments": [],
     "componentType": "CodeCell",
     "copiedOriginId": null,
     "diskcache": false,
     "headerColor": "none",
     "id": "a0413b47-4505-41c6-ba6e-fc7b93737797",
     "isComponent": false,
     "name": "",
     "parents": []
    },
    "id": "lbqGsfxzCl8J"
   },
   "source": [
    "## Normalization"
   ]
  },
  {
   "cell_type": "code",
   "execution_count": 17,
   "metadata": {
    "canvas": {
     "comments": [],
     "componentType": "CodeCell",
     "copiedOriginId": null,
     "diskcache": false,
     "headerColor": "none",
     "id": "33776202-1794-4fa5-8950-0496842308f4",
     "isComponent": false,
     "name": "",
     "parents": []
    },
    "id": "LOhUCY5mDLDa"
   },
   "outputs": [],
   "source": [
    "# conversion to lowercase and tokenization into words\n",
    "sent_list = []\n",
    "for s in sent_tokenize(sent_5):\n",
    "    lower_token = [x.lower() for x in word_tokenize(s)]\n",
    "    sent_list.append(lower_token)"
   ]
  },
  {
   "cell_type": "code",
   "execution_count": 18,
   "metadata": {
    "canvas": {
     "comments": [],
     "componentType": "CodeCell",
     "copiedOriginId": null,
     "diskcache": false,
     "headerColor": "none",
     "id": "d4492bfc-065c-484f-b145-d8d7b06a9b7e",
     "isComponent": false,
     "name": "",
     "parents": []
    },
    "colab": {
     "base_uri": "https://localhost:8080/"
    },
    "id": "Gk3eEwrGERcl",
    "outputId": "f398e5ae-4077-489a-be9e-f900cabff6fa"
   },
   "outputs": [
    {
     "data": {
      "text/plain": [
       "[['arthur',\n",
       "  ':',\n",
       "  'i',\n",
       "  'am',\n",
       "  ',',\n",
       "  '...',\n",
       "  'and',\n",
       "  'this',\n",
       "  'is',\n",
       "  'my',\n",
       "  'trusty',\n",
       "  'servant',\n",
       "  'patsy',\n",
       "  '.'],\n",
       " ['we',\n",
       "  'have',\n",
       "  'ridden',\n",
       "  'the',\n",
       "  'length',\n",
       "  'and',\n",
       "  'breadth',\n",
       "  'of',\n",
       "  'the',\n",
       "  'land',\n",
       "  'in',\n",
       "  'search',\n",
       "  'of',\n",
       "  'knights',\n",
       "  'who',\n",
       "  'will',\n",
       "  'join',\n",
       "  'me',\n",
       "  'in',\n",
       "  'my',\n",
       "  'court',\n",
       "  'at',\n",
       "  'camelot',\n",
       "  '.'],\n",
       " ['i', 'must', 'speak', 'with', 'your', 'lord', 'and', 'master', '.']]"
      ]
     },
     "execution_count": 18,
     "metadata": {},
     "output_type": "execute_result"
    }
   ],
   "source": [
    "sent_list"
   ]
  },
  {
   "cell_type": "markdown",
   "metadata": {
    "canvas": {
     "comments": [],
     "componentType": "CodeCell",
     "copiedOriginId": null,
     "diskcache": false,
     "headerColor": "none",
     "id": "f60ba058-177d-432a-bdd3-941bc83d9046",
     "isComponent": false,
     "name": "",
     "parents": []
    },
    "id": "7uf7wPMGGeUx"
   },
   "source": [
    "# Stop words"
   ]
  },
  {
   "cell_type": "code",
   "execution_count": 19,
   "metadata": {
    "canvas": {
     "comments": [],
     "componentType": "CodeCell",
     "copiedOriginId": null,
     "diskcache": false,
     "headerColor": "none",
     "id": "a48801f6-51a1-42da-9ff7-1437c04e23dd",
     "isComponent": false,
     "name": "",
     "parents": []
    },
    "colab": {
     "base_uri": "https://localhost:8080/"
    },
    "id": "rgqZUdkxGdyO",
    "outputId": "aba0f467-a8bd-4c15-8226-cb7383b33b2e"
   },
   "outputs": [
    {
     "name": "stderr",
     "output_type": "stream",
     "text": [
      "[nltk_data] Downloading package stopwords to\n",
      "[nltk_data]     /Users/zqldata/nltk_data...\n",
      "[nltk_data]   Package stopwords is already up-to-date!\n"
     ]
    },
    {
     "data": {
      "text/plain": [
       "True"
      ]
     },
     "execution_count": 19,
     "metadata": {},
     "output_type": "execute_result"
    }
   ],
   "source": [
    "nltk.download('stopwords')"
   ]
  },
  {
   "cell_type": "code",
   "execution_count": 20,
   "metadata": {
    "canvas": {
     "comments": [],
     "componentType": "CodeCell",
     "copiedOriginId": null,
     "diskcache": false,
     "headerColor": "none",
     "id": "fb2e03af-fe6d-4f97-a5e3-7e8078a5577d",
     "isComponent": false,
     "name": "",
     "parents": []
    },
    "colab": {
     "base_uri": "https://localhost:8080/"
    },
    "id": "Z1K9fywBucXK",
    "outputId": "22f81e45-b3ab-49a3-81ad-372b083a3dbe"
   },
   "outputs": [
    {
     "data": {
      "text/plain": [
       "['arabic',\n",
       " 'azerbaijani',\n",
       " 'basque',\n",
       " 'bengali',\n",
       " 'catalan',\n",
       " 'chinese',\n",
       " 'danish',\n",
       " 'dutch',\n",
       " 'english',\n",
       " 'finnish',\n",
       " 'french',\n",
       " 'german',\n",
       " 'greek',\n",
       " 'hebrew',\n",
       " 'hinglish',\n",
       " 'hungarian',\n",
       " 'indonesian',\n",
       " 'italian',\n",
       " 'kazakh',\n",
       " 'nepali',\n",
       " 'norwegian',\n",
       " 'portuguese',\n",
       " 'romanian',\n",
       " 'russian',\n",
       " 'slovene',\n",
       " 'spanish',\n",
       " 'swedish',\n",
       " 'tajik',\n",
       " 'turkish']"
      ]
     },
     "execution_count": 20,
     "metadata": {},
     "output_type": "execute_result"
    }
   ],
   "source": [
    "# retrieving the fileids of the texts in the Stopwords corpus in NLTK\n",
    "stopwords.fileids()"
   ]
  },
  {
   "cell_type": "code",
   "execution_count": 21,
   "metadata": {
    "canvas": {
     "comments": [],
     "componentType": "CodeCell",
     "copiedOriginId": null,
     "diskcache": false,
     "headerColor": "none",
     "id": "a82c2018-96e5-41c1-8cad-669661519bc8",
     "isComponent": false,
     "name": "",
     "parents": []
    },
    "colab": {
     "base_uri": "https://localhost:8080/"
    },
    "id": "Ex1Bh6wfGySq",
    "outputId": "2a56c4cc-63d6-4737-9cf3-6d92dcb4c1ab"
   },
   "outputs": [
    {
     "name": "stdout",
     "output_type": "stream",
     "text": [
      "i, me, my, myself, we, our, ours, ourselves, you, you're, you've, you'll, you'd, your, yours, yourself, yourselves, he, him, his, himself, she, she's, her, hers, herself, it, it's, its, itself, they, them, their, theirs, themselves, what, which, who, whom, this, that, that'll, these, those, am, is, are, was, were, be, been, being, have, has, had, having, do, does, did, doing, a, an, the, and, but, if, or, because, as, until, while, of, at, by, for, with, about, against, between, into, through, during, before, after, above, below, to, from, up, down, in, out, on, off, over, under, again, further, then, once, here, there, when, where, why, how, all, any, both, each, few, more, most, other, some, such, no, nor, not, only, own, same, so, than, too, very, s, t, can, will, just, don, don't, should, should've, now, d, ll, m, o, re, ve, y, ain, aren, aren't, couldn, couldn't, didn, didn't, doesn, doesn't, hadn, hadn't, hasn, hasn't, haven, haven't, isn, isn't, ma, mightn, mightn't, mustn, mustn't, needn, needn't, shan, shan't, shouldn, shouldn't, wasn, wasn't, weren, weren't, won, won't, wouldn, wouldn't\n"
     ]
    }
   ],
   "source": [
    "# checking English stopwords\n",
    "stopwords_en = stopwords.words('english')\n",
    "print(', '.join(stopwords_en))"
   ]
  },
  {
   "cell_type": "code",
   "execution_count": 22,
   "metadata": {
    "canvas": {
     "comments": [],
     "componentType": "CodeCell",
     "copiedOriginId": null,
     "diskcache": false,
     "headerColor": "none",
     "id": "09d4e891-eb69-4eb4-be10-ad8dafeb9a77",
     "isComponent": false,
     "name": "",
     "parents": []
    },
    "colab": {
     "base_uri": "https://localhost:8080/"
    },
    "id": "v20jWkRKHJC9",
    "outputId": "bd8bd327-a944-45b2-e236-1647e9575ca5"
   },
   "outputs": [
    {
     "name": "stdout",
     "output_type": "stream",
     "text": [
      "Le nombre de stopwords anglais : 179\n"
     ]
    }
   ],
   "source": [
    "print(f'Le nombre de stopwords anglais : {len(stopwords_en)}')"
   ]
  },
  {
   "cell_type": "code",
   "execution_count": 23,
   "metadata": {
    "canvas": {
     "comments": [],
     "componentType": "CodeCell",
     "copiedOriginId": null,
     "diskcache": false,
     "headerColor": "none",
     "id": "fa1e5a39-54b1-41e2-bc4f-a332cb0c32be",
     "isComponent": false,
     "name": "",
     "parents": []
    },
    "id": "0xP8KxeUHZuv"
   },
   "outputs": [
    {
     "name": "stdout",
     "output_type": "stream",
     "text": [
      "Before: ['arthur', ':', 'i', 'am', ',', '...', 'and', 'this', 'is', 'my', 'trusty', 'servant', 'patsy', '.']\n",
      "After: ['arthur', ':', ',', '...', 'trusty', 'servant', 'patsy', '.']\n"
     ]
    }
   ],
   "source": [
    "# we only keep words that are not in the stopwords list\n",
    "sent_no_sw = []\n",
    "for s in sent_list:\n",
    "    no_sw = [word for word in s if word not in stopwords_en]\n",
    "    sent_no_sw.append(no_sw)\n",
    "    \n",
    "print(f\"Before: {sent_list[0]}\")\n",
    "print(f\"After: {sent_no_sw[0]}\")"
   ]
  },
  {
   "cell_type": "code",
   "execution_count": 24,
   "metadata": {
    "canvas": {
     "comments": [],
     "componentType": "CodeCell",
     "copiedOriginId": null,
     "diskcache": false,
     "headerColor": "none",
     "id": "9474bc01-9552-4f46-9e98-6d372727143f",
     "isComponent": false,
     "name": "",
     "parents": []
    },
    "colab": {
     "base_uri": "https://localhost:8080/"
    },
    "id": "ACY0kjBMMTAo",
    "outputId": "38f3d8d7-1077-4790-85d3-b05fa5df4737"
   },
   "outputs": [
    {
     "data": {
      "text/plain": [
       "[['arthur', ':', ',', '...', 'trusty', 'servant', 'patsy', '.'],\n",
       " ['ridden',\n",
       "  'length',\n",
       "  'breadth',\n",
       "  'land',\n",
       "  'search',\n",
       "  'knights',\n",
       "  'join',\n",
       "  'court',\n",
       "  'camelot',\n",
       "  '.'],\n",
       " ['must', 'speak', 'lord', 'master', '.']]"
      ]
     },
     "execution_count": 24,
     "metadata": {},
     "output_type": "execute_result"
    }
   ],
   "source": [
    "# the result\n",
    "sent_no_sw"
   ]
  },
  {
   "cell_type": "markdown",
   "metadata": {
    "canvas": {
     "comments": [],
     "componentType": "CodeCell",
     "copiedOriginId": null,
     "diskcache": false,
     "headerColor": "inherit",
     "id": "7781966c-22ca-45cc-9660-d0caf8894766",
     "isComponent": false,
     "name": "",
     "parents": []
    }
   },
   "source": [
    "# Punctuation"
   ]
  },
  {
   "cell_type": "code",
   "execution_count": 25,
   "metadata": {
    "canvas": {
     "comments": [],
     "componentType": "CodeCell",
     "copiedOriginId": null,
     "diskcache": false,
     "headerColor": "none",
     "id": "73ffe66f-850d-432d-a0dd-74ca4a432d54",
     "isComponent": false,
     "name": "",
     "parents": []
    },
    "colab": {
     "base_uri": "https://localhost:8080/",
     "height": 35
    },
    "id": "T3Fv3XgYJDlG",
    "outputId": "dc1cf5ec-7d6c-43ca-c779-e01be70b2167"
   },
   "outputs": [
    {
     "name": "stdout",
     "output_type": "stream",
     "text": [
      "!, \", #, $, %, &, ', (, ), *, +, ,, -, ., /, :, ;, <, =, >, ?, @, [, \\, ], ^, _, `, {, |, }, ~\n"
     ]
    }
   ],
   "source": [
    "# create a list of all punctuation characters using the 'punctuation' module from the 'string' library\n",
    "punct = list(punctuation)\n",
    "print(', '.join(punct))"
   ]
  },
  {
   "cell_type": "code",
   "execution_count": 26,
   "metadata": {
    "canvas": {
     "comments": [],
     "componentType": "CodeCell",
     "copiedOriginId": null,
     "diskcache": false,
     "headerColor": "none",
     "id": "2c3fe2a6-8101-4482-8438-7499cdf52a46",
     "isComponent": false,
     "name": "",
     "parents": []
    },
    "id": "l6EWq9DTKTuS"
   },
   "outputs": [],
   "source": [
    "# we only keep tokens that are not in the punctuation list\n",
    "sent_clean = []\n",
    "for s in sent_no_sw:\n",
    "    no_punct = [token for token in s if token not in punct]\n",
    "    sent_clean.append(no_punct)"
   ]
  },
  {
   "cell_type": "code",
   "execution_count": 27,
   "metadata": {
    "canvas": {
     "comments": [],
     "componentType": "CodeCell",
     "copiedOriginId": null,
     "diskcache": false,
     "headerColor": "none",
     "id": "235b64e2-95e6-4e30-9a6f-34b76b2e2f10",
     "isComponent": false,
     "name": "",
     "parents": []
    },
    "colab": {
     "base_uri": "https://localhost:8080/"
    },
    "id": "ucKPJmGvKn9b",
    "outputId": "afe80e14-e265-4da6-892c-f1c754fb84c3"
   },
   "outputs": [
    {
     "data": {
      "text/plain": [
       "[['arthur', '...', 'trusty', 'servant', 'patsy'],\n",
       " ['ridden',\n",
       "  'length',\n",
       "  'breadth',\n",
       "  'land',\n",
       "  'search',\n",
       "  'knights',\n",
       "  'join',\n",
       "  'court',\n",
       "  'camelot'],\n",
       " ['must', 'speak', 'lord', 'master']]"
      ]
     },
     "execution_count": 27,
     "metadata": {},
     "output_type": "execute_result"
    }
   ],
   "source": [
    "# the result\n",
    "sent_clean"
   ]
  },
  {
   "cell_type": "markdown",
   "metadata": {
    "canvas": {
     "comments": [],
     "componentType": "CodeCell",
     "copiedOriginId": null,
     "diskcache": false,
     "headerColor": "none",
     "id": "b890a8b9-af24-4571-8ecb-36a62f8e5236",
     "isComponent": false,
     "name": "",
     "parents": []
    },
    "id": "e-QItjrFNm3k"
   },
   "source": [
    "# Stemming & Lemmatization"
   ]
  },
  {
   "cell_type": "code",
   "execution_count": 28,
   "metadata": {
    "canvas": {
     "comments": [],
     "componentType": "CodeCell",
     "copiedOriginId": null,
     "diskcache": false,
     "headerColor": "none",
     "id": "59de3879-f623-44e6-ba33-4ca0946a7480",
     "isComponent": false,
     "name": "",
     "parents": []
    },
    "id": "qcc-0TmKLXgh"
   },
   "outputs": [
    {
     "name": "stdout",
     "output_type": "stream",
     "text": [
      "walk\n",
      "walk\n",
      "walk\n"
     ]
    }
   ],
   "source": [
    "# create an instance of the Porter Stemmer algorithm for word stemming\n",
    "porter = PorterStemmer()\n",
    "\n",
    "# stemming\n",
    "for word in ['walks', 'walking', 'walked']:\n",
    "    print(porter.stem(word))"
   ]
  },
  {
   "cell_type": "code",
   "execution_count": 29,
   "metadata": {
    "canvas": {
     "comments": [],
     "componentType": "CodeCell",
     "copiedOriginId": null,
     "diskcache": false,
     "headerColor": "none",
     "id": "2251f6e2-ea79-4a33-a4a2-a3016ac85171",
     "isComponent": false,
     "name": "",
     "parents": []
    },
    "colab": {
     "base_uri": "https://localhost:8080/"
    },
    "id": "y5vrGOrEvF8U",
    "outputId": "bbe8a243-fdd3-4e32-9044-c4da55cf5ffc"
   },
   "outputs": [
    {
     "name": "stderr",
     "output_type": "stream",
     "text": [
      "[nltk_data] Downloading package wordnet to /Users/zqldata/nltk_data...\n",
      "[nltk_data]   Package wordnet is already up-to-date!\n",
      "[nltk_data] Downloading package omw-1.4 to /Users/zqldata/nltk_data...\n",
      "[nltk_data]   Package omw-1.4 is already up-to-date!\n"
     ]
    },
    {
     "data": {
      "text/plain": [
       "True"
      ]
     },
     "execution_count": 29,
     "metadata": {},
     "output_type": "execute_result"
    }
   ],
   "source": [
    "# downloading the WordNet corpus and the Open Multilingual WordNet (OMW)\n",
    "nltk.download('wordnet')\n",
    "nltk.download('omw-1.4')"
   ]
  },
  {
   "cell_type": "code",
   "execution_count": 30,
   "metadata": {
    "canvas": {
     "comments": [],
     "componentType": "CodeCell",
     "copiedOriginId": null,
     "diskcache": false,
     "headerColor": "inherit",
     "id": "46382d48-6cf0-44f7-85eb-93edad804ace",
     "isComponent": false,
     "name": "",
     "parents": []
    }
   },
   "outputs": [
    {
     "name": "stdout",
     "output_type": "stream",
     "text": [
      "walking\n",
      "walk\n",
      "walked\n"
     ]
    }
   ],
   "source": [
    "# create an instance of the WordNet Lemmatizer algorithm for word lemmatization\n",
    "wnl = WordNetLemmatizer()\n",
    "\n",
    "# lemmatizing\n",
    "for word in ['walking', 'walks', 'walked']:\n",
    "    print(wnl.lemmatize(word))"
   ]
  },
  {
   "cell_type": "code",
   "execution_count": 31,
   "metadata": {
    "canvas": {
     "comments": [],
     "componentType": "CodeCell",
     "copiedOriginId": null,
     "diskcache": false,
     "headerColor": "none",
     "id": "64cb7ce0-9c68-4f45-a45e-ea8e1cd605a6",
     "isComponent": false,
     "name": "",
     "parents": []
    },
    "colab": {
     "base_uri": "https://localhost:8080/",
     "height": 35
    },
    "id": "UxW-uLDbwzIg",
    "outputId": "045e7279-505e-4b37-e21d-d8d487dded2d"
   },
   "outputs": [
    {
     "data": {
      "text/plain": [
       "'walk'"
      ]
     },
     "execution_count": 31,
     "metadata": {},
     "output_type": "execute_result"
    }
   ],
   "source": [
    "# pos='n' noun\n",
    "# pos='v' verb\n",
    "wnl.lemmatize('walked', pos='v')"
   ]
  },
  {
   "cell_type": "markdown",
   "metadata": {
    "canvas": {
     "comments": [],
     "componentType": "CodeCell",
     "copiedOriginId": null,
     "diskcache": false,
     "headerColor": "none",
     "id": "a14a2ab6-0424-4f21-9cc6-e0e146322456",
     "isComponent": false,
     "name": "",
     "parents": []
    },
    "id": "c5KvhhGtxS2c"
   },
   "source": [
    "# POS - part of speech"
   ]
  },
  {
   "cell_type": "code",
   "execution_count": 32,
   "metadata": {
    "canvas": {
     "comments": [],
     "componentType": "CodeCell",
     "copiedOriginId": null,
     "diskcache": false,
     "headerColor": "none",
     "id": "d7f24a91-a682-4e46-9092-d84e7c69de35",
     "isComponent": false,
     "name": "",
     "parents": []
    },
    "colab": {
     "base_uri": "https://localhost:8080/"
    },
    "id": "y2Ikh77Pys1C",
    "outputId": "00870bdb-2aa0-4a82-a740-3fec8d2c8485"
   },
   "outputs": [
    {
     "name": "stderr",
     "output_type": "stream",
     "text": [
      "[nltk_data] Downloading package averaged_perceptron_tagger to\n",
      "[nltk_data]     /Users/zqldata/nltk_data...\n",
      "[nltk_data]   Package averaged_perceptron_tagger is already up-to-\n",
      "[nltk_data]       date!\n"
     ]
    },
    {
     "data": {
      "text/plain": [
       "True"
      ]
     },
     "execution_count": 32,
     "metadata": {},
     "output_type": "execute_result"
    }
   ],
   "source": [
    "nltk.download('averaged_perceptron_tagger')"
   ]
  },
  {
   "cell_type": "code",
   "execution_count": 33,
   "metadata": {
    "canvas": {
     "comments": [],
     "componentType": "CodeCell",
     "copiedOriginId": null,
     "diskcache": false,
     "headerColor": "none",
     "id": "f4a9993d-cced-48f8-8abf-cb499c099967",
     "isComponent": false,
     "name": "",
     "parents": []
    },
    "colab": {
     "base_uri": "https://localhost:8080/"
    },
    "id": "wK_CNb9Xx65k",
    "outputId": "fe6865c1-ea32-455a-e0c9-364de944ab2a"
   },
   "outputs": [
    {
     "data": {
      "text/plain": [
       "[('walking', 'VBG'), ('walks', 'NNS'), ('walked', 'VBD')]"
      ]
     },
     "execution_count": 33,
     "metadata": {},
     "output_type": "execute_result"
    }
   ],
   "source": [
    "# assigning a part of speech tag to each word in the list \n",
    "walk = ['walking', 'walks', 'walked']\n",
    "pos_tag(walk)"
   ]
  },
  {
   "cell_type": "markdown",
   "metadata": {
    "canvas": {
     "comments": [],
     "componentType": "CodeCell",
     "copiedOriginId": null,
     "diskcache": false,
     "headerColor": "none",
     "id": "71eb67f1-8aa4-435f-a95e-f4afa8f81be8",
     "isComponent": false,
     "name": "",
     "parents": []
    },
    "id": "SLuheFNLy-aK"
   },
   "source": [
    "NLTK POS\n",
    "\n",
    "POS  | MEANING\n",
    "-----|----\n",
    "CC   | coordinating conjunction\n",
    "CD   | cardinal digit\n",
    "DT   | determiner\n",
    "EX   | existential there (like: “there is” … think of it like “there exists”)\n",
    "FW   | foreign word\n",
    "IN   | preposition/subordinating conjunction\n",
    "JJ   | adjective ‘big’\n",
    "JJR  | adjective, comparative ‘bigger’\n",
    "JJS  | adjective, superlative ‘biggest’\n",
    "LS   | list marker 1)\n",
    "MD   | modal could, will\n",
    "NN   | noun, singular ‘desk’\n",
    "NNS  | noun plural ‘desks’\n",
    "NNP  | proper noun, singular ‘Harrison’\n",
    "NNPS | proper noun, plural ‘Americans’\n",
    "PDT  | predeterminer ‘all the kids’\n",
    "POS  | possessive ending parent’s\n",
    "PRP  | personal pronoun I, he, she\n",
    "PRP\\$ | possessive pronoun my, his, hers\n",
    "RB   | adverb very, silently,\n",
    "RBR  | adverb, comparative better\n",
    "RBS  | adverb, superlative best\n",
    "RP   | particle give up\n",
    "TO   | to go ‘to’ the store.\n",
    "UH   | interjection, errrrrrrrm\n",
    "VB   | verb, base form take\n",
    "VBD  | verb, past tense took\n",
    "VBG  | verb, gerund/present participle taking\n",
    "VBN  | verb, past participle taken\n",
    "VBP  | verb, sing. present, non-3d take\n",
    "VBZ  | verb, 3rd person sing. present takes\n",
    "WDT  | wh-determiner which\n",
    "WP   | wh-pronoun who, what\n",
    "WP$  | possessive wh-pronoun whose\n",
    "WRB  | wh-abverb where, when"
   ]
  },
  {
   "cell_type": "code",
   "execution_count": 34,
   "metadata": {
    "canvas": {
     "comments": [],
     "componentType": "CodeCell",
     "copiedOriginId": null,
     "diskcache": false,
     "headerColor": "none",
     "id": "ca78a078-db8b-4912-815a-dd216b5bb0bc",
     "isComponent": false,
     "name": "",
     "parents": []
    },
    "colab": {
     "base_uri": "https://localhost:8080/"
    },
    "id": "sAa0ROapy9D0",
    "outputId": "1b8bf466-b479-4dea-d96b-a1acedc1e083"
   },
   "outputs": [
    {
     "name": "stdout",
     "output_type": "stream",
     "text": [
      "v\n",
      "n\n"
     ]
    }
   ],
   "source": [
    "# converting POS tags to the format required by WordNetLemmatizer\n",
    "def pos_tag_conv(pos: str) -> str:\n",
    "    conv_tag = {\n",
    "        'NN': 'n',\n",
    "        'VB': 'v',\n",
    "        'JJ': 'a',\n",
    "        'RB': 'r',\n",
    "    }\n",
    "    results = conv_tag.get(pos[:2])\n",
    "\n",
    "    if results:\n",
    "        return results\n",
    "    else: \n",
    "        return 'n'\n",
    "    \n",
    "# test\n",
    "print(pos_tag_conv('VBD'))\n",
    "print(pos_tag_conv('PRP'))"
   ]
  },
  {
   "cell_type": "code",
   "execution_count": 35,
   "metadata": {
    "canvas": {
     "comments": [],
     "componentType": "CodeCell",
     "copiedOriginId": null,
     "diskcache": false,
     "headerColor": "none",
     "id": "bb851127-d243-4dbb-8f1c-9c6539434ee0",
     "isComponent": false,
     "name": "",
     "parents": []
    },
    "id": "ATL3Ewde7o4u"
   },
   "outputs": [],
   "source": [
    "# defining a function returning a list of the lemmatized tokens\n",
    "def lemmatize_sent(sent: list) -> list:\n",
    "    return [wnl.lemmatize(x, pos= pos_tag_conv(tag)) for x, tag in pos_tag(sent)] "
   ]
  },
  {
   "cell_type": "code",
   "execution_count": 36,
   "metadata": {
    "canvas": {
     "comments": [],
     "componentType": "CodeCell",
     "copiedOriginId": null,
     "diskcache": false,
     "headerColor": "none",
     "id": "7261859e-78b3-4054-8ecc-fbd380bc7ca7",
     "isComponent": false,
     "name": "",
     "parents": []
    },
    "colab": {
     "base_uri": "https://localhost:8080/"
    },
    "id": "Nd5qHwZa7EVF",
    "outputId": "856d6816-fe2c-4876-b1f1-1d4d788a3684"
   },
   "outputs": [
    {
     "data": {
      "text/plain": [
       "[['arthur', '...', 'trusty', 'servant', 'patsy'],\n",
       " ['ridden',\n",
       "  'length',\n",
       "  'breadth',\n",
       "  'land',\n",
       "  'search',\n",
       "  'knight',\n",
       "  'join',\n",
       "  'court',\n",
       "  'camelot'],\n",
       " ['must', 'speak', 'lord', 'master']]"
      ]
     },
     "execution_count": 36,
     "metadata": {},
     "output_type": "execute_result"
    }
   ],
   "source": [
    "# test with sent_clean\n",
    "[lemmatize_sent(x) for x in sent_clean]"
   ]
  },
  {
   "cell_type": "markdown",
   "metadata": {
    "canvas": {
     "comments": [],
     "componentType": "CodeCell",
     "copiedOriginId": null,
     "diskcache": false,
     "headerColor": "none",
     "id": "07eb6a83-e58c-48c1-898e-954eb78e5e93",
     "isComponent": false,
     "name": "",
     "parents": []
    },
    "id": "qciO0xr0IG3L"
   },
   "source": [
    "# Vectorizer"
   ]
  },
  {
   "cell_type": "code",
   "execution_count": 37,
   "metadata": {
    "canvas": {
     "comments": [],
     "componentType": "CodeCell",
     "copiedOriginId": null,
     "diskcache": false,
     "headerColor": "none",
     "id": "865c2ab5-aa92-4efe-8cae-ba389c3cd238",
     "isComponent": false,
     "name": "",
     "parents": []
    },
    "id": "QmNUbNGoIGV3"
   },
   "outputs": [],
   "source": [
    "# transforming the list of sentences into a matrix of token counts using the CountVectorizer\n",
    "doc_list = sent_tokenize(sent_5)\n",
    "count_vectorizer = CountVectorizer()\n",
    "X = count_vectorizer.fit_transform(doc_list)"
   ]
  },
  {
   "cell_type": "code",
   "execution_count": 38,
   "metadata": {
    "canvas": {
     "comments": [],
     "componentType": "CodeCell",
     "copiedOriginId": null,
     "diskcache": false,
     "headerColor": "none",
     "id": "76b06a98-cb61-4764-b0fa-c5750e68942a",
     "isComponent": false,
     "name": "",
     "parents": []
    },
    "colab": {
     "base_uri": "https://localhost:8080/"
    },
    "id": "VOmcXcNjI9kA",
    "outputId": "5c9e4fe7-5bc2-4da5-f1ad-cc9c87e62db6"
   },
   "outputs": [
    {
     "data": {
      "text/plain": [
       "array([[1, 1, 1, 0, 0, 0, 0, 0, 0, 1, 0, 0, 0, 0, 0, 0, 0, 0, 1, 0, 1, 0,\n",
       "        0, 1, 0, 0, 1, 1, 0, 0, 0, 0, 0],\n",
       "       [0, 1, 0, 1, 1, 1, 1, 1, 2, 0, 1, 1, 1, 1, 0, 0, 1, 0, 1, 2, 0, 1,\n",
       "        1, 0, 0, 2, 0, 0, 1, 1, 1, 0, 0],\n",
       "       [0, 1, 0, 0, 0, 0, 0, 0, 0, 0, 0, 0, 0, 0, 1, 1, 0, 1, 0, 0, 0, 0,\n",
       "        0, 0, 1, 0, 0, 0, 0, 0, 0, 1, 1]])"
      ]
     },
     "execution_count": 38,
     "metadata": {},
     "output_type": "execute_result"
    }
   ],
   "source": [
    "X.toarray()"
   ]
  },
  {
   "cell_type": "code",
   "execution_count": 39,
   "metadata": {
    "canvas": {
     "comments": [],
     "componentType": "CodeCell",
     "copiedOriginId": null,
     "diskcache": false,
     "headerColor": "inherit",
     "id": "3099afae-a732-4366-b32b-9b6b84321804",
     "isComponent": false,
     "name": "",
     "parents": []
    }
   },
   "outputs": [
    {
     "data": {
      "text/plain": [
       "['ARTHUR: I am, ...  and this is my trusty servant Patsy.',\n",
       " 'We have ridden the length and breadth of the land in search of knights who will join me in my court at Camelot.',\n",
       " 'I must speak with your lord and master.']"
      ]
     },
     "execution_count": 39,
     "metadata": {},
     "output_type": "execute_result"
    }
   ],
   "source": [
    "# before\n",
    "doc_list"
   ]
  },
  {
   "cell_type": "code",
   "execution_count": 40,
   "metadata": {
    "canvas": {
     "comments": [],
     "componentType": "CodeCell",
     "copiedOriginId": null,
     "diskcache": false,
     "headerColor": "none",
     "id": "757a6713-8fca-4a53-a69e-83846ebea710",
     "isComponent": false,
     "name": "",
     "parents": []
    },
    "colab": {
     "base_uri": "https://localhost:8080/"
    },
    "id": "W4lZ5fqsJAh8",
    "outputId": "83b0bb49-ed67-4885-fe6a-e799bb0dcd1b"
   },
   "outputs": [
    {
     "data": {
      "text/plain": [
       "dict_items([('arthur', 2), ('am', 0), ('and', 1), ('this', 26), ('is', 9), ('my', 18), ('trusty', 27), ('servant', 23), ('patsy', 20), ('we', 28), ('have', 7), ('ridden', 21), ('the', 25), ('length', 13), ('breadth', 4), ('of', 19), ('land', 12), ('in', 8), ('search', 22), ('knights', 11), ('who', 29), ('will', 30), ('join', 10), ('me', 16), ('court', 6), ('at', 3), ('camelot', 5), ('must', 17), ('speak', 24), ('with', 31), ('your', 32), ('lord', 14), ('master', 15)])"
      ]
     },
     "execution_count": 40,
     "metadata": {},
     "output_type": "execute_result"
    }
   ],
   "source": [
    "# after\n",
    "vocab = count_vectorizer.vocabulary_\n",
    "vocab.items()"
   ]
  },
  {
   "cell_type": "code",
   "execution_count": 41,
   "metadata": {
    "canvas": {
     "comments": [],
     "componentType": "CodeCell",
     "copiedOriginId": null,
     "diskcache": false,
     "headerColor": "none",
     "id": "7a914f18-09e3-4571-ad7c-8ad128f3dcb9",
     "isComponent": false,
     "name": "",
     "parents": []
    },
    "id": "fV5qXVVbJS_X"
   },
   "outputs": [],
   "source": [
    "# converting a sparse matrix to a pandas dataframe with column names corresponding to the vocabulary created by the vectorizer\n",
    "def get_df(vectorizer, X):\n",
    "    vocab = vectorizer.vocabulary_\n",
    "    vocab_sort = {k: v for k, v in sorted(vocab.items(), key=lambda item: item[1])}\n",
    "    return pd.DataFrame(X.toarray(), columns=vocab_sort.keys())"
   ]
  },
  {
   "cell_type": "code",
   "execution_count": 42,
   "metadata": {
    "canvas": {
     "comments": [],
     "componentType": "CodeCell",
     "copiedOriginId": null,
     "diskcache": false,
     "headerColor": "none",
     "id": "7bd58db6-735f-4fb6-b664-f0d023b34cb5",
     "isComponent": false,
     "name": "",
     "parents": []
    },
    "colab": {
     "base_uri": "https://localhost:8080/",
     "height": 239
    },
    "id": "j9F4uDkbfvCI",
    "outputId": "de17a6a7-da03-4a64-91f8-53e6aa667dc0"
   },
   "outputs": [
    {
     "data": {
      "text/html": [
       "<div>\n",
       "<style scoped>\n",
       "    .dataframe tbody tr th:only-of-type {\n",
       "        vertical-align: middle;\n",
       "    }\n",
       "\n",
       "    .dataframe tbody tr th {\n",
       "        vertical-align: top;\n",
       "    }\n",
       "\n",
       "    .dataframe thead th {\n",
       "        text-align: right;\n",
       "    }\n",
       "</style>\n",
       "<table border=\"1\" class=\"dataframe\">\n",
       "  <thead>\n",
       "    <tr style=\"text-align: right;\">\n",
       "      <th></th>\n",
       "      <th>am</th>\n",
       "      <th>and</th>\n",
       "      <th>arthur</th>\n",
       "      <th>at</th>\n",
       "      <th>breadth</th>\n",
       "      <th>camelot</th>\n",
       "      <th>court</th>\n",
       "      <th>have</th>\n",
       "      <th>in</th>\n",
       "      <th>is</th>\n",
       "      <th>...</th>\n",
       "      <th>servant</th>\n",
       "      <th>speak</th>\n",
       "      <th>the</th>\n",
       "      <th>this</th>\n",
       "      <th>trusty</th>\n",
       "      <th>we</th>\n",
       "      <th>who</th>\n",
       "      <th>will</th>\n",
       "      <th>with</th>\n",
       "      <th>your</th>\n",
       "    </tr>\n",
       "  </thead>\n",
       "  <tbody>\n",
       "    <tr>\n",
       "      <th>0</th>\n",
       "      <td>1</td>\n",
       "      <td>1</td>\n",
       "      <td>1</td>\n",
       "      <td>0</td>\n",
       "      <td>0</td>\n",
       "      <td>0</td>\n",
       "      <td>0</td>\n",
       "      <td>0</td>\n",
       "      <td>0</td>\n",
       "      <td>1</td>\n",
       "      <td>...</td>\n",
       "      <td>1</td>\n",
       "      <td>0</td>\n",
       "      <td>0</td>\n",
       "      <td>1</td>\n",
       "      <td>1</td>\n",
       "      <td>0</td>\n",
       "      <td>0</td>\n",
       "      <td>0</td>\n",
       "      <td>0</td>\n",
       "      <td>0</td>\n",
       "    </tr>\n",
       "    <tr>\n",
       "      <th>1</th>\n",
       "      <td>0</td>\n",
       "      <td>1</td>\n",
       "      <td>0</td>\n",
       "      <td>1</td>\n",
       "      <td>1</td>\n",
       "      <td>1</td>\n",
       "      <td>1</td>\n",
       "      <td>1</td>\n",
       "      <td>2</td>\n",
       "      <td>0</td>\n",
       "      <td>...</td>\n",
       "      <td>0</td>\n",
       "      <td>0</td>\n",
       "      <td>2</td>\n",
       "      <td>0</td>\n",
       "      <td>0</td>\n",
       "      <td>1</td>\n",
       "      <td>1</td>\n",
       "      <td>1</td>\n",
       "      <td>0</td>\n",
       "      <td>0</td>\n",
       "    </tr>\n",
       "    <tr>\n",
       "      <th>2</th>\n",
       "      <td>0</td>\n",
       "      <td>1</td>\n",
       "      <td>0</td>\n",
       "      <td>0</td>\n",
       "      <td>0</td>\n",
       "      <td>0</td>\n",
       "      <td>0</td>\n",
       "      <td>0</td>\n",
       "      <td>0</td>\n",
       "      <td>0</td>\n",
       "      <td>...</td>\n",
       "      <td>0</td>\n",
       "      <td>1</td>\n",
       "      <td>0</td>\n",
       "      <td>0</td>\n",
       "      <td>0</td>\n",
       "      <td>0</td>\n",
       "      <td>0</td>\n",
       "      <td>0</td>\n",
       "      <td>1</td>\n",
       "      <td>1</td>\n",
       "    </tr>\n",
       "  </tbody>\n",
       "</table>\n",
       "<p>3 rows × 33 columns</p>\n",
       "</div>"
      ],
      "text/plain": [
       "   am  and  arthur  at  breadth  camelot  court  have  in  is  ...  servant  \\\n",
       "0   1    1       1   0        0        0      0     0   0   1  ...        1   \n",
       "1   0    1       0   1        1        1      1     1   2   0  ...        0   \n",
       "2   0    1       0   0        0        0      0     0   0   0  ...        0   \n",
       "\n",
       "   speak  the  this  trusty  we  who  will  with  your  \n",
       "0      0    0     1       1   0    0     0     0     0  \n",
       "1      0    2     0       0   1    1     1     0     0  \n",
       "2      1    0     0       0   0    0     0     1     1  \n",
       "\n",
       "[3 rows x 33 columns]"
      ]
     },
     "execution_count": 42,
     "metadata": {},
     "output_type": "execute_result"
    }
   ],
   "source": [
    "get_df(count_vectorizer, X)"
   ]
  },
  {
   "cell_type": "code",
   "execution_count": 43,
   "metadata": {
    "canvas": {
     "comments": [],
     "componentType": "CodeCell",
     "copiedOriginId": null,
     "diskcache": false,
     "headerColor": "none",
     "id": "e2050069-76a3-4ed0-81aa-28e2418e0710",
     "isComponent": false,
     "name": "",
     "parents": []
    },
    "colab": {
     "base_uri": "https://localhost:8080/"
    },
    "id": "i1fyzIudK4Vq",
    "outputId": "ad233772-efc5-4118-88d8-ec03b1b93245"
   },
   "outputs": [
    {
     "name": "stdout",
     "output_type": "stream",
     "text": [
      "!, \", #, $, %, &, ', (, ), *, +, ,, -, ., /, :, ;, <, =, >, ?, @, [, \\, ], ^, _, `, a, about, above, after, again, against, ain, all, am, an, and, any, are, aren, aren't, as, at, be, because, been, before, being, below, between, both, but, by, can, couldn, couldn't, d, did, didn, didn't, do, does, doesn, doesn't, doing, don, don't, down, during, each, few, for, from, further, had, hadn, hadn't, has, hasn, hasn't, have, haven, haven't, having, he, her, here, hers, herself, him, himself, his, how, i, if, in, into, is, isn, isn't, it, it's, its, itself, just, ll, m, ma, me, mightn, mightn't, more, most, mustn, mustn't, my, myself, needn, needn't, no, nor, not, now, o, of, off, on, once, only, or, other, our, ours, ourselves, out, over, own, re, s, same, shan, shan't, she, she's, should, should've, shouldn, shouldn't, so, some, such, t, than, that, that'll, the, their, theirs, them, themselves, then, there, these, they, this, those, through, to, too, under, until, up, ve, very, was, wasn, wasn't, we, were, weren, weren't, what, when, where, which, while, who, whom, why, will, with, won, won't, wouldn, wouldn't, y, you, you'd, you'll, you're, you've, your, yours, yourself, yourselves, {, |, }, ~\n"
     ]
    }
   ],
   "source": [
    "# updated stopwords with sorted list of English stopwords and punctuation marks\n",
    "sw = list(stopwords.words(\"english\"))\n",
    "sw.extend(list(punctuation))\n",
    "sw_sorted = sorted(sw)\n",
    "print(', '.join(sw_sorted))"
   ]
  },
  {
   "cell_type": "code",
   "execution_count": 44,
   "metadata": {
    "canvas": {
     "comments": [],
     "componentType": "CodeCell",
     "copiedOriginId": null,
     "diskcache": false,
     "headerColor": "none",
     "id": "5adde889-710c-4f69-9fff-637aad010211",
     "isComponent": false,
     "name": "",
     "parents": []
    },
    "colab": {
     "base_uri": "https://localhost:8080/"
    },
    "id": "SWPLPBj8NSO9",
    "outputId": "36845abe-ece0-45ae-cc77-a32ba6aa31a6"
   },
   "outputs": [],
   "source": [
    "# instantiating a new CountVectorizer object\n",
    "count_vectorizer2 = CountVectorizer(stop_words=sw,\n",
    "                                    tokenizer=word_tokenize)\n",
    "X = count_vectorizer2.fit_transform(doc_list)"
   ]
  },
  {
   "cell_type": "code",
   "execution_count": 45,
   "metadata": {
    "canvas": {
     "comments": [],
     "componentType": "CodeCell",
     "copiedOriginId": null,
     "diskcache": false,
     "headerColor": "none",
     "id": "48da811d-aaf6-421b-9dd7-ec00ad706800",
     "isComponent": false,
     "name": "",
     "parents": []
    },
    "colab": {
     "base_uri": "https://localhost:8080/",
     "height": 239
    },
    "id": "B_9gardUOf_0",
    "outputId": "ce6439ee-1b4f-4616-afe3-10daac66b9e8"
   },
   "outputs": [
    {
     "data": {
      "text/html": [
       "<div>\n",
       "<style scoped>\n",
       "    .dataframe tbody tr th:only-of-type {\n",
       "        vertical-align: middle;\n",
       "    }\n",
       "\n",
       "    .dataframe tbody tr th {\n",
       "        vertical-align: top;\n",
       "    }\n",
       "\n",
       "    .dataframe thead th {\n",
       "        text-align: right;\n",
       "    }\n",
       "</style>\n",
       "<table border=\"1\" class=\"dataframe\">\n",
       "  <thead>\n",
       "    <tr style=\"text-align: right;\">\n",
       "      <th></th>\n",
       "      <th>...</th>\n",
       "      <th>arthur</th>\n",
       "      <th>breadth</th>\n",
       "      <th>camelot</th>\n",
       "      <th>court</th>\n",
       "      <th>join</th>\n",
       "      <th>knights</th>\n",
       "      <th>land</th>\n",
       "      <th>length</th>\n",
       "      <th>lord</th>\n",
       "      <th>master</th>\n",
       "      <th>must</th>\n",
       "      <th>patsy</th>\n",
       "      <th>ridden</th>\n",
       "      <th>search</th>\n",
       "      <th>servant</th>\n",
       "      <th>speak</th>\n",
       "      <th>trusty</th>\n",
       "    </tr>\n",
       "  </thead>\n",
       "  <tbody>\n",
       "    <tr>\n",
       "      <th>0</th>\n",
       "      <td>1</td>\n",
       "      <td>1</td>\n",
       "      <td>0</td>\n",
       "      <td>0</td>\n",
       "      <td>0</td>\n",
       "      <td>0</td>\n",
       "      <td>0</td>\n",
       "      <td>0</td>\n",
       "      <td>0</td>\n",
       "      <td>0</td>\n",
       "      <td>0</td>\n",
       "      <td>0</td>\n",
       "      <td>1</td>\n",
       "      <td>0</td>\n",
       "      <td>0</td>\n",
       "      <td>1</td>\n",
       "      <td>0</td>\n",
       "      <td>1</td>\n",
       "    </tr>\n",
       "    <tr>\n",
       "      <th>1</th>\n",
       "      <td>0</td>\n",
       "      <td>0</td>\n",
       "      <td>1</td>\n",
       "      <td>1</td>\n",
       "      <td>1</td>\n",
       "      <td>1</td>\n",
       "      <td>1</td>\n",
       "      <td>1</td>\n",
       "      <td>1</td>\n",
       "      <td>0</td>\n",
       "      <td>0</td>\n",
       "      <td>0</td>\n",
       "      <td>0</td>\n",
       "      <td>1</td>\n",
       "      <td>1</td>\n",
       "      <td>0</td>\n",
       "      <td>0</td>\n",
       "      <td>0</td>\n",
       "    </tr>\n",
       "    <tr>\n",
       "      <th>2</th>\n",
       "      <td>0</td>\n",
       "      <td>0</td>\n",
       "      <td>0</td>\n",
       "      <td>0</td>\n",
       "      <td>0</td>\n",
       "      <td>0</td>\n",
       "      <td>0</td>\n",
       "      <td>0</td>\n",
       "      <td>0</td>\n",
       "      <td>1</td>\n",
       "      <td>1</td>\n",
       "      <td>1</td>\n",
       "      <td>0</td>\n",
       "      <td>0</td>\n",
       "      <td>0</td>\n",
       "      <td>0</td>\n",
       "      <td>1</td>\n",
       "      <td>0</td>\n",
       "    </tr>\n",
       "  </tbody>\n",
       "</table>\n",
       "</div>"
      ],
      "text/plain": [
       "   ...  arthur  breadth  camelot  court  join  knights  land  length  lord  \\\n",
       "0    1       1        0        0      0     0        0     0       0     0   \n",
       "1    0       0        1        1      1     1        1     1       1     0   \n",
       "2    0       0        0        0      0     0        0     0       0     1   \n",
       "\n",
       "   master  must  patsy  ridden  search  servant  speak  trusty  \n",
       "0       0     0      1       0       0        1      0       1  \n",
       "1       0     0      0       1       1        0      0       0  \n",
       "2       1     1      0       0       0        0      1       0  "
      ]
     },
     "execution_count": 45,
     "metadata": {},
     "output_type": "execute_result"
    }
   ],
   "source": [
    "get_df(count_vectorizer2, X)"
   ]
  },
  {
   "cell_type": "code",
   "execution_count": 46,
   "metadata": {
    "canvas": {
     "comments": [],
     "componentType": "CodeCell",
     "copiedOriginId": null,
     "diskcache": false,
     "headerColor": "none",
     "id": "692b583a-0130-479c-8511-15d73eccc71e",
     "isComponent": false,
     "name": "",
     "parents": []
    },
    "id": "6sR24makOsf2"
   },
   "outputs": [],
   "source": [
    "# defining a function returning a list of the lemmatized tokens\n",
    "def lemmatize_sent_2(text: str):\n",
    "    return [wnl.lemmatize(x.lower(), pos=pos_tag_conv(tag)) for x, tag in pos_tag(word_tokenize(text))]\n",
    "\n",
    "# tokenizing, lemmatizing, and removing stopwords + digits\n",
    "def preprocess_text(text: str):\n",
    "    return [x for x in lemmatize_sent_2(text) if x not in sw and not x.isdigit()]"
   ]
  },
  {
   "cell_type": "code",
   "execution_count": 47,
   "metadata": {
    "canvas": {
     "comments": [],
     "componentType": "CodeCell",
     "copiedOriginId": null,
     "diskcache": false,
     "headerColor": "inherit",
     "id": "5ba4692f-da58-40a7-adfe-c0505c641365",
     "isComponent": false,
     "name": "",
     "parents": []
    }
   },
   "outputs": [
    {
     "data": {
      "text/plain": [
       "['ARTHUR: I am, ...  and this is my trusty servant Patsy.',\n",
       " 'We have ridden the length and breadth of the land in search of knights who will join me in my court at Camelot.',\n",
       " 'I must speak with your lord and master.']"
      ]
     },
     "execution_count": 47,
     "metadata": {},
     "output_type": "execute_result"
    }
   ],
   "source": [
    "# before\n",
    "doc_list"
   ]
  },
  {
   "cell_type": "code",
   "execution_count": 48,
   "metadata": {
    "canvas": {
     "comments": [],
     "componentType": "CodeCell",
     "copiedOriginId": null,
     "diskcache": false,
     "headerColor": "none",
     "id": "42b0517c-a81a-427a-91ba-26f919b48942",
     "isComponent": false,
     "name": "",
     "parents": []
    },
    "colab": {
     "base_uri": "https://localhost:8080/"
    },
    "id": "dQ_47E3bPwPl",
    "outputId": "64d41fc0-3525-42a8-b692-3c8c223d9000"
   },
   "outputs": [
    {
     "data": {
      "text/plain": [
       "['arthur', '...', 'trusty', 'servant', 'patsy']"
      ]
     },
     "execution_count": 48,
     "metadata": {},
     "output_type": "execute_result"
    }
   ],
   "source": [
    "# after\n",
    "preprocess_text(doc_list[0])"
   ]
  },
  {
   "cell_type": "code",
   "execution_count": 49,
   "metadata": {
    "canvas": {
     "comments": [],
     "componentType": "CodeCell",
     "copiedOriginId": null,
     "diskcache": false,
     "headerColor": "none",
     "id": "8296a94f-cccf-42e8-ab70-16c6bd83496b",
     "isComponent": false,
     "name": "",
     "parents": []
    },
    "id": "kURYNTynQ8FK"
   },
   "outputs": [],
   "source": [
    "count_vec = CountVectorizer(analyzer=preprocess_text)\n",
    "X = count_vec.fit_transform(doc_list)"
   ]
  },
  {
   "cell_type": "code",
   "execution_count": 50,
   "metadata": {
    "canvas": {
     "comments": [],
     "componentType": "CodeCell",
     "copiedOriginId": null,
     "diskcache": false,
     "headerColor": "none",
     "id": "02cd0647-2fb6-42b2-b211-3b98c3486ac5",
     "isComponent": false,
     "name": "",
     "parents": []
    },
    "colab": {
     "base_uri": "https://localhost:8080/",
     "height": 239
    },
    "id": "5AA2119mRILt",
    "outputId": "0e500d18-e967-4b30-be62-d90ce8e918ea"
   },
   "outputs": [
    {
     "data": {
      "text/html": [
       "<div>\n",
       "<style scoped>\n",
       "    .dataframe tbody tr th:only-of-type {\n",
       "        vertical-align: middle;\n",
       "    }\n",
       "\n",
       "    .dataframe tbody tr th {\n",
       "        vertical-align: top;\n",
       "    }\n",
       "\n",
       "    .dataframe thead th {\n",
       "        text-align: right;\n",
       "    }\n",
       "</style>\n",
       "<table border=\"1\" class=\"dataframe\">\n",
       "  <thead>\n",
       "    <tr style=\"text-align: right;\">\n",
       "      <th></th>\n",
       "      <th>...</th>\n",
       "      <th>arthur</th>\n",
       "      <th>breadth</th>\n",
       "      <th>camelot</th>\n",
       "      <th>court</th>\n",
       "      <th>join</th>\n",
       "      <th>knight</th>\n",
       "      <th>land</th>\n",
       "      <th>length</th>\n",
       "      <th>lord</th>\n",
       "      <th>master</th>\n",
       "      <th>must</th>\n",
       "      <th>patsy</th>\n",
       "      <th>ride</th>\n",
       "      <th>search</th>\n",
       "      <th>servant</th>\n",
       "      <th>speak</th>\n",
       "      <th>trusty</th>\n",
       "    </tr>\n",
       "  </thead>\n",
       "  <tbody>\n",
       "    <tr>\n",
       "      <th>0</th>\n",
       "      <td>1</td>\n",
       "      <td>1</td>\n",
       "      <td>0</td>\n",
       "      <td>0</td>\n",
       "      <td>0</td>\n",
       "      <td>0</td>\n",
       "      <td>0</td>\n",
       "      <td>0</td>\n",
       "      <td>0</td>\n",
       "      <td>0</td>\n",
       "      <td>0</td>\n",
       "      <td>0</td>\n",
       "      <td>1</td>\n",
       "      <td>0</td>\n",
       "      <td>0</td>\n",
       "      <td>1</td>\n",
       "      <td>0</td>\n",
       "      <td>1</td>\n",
       "    </tr>\n",
       "    <tr>\n",
       "      <th>1</th>\n",
       "      <td>0</td>\n",
       "      <td>0</td>\n",
       "      <td>1</td>\n",
       "      <td>1</td>\n",
       "      <td>1</td>\n",
       "      <td>1</td>\n",
       "      <td>1</td>\n",
       "      <td>1</td>\n",
       "      <td>1</td>\n",
       "      <td>0</td>\n",
       "      <td>0</td>\n",
       "      <td>0</td>\n",
       "      <td>0</td>\n",
       "      <td>1</td>\n",
       "      <td>1</td>\n",
       "      <td>0</td>\n",
       "      <td>0</td>\n",
       "      <td>0</td>\n",
       "    </tr>\n",
       "    <tr>\n",
       "      <th>2</th>\n",
       "      <td>0</td>\n",
       "      <td>0</td>\n",
       "      <td>0</td>\n",
       "      <td>0</td>\n",
       "      <td>0</td>\n",
       "      <td>0</td>\n",
       "      <td>0</td>\n",
       "      <td>0</td>\n",
       "      <td>0</td>\n",
       "      <td>1</td>\n",
       "      <td>1</td>\n",
       "      <td>1</td>\n",
       "      <td>0</td>\n",
       "      <td>0</td>\n",
       "      <td>0</td>\n",
       "      <td>0</td>\n",
       "      <td>1</td>\n",
       "      <td>0</td>\n",
       "    </tr>\n",
       "  </tbody>\n",
       "</table>\n",
       "</div>"
      ],
      "text/plain": [
       "   ...  arthur  breadth  camelot  court  join  knight  land  length  lord  \\\n",
       "0    1       1        0        0      0     0       0     0       0     0   \n",
       "1    0       0        1        1      1     1       1     1       1     0   \n",
       "2    0       0        0        0      0     0       0     0       0     1   \n",
       "\n",
       "   master  must  patsy  ride  search  servant  speak  trusty  \n",
       "0       0     0      1     0       0        1      0       1  \n",
       "1       0     0      0     1       1        0      0       0  \n",
       "2       1     1      0     0       0        0      1       0  "
      ]
     },
     "execution_count": 50,
     "metadata": {},
     "output_type": "execute_result"
    }
   ],
   "source": [
    "get_df(count_vec, X)"
   ]
  },
  {
   "cell_type": "markdown",
   "metadata": {
    "canvas": {
     "comments": [],
     "componentType": "CodeCell",
     "copiedOriginId": null,
     "diskcache": false,
     "headerColor": "none",
     "id": "b3978e09-9a82-4a71-a37a-547d7991b820",
     "isComponent": false,
     "name": "",
     "parents": []
    },
    "id": "NmOAFWYCSwkC"
   },
   "source": [
    "# Classification"
   ]
  },
  {
   "cell_type": "code",
   "execution_count": 51,
   "metadata": {
    "canvas": {
     "comments": [],
     "componentType": "CodeCell",
     "copiedOriginId": null,
     "diskcache": false,
     "headerColor": "none",
     "id": "65f55e67-2a5f-4549-8cac-ed494001fe6f",
     "isComponent": false,
     "name": "",
     "parents": []
    },
    "id": "XioHJPZnSwTx"
   },
   "outputs": [
    {
     "data": {
      "text/html": [
       "<div>\n",
       "<style scoped>\n",
       "    .dataframe tbody tr th:only-of-type {\n",
       "        vertical-align: middle;\n",
       "    }\n",
       "\n",
       "    .dataframe tbody tr th {\n",
       "        vertical-align: top;\n",
       "    }\n",
       "\n",
       "    .dataframe thead th {\n",
       "        text-align: right;\n",
       "    }\n",
       "</style>\n",
       "<table border=\"1\" class=\"dataframe\">\n",
       "  <thead>\n",
       "    <tr style=\"text-align: right;\">\n",
       "      <th></th>\n",
       "      <th>request_text_edit_aware</th>\n",
       "      <th>requester_received_pizza</th>\n",
       "    </tr>\n",
       "  </thead>\n",
       "  <tbody>\n",
       "    <tr>\n",
       "      <th>0</th>\n",
       "      <td>Hi I am in need of food for my 4 children we a...</td>\n",
       "      <td>False</td>\n",
       "    </tr>\n",
       "    <tr>\n",
       "      <th>1</th>\n",
       "      <td>I spent the last money I had on gas today. Im ...</td>\n",
       "      <td>False</td>\n",
       "    </tr>\n",
       "    <tr>\n",
       "      <th>2</th>\n",
       "      <td>My girlfriend decided it would be a good idea ...</td>\n",
       "      <td>False</td>\n",
       "    </tr>\n",
       "    <tr>\n",
       "      <th>3</th>\n",
       "      <td>It's cold, I'n hungry, and to be completely ho...</td>\n",
       "      <td>False</td>\n",
       "    </tr>\n",
       "    <tr>\n",
       "      <th>4</th>\n",
       "      <td>hey guys:\\n I love this sub. I think it's grea...</td>\n",
       "      <td>False</td>\n",
       "    </tr>\n",
       "  </tbody>\n",
       "</table>\n",
       "</div>"
      ],
      "text/plain": [
       "                             request_text_edit_aware  requester_received_pizza\n",
       "0  Hi I am in need of food for my 4 children we a...                     False\n",
       "1  I spent the last money I had on gas today. Im ...                     False\n",
       "2  My girlfriend decided it would be a good idea ...                     False\n",
       "3  It's cold, I'n hungry, and to be completely ho...                     False\n",
       "4  hey guys:\\n I love this sub. I think it's grea...                     False"
      ]
     },
     "execution_count": 51,
     "metadata": {},
     "output_type": "execute_result"
    }
   ],
   "source": [
    "# JSON file containing text data and a binary target variable indicating whether a pizza was received or not\n",
    "# and stores them in a pandas dataframe with only the two relevant columns, \"request_text_edit_aware\" \n",
    "# and \"requester_received_pizza\"\n",
    "path = \"https://raw.githubusercontent.com/Kamil128/Training_DS_NLP/main/train.json\"\n",
    "df = pd.read_json(path)[['request_text_edit_aware', 'requester_received_pizza']]\n",
    "df.head()"
   ]
  },
  {
   "cell_type": "code",
   "execution_count": 52,
   "metadata": {
    "canvas": {
     "comments": [],
     "componentType": "CodeCell",
     "copiedOriginId": null,
     "diskcache": false,
     "headerColor": "none",
     "id": "df1edbda-9619-4859-abed-53dc99358618",
     "isComponent": false,
     "name": "",
     "parents": []
    },
    "id": "3wzyq27SS875"
   },
   "outputs": [],
   "source": [
    "X = df['request_text_edit_aware']\n",
    "y = df['requester_received_pizza']"
   ]
  },
  {
   "cell_type": "code",
   "execution_count": 53,
   "metadata": {
    "canvas": {
     "comments": [],
     "componentType": "CodeCell",
     "copiedOriginId": null,
     "diskcache": false,
     "headerColor": "none",
     "id": "51335776-6022-4376-b85c-98636a1094e7",
     "isComponent": false,
     "name": "",
     "parents": []
    },
    "id": "vzUO26LhTWv4"
   },
   "outputs": [],
   "source": [
    "# spliting the dataset into training and testing sets, which will be used for model training and evaluation\n",
    "X_train, X_test, y_train, y_test = train_test_split(X,\n",
    "                                                    y,\n",
    "                                                    test_size=1/3,\n",
    "                                                    random_state=42,\n",
    "                                                    stratify=y)"
   ]
  },
  {
   "cell_type": "code",
   "execution_count": 54,
   "metadata": {
    "canvas": {
     "comments": [],
     "componentType": "CodeCell",
     "copiedOriginId": null,
     "diskcache": false,
     "headerColor": "none",
     "id": "182f0319-aabe-480c-ac41-5cf951af65d9",
     "isComponent": false,
     "name": "",
     "parents": []
    },
    "colab": {
     "base_uri": "https://localhost:8080/"
    },
    "id": "PUl9eNn1VBis",
    "outputId": "fbc69ca4-9100-4026-f1d3-eb75bbf6d1cf"
   },
   "outputs": [
    {
     "data": {
      "text/plain": [
       "False    75.380616\n",
       "True     24.619384\n",
       "Name: requester_received_pizza, dtype: float64"
      ]
     },
     "execution_count": 54,
     "metadata": {},
     "output_type": "execute_result"
    }
   ],
   "source": [
    "# checking the distribution of the target variable and assessing if there is any class imbalance\n",
    "y_train.value_counts() / len(y_train) * 100"
   ]
  },
  {
   "cell_type": "code",
   "execution_count": 55,
   "metadata": {
    "canvas": {
     "comments": [],
     "componentType": "CodeCell",
     "copiedOriginId": null,
     "diskcache": false,
     "headerColor": "none",
     "id": "01cb28c4-6989-4283-b809-890bba6eafb7",
     "isComponent": false,
     "name": "",
     "parents": []
    },
    "id": "XmaOAoneVDXr"
   },
   "outputs": [],
   "source": [
    "# initializing a TfidfVectorizer object\n",
    "tfidf_vec = TfidfVectorizer(#analyzer=preprocess_text, \n",
    "                            max_features=5_000, \n",
    "                            ngram_range=(2, 2))\n",
    "X_train_vec = tfidf_vec.fit_transform(X_train)"
   ]
  },
  {
   "cell_type": "code",
   "execution_count": 56,
   "metadata": {
    "canvas": {
     "comments": [],
     "componentType": "CodeCell",
     "copiedOriginId": null,
     "diskcache": false,
     "headerColor": "inherit",
     "id": "c617832a-2c8a-40ea-92fa-80dbcaf05610",
     "isComponent": false,
     "name": "",
     "parents": []
    }
   },
   "outputs": [
    {
     "name": "stdout",
     "output_type": "stream",
     "text": [
      "hey reddit : 1756\n",
      "me and : 2403\n",
      "and my : 242\n",
      "my friends : 2643\n",
      "friends are : 1401\n",
      "are all : 401\n",
      "we re : 4682\n",
      "re all : 3453\n",
      "with nothing : 4842\n",
      "nothing but : 2868\n",
      "for my : 1315\n",
      "in the : 1939\n",
      "the house : 4042\n",
      "we could : 4664\n",
      "could really : 971\n",
      "really use : 3509\n",
      "use pizza : 4574\n",
      "pizza we : 3357\n",
      "we spent : 4684\n",
      "spent all : 3816\n"
     ]
    }
   ],
   "source": [
    "# mapping each word in the vocabulary to its position in the feature matrix and displaying the first 20 items\n",
    "for key, value in list(tfidf_vec.vocabulary_.items())[:20]:\n",
    "    print(key, ':', value)"
   ]
  },
  {
   "cell_type": "code",
   "execution_count": 57,
   "metadata": {
    "canvas": {
     "comments": [],
     "componentType": "CodeCell",
     "copiedOriginId": null,
     "diskcache": false,
     "headerColor": "none",
     "id": "345f3e61-3432-476b-bc89-90aeeed58eef",
     "isComponent": false,
     "name": "",
     "parents": []
    },
    "colab": {
     "base_uri": "https://localhost:8080/"
    },
    "id": "Y25On3xQVmeI",
    "outputId": "962874ec-7e6c-4d5d-a7a5-a20356f40555"
   },
   "outputs": [],
   "source": [
    "# defining and training a Multinomial Naive Bayes classifier on the training data, and using it to make \n",
    "# predictions on the test data after vectorizing them using a TfidfVectorizer\n",
    "clf = MultinomialNB()\n",
    "clf.fit(X_train_vec, y_train)\n",
    "X_test_tr = tfidf_vec.transform(X_test)\n",
    "y_pred = clf.predict(X_test_tr)"
   ]
  },
  {
   "cell_type": "code",
   "execution_count": 58,
   "metadata": {
    "canvas": {
     "comments": [],
     "componentType": "CodeCell",
     "copiedOriginId": null,
     "diskcache": false,
     "headerColor": "none",
     "id": "ac9745ca-d22d-4c45-bfd1-4d0a493724d9",
     "isComponent": false,
     "name": "",
     "parents": []
    },
    "colab": {
     "base_uri": "https://localhost:8080/"
    },
    "id": "_N5Cf6yDXDWF",
    "outputId": "564c1da7-7aea-4fa8-f62d-abc286b42ab1"
   },
   "outputs": [
    {
     "name": "stdout",
     "output_type": "stream",
     "text": [
      "              precision    recall  f1-score   support\n",
      "\n",
      "       False       1.00      0.75      0.86      1347\n",
      "        True       0.00      0.00      0.00         0\n",
      "\n",
      "    accuracy                           0.75      1347\n",
      "   macro avg       0.50      0.38      0.43      1347\n",
      "weighted avg       1.00      0.75      0.86      1347\n",
      "\n"
     ]
    }
   ],
   "source": [
    "# classification report\n",
    "print(classification_report(y_pred, y_test))"
   ]
  }
 ],
 "metadata": {
  "canvas": {
   "colorPalette": [
    "inherit",
    "inherit",
    "inherit",
    "inherit",
    "inherit",
    "inherit",
    "inherit",
    "inherit",
    "inherit",
    "inherit"
   ],
   "parameters": [],
   "version": "1.0"
  },
  "colab": {
   "provenance": []
  },
  "kernelspec": {
   "display_name": "Python 3 (ipykernel)",
   "language": "python",
   "name": "python3"
  },
  "language_info": {
   "codemirror_mode": {
    "name": "ipython",
    "version": 3
   },
   "file_extension": ".py",
   "mimetype": "text/x-python",
   "name": "python",
   "nbconvert_exporter": "python",
   "pygments_lexer": "ipython3",
   "version": "3.9.13"
  }
 },
 "nbformat": 4,
 "nbformat_minor": 4
}
