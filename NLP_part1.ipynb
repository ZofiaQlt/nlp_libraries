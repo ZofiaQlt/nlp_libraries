{
 "cells": [
  {
   "cell_type": "markdown",
   "metadata": {
    "canvas": {
     "comments": [],
     "componentType": "CodeCell",
     "copiedOriginId": "e6579e28-b493-4713-9f0f-6f53517e2ca6",
     "diskcache": false,
     "headerColor": "inherit",
     "id": "195aaa5b-f3f0-46c8-a3a9-60c142899902",
     "isComponent": false,
     "name": "",
     "parents": []
    }
   },
   "source": [
    "# Import libraries"
   ]
  },
  {
   "cell_type": "code",
   "execution_count": 1,
   "metadata": {
    "canvas": {
     "comments": [],
     "componentType": "CodeCell",
     "copiedOriginId": null,
     "diskcache": false,
     "headerColor": "none",
     "id": "abc4cbd5-6ee4-4309-91b3-0148cc5cf875",
     "isComponent": false,
     "name": "",
     "parents": []
    },
    "id": "IN7PIagE1xxq"
   },
   "outputs": [],
   "source": [
    "import pandas as pd\n",
    "import nltk\n",
    "from nltk.corpus import brown\n",
    "from nltk.corpus import webtext\n",
    "from nltk import sent_tokenize, word_tokenize\n",
    "from nltk.corpus import stopwords\n",
    "from string import punctuation\n",
    "from nltk.stem import PorterStemmer\n",
    "from nltk.stem import WordNetLemmatizer\n",
    "from nltk import pos_tag\n",
    "from nltk import sent_tokenize\n",
    "from sklearn.feature_extraction.text import CountVectorizer\n",
    "from sklearn.model_selection import train_test_split\n",
    "from sklearn.feature_extraction.text import CountVectorizer, TfidfVectorizer\n",
    "from sklearn.naive_bayes import MultinomialNB\n",
    "from sklearn.metrics import classification_report"
   ]
  },
  {
   "cell_type": "markdown",
   "metadata": {
    "canvas": {
     "comments": [],
     "componentType": "CodeCell",
     "copiedOriginId": null,
     "diskcache": false,
     "headerColor": "inherit",
     "id": "1ac3f19f-80e3-47fc-b4ea-9f115cbc7ded",
     "isComponent": false,
     "name": "",
     "parents": []
    }
   },
   "source": [
    "# Brown corpus"
   ]
  },
  {
   "cell_type": "code",
   "execution_count": 2,
   "metadata": {
    "canvas": {
     "comments": [],
     "componentType": "CodeCell",
     "copiedOriginId": null,
     "diskcache": false,
     "headerColor": "none",
     "id": "30aa93ff-a154-480c-ac61-c38050498ae5",
     "isComponent": false,
     "name": "",
     "parents": []
    },
    "colab": {
     "base_uri": "https://localhost:8080/"
    },
    "id": "0FoDnu7v2OKI",
    "outputId": "2565ffc6-eb2f-47ca-d81d-83a8ba30c8fc"
   },
   "outputs": [
    {
     "name": "stderr",
     "output_type": "stream",
     "text": [
      "[nltk_data] Downloading package brown to /Users/zqldata/nltk_data...\n",
      "[nltk_data]   Package brown is already up-to-date!\n"
     ]
    },
    {
     "data": {
      "text/plain": [
       "True"
      ]
     },
     "execution_count": 2,
     "metadata": {},
     "output_type": "execute_result"
    }
   ],
   "source": [
    "nltk.download('brown')"
   ]
  },
  {
   "cell_type": "code",
   "execution_count": 3,
   "metadata": {
    "canvas": {
     "comments": [],
     "componentType": "CodeCell",
     "copiedOriginId": null,
     "diskcache": false,
     "headerColor": "inherit",
     "id": "4cd60145-6536-4ae7-932d-2f892b08d866",
     "isComponent": false,
     "name": "",
     "parents": []
    }
   },
   "outputs": [
    {
     "data": {
      "text/plain": [
       "['ca01', 'ca02', 'ca03', 'ca04', 'ca05']"
      ]
     },
     "execution_count": 3,
     "metadata": {},
     "output_type": "execute_result"
    }
   ],
   "source": [
    "# retrieving the first five fileids from the Brown corpus in NLTK\n",
    "brown.fileids()[0:5]"
   ]
  },
  {
   "cell_type": "code",
   "execution_count": 4,
   "metadata": {
    "canvas": {
     "comments": [],
     "componentType": "CodeCell",
     "copiedOriginId": null,
     "diskcache": false,
     "headerColor": "none",
     "id": "71d2a1db-dae7-4c7e-a111-b56ebc191304",
     "isComponent": false,
     "name": "",
     "parents": []
    },
    "colab": {
     "base_uri": "https://localhost:8080/"
    },
    "id": "okxRkClk3aYV",
    "outputId": "3550c7ca-31e1-4815-e3ed-1e8fdbb3e2ae"
   },
   "outputs": [
    {
     "name": "stdout",
     "output_type": "stream",
     "text": [
      "Type de la variable \"bw\" : <class 'nltk.corpus.reader.util.ConcatenatedCorpusView'>\n",
      "Mots 100 à 109 : ['Allen', 'Jr.', '.', '``', 'Only', 'a', 'relative', 'handful', 'of', 'such']\n",
      "Nombre de mots : 1161192\n"
     ]
    }
   ],
   "source": [
    "bw = brown.words()\n",
    "print(f'Type de la variable \"bw\" : {type(bw)}')\n",
    "print(f'Mots 100 à 109 : {bw[100:110]}')\n",
    "print(f'Nombre de mots : {len(brown.words())}')"
   ]
  },
  {
   "cell_type": "code",
   "execution_count": 5,
   "metadata": {
    "canvas": {
     "comments": [],
     "componentType": "CodeCell",
     "copiedOriginId": null,
     "diskcache": false,
     "headerColor": "none",
     "id": "33b8f97d-5664-46be-b251-a5f5be8618bb",
     "isComponent": false,
     "name": "",
     "parents": []
    },
    "colab": {
     "base_uri": "https://localhost:8080/"
    },
    "id": "2Md29H_C3waw",
    "outputId": "9c0ddd2c-7540-49ea-e599-4c7084beec5f"
   },
   "outputs": [
    {
     "name": "stdout",
     "output_type": "stream",
     "text": [
      "Type de la variable \"st\" : <class 'nltk.corpus.reader.util.ConcatenatedCorpusView'>\n"
     ]
    }
   ],
   "source": [
    "st = brown.sents()\n",
    "print(f'Type de la variable \"st\" : {type(st)}')"
   ]
  },
  {
   "cell_type": "code",
   "execution_count": 6,
   "metadata": {
    "canvas": {
     "comments": [],
     "componentType": "CodeCell",
     "copiedOriginId": null,
     "diskcache": false,
     "headerColor": "inherit",
     "id": "ada6176b-924c-4d5c-b63d-2a0c8cd402ee",
     "isComponent": false,
     "name": "",
     "parents": []
    }
   },
   "outputs": [
    {
     "data": {
      "text/plain": [
       "\"The mayor's present term of office expires Jan. 1 .\""
      ]
     },
     "execution_count": 6,
     "metadata": {},
     "output_type": "execute_result"
    }
   ],
   "source": [
    "#st[42]\n",
    "\" \".join(st[42])"
   ]
  },
  {
   "cell_type": "code",
   "execution_count": 7,
   "metadata": {
    "canvas": {
     "comments": [],
     "componentType": "CodeCell",
     "copiedOriginId": null,
     "diskcache": false,
     "headerColor": "none",
     "id": "52d1a553-817c-401d-aa2e-3192afda1b9c",
     "isComponent": false,
     "name": "",
     "parents": []
    },
    "colab": {
     "base_uri": "https://localhost:8080/"
    },
    "id": "iEyxa3Fd4MvJ",
    "outputId": "c759ed1d-be59-4e27-abb9-2ffca72b12ff"
   },
   "outputs": [
    {
     "data": {
      "text/plain": [
       "[['The', 'Fulton', 'County', 'Grand', 'Jury', 'said', 'Friday', 'an', 'investigation', 'of', \"Atlanta's\", 'recent', 'primary', 'election', 'produced', '``', 'no', 'evidence', \"''\", 'that', 'any', 'irregularities', 'took', 'place', '.'], ['The', 'jury', 'further', 'said', 'in', 'term-end', 'presentments', 'that', 'the', 'City', 'Executive', 'Committee', ',', 'which', 'had', 'over-all', 'charge', 'of', 'the', 'election', ',', '``', 'deserves', 'the', 'praise', 'and', 'thanks', 'of', 'the', 'City', 'of', 'Atlanta', \"''\", 'for', 'the', 'manner', 'in', 'which', 'the', 'election', 'was', 'conducted', '.'], ...]"
      ]
     },
     "execution_count": 7,
     "metadata": {},
     "output_type": "execute_result"
    }
   ],
   "source": [
    "# retrieving the sentences in the 'ca01' file from the Brown corpus in NLTK\n",
    "brown.sents(fileids='ca01')"
   ]
  },
  {
   "cell_type": "markdown",
   "metadata": {
    "canvas": {
     "comments": [],
     "componentType": "CodeCell",
     "copiedOriginId": null,
     "diskcache": false,
     "headerColor": "inherit",
     "id": "b81ce767-9a28-410b-a250-8d8c19294438",
     "isComponent": false,
     "name": "",
     "parents": []
    }
   },
   "source": [
    "# Webtext corpus"
   ]
  },
  {
   "cell_type": "code",
   "execution_count": 8,
   "metadata": {
    "canvas": {
     "comments": [],
     "componentType": "CodeCell",
     "copiedOriginId": null,
     "diskcache": false,
     "headerColor": "none",
     "id": "c5673403-9f78-4938-8a5a-9bef81c2b72e",
     "isComponent": false,
     "name": "",
     "parents": []
    },
    "colab": {
     "base_uri": "https://localhost:8080/"
    },
    "id": "a8er6Flt4rol",
    "outputId": "7c0e15c0-1249-4583-a918-75b76fde246d"
   },
   "outputs": [
    {
     "name": "stderr",
     "output_type": "stream",
     "text": [
      "[nltk_data] Downloading package webtext to /Users/zqldata/nltk_data...\n",
      "[nltk_data]   Package webtext is already up-to-date!\n"
     ]
    },
    {
     "data": {
      "text/plain": [
       "True"
      ]
     },
     "execution_count": 8,
     "metadata": {},
     "output_type": "execute_result"
    }
   ],
   "source": [
    "nltk.download('webtext')"
   ]
  },
  {
   "cell_type": "code",
   "execution_count": 9,
   "metadata": {
    "canvas": {
     "comments": [],
     "componentType": "CodeCell",
     "copiedOriginId": null,
     "diskcache": false,
     "headerColor": "none",
     "id": "7831ec97-06ae-4ae0-adaf-30825e71c2aa",
     "isComponent": false,
     "name": "",
     "parents": []
    },
    "colab": {
     "base_uri": "https://localhost:8080/"
    },
    "id": "tVtyEOJH5Si1",
    "outputId": "e6d58654-f898-4483-ded1-fa1f7c51720c"
   },
   "outputs": [
    {
     "data": {
      "text/plain": [
       "['firefox.txt',\n",
       " 'grail.txt',\n",
       " 'overheard.txt',\n",
       " 'pirates.txt',\n",
       " 'singles.txt',\n",
       " 'wine.txt']"
      ]
     },
     "execution_count": 9,
     "metadata": {},
     "output_type": "execute_result"
    }
   ],
   "source": [
    "# retrieving the fileids of the texts in the Webtext corpus in NLTK\n",
    "webtext.fileids()"
   ]
  },
  {
   "cell_type": "code",
   "execution_count": 10,
   "metadata": {
    "canvas": {
     "comments": [],
     "componentType": "CodeCell",
     "copiedOriginId": null,
     "diskcache": false,
     "headerColor": "none",
     "id": "d8db43a4-6cf8-4466-b1de-c7370bc2baa5",
     "isComponent": false,
     "name": "",
     "parents": []
    },
    "colab": {
     "base_uri": "https://localhost:8080/",
     "height": 174
    },
    "id": "pWmedY2v5b3e",
    "outputId": "03d1ef96-1d29-45f9-d5a7-5e984bb62a81"
   },
   "outputs": [
    {
     "data": {
      "text/plain": [
       "\"SCENE 1: [wind] [clop clop clop] \\nKING ARTHUR: Whoa there!  [clop clop clop] \\nSOLDIER #1: Halt!  Who goes there?\\nARTHUR: It is I, Arthur, son of Uther Pendragon, from the castle of Camelot.  King of the Britons, defeator of the Saxons, sovereign of all England!\\nSOLDIER #1: Pull the other one!\\nARTHUR: I am, ...  and this is my trusty servant Patsy.  We have ridden the length and breadth of the land in search of knights who will join me in my court at Camelot.  I must speak with your lord and master.\\nSOLDIER #1: What?  Ridden on a horse?\\nARTHUR: Yes!\\nSOLDIER #1: You're using coconuts!\\nARTHUR: What?\\nSOLDIER #1: You've got two empty halves of coconut and you're bangin' 'em together.\\nARTHUR: So?  We have ridden since the snows of winter covered this land, through the kingdom of Mercea, through--\\nSOLDIER #1: Where'd you get the coconuts?\\nARTHUR: We found them.\\nSOLDIER #1: Found them?  In Mercea?  The coconut's tropical!\\nARTHUR: What do you mean?\\nSOLDIER #1: Well, this is a temperate zone.\\nARTHUR: The swallow may fly south with the sun or the house martin or the plover may seek warmer climes in winter, yet these are not strangers to our land?\\nSOLDIER #1: Are you suggesting coconuts migrate?\\nARTHUR: Not at all.  They could be carried.\\nSOLDIER #1: What?  A swallow carrying a coconut?\\nARTHUR: It could grip it by the husk!\\nSOLDIER #1: It's not a question of where he grips it!  It's a simple question of weight ratios!  A five ounce bird could not carry a one pound coconut.\\nARTHUR: Well, it doesn't matter.  Will you go and tell your master that Arthur from the Court of Camelot is here.\\nSOLDIER #1: Listen.  In order to maintain air-speed velocity, a swallow needs to beat its wings forty-three times every second, right?\\nARTHUR: Please!\\nSOLDIER #1: Am I right?\\nARTHUR: I'm not interested!\\nSOLDIER #2: It could be carried by an African swallow!\\nSOLDIER #1: Oh, yeah, an African swallow maybe, but not a European swallow.  That's my point.\\nSOLDIER #2: Oh, yeah, I agree with that.\\nARTHUR: Will you ask your master if he wants to join my court at Camelot?!\\nSOLDIER #1: But then of course a-- African swallows are non-migratory.\\nSOLDIER #2: Oh, yeah...\\nSOLDIER #1: So they couldn't bring a coconut back anyway...  [clop clop clop] \\nSOLDIER #2: Wait a minute!  Supposing two swallows carried it together?\\nSOLDIER #1: No, they'd have to have it on a line.\\nSOLDIER #2: Well, simple!  They'd just use a strand of creeper!\\nSOLDIER #1: What, held under the dorsal guiding feathers?\\nSOLDIER #2: Well, why not?\\nSCENE 2: [thud] [clang] \\nCART-MASTER: Bring out your dead!  [clang] Bring out your dead!  [clang] Bring out your dead!  [clang] Bring out your dead!  [clang] Bring out your dead!  [cough cough...] [clang] [... cough cough] Bring out your dead!  [clang] Bring out your dead!  [clang] Bring out your dead!  Ninepence.  [clang] Bring out your dead!  [clang] Bring out your dead!  [clang] Bring out...  [rewr!] ... your dead!  [rewr!] [clang] Bring out your dead!\\nCUSTOMER: Here's one.\\nCART-MASTER: Ninepence.\\nDEAD PERSON: I'm not dead!\\nCART-MASTER: What?\\nCUSTOMER: Nothing.  Here's your ninepence.\\nDEAD PERSON: I'm not dead!\\nCART-MASTER: 'Ere.  He says he's not dead!\\nCUSTOMER: Yes he is.\\nDEAD PERSON: I'm not!\\nCART-MASTER: He isn't?\\nCUSTOMER: Well, he will be soon.  He's very ill.\\nDEAD PERSON: I'm getting better!  \\nCUSTOMER: No you're not.  You'll be stone dead in a moment.\\nCART-MASTER: Oh, I can't take him like that.  It's against regulations.\\nDEAD PERSON: I don't want to go on the cart!\\nCUSTOMER: Oh, don't be such a baby.\\nCART-MASTER: I can't take him.\\nDEAD PERSON: I feel fine!\\nCUSTOMER: Well, do us a favor.\\nCART-MASTER: I can't.\\nCUSTOMER: Well, can you hang around a couple of minutes?  He won't be long.\\nCART-MASTER: No, I've got to go to the Robinson's.  They've lost nine today.\\nCUSTOMER: Well, when's your next round?\\nCART-MASTER: Thursday.\\nDEAD PERSON: I think I'll go for a walk.\\nCUSTOMER: You're not fooling anyone you know.  Look, isn't there something you can do?\\nDEAD PERSON: [singing] I feel happy...  I feel happy.  [whop] \\nCUSTOMER: Ah, thanks very much.\\nCART-MASTER: Not at all.  See you on Thursday.\\nCUSTOMER: Right.  All right.  [howl] [clop clop clop] Who's that then?\\nCART-MASTER: I dunno.  Must be a king.\\nCUSTOMER: Why?\\nCART-MASTER: He hasn't got shit all over him.\\nSCENE 3: [thud] [King Arthur music] [thud thud thud] [King Arthur music stops] \\nARTHUR: Old woman!\\nDENNIS: Man!\\nARTHUR: Man.  Sorry.  What knight live in that castle over there?\\nDENNIS: I'm thirty-seven.\\nARTHUR: I-- what?\\nDENNIS: I'm thirty-seven.  I'm not old.\\nARTHUR: Well, I can't just call you 'Man'.\\nDENNIS: Well, you could say 'Dennis'.\\nARTHUR: Well, I didn't know you were called 'Dennis'.\\nDENNIS: Well, you didn't bother to find out, did you?\\nARTHUR: I did say 'sorry' about the 'old woman', but from the behind you looked--\\nDENNIS: What I object to is that you automatically treat me like an inferior!\\nARTHUR: Well, I am king!\\nDENNIS: Oh king, eh, very nice.  And how d'you get that,\""
      ]
     },
     "execution_count": 10,
     "metadata": {},
     "output_type": "execute_result"
    }
   ],
   "source": [
    "# retrieving the raw text from the 'grail.txt' file in the Webtext corpus\n",
    "sent = webtext.raw('grail.txt')\n",
    "sent[0:5000]"
   ]
  },
  {
   "cell_type": "code",
   "execution_count": 11,
   "metadata": {
    "canvas": {
     "comments": [],
     "componentType": "CodeCell",
     "copiedOriginId": null,
     "diskcache": false,
     "headerColor": "none",
     "id": "7b79fee8-cdd7-4475-855d-f73c53e17777",
     "isComponent": false,
     "name": "",
     "parents": []
    },
    "colab": {
     "base_uri": "https://localhost:8080/"
    },
    "id": "i_SlBhhP5muu",
    "outputId": "dde09af4-4618-44a6-fa6b-278f1e7f24eb"
   },
   "outputs": [
    {
     "data": {
      "text/plain": [
       "['SCENE 1: [wind] [clop clop clop] ',\n",
       " 'KING ARTHUR: Whoa there!  [clop clop clop] ',\n",
       " 'SOLDIER #1: Halt!  Who goes there?',\n",
       " 'ARTHUR: It is I, Arthur, son of Uther Pendragon, from the castle of Camelot.  King of the Britons, defeator of the Saxons, sovereign of all England!',\n",
       " 'SOLDIER #1: Pull the other one!',\n",
       " 'ARTHUR: I am, ...  and this is my trusty servant Patsy.  We have ridden the length and breadth of the land in search of knights who will join me in my court at Camelot.  I must speak with your lord and master.',\n",
       " 'SOLDIER #1: What?  Ridden on a horse?',\n",
       " 'ARTHUR: Yes!',\n",
       " \"SOLDIER #1: You're using coconuts!\",\n",
       " 'ARTHUR: What?']"
      ]
     },
     "execution_count": 11,
     "metadata": {},
     "output_type": "execute_result"
    }
   ],
   "source": [
    "# splitting the string variable 'sent' into a list of strings, with each string in the list representing a line of text\n",
    "sent = sent.split('\\n')\n",
    "sent[:10]"
   ]
  },
  {
   "cell_type": "code",
   "execution_count": 12,
   "metadata": {
    "canvas": {
     "comments": [],
     "componentType": "CodeCell",
     "copiedOriginId": null,
     "diskcache": false,
     "headerColor": "none",
     "id": "e7574b0b-4ae4-4139-a6b1-f353cbe7b8a1",
     "isComponent": false,
     "name": "",
     "parents": []
    },
    "colab": {
     "base_uri": "https://localhost:8080/"
    },
    "id": "xFiuIN705w0D",
    "outputId": "4d35333f-d6de-4237-f11d-80ea7504d794"
   },
   "outputs": [
    {
     "name": "stderr",
     "output_type": "stream",
     "text": [
      "[nltk_data] Downloading package punkt to ./...\n",
      "[nltk_data]   Package punkt is already up-to-date!\n"
     ]
    },
    {
     "data": {
      "text/plain": [
       "True"
      ]
     },
     "execution_count": 12,
     "metadata": {},
     "output_type": "execute_result"
    }
   ],
   "source": [
    "nltk.download('punkt', download_dir='./')"
   ]
  },
  {
   "cell_type": "code",
   "execution_count": 13,
   "metadata": {
    "canvas": {
     "comments": [],
     "componentType": "CodeCell",
     "copiedOriginId": null,
     "diskcache": false,
     "headerColor": "none",
     "id": "fdd714e6-c487-4d3e-9fec-c4d24caea486",
     "isComponent": false,
     "name": "",
     "parents": []
    },
    "colab": {
     "base_uri": "https://localhost:8080/",
     "height": 53
    },
    "id": "4Em-7-OQ_JXz",
    "outputId": "95ffdcdd-2cb0-4dbd-e437-a7ab2858ee39"
   },
   "outputs": [
    {
     "data": {
      "text/plain": [
       "'ARTHUR: I am, ...  and this is my trusty servant Patsy.  We have ridden the length and breadth of the land in search of knights who will join me in my court at Camelot.  I must speak with your lord and master.'"
      ]
     },
     "execution_count": 13,
     "metadata": {},
     "output_type": "execute_result"
    }
   ],
   "source": [
    "sent_5 = sent[5]\n",
    "sent_5"
   ]
  },
  {
   "cell_type": "code",
   "execution_count": 14,
   "metadata": {
    "canvas": {
     "comments": [],
     "componentType": "CodeCell",
     "copiedOriginId": null,
     "diskcache": false,
     "headerColor": "none",
     "id": "a566f760-92a4-48da-9d05-483a14115f9e",
     "isComponent": false,
     "name": "",
     "parents": []
    },
    "colab": {
     "base_uri": "https://localhost:8080/"
    },
    "id": "V_HAR0Uh_V2Z",
    "outputId": "fd81951b-2cb9-48d3-823c-0943d689e0c5"
   },
   "outputs": [
    {
     "data": {
      "text/plain": [
       "['ARTHUR: I am, ...  and this is my trusty servant Patsy.',\n",
       " 'We have ridden the length and breadth of the land in search of knights who will join me in my court at Camelot.',\n",
       " 'I must speak with your lord and master.']"
      ]
     },
     "execution_count": 14,
     "metadata": {},
     "output_type": "execute_result"
    }
   ],
   "source": [
    "sent_tokenize(sent_5)"
   ]
  },
  {
   "cell_type": "code",
   "execution_count": 15,
   "metadata": {
    "canvas": {
     "comments": [],
     "componentType": "CodeCell",
     "copiedOriginId": null,
     "diskcache": false,
     "headerColor": "none",
     "id": "fab3915b-f503-44bb-bffa-5cd23378d2da",
     "isComponent": false,
     "name": "",
     "parents": []
    },
    "colab": {
     "base_uri": "https://localhost:8080/"
    },
    "id": "FMF3aVEvAOR3",
    "outputId": "0d46cb45-c42f-44a2-a0ee-3b60fcd19aef"
   },
   "outputs": [
    {
     "name": "stdout",
     "output_type": "stream",
     "text": [
      "['ARTHUR', ':', 'I', 'am', ',', '...', 'and', 'this', 'is', 'my', 'trusty', 'servant', 'Patsy', '.']\n",
      "['We', 'have', 'ridden', 'the', 'length', 'and', 'breadth', 'of', 'the', 'land', 'in', 'search', 'of', 'knights', 'who', 'will', 'join', 'me', 'in', 'my', 'court', 'at', 'Camelot', '.']\n",
      "['I', 'must', 'speak', 'with', 'your', 'lord', 'and', 'master', '.']\n"
     ]
    }
   ],
   "source": [
    "for s in sent_tokenize(sent_5): \n",
    "    print(word_tokenize(s))"
   ]
  },
  {
   "cell_type": "code",
   "execution_count": 16,
   "metadata": {
    "canvas": {
     "comments": [],
     "componentType": "CodeCell",
     "copiedOriginId": null,
     "diskcache": false,
     "headerColor": "none",
     "id": "3408dd2f-db40-4c6a-bbba-8b407e9f6791",
     "isComponent": false,
     "name": "",
     "parents": []
    },
    "colab": {
     "base_uri": "https://localhost:8080/"
    },
    "id": "EFlTKM7fAySj",
    "outputId": "0c838883-54ea-4f19-c2b8-8252d82ccdcf"
   },
   "outputs": [
    {
     "data": {
      "text/plain": [
       "['Ceci', 'est', 'un', 'text', 'court', ',', 'qui', 'sera', 'tokenizé']"
      ]
     },
     "execution_count": 16,
     "metadata": {},
     "output_type": "execute_result"
    }
   ],
   "source": [
    "word_tokenize(\"Ceci est un text court, qui sera tokenizé\", language='french')"
   ]
  },
  {
   "cell_type": "markdown",
   "metadata": {
    "canvas": {
     "comments": [],
     "componentType": "CodeCell",
     "copiedOriginId": null,
     "diskcache": false,
     "headerColor": "none",
     "id": "a0413b47-4505-41c6-ba6e-fc7b93737797",
     "isComponent": false,
     "name": "",
     "parents": []
    },
    "id": "lbqGsfxzCl8J"
   },
   "source": [
    "## Normalization"
   ]
  },
  {
   "cell_type": "code",
   "execution_count": 17,
   "metadata": {
    "canvas": {
     "comments": [],
     "componentType": "CodeCell",
     "copiedOriginId": null,
     "diskcache": false,
     "headerColor": "none",
     "id": "33776202-1794-4fa5-8950-0496842308f4",
     "isComponent": false,
     "name": "",
     "parents": []
    },
    "id": "LOhUCY5mDLDa"
   },
   "outputs": [],
   "source": [
    "# conversion to lowercase and tokenization into words\n",
    "sent_list = []\n",
    "for s in sent_tokenize(sent_5):\n",
    "    lower_token = [x.lower() for x in word_tokenize(s)]\n",
    "    sent_list.append(lower_token)"
   ]
  },
  {
   "cell_type": "code",
   "execution_count": 18,
   "metadata": {
    "canvas": {
     "comments": [],
     "componentType": "CodeCell",
     "copiedOriginId": null,
     "diskcache": false,
     "headerColor": "none",
     "id": "d4492bfc-065c-484f-b145-d8d7b06a9b7e",
     "isComponent": false,
     "name": "",
     "parents": []
    },
    "colab": {
     "base_uri": "https://localhost:8080/"
    },
    "id": "Gk3eEwrGERcl",
    "outputId": "f398e5ae-4077-489a-be9e-f900cabff6fa"
   },
   "outputs": [
    {
     "data": {
      "text/plain": [
       "[['arthur',\n",
       "  ':',\n",
       "  'i',\n",
       "  'am',\n",
       "  ',',\n",
       "  '...',\n",
       "  'and',\n",
       "  'this',\n",
       "  'is',\n",
       "  'my',\n",
       "  'trusty',\n",
       "  'servant',\n",
       "  'patsy',\n",
       "  '.'],\n",
       " ['we',\n",
       "  'have',\n",
       "  'ridden',\n",
       "  'the',\n",
       "  'length',\n",
       "  'and',\n",
       "  'breadth',\n",
       "  'of',\n",
       "  'the',\n",
       "  'land',\n",
       "  'in',\n",
       "  'search',\n",
       "  'of',\n",
       "  'knights',\n",
       "  'who',\n",
       "  'will',\n",
       "  'join',\n",
       "  'me',\n",
       "  'in',\n",
       "  'my',\n",
       "  'court',\n",
       "  'at',\n",
       "  'camelot',\n",
       "  '.'],\n",
       " ['i', 'must', 'speak', 'with', 'your', 'lord', 'and', 'master', '.']]"
      ]
     },
     "execution_count": 18,
     "metadata": {},
     "output_type": "execute_result"
    }
   ],
   "source": [
    "sent_list"
   ]
  },
  {
   "cell_type": "markdown",
   "metadata": {
    "canvas": {
     "comments": [],
     "componentType": "CodeCell",
     "copiedOriginId": null,
     "diskcache": false,
     "headerColor": "none",
     "id": "f60ba058-177d-432a-bdd3-941bc83d9046",
     "isComponent": false,
     "name": "",
     "parents": []
    },
    "id": "7uf7wPMGGeUx"
   },
   "source": [
    "# Stop words"
   ]
  },
  {
   "cell_type": "code",
   "execution_count": 19,
   "metadata": {
    "canvas": {
     "comments": [],
     "componentType": "CodeCell",
     "copiedOriginId": null,
     "diskcache": false,
     "headerColor": "none",
     "id": "a48801f6-51a1-42da-9ff7-1437c04e23dd",
     "isComponent": false,
     "name": "",
     "parents": []
    },
    "colab": {
     "base_uri": "https://localhost:8080/"
    },
    "id": "rgqZUdkxGdyO",
    "outputId": "aba0f467-a8bd-4c15-8226-cb7383b33b2e"
   },
   "outputs": [
    {
     "name": "stderr",
     "output_type": "stream",
     "text": [
      "[nltk_data] Downloading package stopwords to\n",
      "[nltk_data]     /Users/zqldata/nltk_data...\n",
      "[nltk_data]   Package stopwords is already up-to-date!\n"
     ]
    },
    {
     "data": {
      "text/plain": [
       "True"
      ]
     },
     "execution_count": 19,
     "metadata": {},
     "output_type": "execute_result"
    }
   ],
   "source": [
    "nltk.download('stopwords')"
   ]
  },
  {
   "cell_type": "code",
   "execution_count": 20,
   "metadata": {
    "canvas": {
     "comments": [],
     "componentType": "CodeCell",
     "copiedOriginId": null,
     "diskcache": false,
     "headerColor": "none",
     "id": "fb2e03af-fe6d-4f97-a5e3-7e8078a5577d",
     "isComponent": false,
     "name": "",
     "parents": []
    },
    "colab": {
     "base_uri": "https://localhost:8080/"
    },
    "id": "Z1K9fywBucXK",
    "outputId": "22f81e45-b3ab-49a3-81ad-372b083a3dbe"
   },
   "outputs": [
    {
     "data": {
      "text/plain": [
       "['arabic',\n",
       " 'azerbaijani',\n",
       " 'basque',\n",
       " 'bengali',\n",
       " 'catalan',\n",
       " 'chinese',\n",
       " 'danish',\n",
       " 'dutch',\n",
       " 'english',\n",
       " 'finnish',\n",
       " 'french',\n",
       " 'german',\n",
       " 'greek',\n",
       " 'hebrew',\n",
       " 'hinglish',\n",
       " 'hungarian',\n",
       " 'indonesian',\n",
       " 'italian',\n",
       " 'kazakh',\n",
       " 'nepali',\n",
       " 'norwegian',\n",
       " 'portuguese',\n",
       " 'romanian',\n",
       " 'russian',\n",
       " 'slovene',\n",
       " 'spanish',\n",
       " 'swedish',\n",
       " 'tajik',\n",
       " 'turkish']"
      ]
     },
     "execution_count": 20,
     "metadata": {},
     "output_type": "execute_result"
    }
   ],
   "source": [
    "# retrieving the fileids of the texts in the Stopwords corpus in NLTK\n",
    "stopwords.fileids()"
   ]
  },
  {
   "cell_type": "code",
   "execution_count": 79,
   "metadata": {
    "canvas": {
     "comments": [],
     "componentType": "CodeCell",
     "copiedOriginId": null,
     "diskcache": false,
     "headerColor": "none",
     "id": "a82c2018-96e5-41c1-8cad-669661519bc8",
     "isComponent": false,
     "name": "",
     "parents": []
    },
    "colab": {
     "base_uri": "https://localhost:8080/"
    },
    "id": "Ex1Bh6wfGySq",
    "outputId": "2a56c4cc-63d6-4737-9cf3-6d92dcb4c1ab"
   },
   "outputs": [
    {
     "name": "stdout",
     "output_type": "stream",
     "text": [
      "i, me, my, myself, we, our, ours, ourselves, you, you're, you've, you'll, you'd, your, yours, yourself, yourselves, he, him, his, himself, she, she's, her, hers, herself, it, it's, its, itself, they, them, their, theirs, themselves, what, which, who, whom, this, that, that'll, these, those, am, is, are, was, were, be, been, being, have, has, had, having, do, does, did, doing, a, an, the, and, but, if, or, because, as, until, while, of, at, by, for, with, about, against, between, into, through, during, before, after, above, below, to, from, up, down, in, out, on, off, over, under, again, further, then, once, here, there, when, where, why, how, all, any, both, each, few, more, most, other, some, such, no, nor, not, only, own, same, so, than, too, very, s, t, can, will, just, don, don't, should, should've, now, d, ll, m, o, re, ve, y, ain, aren, aren't, couldn, couldn't, didn, didn't, doesn, doesn't, hadn, hadn't, hasn, hasn't, haven, haven't, isn, isn't, ma, mightn, mightn't, mustn, mustn't, needn, needn't, shan, shan't, shouldn, shouldn't, wasn, wasn't, weren, weren't, won, won't, wouldn, wouldn't\n"
     ]
    }
   ],
   "source": [
    "# checking English stopwords\n",
    "stopwords_en = stopwords.words('english')\n",
    "print(', '.join(stopwords_en))"
   ]
  },
  {
   "cell_type": "code",
   "execution_count": 22,
   "metadata": {
    "canvas": {
     "comments": [],
     "componentType": "CodeCell",
     "copiedOriginId": null,
     "diskcache": false,
     "headerColor": "none",
     "id": "09d4e891-eb69-4eb4-be10-ad8dafeb9a77",
     "isComponent": false,
     "name": "",
     "parents": []
    },
    "colab": {
     "base_uri": "https://localhost:8080/"
    },
    "id": "v20jWkRKHJC9",
    "outputId": "bd8bd327-a944-45b2-e236-1647e9575ca5"
   },
   "outputs": [
    {
     "name": "stdout",
     "output_type": "stream",
     "text": [
      "Le nombre de stopwords anglais : 179\n"
     ]
    }
   ],
   "source": [
    "print(f'Le nombre de stopwords anglais : {len(stopwords_en)}')"
   ]
  },
  {
   "cell_type": "code",
   "execution_count": 80,
   "metadata": {
    "canvas": {
     "comments": [],
     "componentType": "CodeCell",
     "copiedOriginId": null,
     "diskcache": false,
     "headerColor": "none",
     "id": "fa1e5a39-54b1-41e2-bc4f-a332cb0c32be",
     "isComponent": false,
     "name": "",
     "parents": []
    },
    "id": "0xP8KxeUHZuv"
   },
   "outputs": [
    {
     "name": "stdout",
     "output_type": "stream",
     "text": [
      "Before: ['arthur', ':', 'i', 'am', ',', '...', 'and', 'this', 'is', 'my', 'trusty', 'servant', 'patsy', '.']\n",
      "After: ['arthur', ':', ',', '...', 'trusty', 'servant', 'patsy', '.']\n"
     ]
    }
   ],
   "source": [
    "# we only keep words that are not in the stopwords list\n",
    "sent_no_sw = []\n",
    "for s in sent_list:\n",
    "    no_sw = [word for word in s if word not in stopwords_en]\n",
    "    sent_no_sw.append(no_sw)\n",
    "    \n",
    "print(f\"Before: {sent_list[0]}\")\n",
    "print(f\"After: {sent_no_sw[0]}\")"
   ]
  },
  {
   "cell_type": "code",
   "execution_count": 28,
   "metadata": {
    "canvas": {
     "comments": [],
     "componentType": "CodeCell",
     "copiedOriginId": null,
     "diskcache": false,
     "headerColor": "none",
     "id": "9474bc01-9552-4f46-9e98-6d372727143f",
     "isComponent": false,
     "name": "",
     "parents": []
    },
    "colab": {
     "base_uri": "https://localhost:8080/"
    },
    "id": "ACY0kjBMMTAo",
    "outputId": "38f3d8d7-1077-4790-85d3-b05fa5df4737"
   },
   "outputs": [
    {
     "data": {
      "text/plain": [
       "[['arthur', ':', ',', '...', 'trusty', 'servant', 'patsy', '.'],\n",
       " ['ridden',\n",
       "  'length',\n",
       "  'breadth',\n",
       "  'land',\n",
       "  'search',\n",
       "  'knights',\n",
       "  'join',\n",
       "  'court',\n",
       "  'camelot',\n",
       "  '.'],\n",
       " ['must', 'speak', 'lord', 'master', '.']]"
      ]
     },
     "execution_count": 28,
     "metadata": {},
     "output_type": "execute_result"
    }
   ],
   "source": [
    "# the result\n",
    "sent_no_sw"
   ]
  },
  {
   "cell_type": "markdown",
   "metadata": {
    "canvas": {
     "comments": [],
     "componentType": "CodeCell",
     "copiedOriginId": null,
     "diskcache": false,
     "headerColor": "inherit",
     "id": "7781966c-22ca-45cc-9660-d0caf8894766",
     "isComponent": false,
     "name": "",
     "parents": []
    }
   },
   "source": [
    "# Punctuation"
   ]
  },
  {
   "cell_type": "code",
   "execution_count": 82,
   "metadata": {
    "canvas": {
     "comments": [],
     "componentType": "CodeCell",
     "copiedOriginId": null,
     "diskcache": false,
     "headerColor": "none",
     "id": "73ffe66f-850d-432d-a0dd-74ca4a432d54",
     "isComponent": false,
     "name": "",
     "parents": []
    },
    "colab": {
     "base_uri": "https://localhost:8080/",
     "height": 35
    },
    "id": "T3Fv3XgYJDlG",
    "outputId": "dc1cf5ec-7d6c-43ca-c779-e01be70b2167"
   },
   "outputs": [
    {
     "name": "stdout",
     "output_type": "stream",
     "text": [
      "!, \", #, $, %, &, ', (, ), *, +, ,, -, ., /, :, ;, <, =, >, ?, @, [, \\, ], ^, _, `, {, |, }, ~\n"
     ]
    }
   ],
   "source": [
    "# create a list of all punctuation characters using the 'punctuation' module from the 'string' library\n",
    "punct = list(punctuation)\n",
    "print(', '.join(punct))"
   ]
  },
  {
   "cell_type": "code",
   "execution_count": 29,
   "metadata": {
    "canvas": {
     "comments": [],
     "componentType": "CodeCell",
     "copiedOriginId": null,
     "diskcache": false,
     "headerColor": "none",
     "id": "2c3fe2a6-8101-4482-8438-7499cdf52a46",
     "isComponent": false,
     "name": "",
     "parents": []
    },
    "id": "l6EWq9DTKTuS"
   },
   "outputs": [],
   "source": [
    "# we only keep tokens that are not in the punctuation list\n",
    "sent_clean = []\n",
    "for s in sent_no_sw:\n",
    "    no_punct = [token for token in s if token not in punct]\n",
    "    sent_clean.append(no_punct)"
   ]
  },
  {
   "cell_type": "code",
   "execution_count": 30,
   "metadata": {
    "canvas": {
     "comments": [],
     "componentType": "CodeCell",
     "copiedOriginId": null,
     "diskcache": false,
     "headerColor": "none",
     "id": "235b64e2-95e6-4e30-9a6f-34b76b2e2f10",
     "isComponent": false,
     "name": "",
     "parents": []
    },
    "colab": {
     "base_uri": "https://localhost:8080/"
    },
    "id": "ucKPJmGvKn9b",
    "outputId": "afe80e14-e265-4da6-892c-f1c754fb84c3"
   },
   "outputs": [
    {
     "data": {
      "text/plain": [
       "[['arthur', '...', 'trusty', 'servant', 'patsy'],\n",
       " ['ridden',\n",
       "  'length',\n",
       "  'breadth',\n",
       "  'land',\n",
       "  'search',\n",
       "  'knights',\n",
       "  'join',\n",
       "  'court',\n",
       "  'camelot'],\n",
       " ['must', 'speak', 'lord', 'master']]"
      ]
     },
     "execution_count": 30,
     "metadata": {},
     "output_type": "execute_result"
    }
   ],
   "source": [
    "# the result\n",
    "sent_clean"
   ]
  },
  {
   "cell_type": "markdown",
   "metadata": {
    "canvas": {
     "comments": [],
     "componentType": "CodeCell",
     "copiedOriginId": null,
     "diskcache": false,
     "headerColor": "none",
     "id": "b890a8b9-af24-4571-8ecb-36a62f8e5236",
     "isComponent": false,
     "name": "",
     "parents": []
    },
    "id": "e-QItjrFNm3k"
   },
   "source": [
    "# Semming & Lemmatization"
   ]
  },
  {
   "cell_type": "code",
   "execution_count": 83,
   "metadata": {
    "canvas": {
     "comments": [],
     "componentType": "CodeCell",
     "copiedOriginId": null,
     "diskcache": false,
     "headerColor": "none",
     "id": "59de3879-f623-44e6-ba33-4ca0946a7480",
     "isComponent": false,
     "name": "",
     "parents": []
    },
    "id": "qcc-0TmKLXgh"
   },
   "outputs": [
    {
     "name": "stdout",
     "output_type": "stream",
     "text": [
      "walk\n",
      "walk\n",
      "walk\n"
     ]
    }
   ],
   "source": [
    "# create an instance of the Porter Stemmer algorithm for word stemming\n",
    "porter = PorterStemmer()\n",
    "\n",
    "# stemming\n",
    "for word in ['walks', 'walking', 'walked']:\n",
    "    print(porter.stem(word))"
   ]
  },
  {
   "cell_type": "code",
   "execution_count": 34,
   "metadata": {
    "canvas": {
     "comments": [],
     "componentType": "CodeCell",
     "copiedOriginId": null,
     "diskcache": false,
     "headerColor": "none",
     "id": "2251f6e2-ea79-4a33-a4a2-a3016ac85171",
     "isComponent": false,
     "name": "",
     "parents": []
    },
    "colab": {
     "base_uri": "https://localhost:8080/"
    },
    "id": "y5vrGOrEvF8U",
    "outputId": "bbe8a243-fdd3-4e32-9044-c4da55cf5ffc"
   },
   "outputs": [
    {
     "name": "stderr",
     "output_type": "stream",
     "text": [
      "[nltk_data] Downloading package wordnet to /Users/zqldata/nltk_data...\n",
      "[nltk_data]   Package wordnet is already up-to-date!\n",
      "[nltk_data] Downloading package omw-1.4 to /Users/zqldata/nltk_data...\n",
      "[nltk_data]   Package omw-1.4 is already up-to-date!\n"
     ]
    },
    {
     "data": {
      "text/plain": [
       "True"
      ]
     },
     "execution_count": 34,
     "metadata": {},
     "output_type": "execute_result"
    }
   ],
   "source": [
    "# downloading the WordNet corpus and the Open Multilingual WordNet (OMW)\n",
    "nltk.download('wordnet')\n",
    "nltk.download('omw-1.4')"
   ]
  },
  {
   "cell_type": "code",
   "execution_count": 89,
   "metadata": {
    "canvas": {
     "comments": [],
     "componentType": "CodeCell",
     "copiedOriginId": null,
     "diskcache": false,
     "headerColor": "inherit",
     "id": "46382d48-6cf0-44f7-85eb-93edad804ace",
     "isComponent": false,
     "name": "",
     "parents": []
    }
   },
   "outputs": [
    {
     "name": "stdout",
     "output_type": "stream",
     "text": [
      "walking\n",
      "walk\n",
      "walked\n"
     ]
    }
   ],
   "source": [
    "# create an instance of the WordNet Lemmatizer algorithm for word lemmatization\n",
    "wnl = WordNetLemmatizer()\n",
    "\n",
    "# lemmatizing\n",
    "for word in ['walking', 'walks', 'walked']:\n",
    "    print(wnl.lemmatize(word))"
   ]
  },
  {
   "cell_type": "code",
   "execution_count": 36,
   "metadata": {
    "canvas": {
     "comments": [],
     "componentType": "CodeCell",
     "copiedOriginId": null,
     "diskcache": false,
     "headerColor": "none",
     "id": "64cb7ce0-9c68-4f45-a45e-ea8e1cd605a6",
     "isComponent": false,
     "name": "",
     "parents": []
    },
    "colab": {
     "base_uri": "https://localhost:8080/",
     "height": 35
    },
    "id": "UxW-uLDbwzIg",
    "outputId": "045e7279-505e-4b37-e21d-d8d487dded2d"
   },
   "outputs": [
    {
     "data": {
      "text/plain": [
       "'walk'"
      ]
     },
     "execution_count": 36,
     "metadata": {},
     "output_type": "execute_result"
    }
   ],
   "source": [
    "# pos='n' noun\n",
    "# pos='v' verb\n",
    "wnl.lemmatize('walked', pos='v')"
   ]
  },
  {
   "cell_type": "markdown",
   "metadata": {
    "canvas": {
     "comments": [],
     "componentType": "CodeCell",
     "copiedOriginId": null,
     "diskcache": false,
     "headerColor": "none",
     "id": "a14a2ab6-0424-4f21-9cc6-e0e146322456",
     "isComponent": false,
     "name": "",
     "parents": []
    },
    "id": "c5KvhhGtxS2c"
   },
   "source": [
    "# POS - part of speech"
   ]
  },
  {
   "cell_type": "code",
   "execution_count": 37,
   "metadata": {
    "canvas": {
     "comments": [],
     "componentType": "CodeCell",
     "copiedOriginId": null,
     "diskcache": false,
     "headerColor": "none",
     "id": "d7f24a91-a682-4e46-9092-d84e7c69de35",
     "isComponent": false,
     "name": "",
     "parents": []
    },
    "colab": {
     "base_uri": "https://localhost:8080/"
    },
    "id": "y2Ikh77Pys1C",
    "outputId": "00870bdb-2aa0-4a82-a740-3fec8d2c8485"
   },
   "outputs": [
    {
     "name": "stderr",
     "output_type": "stream",
     "text": [
      "[nltk_data] Downloading package averaged_perceptron_tagger to\n",
      "[nltk_data]     /Users/zqldata/nltk_data...\n",
      "[nltk_data]   Package averaged_perceptron_tagger is already up-to-\n",
      "[nltk_data]       date!\n"
     ]
    },
    {
     "data": {
      "text/plain": [
       "True"
      ]
     },
     "execution_count": 37,
     "metadata": {},
     "output_type": "execute_result"
    }
   ],
   "source": [
    "nltk.download('averaged_perceptron_tagger')"
   ]
  },
  {
   "cell_type": "code",
   "execution_count": 38,
   "metadata": {
    "canvas": {
     "comments": [],
     "componentType": "CodeCell",
     "copiedOriginId": null,
     "diskcache": false,
     "headerColor": "none",
     "id": "f4a9993d-cced-48f8-8abf-cb499c099967",
     "isComponent": false,
     "name": "",
     "parents": []
    },
    "colab": {
     "base_uri": "https://localhost:8080/"
    },
    "id": "wK_CNb9Xx65k",
    "outputId": "fe6865c1-ea32-455a-e0c9-364de944ab2a"
   },
   "outputs": [
    {
     "data": {
      "text/plain": [
       "[('walking', 'VBG'), ('walks', 'NNS'), ('walked', 'VBD')]"
      ]
     },
     "execution_count": 38,
     "metadata": {},
     "output_type": "execute_result"
    }
   ],
   "source": [
    "# assigning a part of speech tag to each word in the list \n",
    "walk = ['walking', 'walks', 'walked']\n",
    "pos_tag(walk)"
   ]
  },
  {
   "cell_type": "markdown",
   "metadata": {
    "canvas": {
     "comments": [],
     "componentType": "CodeCell",
     "copiedOriginId": null,
     "diskcache": false,
     "headerColor": "none",
     "id": "71eb67f1-8aa4-435f-a95e-f4afa8f81be8",
     "isComponent": false,
     "name": "",
     "parents": []
    },
    "id": "SLuheFNLy-aK"
   },
   "source": [
    "NLTK POS\n",
    "\n",
    "POS  | MEANING\n",
    "-----|----\n",
    "CC   | coordinating conjunction\n",
    "CD   | cardinal digit\n",
    "DT   | determiner\n",
    "EX   | existential there (like: “there is” … think of it like “there exists”)\n",
    "FW   | foreign word\n",
    "IN   | preposition/subordinating conjunction\n",
    "JJ   | adjective ‘big’\n",
    "JJR  | adjective, comparative ‘bigger’\n",
    "JJS  | adjective, superlative ‘biggest’\n",
    "LS   | list marker 1)\n",
    "MD   | modal could, will\n",
    "NN   | noun, singular ‘desk’\n",
    "NNS  | noun plural ‘desks’\n",
    "NNP  | proper noun, singular ‘Harrison’\n",
    "NNPS | proper noun, plural ‘Americans’\n",
    "PDT  | predeterminer ‘all the kids’\n",
    "POS  | possessive ending parent’s\n",
    "PRP  | personal pronoun I, he, she\n",
    "PRP\\$ | possessive pronoun my, his, hers\n",
    "RB   | adverb very, silently,\n",
    "RBR  | adverb, comparative better\n",
    "RBS  | adverb, superlative best\n",
    "RP   | particle give up\n",
    "TO   | to go ‘to’ the store.\n",
    "UH   | interjection, errrrrrrrm\n",
    "VB   | verb, base form take\n",
    "VBD  | verb, past tense took\n",
    "VBG  | verb, gerund/present participle taking\n",
    "VBN  | verb, past participle taken\n",
    "VBP  | verb, sing. present, non-3d take\n",
    "VBZ  | verb, 3rd person sing. present takes\n",
    "WDT  | wh-determiner which\n",
    "WP   | wh-pronoun who, what\n",
    "WP$  | possessive wh-pronoun whose\n",
    "WRB  | wh-abverb where, when"
   ]
  },
  {
   "cell_type": "code",
   "execution_count": 87,
   "metadata": {
    "canvas": {
     "comments": [],
     "componentType": "CodeCell",
     "copiedOriginId": null,
     "diskcache": false,
     "headerColor": "none",
     "id": "ca78a078-db8b-4912-815a-dd216b5bb0bc",
     "isComponent": false,
     "name": "",
     "parents": []
    },
    "colab": {
     "base_uri": "https://localhost:8080/"
    },
    "id": "sAa0ROapy9D0",
    "outputId": "1b8bf466-b479-4dea-d96b-a1acedc1e083"
   },
   "outputs": [
    {
     "name": "stdout",
     "output_type": "stream",
     "text": [
      "v\n",
      "n\n"
     ]
    }
   ],
   "source": [
    "# converting POS tags to WordNet POS tags for lemmatization\n",
    "def pos_tag_conv(pos: str) -> str:\n",
    "    conv_tag = {\n",
    "        'NN': 'n',\n",
    "        'VB': 'v',\n",
    "        'JJ': 'a',\n",
    "        'RB': 'r',\n",
    "    }\n",
    "    results = conv_tag.get(pos[:2])\n",
    "\n",
    "    if results:\n",
    "        return results\n",
    "    else: \n",
    "        return 'n'\n",
    "\n",
    "# test\n",
    "print(pos_tag_conv('VBD'))\n",
    "print(pos_tag_conv('PRP'))"
   ]
  },
  {
   "cell_type": "code",
   "execution_count": 41,
   "metadata": {
    "canvas": {
     "comments": [],
     "componentType": "CodeCell",
     "copiedOriginId": null,
     "diskcache": false,
     "headerColor": "none",
     "id": "523c88dd-e903-4d85-8238-86aaa38acd51",
     "isComponent": false,
     "name": "",
     "parents": []
    },
    "colab": {
     "base_uri": "https://localhost:8080/"
    },
    "id": "rYKEZm2u5F5o",
    "outputId": "a7e6fc23-ac08-4373-def0-9627b1ca2c32"
   },
   "outputs": [
    {
     "data": {
      "text/plain": [
       "['walk', 'walk', 'walk']"
      ]
     },
     "execution_count": 41,
     "metadata": {},
     "output_type": "execute_result"
    }
   ],
   "source": [
    "[wnl.lemmatize(x, pos=pos_tag_conv(tag)) for x, tag in pos_walk]"
   ]
  },
  {
   "cell_type": "code",
   "execution_count": 42,
   "metadata": {
    "canvas": {
     "comments": [],
     "componentType": "CodeCell",
     "copiedOriginId": null,
     "diskcache": false,
     "headerColor": "none",
     "id": "bb851127-d243-4dbb-8f1c-9c6539434ee0",
     "isComponent": false,
     "name": "",
     "parents": []
    },
    "id": "ATL3Ewde7o4u"
   },
   "outputs": [],
   "source": [
    "def lemmatize_sent(sent: list) -> list:\n",
    "    return [wnl.lemmatize(x, pos= pos_tag_conv(tag)) for x, tag in pos_tag(sent)] "
   ]
  },
  {
   "cell_type": "code",
   "execution_count": 43,
   "metadata": {
    "canvas": {
     "comments": [],
     "componentType": "CodeCell",
     "copiedOriginId": null,
     "diskcache": false,
     "headerColor": "none",
     "id": "7261859e-78b3-4054-8ecc-fbd380bc7ca7",
     "isComponent": false,
     "name": "",
     "parents": []
    },
    "colab": {
     "base_uri": "https://localhost:8080/"
    },
    "id": "Nd5qHwZa7EVF",
    "outputId": "856d6816-fe2c-4876-b1f1-1d4d788a3684"
   },
   "outputs": [
    {
     "data": {
      "text/plain": [
       "[['arthur', '...', 'trusty', 'servant', 'patsy'],\n",
       " ['ridden',\n",
       "  'length',\n",
       "  'breadth',\n",
       "  'land',\n",
       "  'search',\n",
       "  'knight',\n",
       "  'join',\n",
       "  'court',\n",
       "  'camelot'],\n",
       " ['must', 'speak', 'lord', 'master']]"
      ]
     },
     "execution_count": 43,
     "metadata": {},
     "output_type": "execute_result"
    }
   ],
   "source": [
    "# sent_clean\n",
    "[lemmatize_sent(x) for x in sent_clean]"
   ]
  },
  {
   "cell_type": "code",
   "execution_count": 44,
   "metadata": {
    "canvas": {
     "comments": [],
     "componentType": "CodeCell",
     "copiedOriginId": null,
     "diskcache": false,
     "headerColor": "none",
     "id": "1bffc2cb-4d39-488b-b818-f17e4769e449",
     "isComponent": false,
     "name": "",
     "parents": []
    },
    "colab": {
     "base_uri": "https://localhost:8080/"
    },
    "id": "blTjMHj07kBw",
    "outputId": "67cc6250-c2ee-4d87-c296-0a61841b6e6f"
   },
   "outputs": [
    {
     "data": {
      "text/plain": [
       "[['arthur', '...', 'trusty', 'servant', 'patsy'],\n",
       " ['ridden',\n",
       "  'length',\n",
       "  'breadth',\n",
       "  'land',\n",
       "  'search',\n",
       "  'knights',\n",
       "  'join',\n",
       "  'court',\n",
       "  'camelot'],\n",
       " ['must', 'speak', 'lord', 'master']]"
      ]
     },
     "execution_count": 44,
     "metadata": {},
     "output_type": "execute_result"
    }
   ],
   "source": [
    "sent_clean"
   ]
  },
  {
   "cell_type": "markdown",
   "metadata": {
    "canvas": {
     "comments": [],
     "componentType": "CodeCell",
     "copiedOriginId": null,
     "diskcache": false,
     "headerColor": "none",
     "id": "07eb6a83-e58c-48c1-898e-954eb78e5e93",
     "isComponent": false,
     "name": "",
     "parents": []
    },
    "id": "qciO0xr0IG3L"
   },
   "source": [
    "# Vectorizer"
   ]
  },
  {
   "cell_type": "code",
   "execution_count": 45,
   "metadata": {
    "canvas": {
     "comments": [],
     "componentType": "CodeCell",
     "copiedOriginId": null,
     "diskcache": false,
     "headerColor": "none",
     "id": "865c2ab5-aa92-4efe-8cae-ba389c3cd238",
     "isComponent": false,
     "name": "",
     "parents": []
    },
    "id": "QmNUbNGoIGV3"
   },
   "outputs": [],
   "source": [
    "doc_list = sent_tokenize(sent_5)"
   ]
  },
  {
   "cell_type": "code",
   "execution_count": 46,
   "metadata": {
    "canvas": {
     "comments": [],
     "componentType": "CodeCell",
     "copiedOriginId": null,
     "diskcache": false,
     "headerColor": "none",
     "id": "72a76b08-e8e9-4cd1-a54f-49c034b41e5b",
     "isComponent": false,
     "name": "",
     "parents": []
    },
    "id": "gwXg4T9yIvai"
   },
   "outputs": [],
   "source": [
    "count_vectorizer = CountVectorizer()"
   ]
  },
  {
   "cell_type": "code",
   "execution_count": 47,
   "metadata": {
    "canvas": {
     "comments": [],
     "componentType": "CodeCell",
     "copiedOriginId": null,
     "diskcache": false,
     "headerColor": "none",
     "id": "2cba83d0-3d53-4392-a98b-287ec731fb77",
     "isComponent": false,
     "name": "",
     "parents": []
    },
    "id": "dYupS016I091"
   },
   "outputs": [],
   "source": [
    "X = count_vectorizer.fit_transform(doc_list)"
   ]
  },
  {
   "cell_type": "code",
   "execution_count": 48,
   "metadata": {
    "canvas": {
     "comments": [],
     "componentType": "CodeCell",
     "copiedOriginId": null,
     "diskcache": false,
     "headerColor": "none",
     "id": "76b06a98-cb61-4764-b0fa-c5750e68942a",
     "isComponent": false,
     "name": "",
     "parents": []
    },
    "colab": {
     "base_uri": "https://localhost:8080/"
    },
    "id": "VOmcXcNjI9kA",
    "outputId": "5c9e4fe7-5bc2-4da5-f1ad-cc9c87e62db6"
   },
   "outputs": [
    {
     "data": {
      "text/plain": [
       "array([[1, 1, 1, 0, 0, 0, 0, 0, 0, 1, 0, 0, 0, 0, 0, 0, 0, 0, 1, 0, 1, 0,\n",
       "        0, 1, 0, 0, 1, 1, 0, 0, 0, 0, 0],\n",
       "       [0, 1, 0, 1, 1, 1, 1, 1, 2, 0, 1, 1, 1, 1, 0, 0, 1, 0, 1, 2, 0, 1,\n",
       "        1, 0, 0, 2, 0, 0, 1, 1, 1, 0, 0],\n",
       "       [0, 1, 0, 0, 0, 0, 0, 0, 0, 0, 0, 0, 0, 0, 1, 1, 0, 1, 0, 0, 0, 0,\n",
       "        0, 0, 1, 0, 0, 0, 0, 0, 0, 1, 1]])"
      ]
     },
     "execution_count": 48,
     "metadata": {},
     "output_type": "execute_result"
    }
   ],
   "source": [
    "X.toarray()"
   ]
  },
  {
   "cell_type": "code",
   "execution_count": 49,
   "metadata": {
    "canvas": {
     "comments": [],
     "componentType": "CodeCell",
     "copiedOriginId": null,
     "diskcache": false,
     "headerColor": "none",
     "id": "757a6713-8fca-4a53-a69e-83846ebea710",
     "isComponent": false,
     "name": "",
     "parents": []
    },
    "colab": {
     "base_uri": "https://localhost:8080/"
    },
    "id": "W4lZ5fqsJAh8",
    "outputId": "83b0bb49-ed67-4885-fe6a-e799bb0dcd1b"
   },
   "outputs": [
    {
     "data": {
      "text/plain": [
       "{'arthur': 2,\n",
       " 'am': 0,\n",
       " 'and': 1,\n",
       " 'this': 26,\n",
       " 'is': 9,\n",
       " 'my': 18,\n",
       " 'trusty': 27,\n",
       " 'servant': 23,\n",
       " 'patsy': 20,\n",
       " 'we': 28,\n",
       " 'have': 7,\n",
       " 'ridden': 21,\n",
       " 'the': 25,\n",
       " 'length': 13,\n",
       " 'breadth': 4,\n",
       " 'of': 19,\n",
       " 'land': 12,\n",
       " 'in': 8,\n",
       " 'search': 22,\n",
       " 'knights': 11,\n",
       " 'who': 29,\n",
       " 'will': 30,\n",
       " 'join': 10,\n",
       " 'me': 16,\n",
       " 'court': 6,\n",
       " 'at': 3,\n",
       " 'camelot': 5,\n",
       " 'must': 17,\n",
       " 'speak': 24,\n",
       " 'with': 31,\n",
       " 'your': 32,\n",
       " 'lord': 14,\n",
       " 'master': 15}"
      ]
     },
     "execution_count": 49,
     "metadata": {},
     "output_type": "execute_result"
    }
   ],
   "source": [
    "vocab = count_vectorizer.vocabulary_\n",
    "vocab"
   ]
  },
  {
   "cell_type": "code",
   "execution_count": 50,
   "metadata": {
    "canvas": {
     "comments": [],
     "componentType": "CodeCell",
     "copiedOriginId": null,
     "diskcache": false,
     "headerColor": "none",
     "id": "7a914f18-09e3-4571-ad7c-8ad128f3dcb9",
     "isComponent": false,
     "name": "",
     "parents": []
    },
    "id": "fV5qXVVbJS_X"
   },
   "outputs": [],
   "source": [
    "def get_df(vectorizer, X):\n",
    "    vocab = vectorizer.vocabulary_\n",
    "    vocab_sort = {k: v for k, v in sorted(vocab.items(), key=lambda item: item[1])}\n",
    "    return pd.DataFrame(X.toarray(), columns=vocab_sort.keys())"
   ]
  },
  {
   "cell_type": "code",
   "execution_count": 51,
   "metadata": {
    "canvas": {
     "comments": [],
     "componentType": "CodeCell",
     "copiedOriginId": null,
     "diskcache": false,
     "headerColor": "none",
     "id": "d00ce47f-9837-477b-909f-ead5f807bc60",
     "isComponent": false,
     "name": "",
     "parents": []
    },
    "colab": {
     "base_uri": "https://localhost:8080/"
    },
    "id": "Jdhq1oDfKC04",
    "outputId": "ad3843e1-181c-422f-d6dc-158302666fcd"
   },
   "outputs": [
    {
     "data": {
      "text/plain": [
       "dict_items([('arthur', 2), ('am', 0), ('and', 1), ('this', 26), ('is', 9), ('my', 18), ('trusty', 27), ('servant', 23), ('patsy', 20), ('we', 28), ('have', 7), ('ridden', 21), ('the', 25), ('length', 13), ('breadth', 4), ('of', 19), ('land', 12), ('in', 8), ('search', 22), ('knights', 11), ('who', 29), ('will', 30), ('join', 10), ('me', 16), ('court', 6), ('at', 3), ('camelot', 5), ('must', 17), ('speak', 24), ('with', 31), ('your', 32), ('lord', 14), ('master', 15)])"
      ]
     },
     "execution_count": 51,
     "metadata": {},
     "output_type": "execute_result"
    }
   ],
   "source": [
    "vocab.items()"
   ]
  },
  {
   "cell_type": "code",
   "execution_count": 52,
   "metadata": {
    "canvas": {
     "comments": [],
     "componentType": "CodeCell",
     "copiedOriginId": null,
     "diskcache": false,
     "headerColor": "none",
     "id": "1dd44053-71fd-41e2-85ee-d130bf5e7a60",
     "isComponent": false,
     "name": "",
     "parents": []
    },
    "id": "fDavEkYmKHw6"
   },
   "outputs": [],
   "source": [
    "# pd.set_option('display.max_columns', None)\n",
    "# pd.DataFrame(X.toarray(), columns=vocab_sort.keys())"
   ]
  },
  {
   "cell_type": "code",
   "execution_count": 53,
   "metadata": {
    "canvas": {
     "comments": [],
     "componentType": "CodeCell",
     "copiedOriginId": null,
     "diskcache": false,
     "headerColor": "none",
     "id": "7bd58db6-735f-4fb6-b664-f0d023b34cb5",
     "isComponent": false,
     "name": "",
     "parents": []
    },
    "colab": {
     "base_uri": "https://localhost:8080/",
     "height": 239
    },
    "id": "j9F4uDkbfvCI",
    "outputId": "de17a6a7-da03-4a64-91f8-53e6aa667dc0"
   },
   "outputs": [
    {
     "data": {
      "text/html": [
       "<div>\n",
       "<style scoped>\n",
       "    .dataframe tbody tr th:only-of-type {\n",
       "        vertical-align: middle;\n",
       "    }\n",
       "\n",
       "    .dataframe tbody tr th {\n",
       "        vertical-align: top;\n",
       "    }\n",
       "\n",
       "    .dataframe thead th {\n",
       "        text-align: right;\n",
       "    }\n",
       "</style>\n",
       "<table border=\"1\" class=\"dataframe\">\n",
       "  <thead>\n",
       "    <tr style=\"text-align: right;\">\n",
       "      <th></th>\n",
       "      <th>am</th>\n",
       "      <th>and</th>\n",
       "      <th>arthur</th>\n",
       "      <th>at</th>\n",
       "      <th>breadth</th>\n",
       "      <th>camelot</th>\n",
       "      <th>court</th>\n",
       "      <th>have</th>\n",
       "      <th>in</th>\n",
       "      <th>is</th>\n",
       "      <th>...</th>\n",
       "      <th>servant</th>\n",
       "      <th>speak</th>\n",
       "      <th>the</th>\n",
       "      <th>this</th>\n",
       "      <th>trusty</th>\n",
       "      <th>we</th>\n",
       "      <th>who</th>\n",
       "      <th>will</th>\n",
       "      <th>with</th>\n",
       "      <th>your</th>\n",
       "    </tr>\n",
       "  </thead>\n",
       "  <tbody>\n",
       "    <tr>\n",
       "      <th>0</th>\n",
       "      <td>1</td>\n",
       "      <td>1</td>\n",
       "      <td>1</td>\n",
       "      <td>0</td>\n",
       "      <td>0</td>\n",
       "      <td>0</td>\n",
       "      <td>0</td>\n",
       "      <td>0</td>\n",
       "      <td>0</td>\n",
       "      <td>1</td>\n",
       "      <td>...</td>\n",
       "      <td>1</td>\n",
       "      <td>0</td>\n",
       "      <td>0</td>\n",
       "      <td>1</td>\n",
       "      <td>1</td>\n",
       "      <td>0</td>\n",
       "      <td>0</td>\n",
       "      <td>0</td>\n",
       "      <td>0</td>\n",
       "      <td>0</td>\n",
       "    </tr>\n",
       "    <tr>\n",
       "      <th>1</th>\n",
       "      <td>0</td>\n",
       "      <td>1</td>\n",
       "      <td>0</td>\n",
       "      <td>1</td>\n",
       "      <td>1</td>\n",
       "      <td>1</td>\n",
       "      <td>1</td>\n",
       "      <td>1</td>\n",
       "      <td>2</td>\n",
       "      <td>0</td>\n",
       "      <td>...</td>\n",
       "      <td>0</td>\n",
       "      <td>0</td>\n",
       "      <td>2</td>\n",
       "      <td>0</td>\n",
       "      <td>0</td>\n",
       "      <td>1</td>\n",
       "      <td>1</td>\n",
       "      <td>1</td>\n",
       "      <td>0</td>\n",
       "      <td>0</td>\n",
       "    </tr>\n",
       "    <tr>\n",
       "      <th>2</th>\n",
       "      <td>0</td>\n",
       "      <td>1</td>\n",
       "      <td>0</td>\n",
       "      <td>0</td>\n",
       "      <td>0</td>\n",
       "      <td>0</td>\n",
       "      <td>0</td>\n",
       "      <td>0</td>\n",
       "      <td>0</td>\n",
       "      <td>0</td>\n",
       "      <td>...</td>\n",
       "      <td>0</td>\n",
       "      <td>1</td>\n",
       "      <td>0</td>\n",
       "      <td>0</td>\n",
       "      <td>0</td>\n",
       "      <td>0</td>\n",
       "      <td>0</td>\n",
       "      <td>0</td>\n",
       "      <td>1</td>\n",
       "      <td>1</td>\n",
       "    </tr>\n",
       "  </tbody>\n",
       "</table>\n",
       "<p>3 rows × 33 columns</p>\n",
       "</div>"
      ],
      "text/plain": [
       "   am  and  arthur  at  breadth  camelot  court  have  in  is  ...  servant  \\\n",
       "0   1    1       1   0        0        0      0     0   0   1  ...        1   \n",
       "1   0    1       0   1        1        1      1     1   2   0  ...        0   \n",
       "2   0    1       0   0        0        0      0     0   0   0  ...        0   \n",
       "\n",
       "   speak  the  this  trusty  we  who  will  with  your  \n",
       "0      0    0     1       1   0    0     0     0     0  \n",
       "1      0    2     0       0   1    1     1     0     0  \n",
       "2      1    0     0       0   0    0     0     1     1  \n",
       "\n",
       "[3 rows x 33 columns]"
      ]
     },
     "execution_count": 53,
     "metadata": {},
     "output_type": "execute_result"
    }
   ],
   "source": [
    "get_df(count_vectorizer, X)"
   ]
  },
  {
   "cell_type": "code",
   "execution_count": 54,
   "metadata": {
    "canvas": {
     "comments": [],
     "componentType": "CodeCell",
     "copiedOriginId": null,
     "diskcache": false,
     "headerColor": "none",
     "id": "0eb22117-bbe8-4293-8f75-65e71d2c8332",
     "isComponent": false,
     "name": "",
     "parents": []
    },
    "colab": {
     "base_uri": "https://localhost:8080/"
    },
    "id": "iqiAxMWJK4Gu",
    "outputId": "966eb37f-02ae-48bd-ede1-507ba23aa21d"
   },
   "outputs": [
    {
     "data": {
      "text/plain": [
       "['ARTHUR: I am, ...  and this is my trusty servant Patsy.',\n",
       " 'We have ridden the length and breadth of the land in search of knights who will join me in my court at Camelot.',\n",
       " 'I must speak with your lord and master.']"
      ]
     },
     "execution_count": 54,
     "metadata": {},
     "output_type": "execute_result"
    }
   ],
   "source": [
    "doc_list"
   ]
  },
  {
   "cell_type": "code",
   "execution_count": 55,
   "metadata": {
    "canvas": {
     "comments": [],
     "componentType": "CodeCell",
     "copiedOriginId": null,
     "diskcache": false,
     "headerColor": "none",
     "id": "e2050069-76a3-4ed0-81aa-28e2418e0710",
     "isComponent": false,
     "name": "",
     "parents": []
    },
    "colab": {
     "base_uri": "https://localhost:8080/"
    },
    "id": "i1fyzIudK4Vq",
    "outputId": "ad233772-efc5-4118-88d8-ec03b1b93245"
   },
   "outputs": [
    {
     "data": {
      "text/plain": [
       "['!',\n",
       " '\"',\n",
       " '#',\n",
       " '$',\n",
       " '%',\n",
       " '&',\n",
       " \"'\",\n",
       " '(',\n",
       " ')',\n",
       " '*',\n",
       " '+',\n",
       " ',',\n",
       " '-',\n",
       " '.',\n",
       " '/',\n",
       " ':',\n",
       " ';',\n",
       " '<',\n",
       " '=',\n",
       " '>',\n",
       " '?',\n",
       " '@',\n",
       " '[',\n",
       " '\\\\',\n",
       " ']',\n",
       " '^',\n",
       " '_',\n",
       " '`',\n",
       " 'a',\n",
       " 'about',\n",
       " 'above',\n",
       " 'after',\n",
       " 'again',\n",
       " 'against',\n",
       " 'ain',\n",
       " 'all',\n",
       " 'am',\n",
       " 'an',\n",
       " 'and',\n",
       " 'any',\n",
       " 'are',\n",
       " 'aren',\n",
       " \"aren't\",\n",
       " 'as',\n",
       " 'at',\n",
       " 'be',\n",
       " 'because',\n",
       " 'been',\n",
       " 'before',\n",
       " 'being',\n",
       " 'below',\n",
       " 'between',\n",
       " 'both',\n",
       " 'but',\n",
       " 'by',\n",
       " 'can',\n",
       " 'couldn',\n",
       " \"couldn't\",\n",
       " 'd',\n",
       " 'did',\n",
       " 'didn',\n",
       " \"didn't\",\n",
       " 'do',\n",
       " 'does',\n",
       " 'doesn',\n",
       " \"doesn't\",\n",
       " 'doing',\n",
       " 'don',\n",
       " \"don't\",\n",
       " 'down',\n",
       " 'during',\n",
       " 'each',\n",
       " 'few',\n",
       " 'for',\n",
       " 'from',\n",
       " 'further',\n",
       " 'had',\n",
       " 'hadn',\n",
       " \"hadn't\",\n",
       " 'has',\n",
       " 'hasn',\n",
       " \"hasn't\",\n",
       " 'have',\n",
       " 'haven',\n",
       " \"haven't\",\n",
       " 'having',\n",
       " 'he',\n",
       " 'her',\n",
       " 'here',\n",
       " 'hers',\n",
       " 'herself',\n",
       " 'him',\n",
       " 'himself',\n",
       " 'his',\n",
       " 'how',\n",
       " 'i',\n",
       " 'if',\n",
       " 'in',\n",
       " 'into',\n",
       " 'is',\n",
       " 'isn',\n",
       " \"isn't\",\n",
       " 'it',\n",
       " \"it's\",\n",
       " 'its',\n",
       " 'itself',\n",
       " 'just',\n",
       " 'll',\n",
       " 'm',\n",
       " 'ma',\n",
       " 'me',\n",
       " 'mightn',\n",
       " \"mightn't\",\n",
       " 'more',\n",
       " 'most',\n",
       " 'mustn',\n",
       " \"mustn't\",\n",
       " 'my',\n",
       " 'myself',\n",
       " 'needn',\n",
       " \"needn't\",\n",
       " 'no',\n",
       " 'nor',\n",
       " 'not',\n",
       " 'now',\n",
       " 'o',\n",
       " 'of',\n",
       " 'off',\n",
       " 'on',\n",
       " 'once',\n",
       " 'only',\n",
       " 'or',\n",
       " 'other',\n",
       " 'our',\n",
       " 'ours',\n",
       " 'ourselves',\n",
       " 'out',\n",
       " 'over',\n",
       " 'own',\n",
       " 're',\n",
       " 's',\n",
       " 'same',\n",
       " 'shan',\n",
       " \"shan't\",\n",
       " 'she',\n",
       " \"she's\",\n",
       " 'should',\n",
       " \"should've\",\n",
       " 'shouldn',\n",
       " \"shouldn't\",\n",
       " 'so',\n",
       " 'some',\n",
       " 'such',\n",
       " 't',\n",
       " 'than',\n",
       " 'that',\n",
       " \"that'll\",\n",
       " 'the',\n",
       " 'their',\n",
       " 'theirs',\n",
       " 'them',\n",
       " 'themselves',\n",
       " 'then',\n",
       " 'there',\n",
       " 'these',\n",
       " 'they',\n",
       " 'this',\n",
       " 'those',\n",
       " 'through',\n",
       " 'to',\n",
       " 'too',\n",
       " 'under',\n",
       " 'until',\n",
       " 'up',\n",
       " 've',\n",
       " 'very',\n",
       " 'was',\n",
       " 'wasn',\n",
       " \"wasn't\",\n",
       " 'we',\n",
       " 'were',\n",
       " 'weren',\n",
       " \"weren't\",\n",
       " 'what',\n",
       " 'when',\n",
       " 'where',\n",
       " 'which',\n",
       " 'while',\n",
       " 'who',\n",
       " 'whom',\n",
       " 'why',\n",
       " 'will',\n",
       " 'with',\n",
       " 'won',\n",
       " \"won't\",\n",
       " 'wouldn',\n",
       " \"wouldn't\",\n",
       " 'y',\n",
       " 'you',\n",
       " \"you'd\",\n",
       " \"you'll\",\n",
       " \"you're\",\n",
       " \"you've\",\n",
       " 'your',\n",
       " 'yours',\n",
       " 'yourself',\n",
       " 'yourselves',\n",
       " '{',\n",
       " '|',\n",
       " '}',\n",
       " '~']"
      ]
     },
     "execution_count": 55,
     "metadata": {},
     "output_type": "execute_result"
    }
   ],
   "source": [
    "sw = list(stopwords.words(\"english\"))\n",
    "sw.extend(list(punctuation))\n",
    "sorted(sw)"
   ]
  },
  {
   "cell_type": "code",
   "execution_count": 56,
   "metadata": {
    "canvas": {
     "comments": [],
     "componentType": "CodeCell",
     "copiedOriginId": null,
     "diskcache": false,
     "headerColor": "none",
     "id": "5adde889-710c-4f69-9fff-637aad010211",
     "isComponent": false,
     "name": "",
     "parents": []
    },
    "colab": {
     "base_uri": "https://localhost:8080/"
    },
    "id": "SWPLPBj8NSO9",
    "outputId": "36845abe-ece0-45ae-cc77-a32ba6aa31a6"
   },
   "outputs": [
    {
     "name": "stderr",
     "output_type": "stream",
     "text": [
      "/Users/zqldata/opt/anaconda3/lib/python3.9/site-packages/sklearn/feature_extraction/text.py:396: UserWarning: Your stop_words may be inconsistent with your preprocessing. Tokenizing the stop words generated tokens [\"'d\", \"'ll\", \"'re\", \"'s\", \"'ve\", '``', 'could', 'might', 'must', \"n't\", 'need', 'sha', 'wo', 'would'] not in stop_words.\n",
      "  warnings.warn(\n"
     ]
    }
   ],
   "source": [
    "count_vectorizer2 = CountVectorizer(stop_words=sw,\n",
    "                                  tokenizer=word_tokenize)\n",
    "\n",
    "X = count_vectorizer2.fit_transform(doc_list)"
   ]
  },
  {
   "cell_type": "code",
   "execution_count": 57,
   "metadata": {
    "canvas": {
     "comments": [],
     "componentType": "CodeCell",
     "copiedOriginId": null,
     "diskcache": false,
     "headerColor": "none",
     "id": "f35ed56e-54ef-4e58-85ba-9ad1f6df45f0",
     "isComponent": false,
     "name": "",
     "parents": []
    },
    "colab": {
     "base_uri": "https://localhost:8080/"
    },
    "id": "b-uno9mXOB1s",
    "outputId": "321ebf65-78c4-421e-85c0-fd3fb0fe5372"
   },
   "outputs": [
    {
     "data": {
      "text/plain": [
       "<3x18 sparse matrix of type '<class 'numpy.int64'>'\n",
       "\twith 18 stored elements in Compressed Sparse Row format>"
      ]
     },
     "execution_count": 57,
     "metadata": {},
     "output_type": "execute_result"
    }
   ],
   "source": [
    "X"
   ]
  },
  {
   "cell_type": "code",
   "execution_count": 58,
   "metadata": {
    "canvas": {
     "comments": [],
     "componentType": "CodeCell",
     "copiedOriginId": null,
     "diskcache": false,
     "headerColor": "none",
     "id": "0ae3bec2-f0d7-492c-aaf0-c5079a04ce2b",
     "isComponent": false,
     "name": "",
     "parents": []
    },
    "id": "dUzwCtdROCHY"
   },
   "outputs": [],
   "source": [
    "def get_df(vectorizer, X):\n",
    "    vocab = vectorizer.vocabulary_\n",
    "    vocab_sort = {k: v for k, v in sorted(vocab.items(), key=lambda item: item[1])}\n",
    "    return pd.DataFrame(X.toarray(), columns=vocab_sort.keys())"
   ]
  },
  {
   "cell_type": "code",
   "execution_count": 59,
   "metadata": {
    "canvas": {
     "comments": [],
     "componentType": "CodeCell",
     "copiedOriginId": null,
     "diskcache": false,
     "headerColor": "none",
     "id": "48da811d-aaf6-421b-9dd7-ec00ad706800",
     "isComponent": false,
     "name": "",
     "parents": []
    },
    "colab": {
     "base_uri": "https://localhost:8080/",
     "height": 239
    },
    "id": "B_9gardUOf_0",
    "outputId": "ce6439ee-1b4f-4616-afe3-10daac66b9e8"
   },
   "outputs": [
    {
     "data": {
      "text/html": [
       "<div>\n",
       "<style scoped>\n",
       "    .dataframe tbody tr th:only-of-type {\n",
       "        vertical-align: middle;\n",
       "    }\n",
       "\n",
       "    .dataframe tbody tr th {\n",
       "        vertical-align: top;\n",
       "    }\n",
       "\n",
       "    .dataframe thead th {\n",
       "        text-align: right;\n",
       "    }\n",
       "</style>\n",
       "<table border=\"1\" class=\"dataframe\">\n",
       "  <thead>\n",
       "    <tr style=\"text-align: right;\">\n",
       "      <th></th>\n",
       "      <th>...</th>\n",
       "      <th>arthur</th>\n",
       "      <th>breadth</th>\n",
       "      <th>camelot</th>\n",
       "      <th>court</th>\n",
       "      <th>join</th>\n",
       "      <th>knights</th>\n",
       "      <th>land</th>\n",
       "      <th>length</th>\n",
       "      <th>lord</th>\n",
       "      <th>master</th>\n",
       "      <th>must</th>\n",
       "      <th>patsy</th>\n",
       "      <th>ridden</th>\n",
       "      <th>search</th>\n",
       "      <th>servant</th>\n",
       "      <th>speak</th>\n",
       "      <th>trusty</th>\n",
       "    </tr>\n",
       "  </thead>\n",
       "  <tbody>\n",
       "    <tr>\n",
       "      <th>0</th>\n",
       "      <td>1</td>\n",
       "      <td>1</td>\n",
       "      <td>0</td>\n",
       "      <td>0</td>\n",
       "      <td>0</td>\n",
       "      <td>0</td>\n",
       "      <td>0</td>\n",
       "      <td>0</td>\n",
       "      <td>0</td>\n",
       "      <td>0</td>\n",
       "      <td>0</td>\n",
       "      <td>0</td>\n",
       "      <td>1</td>\n",
       "      <td>0</td>\n",
       "      <td>0</td>\n",
       "      <td>1</td>\n",
       "      <td>0</td>\n",
       "      <td>1</td>\n",
       "    </tr>\n",
       "    <tr>\n",
       "      <th>1</th>\n",
       "      <td>0</td>\n",
       "      <td>0</td>\n",
       "      <td>1</td>\n",
       "      <td>1</td>\n",
       "      <td>1</td>\n",
       "      <td>1</td>\n",
       "      <td>1</td>\n",
       "      <td>1</td>\n",
       "      <td>1</td>\n",
       "      <td>0</td>\n",
       "      <td>0</td>\n",
       "      <td>0</td>\n",
       "      <td>0</td>\n",
       "      <td>1</td>\n",
       "      <td>1</td>\n",
       "      <td>0</td>\n",
       "      <td>0</td>\n",
       "      <td>0</td>\n",
       "    </tr>\n",
       "    <tr>\n",
       "      <th>2</th>\n",
       "      <td>0</td>\n",
       "      <td>0</td>\n",
       "      <td>0</td>\n",
       "      <td>0</td>\n",
       "      <td>0</td>\n",
       "      <td>0</td>\n",
       "      <td>0</td>\n",
       "      <td>0</td>\n",
       "      <td>0</td>\n",
       "      <td>1</td>\n",
       "      <td>1</td>\n",
       "      <td>1</td>\n",
       "      <td>0</td>\n",
       "      <td>0</td>\n",
       "      <td>0</td>\n",
       "      <td>0</td>\n",
       "      <td>1</td>\n",
       "      <td>0</td>\n",
       "    </tr>\n",
       "  </tbody>\n",
       "</table>\n",
       "</div>"
      ],
      "text/plain": [
       "   ...  arthur  breadth  camelot  court  join  knights  land  length  lord  \\\n",
       "0    1       1        0        0      0     0        0     0       0     0   \n",
       "1    0       0        1        1      1     1        1     1       1     0   \n",
       "2    0       0        0        0      0     0        0     0       0     1   \n",
       "\n",
       "   master  must  patsy  ridden  search  servant  speak  trusty  \n",
       "0       0     0      1       0       0        1      0       1  \n",
       "1       0     0      0       1       1        0      0       0  \n",
       "2       1     1      0       0       0        0      1       0  "
      ]
     },
     "execution_count": 59,
     "metadata": {},
     "output_type": "execute_result"
    }
   ],
   "source": [
    "get_df(count_vectorizer2, X)"
   ]
  },
  {
   "cell_type": "code",
   "execution_count": 60,
   "metadata": {
    "canvas": {
     "comments": [],
     "componentType": "CodeCell",
     "copiedOriginId": null,
     "diskcache": false,
     "headerColor": "none",
     "id": "692b583a-0130-479c-8511-15d73eccc71e",
     "isComponent": false,
     "name": "",
     "parents": []
    },
    "id": "6sR24makOsf2"
   },
   "outputs": [],
   "source": [
    "def pos_tag_conv(pos: str) -> str:\n",
    "    conv_tag = {\n",
    "        'NN': 'n',\n",
    "        'VB': 'v',\n",
    "        'JJ': 'a',\n",
    "        'RB': 'r',\n",
    "    }\n",
    "    results = conv_tag.get(pos[:2])\n",
    "\n",
    "    if results:\n",
    "        return results\n",
    "    else: \n",
    "        return 'n'\n",
    "\n",
    "def lemmatize_sent_2(text: str):\n",
    "    return [wnl.lemmatize(x.lower(), pos=pos_tag_conv(tag)) for x, tag in pos_tag(word_tokenize(text))]\n",
    "\n",
    "\n",
    "def preprocess_text(text: str):\n",
    "    return [x for x in lemmatize_sent_2(text) \n",
    "                if x not in sw \n",
    "                 and not x.isdigit()]"
   ]
  },
  {
   "cell_type": "code",
   "execution_count": 61,
   "metadata": {
    "canvas": {
     "comments": [],
     "componentType": "CodeCell",
     "copiedOriginId": null,
     "diskcache": false,
     "headerColor": "none",
     "id": "26364787-28ec-444c-b197-6b7bbda11309",
     "isComponent": false,
     "name": "",
     "parents": []
    },
    "colab": {
     "base_uri": "https://localhost:8080/"
    },
    "id": "idy2ww4vRg4X",
    "outputId": "b5fc3e79-8fe7-4a1d-f0ae-abace778b37c"
   },
   "outputs": [
    {
     "data": {
      "text/plain": [
       "True"
      ]
     },
     "execution_count": 61,
     "metadata": {},
     "output_type": "execute_result"
    }
   ],
   "source": [
    "\"4\".isdigit()"
   ]
  },
  {
   "cell_type": "code",
   "execution_count": 62,
   "metadata": {
    "canvas": {
     "comments": [],
     "componentType": "CodeCell",
     "copiedOriginId": null,
     "diskcache": false,
     "headerColor": "none",
     "id": "42b0517c-a81a-427a-91ba-26f919b48942",
     "isComponent": false,
     "name": "",
     "parents": []
    },
    "colab": {
     "base_uri": "https://localhost:8080/"
    },
    "id": "dQ_47E3bPwPl",
    "outputId": "64d41fc0-3525-42a8-b692-3c8c223d9000"
   },
   "outputs": [
    {
     "data": {
      "text/plain": [
       "['arthur', '...', 'trusty', 'servant', 'patsy']"
      ]
     },
     "execution_count": 62,
     "metadata": {},
     "output_type": "execute_result"
    }
   ],
   "source": [
    "preprocess_text(doc_list[0])"
   ]
  },
  {
   "cell_type": "code",
   "execution_count": 63,
   "metadata": {
    "canvas": {
     "comments": [],
     "componentType": "CodeCell",
     "copiedOriginId": null,
     "diskcache": false,
     "headerColor": "none",
     "id": "8296a94f-cccf-42e8-ab70-16c6bd83496b",
     "isComponent": false,
     "name": "",
     "parents": []
    },
    "id": "kURYNTynQ8FK"
   },
   "outputs": [],
   "source": [
    "count_vec = CountVectorizer(analyzer=preprocess_text)\n",
    "X = count_vec.fit_transform(doc_list)"
   ]
  },
  {
   "cell_type": "code",
   "execution_count": 64,
   "metadata": {
    "canvas": {
     "comments": [],
     "componentType": "CodeCell",
     "copiedOriginId": null,
     "diskcache": false,
     "headerColor": "none",
     "id": "02cd0647-2fb6-42b2-b211-3b98c3486ac5",
     "isComponent": false,
     "name": "",
     "parents": []
    },
    "colab": {
     "base_uri": "https://localhost:8080/",
     "height": 239
    },
    "id": "5AA2119mRILt",
    "outputId": "0e500d18-e967-4b30-be62-d90ce8e918ea"
   },
   "outputs": [
    {
     "data": {
      "text/html": [
       "<div>\n",
       "<style scoped>\n",
       "    .dataframe tbody tr th:only-of-type {\n",
       "        vertical-align: middle;\n",
       "    }\n",
       "\n",
       "    .dataframe tbody tr th {\n",
       "        vertical-align: top;\n",
       "    }\n",
       "\n",
       "    .dataframe thead th {\n",
       "        text-align: right;\n",
       "    }\n",
       "</style>\n",
       "<table border=\"1\" class=\"dataframe\">\n",
       "  <thead>\n",
       "    <tr style=\"text-align: right;\">\n",
       "      <th></th>\n",
       "      <th>...</th>\n",
       "      <th>arthur</th>\n",
       "      <th>breadth</th>\n",
       "      <th>camelot</th>\n",
       "      <th>court</th>\n",
       "      <th>join</th>\n",
       "      <th>knight</th>\n",
       "      <th>land</th>\n",
       "      <th>length</th>\n",
       "      <th>lord</th>\n",
       "      <th>master</th>\n",
       "      <th>must</th>\n",
       "      <th>patsy</th>\n",
       "      <th>ride</th>\n",
       "      <th>search</th>\n",
       "      <th>servant</th>\n",
       "      <th>speak</th>\n",
       "      <th>trusty</th>\n",
       "    </tr>\n",
       "  </thead>\n",
       "  <tbody>\n",
       "    <tr>\n",
       "      <th>0</th>\n",
       "      <td>1</td>\n",
       "      <td>1</td>\n",
       "      <td>0</td>\n",
       "      <td>0</td>\n",
       "      <td>0</td>\n",
       "      <td>0</td>\n",
       "      <td>0</td>\n",
       "      <td>0</td>\n",
       "      <td>0</td>\n",
       "      <td>0</td>\n",
       "      <td>0</td>\n",
       "      <td>0</td>\n",
       "      <td>1</td>\n",
       "      <td>0</td>\n",
       "      <td>0</td>\n",
       "      <td>1</td>\n",
       "      <td>0</td>\n",
       "      <td>1</td>\n",
       "    </tr>\n",
       "    <tr>\n",
       "      <th>1</th>\n",
       "      <td>0</td>\n",
       "      <td>0</td>\n",
       "      <td>1</td>\n",
       "      <td>1</td>\n",
       "      <td>1</td>\n",
       "      <td>1</td>\n",
       "      <td>1</td>\n",
       "      <td>1</td>\n",
       "      <td>1</td>\n",
       "      <td>0</td>\n",
       "      <td>0</td>\n",
       "      <td>0</td>\n",
       "      <td>0</td>\n",
       "      <td>1</td>\n",
       "      <td>1</td>\n",
       "      <td>0</td>\n",
       "      <td>0</td>\n",
       "      <td>0</td>\n",
       "    </tr>\n",
       "    <tr>\n",
       "      <th>2</th>\n",
       "      <td>0</td>\n",
       "      <td>0</td>\n",
       "      <td>0</td>\n",
       "      <td>0</td>\n",
       "      <td>0</td>\n",
       "      <td>0</td>\n",
       "      <td>0</td>\n",
       "      <td>0</td>\n",
       "      <td>0</td>\n",
       "      <td>1</td>\n",
       "      <td>1</td>\n",
       "      <td>1</td>\n",
       "      <td>0</td>\n",
       "      <td>0</td>\n",
       "      <td>0</td>\n",
       "      <td>0</td>\n",
       "      <td>1</td>\n",
       "      <td>0</td>\n",
       "    </tr>\n",
       "  </tbody>\n",
       "</table>\n",
       "</div>"
      ],
      "text/plain": [
       "   ...  arthur  breadth  camelot  court  join  knight  land  length  lord  \\\n",
       "0    1       1        0        0      0     0       0     0       0     0   \n",
       "1    0       0        1        1      1     1       1     1       1     0   \n",
       "2    0       0        0        0      0     0       0     0       0     1   \n",
       "\n",
       "   master  must  patsy  ride  search  servant  speak  trusty  \n",
       "0       0     0      1     0       0        1      0       1  \n",
       "1       0     0      0     1       1        0      0       0  \n",
       "2       1     1      0     0       0        0      1       0  "
      ]
     },
     "execution_count": 64,
     "metadata": {},
     "output_type": "execute_result"
    }
   ],
   "source": [
    "get_df(count_vec, X)"
   ]
  },
  {
   "cell_type": "markdown",
   "metadata": {
    "canvas": {
     "comments": [],
     "componentType": "CodeCell",
     "copiedOriginId": null,
     "diskcache": false,
     "headerColor": "none",
     "id": "b3978e09-9a82-4a71-a37a-547d7991b820",
     "isComponent": false,
     "name": "",
     "parents": []
    },
    "id": "NmOAFWYCSwkC"
   },
   "source": [
    "# Classification"
   ]
  },
  {
   "cell_type": "code",
   "execution_count": 65,
   "metadata": {
    "canvas": {
     "comments": [],
     "componentType": "CodeCell",
     "copiedOriginId": null,
     "diskcache": false,
     "headerColor": "none",
     "id": "65f55e67-2a5f-4549-8cac-ed494001fe6f",
     "isComponent": false,
     "name": "",
     "parents": []
    },
    "id": "XioHJPZnSwTx"
   },
   "outputs": [],
   "source": [
    "path = \"https://raw.githubusercontent.com/Kamil128/Training_DS_NLP/main/train.json\""
   ]
  },
  {
   "cell_type": "code",
   "execution_count": 66,
   "metadata": {
    "canvas": {
     "comments": [],
     "componentType": "CodeCell",
     "copiedOriginId": null,
     "diskcache": false,
     "headerColor": "none",
     "id": "ad362bca-7974-416f-af9f-3aa95601df6d",
     "isComponent": false,
     "name": "",
     "parents": []
    },
    "colab": {
     "base_uri": "https://localhost:8080/",
     "height": 206
    },
    "id": "dVraw0LiS1ow",
    "outputId": "7ca43fb4-74d3-4385-d91d-d42ca6c01704"
   },
   "outputs": [
    {
     "data": {
      "text/html": [
       "<div>\n",
       "<style scoped>\n",
       "    .dataframe tbody tr th:only-of-type {\n",
       "        vertical-align: middle;\n",
       "    }\n",
       "\n",
       "    .dataframe tbody tr th {\n",
       "        vertical-align: top;\n",
       "    }\n",
       "\n",
       "    .dataframe thead th {\n",
       "        text-align: right;\n",
       "    }\n",
       "</style>\n",
       "<table border=\"1\" class=\"dataframe\">\n",
       "  <thead>\n",
       "    <tr style=\"text-align: right;\">\n",
       "      <th></th>\n",
       "      <th>request_text_edit_aware</th>\n",
       "      <th>requester_received_pizza</th>\n",
       "    </tr>\n",
       "  </thead>\n",
       "  <tbody>\n",
       "    <tr>\n",
       "      <th>0</th>\n",
       "      <td>Hi I am in need of food for my 4 children we a...</td>\n",
       "      <td>False</td>\n",
       "    </tr>\n",
       "    <tr>\n",
       "      <th>1</th>\n",
       "      <td>I spent the last money I had on gas today. Im ...</td>\n",
       "      <td>False</td>\n",
       "    </tr>\n",
       "    <tr>\n",
       "      <th>2</th>\n",
       "      <td>My girlfriend decided it would be a good idea ...</td>\n",
       "      <td>False</td>\n",
       "    </tr>\n",
       "    <tr>\n",
       "      <th>3</th>\n",
       "      <td>It's cold, I'n hungry, and to be completely ho...</td>\n",
       "      <td>False</td>\n",
       "    </tr>\n",
       "    <tr>\n",
       "      <th>4</th>\n",
       "      <td>hey guys:\\n I love this sub. I think it's grea...</td>\n",
       "      <td>False</td>\n",
       "    </tr>\n",
       "  </tbody>\n",
       "</table>\n",
       "</div>"
      ],
      "text/plain": [
       "                             request_text_edit_aware  requester_received_pizza\n",
       "0  Hi I am in need of food for my 4 children we a...                     False\n",
       "1  I spent the last money I had on gas today. Im ...                     False\n",
       "2  My girlfriend decided it would be a good idea ...                     False\n",
       "3  It's cold, I'n hungry, and to be completely ho...                     False\n",
       "4  hey guys:\\n I love this sub. I think it's grea...                     False"
      ]
     },
     "execution_count": 66,
     "metadata": {},
     "output_type": "execute_result"
    }
   ],
   "source": [
    "df = pd.read_json(path)[['request_text_edit_aware', 'requester_received_pizza']]\n",
    "df.head()"
   ]
  },
  {
   "cell_type": "code",
   "execution_count": 67,
   "metadata": {
    "canvas": {
     "comments": [],
     "componentType": "CodeCell",
     "copiedOriginId": null,
     "diskcache": false,
     "headerColor": "none",
     "id": "df1edbda-9619-4859-abed-53dc99358618",
     "isComponent": false,
     "name": "",
     "parents": []
    },
    "id": "3wzyq27SS875"
   },
   "outputs": [],
   "source": [
    "X = df['request_text_edit_aware']\n",
    "y = df['requester_received_pizza']"
   ]
  },
  {
   "cell_type": "code",
   "execution_count": 68,
   "metadata": {
    "canvas": {
     "comments": [],
     "componentType": "CodeCell",
     "copiedOriginId": null,
     "diskcache": false,
     "headerColor": "none",
     "id": "51335776-6022-4376-b85c-98636a1094e7",
     "isComponent": false,
     "name": "",
     "parents": []
    },
    "id": "vzUO26LhTWv4"
   },
   "outputs": [],
   "source": [
    "X_train, X_test, y_train, y_test = train_test_split(X,\n",
    "                                                    y,\n",
    "                                                    test_size=1/3,\n",
    "                                                    random_state=42,\n",
    "                                                    stratify=y)"
   ]
  },
  {
   "cell_type": "code",
   "execution_count": 69,
   "metadata": {
    "canvas": {
     "comments": [],
     "componentType": "CodeCell",
     "copiedOriginId": null,
     "diskcache": false,
     "headerColor": "none",
     "id": "182f0319-aabe-480c-ac41-5cf951af65d9",
     "isComponent": false,
     "name": "",
     "parents": []
    },
    "colab": {
     "base_uri": "https://localhost:8080/"
    },
    "id": "PUl9eNn1VBis",
    "outputId": "fbc69ca4-9100-4026-f1d3-eb75bbf6d1cf"
   },
   "outputs": [
    {
     "data": {
      "text/plain": [
       "False    75.380616\n",
       "True     24.619384\n",
       "Name: requester_received_pizza, dtype: float64"
      ]
     },
     "execution_count": 69,
     "metadata": {},
     "output_type": "execute_result"
    }
   ],
   "source": [
    "y_train.value_counts() / len(y_train) * 100"
   ]
  },
  {
   "cell_type": "code",
   "execution_count": 70,
   "metadata": {
    "canvas": {
     "comments": [],
     "componentType": "CodeCell",
     "copiedOriginId": null,
     "diskcache": false,
     "headerColor": "none",
     "id": "01cb28c4-6989-4283-b809-890bba6eafb7",
     "isComponent": false,
     "name": "",
     "parents": []
    },
    "id": "XmaOAoneVDXr"
   },
   "outputs": [],
   "source": [
    "# count_vec = CountVectorizer(analyzer=preprocess_text)\n",
    "# X_train_vec = count_vec.fit_transform(X_train)\n",
    "\n",
    "tfidf_vec = TfidfVectorizer(#analyzer=preprocess_text, \n",
    "                            max_features=5_000, \n",
    "                            ngram_range=(2, 2))\n",
    "X_train_vec = tfidf_vec.fit_transform(X_train)"
   ]
  },
  {
   "cell_type": "code",
   "execution_count": 71,
   "metadata": {
    "canvas": {
     "comments": [],
     "componentType": "CodeCell",
     "copiedOriginId": null,
     "diskcache": false,
     "headerColor": "none",
     "id": "82c37bfc-b534-48c5-866e-db33767ca1e1",
     "isComponent": false,
     "name": "",
     "parents": []
    },
    "colab": {
     "base_uri": "https://localhost:8080/"
    },
    "id": "IlizLHhEWz-o",
    "outputId": "c9c1fb4e-ca9e-4133-ea52-a4b9f4d60a3d"
   },
   "outputs": [
    {
     "data": {
      "text/plain": [
       "<2693x5000 sparse matrix of type '<class 'numpy.float64'>'\n",
       "\twith 87790 stored elements in Compressed Sparse Row format>"
      ]
     },
     "execution_count": 71,
     "metadata": {},
     "output_type": "execute_result"
    }
   ],
   "source": [
    "X_train_vec"
   ]
  },
  {
   "cell_type": "code",
   "execution_count": 72,
   "metadata": {
    "canvas": {
     "comments": [],
     "componentType": "CodeCell",
     "copiedOriginId": null,
     "diskcache": false,
     "headerColor": "none",
     "id": "aa520f5c-3abc-4d3b-b070-b39b25e6470b",
     "isComponent": false,
     "name": "",
     "parents": []
    },
    "colab": {
     "base_uri": "https://localhost:8080/"
    },
    "id": "fiuJei5IVi3F",
    "outputId": "b4af16c8-115d-4c57-918f-d49f6dc1c9df"
   },
   "outputs": [
    {
     "data": {
      "text/plain": [
       "{'hey reddit': 1756,\n",
       " 'me and': 2403,\n",
       " 'and my': 242,\n",
       " 'my friends': 2643,\n",
       " 'friends are': 1401,\n",
       " 'are all': 401,\n",
       " 'we re': 4682,\n",
       " 're all': 3453,\n",
       " 'with nothing': 4842,\n",
       " 'nothing but': 2868,\n",
       " 'for my': 1315,\n",
       " 'in the': 1939,\n",
       " 'the house': 4042,\n",
       " 'we could': 4664,\n",
       " 'could really': 971,\n",
       " 'really use': 3509,\n",
       " 'use pizza': 4574,\n",
       " 'pizza we': 3357,\n",
       " 'we spent': 4684,\n",
       " 'spent all': 3816,\n",
       " 'all our': 71,\n",
       " 'our money': 3133,\n",
       " 'money on': 2505,\n",
       " 'you know': 4969,\n",
       " 'know how': 2208,\n",
       " 'how it': 1818,\n",
       " 'it is': 2057,\n",
       " 'with our': 4844,\n",
       " 'our situation': 3139,\n",
       " 'pizza and': 3295,\n",
       " 'and hopefully': 209,\n",
       " 'life and': 2265,\n",
       " 'and how': 212,\n",
       " 'you re': 4979,\n",
       " 'it just': 2059,\n",
       " 'just so': 2176,\n",
       " 'know that': 2214,\n",
       " 'that there': 3967,\n",
       " 'there are': 4148,\n",
       " 'in life': 1916,\n",
       " 'live in': 2298,\n",
       " 'in canada': 1888,\n",
       " 'so hoping': 3707,\n",
       " 'hoping that': 1801,\n",
       " 'that not': 3960,\n",
       " 'home alone': 1784,\n",
       " 'off of': 2989,\n",
       " 'both of': 692,\n",
       " 'of my': 2941,\n",
       " 'didn want': 1040,\n",
       " 'want to': 4624,\n",
       " 'to eat': 4332,\n",
       " 'for dinner': 1284,\n",
       " 'me to': 2455,\n",
       " 'to this': 4428,\n",
       " 'this http': 4211,\n",
       " 'and that': 290,\n",
       " 'that was': 3972,\n",
       " 've been': 4584,\n",
       " 'this site': 4231,\n",
       " 'don even': 1080,\n",
       " 'tried to': 4495,\n",
       " 'to make': 4367,\n",
       " 'an account': 123,\n",
       " 'doing this': 1076,\n",
       " 'this right': 4229,\n",
       " 'for one': 1322,\n",
       " 'one can': 3058,\n",
       " 'share with': 3623,\n",
       " 'with my': 4839,\n",
       " 'just need': 2169,\n",
       " 'need something': 2747,\n",
       " 'here is': 1741,\n",
       " 'is there': 2014,\n",
       " 'in general': 1907,\n",
       " 'it really': 2082,\n",
       " 'no sad': 2822,\n",
       " 'sad story': 3574,\n",
       " 'story just': 3847,\n",
       " 'just looking': 2163,\n",
       " 'looking for': 2345,\n",
       " 'just got': 2155,\n",
       " 'got job': 1528,\n",
       " 'yesterday but': 4946,\n",
       " 'wont have': 4869,\n",
       " 'have money': 1626,\n",
       " 'money for': 2497,\n",
       " 'for the': 1339,\n",
       " 'the next': 4070,\n",
       " 'next weeks': 2788,\n",
       " 'for food': 1289,\n",
       " 'thank you': 3914,\n",
       " 'you so': 4981,\n",
       " 'so much': 3722,\n",
       " 'much in': 2577,\n",
       " 'in advance': 1877,\n",
       " 'advance for': 36,\n",
       " 'for anyone': 1270,\n",
       " 'anyone who': 368,\n",
       " 'the family': 4020,\n",
       " 'family of': 1181,\n",
       " 'her and': 1723,\n",
       " 'and her': 205,\n",
       " 'sister and': 3672,\n",
       " 'and me': 236,\n",
       " 'out of': 3162,\n",
       " 'at my': 489,\n",
       " 'my grandmother': 2651,\n",
       " 'for me': 1308,\n",
       " 'on my': 3027,\n",
       " 'my way': 2722,\n",
       " 'way to': 4656,\n",
       " 'to visit': 4437,\n",
       " 'my parents': 2684,\n",
       " 'my mom': 2673,\n",
       " 'year old': 4939,\n",
       " 'the little': 4053,\n",
       " 'to our': 4379,\n",
       " 'she was': 3636,\n",
       " 'did not': 1033,\n",
       " 'because my': 603,\n",
       " 'my fiancé': 2636,\n",
       " 'is at': 1970,\n",
       " 'at work': 495,\n",
       " 'work in': 4876,\n",
       " 'looking at': 2344,\n",
       " 'don feel': 1081,\n",
       " 'feel like': 1196,\n",
       " 'like cooking': 2273,\n",
       " 'would greatly': 4914,\n",
       " 'greatly appreciate': 1549,\n",
       " 'appreciate pizza': 393,\n",
       " 'pizza thank': 3346,\n",
       " 'broke college': 711,\n",
       " 'college student': 933,\n",
       " 'would really': 4927,\n",
       " 'really appreciate': 3481,\n",
       " 'pizza ll': 3325,\n",
       " 'll pay': 2322,\n",
       " 'pay it': 3238,\n",
       " 'it forward': 2047,\n",
       " 'forward when': 1377,\n",
       " 'when can': 4750,\n",
       " 'hey guys': 1753,\n",
       " 'guys just': 1559,\n",
       " 'just found': 2152,\n",
       " 'found this': 1381,\n",
       " 'this website': 4239,\n",
       " 'my sister': 2704,\n",
       " 'and are': 144,\n",
       " 'are trying': 434,\n",
       " 'not to': 2863,\n",
       " 'to ask': 4306,\n",
       " 'parents for': 3214,\n",
       " 'for money': 1310,\n",
       " 'we usually': 4685,\n",
       " 'we have': 4674,\n",
       " 'have no': 1632,\n",
       " 'no money': 2816,\n",
       " 'money until': 2513,\n",
       " 'where we': 4771,\n",
       " 'we are': 4659,\n",
       " 'but right': 777,\n",
       " 'right now': 3561,\n",
       " 'now we': 2899,\n",
       " 'are so': 428,\n",
       " 'so hungry': 3709,\n",
       " 'hungry if': 1830,\n",
       " 'if we': 1869,\n",
       " 'we got': 4672,\n",
       " 'got pizza': 1538,\n",
       " 'pizza it': 3321,\n",
       " 'it would': 2109,\n",
       " 'as we': 468,\n",
       " 'we get': 4670,\n",
       " 'when we': 4764,\n",
       " 're hungry': 3458,\n",
       " 'hungry we': 1833,\n",
       " 'we all': 4657,\n",
       " 'all know': 66,\n",
       " 'know the': 2215,\n",
       " 'please help': 3378,\n",
       " 'help us': 1714,\n",
       " 'us we': 4570,\n",
       " 'we will': 4688,\n",
       " 'will definitely': 4801,\n",
       " 'repay the': 3543,\n",
       " 'the favour': 4022,\n",
       " 'on sunday': 3037,\n",
       " 'pizza all': 3293,\n",
       " 'been eating': 616,\n",
       " 'eating ramen': 1129,\n",
       " 'ramen for': 3442,\n",
       " 'for few': 1287,\n",
       " 'few days': 1201,\n",
       " 'days now': 1014,\n",
       " 'now my': 2891,\n",
       " 'my mother': 2675,\n",
       " 'to give': 4345,\n",
       " 'give me': 1475,\n",
       " 'food but': 1241,\n",
       " 'but can': 737,\n",
       " 'can afford': 829,\n",
       " 'the gas': 4031,\n",
       " 'gas to': 1423,\n",
       " 'to drive': 4331,\n",
       " 'out to': 3174,\n",
       " 'to her': 4351,\n",
       " 'her house': 1725,\n",
       " 'until get': 4524,\n",
       " 'get my': 1441,\n",
       " 'my next': 2678,\n",
       " 'next paycheck': 2781,\n",
       " 'paycheck on': 3252,\n",
       " 'on friday': 3016,\n",
       " 'if anyone': 1844,\n",
       " 'anyone wants': 367,\n",
       " 'wants to': 4627,\n",
       " 'to help': 4350,\n",
       " 'help me': 1701,\n",
       " 'me get': 2416,\n",
       " 'get pizza': 1448,\n",
       " 'pizza can': 3303,\n",
       " 'can either': 838,\n",
       " 'the favor': 4021,\n",
       " 'or pay': 3099,\n",
       " 'been struggling': 641,\n",
       " 'since got': 3658,\n",
       " 'got out': 1536,\n",
       " 'of school': 2957,\n",
       " 'school and': 3591,\n",
       " 'and so': 278,\n",
       " 'so long': 3719,\n",
       " 'long story': 2337,\n",
       " 'story short': 3850,\n",
       " 'don get': 1082,\n",
       " 'get to': 1456,\n",
       " 'it be': 2035,\n",
       " 'much appreciated': 2571,\n",
       " 'appreciated if': 397,\n",
       " 'if someone': 1863,\n",
       " 'someone could': 3776,\n",
       " 'could help': 968,\n",
       " 'me out': 2441,\n",
       " 'out with': 3180,\n",
       " 'with pizza': 4846,\n",
       " 'pizza tonight': 3355,\n",
       " 'day at': 994,\n",
       " 'at the': 493,\n",
       " 'the office': 4072,\n",
       " 'and be': 146,\n",
       " 'be willing': 591,\n",
       " 'willing to': 4822,\n",
       " 'to do': 4327,\n",
       " 'do some': 1060,\n",
       " 'work for': 4874,\n",
       " 'for you': 1358,\n",
       " 'you to': 4985,\n",
       " 'to show': 4406,\n",
       " 'show my': 3648,\n",
       " 'most likely': 2546,\n",
       " 'kind of': 2201,\n",
       " 'you need': 4974,\n",
       " 've never': 4594,\n",
       " 'before but': 655,\n",
       " 'but thought': 787,\n",
       " 'thought give': 4249,\n",
       " 'give it': 1474,\n",
       " 'it shot': 2086,\n",
       " 've had': 4590,\n",
       " 'trying to': 4501,\n",
       " 'to cook': 4323,\n",
       " 'cook and': 956,\n",
       " 'and in': 216,\n",
       " 'the end': 4013,\n",
       " 'eat it': 1117,\n",
       " 'proof http': 3420,\n",
       " 'http imgur': 1824,\n",
       " 'imgur com': 1875,\n",
       " 'pizza from': 3312,\n",
       " 'sounds amazing': 3809,\n",
       " 'now but': 2878,\n",
       " 'but won': 800,\n",
       " 'won be': 4863,\n",
       " 'll even': 2314,\n",
       " 'pick up': 3285,\n",
       " 'up at': 4540,\n",
       " 'the store': 4104,\n",
       " 'to save': 4399,\n",
       " 'on the': 3039,\n",
       " 'thanks in': 3923,\n",
       " 'today and': 4447,\n",
       " 'and don': 170,\n",
       " 'don really': 1089,\n",
       " 'really have': 3494,\n",
       " 'have any': 1599,\n",
       " 'any cash': 336,\n",
       " 'just moved': 2168,\n",
       " 'moved to': 2562,\n",
       " 'couple of': 978,\n",
       " 'of months': 2939,\n",
       " 'months ago': 2530,\n",
       " 'ago and': 50,\n",
       " 'none of': 2827,\n",
       " 'my family': 2629,\n",
       " 'and want': 310,\n",
       " 'make my': 2379,\n",
       " 'my birthday': 2599,\n",
       " 'in my': 1922,\n",
       " 'time and': 4275,\n",
       " 'and would': 330,\n",
       " 'would love': 4921,\n",
       " 'love to': 2364,\n",
       " 'to share': 4405,\n",
       " 'them with': 4140,\n",
       " 'with someone': 4849,\n",
       " 'do not': 1058,\n",
       " 'so there': 3735,\n",
       " 'and the': 291,\n",
       " 'the best': 3990,\n",
       " 'is that': 2012,\n",
       " 'that will': 3979,\n",
       " 'not that': 2860,\n",
       " 'thanks for': 3920,\n",
       " 'for your': 1359,\n",
       " 'your help': 4995,\n",
       " 'help edit': 1688,\n",
       " 'edit forgot': 1131,\n",
       " 'forgot to': 1362,\n",
       " 'to mention': 4370,\n",
       " 'mention that': 2477,\n",
       " 'them in': 4136,\n",
       " 'in your': 1953,\n",
       " 'if you': 1870,\n",
       " 'you want': 4987,\n",
       " 'food stamps': 1258,\n",
       " 'are now': 421,\n",
       " 'due to': 1106,\n",
       " 'that is': 3952,\n",
       " 'she had': 3631,\n",
       " 'had my': 1570,\n",
       " 'as of': 458,\n",
       " 'friday and': 1384,\n",
       " 'and still': 283,\n",
       " 'still hasn': 3836,\n",
       " 'have been': 1601,\n",
       " 'been living': 627,\n",
       " 'living off': 2305,\n",
       " 'our pantry': 3136,\n",
       " 'pantry and': 3209,\n",
       " 'for weeks': 1352,\n",
       " 'last night': 2234,\n",
       " 'night we': 2802,\n",
       " 'our last': 3131,\n",
       " 'the food': 4024,\n",
       " 'till monday': 4271,\n",
       " 'will be': 4799,\n",
       " 'as well': 469,\n",
       " 'well as': 4724,\n",
       " 'money to': 2512,\n",
       " 'to buy': 4317,\n",
       " 'buy food': 805,\n",
       " 'food for': 1243,\n",
       " 'until then': 4531,\n",
       " 'us pizza': 4565,\n",
       " 'tomorrow for': 4464,\n",
       " 'for months': 1312,\n",
       " 'time to': 4289,\n",
       " 'to get': 4343,\n",
       " 'my life': 2666,\n",
       " 'and for': 182,\n",
       " 'for all': 1265,\n",
       " 'redditor would': 3535,\n",
       " 'would be': 4903,\n",
       " 'be great': 563,\n",
       " 'no real': 2821,\n",
       " 'just broke': 2145,\n",
       " 'broke until': 720,\n",
       " 'until friday': 4523,\n",
       " 'with little': 4836,\n",
       " 'left in': 2252,\n",
       " 'the cupboards': 4007,\n",
       " 'house and': 1812,\n",
       " 'here to': 1748,\n",
       " 'hoping someone': 1800,\n",
       " 'will help': 4808,\n",
       " 'help fellow': 1689,\n",
       " 'fellow redditor': 1199,\n",
       " 'redditor out': 3534,\n",
       " 'out and': 3146,\n",
       " 'to pay': 4381,\n",
       " 'some pizza': 3765,\n",
       " 'all the': 75,\n",
       " 'of the': 2962,\n",
       " 'hope this': 1796,\n",
       " 'this is': 4213,\n",
       " 'can say': 862,\n",
       " 'is just': 1987,\n",
       " 'short of': 3642,\n",
       " 'of money': 2938,\n",
       " 'money right': 2507,\n",
       " 'now can': 2879,\n",
       " 'can tell': 869,\n",
       " 'tell you': 3905,\n",
       " 'you how': 4965,\n",
       " 'how much': 1819,\n",
       " 'pizza would': 3362,\n",
       " 'would cheer': 4905,\n",
       " 'cheer me': 918,\n",
       " 'me up': 2458,\n",
       " 'appreciated thanks': 399,\n",
       " 'for looking': 1306,\n",
       " 'it pretty': 2081,\n",
       " 'pretty much': 3408,\n",
       " 'much just': 2579,\n",
       " 'just like': 2162,\n",
       " 'like the': 2282,\n",
       " 'the title': 4112,\n",
       " 'title says': 4296,\n",
       " 'my cousin': 2613,\n",
       " 'and will': 322,\n",
       " 'will write': 4821,\n",
       " 'too much': 4486,\n",
       " 'much but': 2573,\n",
       " 'but we': 795,\n",
       " 'will try': 4819,\n",
       " 'her to': 1729,\n",
       " 'to draw': 4330,\n",
       " 'draw picture': 1104,\n",
       " 'to go': 4346,\n",
       " 'go with': 1505,\n",
       " 'with the': 4852,\n",
       " 'the story': 4105,\n",
       " 'up the': 4552,\n",
       " 'up in': 4545,\n",
       " 'over to': 3187,\n",
       " 'to the': 4424,\n",
       " 'the bank': 3988,\n",
       " 'my cat': 2606,\n",
       " 'for week': 1351,\n",
       " 'week and': 4693,\n",
       " 'and half': 195,\n",
       " 'half of': 1577,\n",
       " 'so that': 3733,\n",
       " 'that he': 3948,\n",
       " 'he has': 1668,\n",
       " 'to stay': 4414,\n",
       " 'to find': 4339,\n",
       " 'find job': 1219,\n",
       " 'spent the': 3817,\n",
       " 'the last': 4050,\n",
       " 'last of': 2235,\n",
       " 'my unemployment': 2718,\n",
       " 'down to': 1102,\n",
       " 'use some': 4575,\n",
       " 'some comfort': 3751,\n",
       " 'comfort food': 948,\n",
       " 'food right': 1256,\n",
       " 'right about': 3557,\n",
       " 'about now': 9,\n",
       " 'now with': 2901,\n",
       " 'of having': 2924,\n",
       " 'something for': 3793,\n",
       " 'for breakfast': 1276,\n",
       " 'the morning': 4063,\n",
       " 'more than': 2543,\n",
       " 'when get': 4752,\n",
       " 'get back': 1428,\n",
       " 'back on': 519,\n",
       " 'my feet': 2633,\n",
       " 'last week': 2240,\n",
       " 'http www': 1825,\n",
       " 'www reddit': 4933,\n",
       " 'reddit com': 3526,\n",
       " 'com random_acts_of_pizza': 935,\n",
       " 'random_acts_of_pizza comments': 3450,\n",
       " 'got my': 1532,\n",
       " 'my new': 2677,\n",
       " 'credit card': 983,\n",
       " 'card and': 891,\n",
       " 'running out': 3573,\n",
       " 'of food': 2918,\n",
       " 'food it': 1248,\n",
       " 'through my': 4257,\n",
       " 'my work': 2726,\n",
       " 'work so': 4881,\n",
       " 'so can': 3692,\n",
       " 'my funds': 2645,\n",
       " 'any help': 339,\n",
       " 'help would': 1718,\n",
       " 'be appreciated': 543,\n",
       " 'appreciated and': 396,\n",
       " 'and of': 250,\n",
       " 'of course': 2915,\n",
       " 'be paid': 580,\n",
       " 'paid forward': 3197,\n",
       " 'forward in': 1368,\n",
       " 'the future': 4030,\n",
       " 'you the': 4983,\n",
       " 'the world': 4127,\n",
       " 'hey raop': 1755,\n",
       " 'from work': 1414,\n",
       " 'for about': 1264,\n",
       " 'about two': 14,\n",
       " 'two weeks': 4511,\n",
       " 'weeks now': 4720,\n",
       " 'and just': 220,\n",
       " 'my savings': 2700,\n",
       " 'to it': 4356,\n",
       " 'some kind': 3757,\n",
       " 'can send': 864,\n",
       " 'send pizza': 3616,\n",
       " 'pizza my': 3330,\n",
       " 'and have': 199,\n",
       " 'have made': 1625,\n",
       " 'plan on': 3370,\n",
       " 'this account': 4195,\n",
       " 'as the': 466,\n",
       " 'the name': 4066,\n",
       " 'name is': 2737,\n",
       " 'the past': 4079,\n",
       " 'have just': 1620,\n",
       " 'just finished': 2150,\n",
       " 'all my': 67,\n",
       " 'my money': 2674,\n",
       " 'the week': 4123,\n",
       " 'on tuesday': 3047,\n",
       " 'tuesday and': 4502,\n",
       " 'and do': 168,\n",
       " 'not get': 2842,\n",
       " 'get any': 1426,\n",
       " 'any money': 343,\n",
       " 'part time': 3219,\n",
       " 'all have': 61,\n",
       " 'have left': 1621,\n",
       " 'left to': 2257,\n",
       " 'cans of': 881,\n",
       " 'of tuna': 2973,\n",
       " 'to sell': 4403,\n",
       " 'dont have': 1095,\n",
       " 'have anything': 1600,\n",
       " 'anything else': 375,\n",
       " 'else to': 1139,\n",
       " 'food would': 1263,\n",
       " 'to send': 4404,\n",
       " 'me know': 2428,\n",
       " 'random acts': 3448,\n",
       " 'acts of': 35,\n",
       " 'of pizza': 2950,\n",
       " 'pizza but': 3302,\n",
       " 'wouldn mind': 4931,\n",
       " 'even if': 1157,\n",
       " 'if it': 1852,\n",
       " 'it was': 2102,\n",
       " 'pizza in': 3318,\n",
       " 'would not': 4924,\n",
       " 'food is': 1247,\n",
       " 'is not': 1995,\n",
       " 'lost my': 2353,\n",
       " 'my job': 2662,\n",
       " 'weeks ago': 4716,\n",
       " 'because of': 604,\n",
       " 'of that': 2961,\n",
       " 'my apartment': 2592,\n",
       " 'now im': 2885,\n",
       " 'living in': 2304,\n",
       " 'my car': 2603,\n",
       " 'car and': 884,\n",
       " 'and its': 219,\n",
       " 'parking lot': 3216,\n",
       " 'have run': 1640,\n",
       " 'run out': 3570,\n",
       " 'ive been': 2113,\n",
       " 'living on': 2306,\n",
       " 'on ramen': 3032,\n",
       " 'days but': 1010,\n",
       " 'but im': 753,\n",
       " 'no way': 2824,\n",
       " 'way of': 4655,\n",
       " 'need some': 2746,\n",
       " 'some help': 3756,\n",
       " 'help thank': 1707,\n",
       " 'you and': 4952,\n",
       " 'and god': 191,\n",
       " 'god bless': 1506,\n",
       " 'have not': 1633,\n",
       " 'not one': 2852,\n",
       " 'my house': 2658,\n",
       " 'get paid': 1447,\n",
       " 'this week': 4240,\n",
       " 'and pretty': 261,\n",
       " 'someone would': 3791,\n",
       " 'help out': 1703,\n",
       " 'out it': 3158,\n",
       " 'really make': 3502,\n",
       " 'my day': 2618,\n",
       " 'for any': 1269,\n",
       " 'done this': 1093,\n",
       " 'this before': 4199,\n",
       " 'haven eaten': 1653,\n",
       " 'eaten anything': 1126,\n",
       " 'anything since': 381,\n",
       " 'friday have': 1386,\n",
       " 'no food': 2809,\n",
       " 'food in': 1246,\n",
       " 'in and': 1880,\n",
       " 'and no': 246,\n",
       " 'buy any': 803,\n",
       " 'feels like': 1198,\n",
       " 'like helping': 2274,\n",
       " 'brother out': 725,\n",
       " 'be much': 575,\n",
       " 'return the': 3552,\n",
       " 'student loans': 3866,\n",
       " 'come in': 942,\n",
       " 'in couple': 1895,\n",
       " 'of weeks': 2976,\n",
       " 'grateful for': 1543,\n",
       " 'for what': 1353,\n",
       " 'what do': 4736,\n",
       " 'do have': 1054,\n",
       " 'anyone is': 362,\n",
       " 'is kind': 1989,\n",
       " 'kind enough': 2200,\n",
       " 'enough to': 1153,\n",
       " 'out would': 3181,\n",
       " 'would appreciate': 4902,\n",
       " 'appreciate it': 392,\n",
       " 'it am': 2030,\n",
       " 'and live': 225,\n",
       " 'for not': 1320,\n",
       " 'not really': 2856,\n",
       " 'part of': 3218,\n",
       " 'the reddit': 4090,\n",
       " 'reddit community': 3527,\n",
       " 'please don': 3376,\n",
       " 'here the': 1747,\n",
       " 'the deal': 4009,\n",
       " 'have little': 1623,\n",
       " 'little over': 2292,\n",
       " 'my bank': 2595,\n",
       " 'bank account': 532,\n",
       " 'the apartment': 3985,\n",
       " 'and it': 218,\n",
       " 'it so': 2087,\n",
       " 'out that': 3170,\n",
       " 'that the': 3966,\n",
       " 'is pretty': 2005,\n",
       " 'last few': 2231,\n",
       " 'few months': 1203,\n",
       " 'not so': 2857,\n",
       " 'and take': 287,\n",
       " 'whatever you': 4748,\n",
       " 'medium pizza': 2475,\n",
       " 'over the': 3186,\n",
       " 'the fact': 4018,\n",
       " 'fact that': 1174,\n",
       " 'that you': 3981,\n",
       " 'can get': 841,\n",
       " 'on that': 3038,\n",
       " 'or just': 3092,\n",
       " 'just the': 2180,\n",
       " 'as can': 447,\n",
       " 'promise to': 3418,\n",
       " 'one of': 3067,\n",
       " 'of those': 2968,\n",
       " 'these things': 4161,\n",
       " 'to be': 4308,\n",
       " 'be able': 539,\n",
       " 'able to': 0,\n",
       " 'to put': 4390,\n",
       " 'me or': 2440,\n",
       " 'we can': 4663,\n",
       " 'can work': 878,\n",
       " 'it out': 2078,\n",
       " 'out just': 3159,\n",
       " 'just about': 2141,\n",
       " 'about the': 11,\n",
       " 'the only': 4074,\n",
       " 'only thing': 3082,\n",
       " 'was the': 4646,\n",
       " 'the one': 4073,\n",
       " 'one who': 3071,\n",
       " 'are getting': 411,\n",
       " 'out on': 3163,\n",
       " 'on their': 3040,\n",
       " 'order pizza': 3110,\n",
       " 'pizza for': 3310,\n",
       " 'to not': 4375,\n",
       " 'not only': 2853,\n",
       " 'but will': 798,\n",
       " 'will also': 4798,\n",
       " 'said pizza': 3577,\n",
       " 'game of': 1420,\n",
       " 'of your': 2982,\n",
       " 'your choice': 4991,\n",
       " 'have it': 1618,\n",
       " 'it in': 2056,\n",
       " 'can provide': 858,\n",
       " 'proof of': 3422,\n",
       " 'if needed': 1855,\n",
       " 'will gladly': 4806,\n",
       " 'thanks raop': 3924,\n",
       " 'the weekend': 4124,\n",
       " 'weekend and': 4715,\n",
       " 'running low': 3572,\n",
       " 'give them': 1479,\n",
       " 'tonight with': 4481,\n",
       " 'have dominos': 1605,\n",
       " 'dominos and': 1078,\n",
       " 'and pizza': 260,\n",
       " 'pizza hut': 3316,\n",
       " 'our home': 3129,\n",
       " 'the hospital': 4041,\n",
       " 'and am': 141,\n",
       " 'starving and': 3823,\n",
       " 'been waiting': 650,\n",
       " 'waiting for': 4614,\n",
       " 'for hours': 1297,\n",
       " 'love some': 2362,\n",
       " 'pizza is': 3320,\n",
       " 'would totally': 4929,\n",
       " 'myself pizza': 2733,\n",
       " 'but that': 781,\n",
       " 'unfortunately don': 4519,\n",
       " 'don have': 1083,\n",
       " 'have the': 1645,\n",
       " 'is my': 1992,\n",
       " 'my location': 2669,\n",
       " 'that in': 3951,\n",
       " 'the side': 4099,\n",
       " 'my first': 2639,\n",
       " 'first time': 1232,\n",
       " 'time posting': 4287,\n",
       " 'posting here': 3401,\n",
       " 'after long': 44,\n",
       " 'long shot': 2336,\n",
       " 'paid on': 3203,\n",
       " 'it the': 2093,\n",
       " 'the first': 4023,\n",
       " 'first week': 1233,\n",
       " 'week of': 4704,\n",
       " 'the month': 4062,\n",
       " 'month and': 2516,\n",
       " 'and all': 139,\n",
       " 'anyone can': 355,\n",
       " 'can help': 845,\n",
       " 'help that': 1709,\n",
       " 'that would': 3980,\n",
       " 'be awesome': 544,\n",
       " 'edit live': 1133,\n",
       " 're not': 3462,\n",
       " 'not going': 2844,\n",
       " 'going to': 1511,\n",
       " 'make up': 2387,\n",
       " 'sob story': 3749,\n",
       " 'are both': 404,\n",
       " 'both are': 691,\n",
       " 'full time': 1416,\n",
       " 'and going': 192,\n",
       " 'to college': 4321,\n",
       " 'and thought': 297,\n",
       " 'thought it': 4250,\n",
       " 'be fun': 557,\n",
       " 'give this': 1480,\n",
       " 'we would': 4690,\n",
       " 'be more': 574,\n",
       " 'than happy': 3910,\n",
       " 'happy to': 1581,\n",
       " 'really need': 3503,\n",
       " 'cheering up': 919,\n",
       " 'up and': 4539,\n",
       " 'and nothing': 248,\n",
       " 'would do': 4907,\n",
       " 'do that': 1063,\n",
       " 'like pizza': 2277,\n",
       " 'pizza pie': 3336,\n",
       " 'realize that': 3478,\n",
       " 'that this': 3969,\n",
       " 'this post': 4227,\n",
       " 'but want': 793,\n",
       " 'make it': 2377,\n",
       " 'that am': 3929,\n",
       " 'am not': 106,\n",
       " 'not trying': 2865,\n",
       " 'story here': 3845,\n",
       " 'here but': 1737,\n",
       " 'but also': 732,\n",
       " 'be honest': 570,\n",
       " 'am happy': 100,\n",
       " 'pizza or': 3335,\n",
       " 'or not': 3098,\n",
       " 'with that': 4851,\n",
       " 'the way': 4122,\n",
       " 'sort of': 3808,\n",
       " 'of what': 2977,\n",
       " 'parents are': 3213,\n",
       " 'are broke': 405,\n",
       " 'broke so': 717,\n",
       " 'working for': 4890,\n",
       " 'for at': 1272,\n",
       " 'at amp': 479,\n",
       " 'hours week': 1811,\n",
       " 'well in': 4726,\n",
       " 'in college': 1893,\n",
       " 'to move': 4371,\n",
       " 'move to': 2556,\n",
       " 'for year': 1356,\n",
       " 'there was': 4157,\n",
       " 'college and': 929,\n",
       " 'and moving': 241,\n",
       " 'moving to': 2567,\n",
       " 'was really': 4642,\n",
       " 'really hard': 3493,\n",
       " 'hard to': 1584,\n",
       " 'to fill': 4338,\n",
       " 'so we': 3743,\n",
       " 'are pretty': 426,\n",
       " 'pretty broke': 3405,\n",
       " 'few weeks': 1205,\n",
       " 'applying for': 390,\n",
       " 'in town': 1946,\n",
       " 'get the': 1451,\n",
       " 'the idea': 4043,\n",
       " 'my gf': 2647,\n",
       " 'gf and': 1464,\n",
       " 'all day': 58,\n",
       " 'day and': 993,\n",
       " 'back to': 522,\n",
       " 'to bed': 4309,\n",
       " 'exhausted and': 1170,\n",
       " 'and broke': 152,\n",
       " 'in days': 1896,\n",
       " 'days and': 1008,\n",
       " 'still have': 3837,\n",
       " 'much to': 2587,\n",
       " 'that it': 3953,\n",
       " 'the pizza': 4083,\n",
       " 'ask for': 473,\n",
       " 'for some': 1333,\n",
       " 'and one': 252,\n",
       " 'chance to': 910,\n",
       " 'eat some': 1120,\n",
       " 'pizza before': 3301,\n",
       " 'before we': 660,\n",
       " 'into the': 1960,\n",
       " 'thing to': 4180,\n",
       " 'to have': 4349,\n",
       " 'have to': 1647,\n",
       " 'to figure': 4337,\n",
       " 'figure out': 1208,\n",
       " 'out tonight': 3176,\n",
       " 'tonight as': 4475,\n",
       " 'about this': 12,\n",
       " 'this sub': 4233,\n",
       " 'sub reddit': 3877,\n",
       " 'reddit but': 3525,\n",
       " 'but never': 764,\n",
       " 'that if': 3950,\n",
       " 'but at': 735,\n",
       " 'the moment': 4060,\n",
       " 'it seems': 2085,\n",
       " 'put me': 3432,\n",
       " 'me in': 2423,\n",
       " 'is really': 2006,\n",
       " 'subreddit and': 3878,\n",
       " 'the stress': 4107,\n",
       " 'for listening': 1303,\n",
       " 'and can': 155,\n",
       " 'can wait': 876,\n",
       " 'wait until': 4613,\n",
       " 'am in': 103,\n",
       " 'in position': 1930,\n",
       " 'position to': 3392,\n",
       " 'be the': 587,\n",
       " 'read the': 3466,\n",
       " 'site and': 3673,\n",
       " 'love pizza': 2361,\n",
       " 'my last': 2665,\n",
       " 'two days': 4506,\n",
       " 'days ago': 1007,\n",
       " 'off my': 2988,\n",
       " 'my father': 2630,\n",
       " 'just recently': 2175,\n",
       " 'man with': 2392,\n",
       " 'job at': 2116,\n",
       " 'because he': 601,\n",
       " 'he got': 1666,\n",
       " 'got fired': 1523,\n",
       " 'mom is': 2486,\n",
       " 'and work': 327,\n",
       " 'work at': 4872,\n",
       " 'have my': 1629,\n",
       " 'my own': 2683,\n",
       " 'the same': 4095,\n",
       " 'yesterday my': 4947,\n",
       " 'my paycheck': 2687,\n",
       " 'me for': 2414,\n",
       " 'would absolutely': 4899,\n",
       " 'my check': 2607,\n",
       " 'leaves me': 2248,\n",
       " 'me without': 2463,\n",
       " 'money in': 2502,\n",
       " 'large pizza': 2226,\n",
       " 'pizza to': 3352,\n",
       " 'while we': 4783,\n",
       " 'but now': 768,\n",
       " 'my friend': 2642,\n",
       " 'to my': 4372,\n",
       " 'so now': 3727,\n",
       " 'random act': 3447,\n",
       " 'act of': 34,\n",
       " 'to us': 4434,\n",
       " 'this isn': 4214,\n",
       " 'so please': 3729,\n",
       " 'you don': 4959,\n",
       " 'don want': 1091,\n",
       " 'give us': 1483,\n",
       " 'pizza have': 3313,\n",
       " 'tl dr': 4297,\n",
       " 'wasn able': 4651,\n",
       " 'or pizza': 3100,\n",
       " 'pizza so': 3343,\n",
       " 'asking for': 477,\n",
       " 'for random': 1328,\n",
       " 'my wallet': 2721,\n",
       " 'unable to': 4514,\n",
       " 'from the': 1411,\n",
       " 'because they': 609,\n",
       " 'they are': 4162,\n",
       " 'located in': 2330,\n",
       " 'in another': 1881,\n",
       " 'hours away': 1809,\n",
       " 'my hometown': 2656,\n",
       " 'to wait': 4438,\n",
       " 'wait for': 4612,\n",
       " 'for new': 1317,\n",
       " 'debit card': 1020,\n",
       " 'card to': 893,\n",
       " 'to come': 4322,\n",
       " 'the mail': 4056,\n",
       " 'should be': 3646,\n",
       " 'but in': 754,\n",
       " 'the meantime': 4058,\n",
       " 'hot pizza': 1805,\n",
       " 'can only': 852,\n",
       " 'only eat': 3074,\n",
       " 'forward once': 1371,\n",
       " 'once get': 3053,\n",
       " 'my card': 2604,\n",
       " 'can someone': 865,\n",
       " 'someone help': 3779,\n",
       " 'out please': 3164,\n",
       " 'and need': 244,\n",
       " 'need to': 2749,\n",
       " 'for bit': 1275,\n",
       " 'would help': 4917,\n",
       " 'help with': 1717,\n",
       " 'with this': 4854,\n",
       " 'hi my': 1762,\n",
       " 'told me': 4461,\n",
       " 'me about': 2400,\n",
       " 'received pizza': 3515,\n",
       " 'for her': 1294,\n",
       " 'when they': 4761,\n",
       " 'they were': 4176,\n",
       " 'in need': 1923,\n",
       " 'be completely': 547,\n",
       " 'it all': 2028,\n",
       " 'took me': 4487,\n",
       " 'much for': 2575,\n",
       " 'for myself': 1316,\n",
       " 'myself and': 2728,\n",
       " 'and had': 194,\n",
       " 'had to': 1576,\n",
       " 'been out': 633,\n",
       " 'of work': 2979,\n",
       " 'ever since': 1160,\n",
       " 'work and': 4870,\n",
       " 'job for': 2118,\n",
       " 'me but': 2407,\n",
       " 'but still': 780,\n",
       " 'have good': 1613,\n",
       " 'before can': 656,\n",
       " 'can return': 861,\n",
       " 'return to': 3553,\n",
       " 'to work': 4441,\n",
       " 'was my': 4638,\n",
       " 'in this': 1942,\n",
       " 'this place': 4225,\n",
       " 'place and': 3364,\n",
       " 'am completely': 95,\n",
       " 'flat broke': 1235,\n",
       " 'work if': 4875,\n",
       " 'buy it': 807,\n",
       " 'it myself': 2071,\n",
       " 'myself but': 2729,\n",
       " 'but he': 749,\n",
       " 'he lives': 1671,\n",
       " 'lives in': 2303,\n",
       " ...}"
      ]
     },
     "execution_count": 72,
     "metadata": {},
     "output_type": "execute_result"
    }
   ],
   "source": [
    "tfidf_vec.vocabulary_"
   ]
  },
  {
   "cell_type": "code",
   "execution_count": 73,
   "metadata": {
    "canvas": {
     "comments": [],
     "componentType": "CodeCell",
     "copiedOriginId": null,
     "diskcache": false,
     "headerColor": "none",
     "id": "345f3e61-3432-476b-bc89-90aeeed58eef",
     "isComponent": false,
     "name": "",
     "parents": []
    },
    "colab": {
     "base_uri": "https://localhost:8080/"
    },
    "id": "Y25On3xQVmeI",
    "outputId": "962874ec-7e6c-4d5d-a7a5-a20356f40555"
   },
   "outputs": [
    {
     "data": {
      "text/plain": [
       "MultinomialNB()"
      ]
     },
     "execution_count": 73,
     "metadata": {},
     "output_type": "execute_result"
    }
   ],
   "source": [
    "clf = MultinomialNB()\n",
    "clf.fit(X_train_vec, y_train)"
   ]
  },
  {
   "cell_type": "code",
   "execution_count": 74,
   "metadata": {
    "canvas": {
     "comments": [],
     "componentType": "CodeCell",
     "copiedOriginId": null,
     "diskcache": false,
     "headerColor": "none",
     "id": "9ff982a3-6744-4f77-91c7-11d99f8a3a2a",
     "isComponent": false,
     "name": "",
     "parents": []
    },
    "id": "Uc5_H_m-W6AO"
   },
   "outputs": [],
   "source": [
    "X_test_tr = tfidf_vec.transform(X_test)"
   ]
  },
  {
   "cell_type": "code",
   "execution_count": 75,
   "metadata": {
    "canvas": {
     "comments": [],
     "componentType": "CodeCell",
     "copiedOriginId": null,
     "diskcache": false,
     "headerColor": "none",
     "id": "049469ec-7a9c-47a9-b02c-10fcb8005151",
     "isComponent": false,
     "name": "",
     "parents": []
    },
    "id": "befbu2Z1XEN4"
   },
   "outputs": [],
   "source": [
    "y_pred = clf.predict(X_test_tr)"
   ]
  },
  {
   "cell_type": "code",
   "execution_count": 76,
   "metadata": {
    "canvas": {
     "comments": [],
     "componentType": "CodeCell",
     "copiedOriginId": null,
     "diskcache": false,
     "headerColor": "none",
     "id": "ac9745ca-d22d-4c45-bfd1-4d0a493724d9",
     "isComponent": false,
     "name": "",
     "parents": []
    },
    "colab": {
     "base_uri": "https://localhost:8080/"
    },
    "id": "_N5Cf6yDXDWF",
    "outputId": "564c1da7-7aea-4fa8-f62d-abc286b42ab1"
   },
   "outputs": [
    {
     "name": "stdout",
     "output_type": "stream",
     "text": [
      "              precision    recall  f1-score   support\n",
      "\n",
      "       False       1.00      0.75      0.86      1347\n",
      "        True       0.00      0.00      0.00         0\n",
      "\n",
      "    accuracy                           0.75      1347\n",
      "   macro avg       0.50      0.38      0.43      1347\n",
      "weighted avg       1.00      0.75      0.86      1347\n",
      "\n"
     ]
    },
    {
     "name": "stderr",
     "output_type": "stream",
     "text": [
      "/Users/zqldata/opt/anaconda3/lib/python3.9/site-packages/sklearn/metrics/_classification.py:1318: UndefinedMetricWarning: Recall and F-score are ill-defined and being set to 0.0 in labels with no true samples. Use `zero_division` parameter to control this behavior.\n",
      "  _warn_prf(average, modifier, msg_start, len(result))\n",
      "/Users/zqldata/opt/anaconda3/lib/python3.9/site-packages/sklearn/metrics/_classification.py:1318: UndefinedMetricWarning: Recall and F-score are ill-defined and being set to 0.0 in labels with no true samples. Use `zero_division` parameter to control this behavior.\n",
      "  _warn_prf(average, modifier, msg_start, len(result))\n",
      "/Users/zqldata/opt/anaconda3/lib/python3.9/site-packages/sklearn/metrics/_classification.py:1318: UndefinedMetricWarning: Recall and F-score are ill-defined and being set to 0.0 in labels with no true samples. Use `zero_division` parameter to control this behavior.\n",
      "  _warn_prf(average, modifier, msg_start, len(result))\n"
     ]
    }
   ],
   "source": [
    "print(classification_report(y_pred, y_test))"
   ]
  }
 ],
 "metadata": {
  "canvas": {
   "colorPalette": [
    "inherit",
    "inherit",
    "inherit",
    "inherit",
    "inherit",
    "inherit",
    "inherit",
    "inherit",
    "inherit",
    "inherit"
   ],
   "parameters": [],
   "version": "1.0"
  },
  "colab": {
   "provenance": []
  },
  "kernelspec": {
   "display_name": "Python 3 (ipykernel)",
   "language": "python",
   "name": "python3"
  },
  "language_info": {
   "codemirror_mode": {
    "name": "ipython",
    "version": 3
   },
   "file_extension": ".py",
   "mimetype": "text/x-python",
   "name": "python",
   "nbconvert_exporter": "python",
   "pygments_lexer": "ipython3",
   "version": "3.9.13"
  }
 },
 "nbformat": 4,
 "nbformat_minor": 4
}
