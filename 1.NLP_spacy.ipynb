{
 "cells": [
  {
   "cell_type": "code",
   "execution_count": 1,
   "metadata": {
    "canvas": {
     "comments": [],
     "componentType": "CodeCell",
     "copiedOriginId": null,
     "diskcache": false,
     "headerColor": "none",
     "id": "4800b3c2-187c-46d3-bfeb-f150b7ec1a83",
     "isComponent": false,
     "name": "",
     "parents": []
    },
    "colab": {
     "base_uri": "https://localhost:8080/"
    },
    "id": "1HaXLRklzNyH",
    "outputId": "dc8c1753-b1c1-4486-bcdf-4d13cbd7dd42"
   },
   "outputs": [
    {
     "name": "stderr",
     "output_type": "stream",
     "text": [
      "2023-05-12 03:06:37.167466: I tensorflow/core/platform/cpu_feature_guard.cc:193] This TensorFlow binary is optimized with oneAPI Deep Neural Network Library (oneDNN) to use the following CPU instructions in performance-critical operations:  SSE4.1 SSE4.2 AVX AVX2 FMA\n",
      "To enable them in other operations, rebuild TensorFlow with the appropriate compiler flags.\n"
     ]
    }
   ],
   "source": [
    "import pandas as pd\n",
    "import matplotlib.pyplot as plt\n",
    "import seaborn as sns\n",
    "import spacy\n",
    "import re\n",
    "from wordcloud import WordCloud\n",
    "from spacy.lang.en.stop_words import STOP_WORDS\n",
    "from spacy.matcher import Matcher\n",
    "from textacy.spacier import utils as spacy_utils\n",
    "import warnings\n",
    "warnings.filterwarnings('ignore')"
   ]
  },
  {
   "cell_type": "code",
   "execution_count": 2,
   "metadata": {
    "canvas": {
     "comments": [],
     "componentType": "CodeCell",
     "copiedOriginId": null,
     "diskcache": false,
     "headerColor": "none",
     "id": "51b47bdf-95be-42bc-9b46-2c9fef2c6950",
     "isComponent": false,
     "name": "",
     "parents": []
    },
    "colab": {
     "base_uri": "https://localhost:8080/"
    },
    "id": "tGLShBwbwvJS",
    "outputId": "167ccb5d-c7ff-46b6-ffed-3bd9d6af005a",
    "tags": []
   },
   "outputs": [],
   "source": [
    "#!pip install textacy\n",
    "#!python -m spacy download en_core_web_lg"
   ]
  },
  {
   "cell_type": "code",
   "execution_count": 3,
   "metadata": {
    "canvas": {
     "comments": [],
     "componentType": "CodeCell",
     "copiedOriginId": null,
     "diskcache": false,
     "headerColor": "none",
     "id": "4b633e1d-4373-48e8-8a40-6475aa04e7b6",
     "isComponent": false,
     "name": "",
     "parents": []
    },
    "colab": {
     "base_uri": "https://localhost:8080/",
     "height": 35
    },
    "id": "oaog6-ry0KFx",
    "outputId": "ba6f2528-cd34-4e55-907c-1b5d89cbe181"
   },
   "outputs": [
    {
     "data": {
      "text/plain": [
       "'3.4.4'"
      ]
     },
     "execution_count": 3,
     "metadata": {},
     "output_type": "execute_result"
    }
   ],
   "source": [
    "spacy.__version__"
   ]
  },
  {
   "cell_type": "code",
   "execution_count": 4,
   "metadata": {
    "canvas": {
     "comments": [],
     "componentType": "CodeCell",
     "copiedOriginId": null,
     "diskcache": false,
     "headerColor": "none",
     "id": "265f2528-4896-4969-859d-198c1c5905d4",
     "isComponent": false,
     "name": "",
     "parents": []
    },
    "colab": {
     "base_uri": "https://localhost:8080/"
    },
    "id": "9Cxmwa0_0L5D",
    "outputId": "7df4f48b-8b62-4244-f993-4c2ab6b634e4"
   },
   "outputs": [],
   "source": [
    "path = \"https://raw.githubusercontent.com/Kamil128/Training_DS_NLP/main/all_djt_tweets.csv\"\n",
    "tweets = pd.read_csv(path)"
   ]
  },
  {
   "cell_type": "code",
   "execution_count": 5,
   "metadata": {
    "canvas": {
     "comments": [],
     "componentType": "CodeCell",
     "copiedOriginId": null,
     "diskcache": false,
     "headerColor": "none",
     "id": "36609eb0-9404-439a-aeea-6216e37feb84",
     "isComponent": false,
     "name": "",
     "parents": []
    },
    "colab": {
     "base_uri": "https://localhost:8080/",
     "height": 354
    },
    "id": "1R-XEfrV0kmL",
    "outputId": "39ed5f4f-1b93-4038-d7cf-9bf409cd6d7b"
   },
   "outputs": [
    {
     "data": {
      "text/html": [
       "<div>\n",
       "<style scoped>\n",
       "    .dataframe tbody tr th:only-of-type {\n",
       "        vertical-align: middle;\n",
       "    }\n",
       "\n",
       "    .dataframe tbody tr th {\n",
       "        vertical-align: top;\n",
       "    }\n",
       "\n",
       "    .dataframe thead th {\n",
       "        text-align: right;\n",
       "    }\n",
       "</style>\n",
       "<table border=\"1\" class=\"dataframe\">\n",
       "  <thead>\n",
       "    <tr style=\"text-align: right;\">\n",
       "      <th></th>\n",
       "      <th>Unnamed: 0</th>\n",
       "      <th>source</th>\n",
       "      <th>text</th>\n",
       "      <th>created_at</th>\n",
       "      <th>retweet_count</th>\n",
       "      <th>favorite_count</th>\n",
       "      <th>is_retweet</th>\n",
       "      <th>id_str</th>\n",
       "    </tr>\n",
       "  </thead>\n",
       "  <tbody>\n",
       "    <tr>\n",
       "      <th>0</th>\n",
       "      <td>0</td>\n",
       "      <td>Twitter for iPhone</td>\n",
       "      <td>Over 90% approval rating for your all time fav...</td>\n",
       "      <td>Mon Aug 27 00:39:38 +0000 2018</td>\n",
       "      <td>27040</td>\n",
       "      <td>106838.0</td>\n",
       "      <td>False</td>\n",
       "      <td>1.033877e+18</td>\n",
       "    </tr>\n",
       "    <tr>\n",
       "      <th>1</th>\n",
       "      <td>1</td>\n",
       "      <td>Twitter for iPhone</td>\n",
       "      <td>“Mainstream Media tries to rewrite history to ...</td>\n",
       "      <td>Sun Aug 26 22:01:33 +0000 2018</td>\n",
       "      <td>21346</td>\n",
       "      <td>76682.0</td>\n",
       "      <td>False</td>\n",
       "      <td>1.033837e+18</td>\n",
       "    </tr>\n",
       "    <tr>\n",
       "      <th>2</th>\n",
       "      <td>2</td>\n",
       "      <td>Twitter for iPhone</td>\n",
       "      <td>Fantastic numbers on consumer spending release...</td>\n",
       "      <td>Sun Aug 26 14:31:06 +0000 2018</td>\n",
       "      <td>18960</td>\n",
       "      <td>87334.0</td>\n",
       "      <td>False</td>\n",
       "      <td>1.033724e+18</td>\n",
       "    </tr>\n",
       "    <tr>\n",
       "      <th>3</th>\n",
       "      <td>3</td>\n",
       "      <td>Twitter for iPhone</td>\n",
       "      <td>...And it will get, as I have always said, muc...</td>\n",
       "      <td>Sun Aug 26 14:27:16 +0000 2018</td>\n",
       "      <td>14963</td>\n",
       "      <td>62956.0</td>\n",
       "      <td>False</td>\n",
       "      <td>1.033723e+18</td>\n",
       "    </tr>\n",
       "    <tr>\n",
       "      <th>4</th>\n",
       "      <td>4</td>\n",
       "      <td>Twitter for iPhone</td>\n",
       "      <td>RT @realDonaldTrump: Social Media Giants are s...</td>\n",
       "      <td>Sun Aug 26 14:25:47 +0000 2018</td>\n",
       "      <td>50142</td>\n",
       "      <td>0.0</td>\n",
       "      <td>True</td>\n",
       "      <td>1.033722e+18</td>\n",
       "    </tr>\n",
       "  </tbody>\n",
       "</table>\n",
       "</div>"
      ],
      "text/plain": [
       "  Unnamed: 0              source  \\\n",
       "0          0  Twitter for iPhone   \n",
       "1          1  Twitter for iPhone   \n",
       "2          2  Twitter for iPhone   \n",
       "3          3  Twitter for iPhone   \n",
       "4          4  Twitter for iPhone   \n",
       "\n",
       "                                                text  \\\n",
       "0  Over 90% approval rating for your all time fav...   \n",
       "1  “Mainstream Media tries to rewrite history to ...   \n",
       "2  Fantastic numbers on consumer spending release...   \n",
       "3  ...And it will get, as I have always said, muc...   \n",
       "4  RT @realDonaldTrump: Social Media Giants are s...   \n",
       "\n",
       "                       created_at retweet_count  favorite_count is_retweet  \\\n",
       "0  Mon Aug 27 00:39:38 +0000 2018         27040        106838.0      False   \n",
       "1  Sun Aug 26 22:01:33 +0000 2018         21346         76682.0      False   \n",
       "2  Sun Aug 26 14:31:06 +0000 2018         18960         87334.0      False   \n",
       "3  Sun Aug 26 14:27:16 +0000 2018         14963         62956.0      False   \n",
       "4  Sun Aug 26 14:25:47 +0000 2018         50142             0.0       True   \n",
       "\n",
       "         id_str  \n",
       "0  1.033877e+18  \n",
       "1  1.033837e+18  \n",
       "2  1.033724e+18  \n",
       "3  1.033723e+18  \n",
       "4  1.033722e+18  "
      ]
     },
     "execution_count": 5,
     "metadata": {},
     "output_type": "execute_result"
    }
   ],
   "source": [
    "tweets.head()"
   ]
  },
  {
   "cell_type": "code",
   "execution_count": 6,
   "metadata": {
    "canvas": {
     "comments": [],
     "componentType": "CodeCell",
     "copiedOriginId": null,
     "diskcache": false,
     "headerColor": "none",
     "id": "98204336-4de3-40ab-9b91-11066938c949",
     "isComponent": false,
     "name": "",
     "parents": []
    },
    "colab": {
     "base_uri": "https://localhost:8080/"
    },
    "id": "oBl-lNGC4lt1",
    "outputId": "9bb2ed17-4cbd-4cf8-a3e2-4577a980d2b5"
   },
   "outputs": [
    {
     "data": {
      "text/plain": [
       "(328053, 8)"
      ]
     },
     "execution_count": 6,
     "metadata": {},
     "output_type": "execute_result"
    }
   ],
   "source": [
    "tweets.shape"
   ]
  },
  {
   "cell_type": "code",
   "execution_count": 7,
   "metadata": {
    "canvas": {
     "comments": [],
     "componentType": "CodeCell",
     "copiedOriginId": null,
     "diskcache": false,
     "headerColor": "none",
     "id": "bd4a66a0-0ee0-46eb-b461-ea85aa4b1181",
     "isComponent": false,
     "name": "",
     "parents": []
    },
    "colab": {
     "base_uri": "https://localhost:8080/"
    },
    "id": "FTkTSMWC4tFh",
    "outputId": "877eeb34-1296-4239-ecb9-40341c6fbe38"
   },
   "outputs": [
    {
     "name": "stdout",
     "output_type": "stream",
     "text": [
      "Over 90% approval rating for your all time favorite (I hope) President within the Republican Party and 52% overall. This despite all of the made up stories by the Fake News Media trying endlessly to make me look as bad and evil as possible. Look at the real villains please!\n"
     ]
    }
   ],
   "source": [
    "tweet = tweets.loc[0, 'text']\n",
    "print(tweet)"
   ]
  },
  {
   "cell_type": "code",
   "execution_count": 8,
   "metadata": {
    "canvas": {
     "comments": [],
     "componentType": "CodeCell",
     "copiedOriginId": null,
     "diskcache": false,
     "headerColor": "none",
     "id": "2a4a51e0-e83e-42aa-b4c7-57dca9d4e012",
     "isComponent": false,
     "name": "",
     "parents": []
    },
    "id": "BfcphaVZ41WP"
   },
   "outputs": [
    {
     "name": "stdout",
     "output_type": "stream",
     "text": [
      "type : <class 'spacy.tokens.doc.Doc'>\n"
     ]
    },
    {
     "data": {
      "text/plain": [
       "Over 90% approval rating for your all time favorite (I hope) President within the Republican Party and 52% overall. This despite all of the made up stories by the Fake News Media trying endlessly to make me look as bad and evil as possible. Look at the real villains please!"
      ]
     },
     "execution_count": 8,
     "metadata": {},
     "output_type": "execute_result"
    }
   ],
   "source": [
    "nlp = spacy.load('en_core_web_lg')\n",
    "doc = nlp(tweet)\n",
    "print(f'type : {type(doc)}')\n",
    "doc"
   ]
  },
  {
   "cell_type": "code",
   "execution_count": 9,
   "metadata": {
    "canvas": {
     "comments": [],
     "componentType": "CodeCell",
     "copiedOriginId": null,
     "diskcache": false,
     "headerColor": "none",
     "id": "992c68ac-f3a4-4779-a2d1-9e679a5d73aa",
     "isComponent": false,
     "name": "",
     "parents": []
    },
    "colab": {
     "base_uri": "https://localhost:8080/",
     "height": 1000
    },
    "id": "r4yvHPXc5vYI",
    "outputId": "a676beec-f0be-4b22-b57a-f35e04d0f2bc"
   },
   "outputs": [
    {
     "data": {
      "text/html": [
       "<div>\n",
       "<style scoped>\n",
       "    .dataframe tbody tr th:only-of-type {\n",
       "        vertical-align: middle;\n",
       "    }\n",
       "\n",
       "    .dataframe tbody tr th {\n",
       "        vertical-align: top;\n",
       "    }\n",
       "\n",
       "    .dataframe thead th {\n",
       "        text-align: right;\n",
       "    }\n",
       "</style>\n",
       "<table border=\"1\" class=\"dataframe\">\n",
       "  <thead>\n",
       "    <tr style=\"text-align: right;\">\n",
       "      <th></th>\n",
       "      <th>text</th>\n",
       "      <th>lemma</th>\n",
       "      <th>POS</th>\n",
       "      <th>TAG</th>\n",
       "      <th>dep</th>\n",
       "      <th>shape</th>\n",
       "      <th>is_alpha</th>\n",
       "      <th>is_stop</th>\n",
       "    </tr>\n",
       "  </thead>\n",
       "  <tbody>\n",
       "    <tr>\n",
       "      <th>0</th>\n",
       "      <td>Over</td>\n",
       "      <td>over</td>\n",
       "      <td>ADP</td>\n",
       "      <td>IN</td>\n",
       "      <td>quantmod</td>\n",
       "      <td>Xxxx</td>\n",
       "      <td>True</td>\n",
       "      <td>True</td>\n",
       "    </tr>\n",
       "    <tr>\n",
       "      <th>1</th>\n",
       "      <td>90</td>\n",
       "      <td>90</td>\n",
       "      <td>NUM</td>\n",
       "      <td>CD</td>\n",
       "      <td>nummod</td>\n",
       "      <td>dd</td>\n",
       "      <td>False</td>\n",
       "      <td>False</td>\n",
       "    </tr>\n",
       "    <tr>\n",
       "      <th>2</th>\n",
       "      <td>%</td>\n",
       "      <td>%</td>\n",
       "      <td>NOUN</td>\n",
       "      <td>NN</td>\n",
       "      <td>compound</td>\n",
       "      <td>%</td>\n",
       "      <td>False</td>\n",
       "      <td>False</td>\n",
       "    </tr>\n",
       "    <tr>\n",
       "      <th>3</th>\n",
       "      <td>approval</td>\n",
       "      <td>approval</td>\n",
       "      <td>NOUN</td>\n",
       "      <td>NN</td>\n",
       "      <td>compound</td>\n",
       "      <td>xxxx</td>\n",
       "      <td>True</td>\n",
       "      <td>False</td>\n",
       "    </tr>\n",
       "    <tr>\n",
       "      <th>4</th>\n",
       "      <td>rating</td>\n",
       "      <td>rating</td>\n",
       "      <td>NOUN</td>\n",
       "      <td>NN</td>\n",
       "      <td>ROOT</td>\n",
       "      <td>xxxx</td>\n",
       "      <td>True</td>\n",
       "      <td>False</td>\n",
       "    </tr>\n",
       "    <tr>\n",
       "      <th>5</th>\n",
       "      <td>for</td>\n",
       "      <td>for</td>\n",
       "      <td>ADP</td>\n",
       "      <td>IN</td>\n",
       "      <td>prep</td>\n",
       "      <td>xxx</td>\n",
       "      <td>True</td>\n",
       "      <td>True</td>\n",
       "    </tr>\n",
       "    <tr>\n",
       "      <th>6</th>\n",
       "      <td>your</td>\n",
       "      <td>your</td>\n",
       "      <td>PRON</td>\n",
       "      <td>PRP$</td>\n",
       "      <td>poss</td>\n",
       "      <td>xxxx</td>\n",
       "      <td>True</td>\n",
       "      <td>True</td>\n",
       "    </tr>\n",
       "    <tr>\n",
       "      <th>7</th>\n",
       "      <td>all</td>\n",
       "      <td>all</td>\n",
       "      <td>DET</td>\n",
       "      <td>DT</td>\n",
       "      <td>det</td>\n",
       "      <td>xxx</td>\n",
       "      <td>True</td>\n",
       "      <td>True</td>\n",
       "    </tr>\n",
       "    <tr>\n",
       "      <th>8</th>\n",
       "      <td>time</td>\n",
       "      <td>time</td>\n",
       "      <td>NOUN</td>\n",
       "      <td>NN</td>\n",
       "      <td>npadvmod</td>\n",
       "      <td>xxxx</td>\n",
       "      <td>True</td>\n",
       "      <td>False</td>\n",
       "    </tr>\n",
       "    <tr>\n",
       "      <th>9</th>\n",
       "      <td>favorite</td>\n",
       "      <td>favorite</td>\n",
       "      <td>ADJ</td>\n",
       "      <td>JJ</td>\n",
       "      <td>pobj</td>\n",
       "      <td>xxxx</td>\n",
       "      <td>True</td>\n",
       "      <td>False</td>\n",
       "    </tr>\n",
       "    <tr>\n",
       "      <th>10</th>\n",
       "      <td>(</td>\n",
       "      <td>(</td>\n",
       "      <td>PUNCT</td>\n",
       "      <td>-LRB-</td>\n",
       "      <td>punct</td>\n",
       "      <td>(</td>\n",
       "      <td>False</td>\n",
       "      <td>False</td>\n",
       "    </tr>\n",
       "    <tr>\n",
       "      <th>11</th>\n",
       "      <td>I</td>\n",
       "      <td>I</td>\n",
       "      <td>PRON</td>\n",
       "      <td>PRP</td>\n",
       "      <td>nsubj</td>\n",
       "      <td>X</td>\n",
       "      <td>True</td>\n",
       "      <td>True</td>\n",
       "    </tr>\n",
       "    <tr>\n",
       "      <th>12</th>\n",
       "      <td>hope</td>\n",
       "      <td>hope</td>\n",
       "      <td>VERB</td>\n",
       "      <td>VBP</td>\n",
       "      <td>parataxis</td>\n",
       "      <td>xxxx</td>\n",
       "      <td>True</td>\n",
       "      <td>False</td>\n",
       "    </tr>\n",
       "    <tr>\n",
       "      <th>13</th>\n",
       "      <td>)</td>\n",
       "      <td>)</td>\n",
       "      <td>PUNCT</td>\n",
       "      <td>-RRB-</td>\n",
       "      <td>punct</td>\n",
       "      <td>)</td>\n",
       "      <td>False</td>\n",
       "      <td>False</td>\n",
       "    </tr>\n",
       "    <tr>\n",
       "      <th>14</th>\n",
       "      <td>President</td>\n",
       "      <td>President</td>\n",
       "      <td>PROPN</td>\n",
       "      <td>NNP</td>\n",
       "      <td>ROOT</td>\n",
       "      <td>Xxxxx</td>\n",
       "      <td>True</td>\n",
       "      <td>False</td>\n",
       "    </tr>\n",
       "    <tr>\n",
       "      <th>15</th>\n",
       "      <td>within</td>\n",
       "      <td>within</td>\n",
       "      <td>ADP</td>\n",
       "      <td>IN</td>\n",
       "      <td>prep</td>\n",
       "      <td>xxxx</td>\n",
       "      <td>True</td>\n",
       "      <td>True</td>\n",
       "    </tr>\n",
       "    <tr>\n",
       "      <th>16</th>\n",
       "      <td>the</td>\n",
       "      <td>the</td>\n",
       "      <td>DET</td>\n",
       "      <td>DT</td>\n",
       "      <td>det</td>\n",
       "      <td>xxx</td>\n",
       "      <td>True</td>\n",
       "      <td>True</td>\n",
       "    </tr>\n",
       "    <tr>\n",
       "      <th>17</th>\n",
       "      <td>Republican</td>\n",
       "      <td>Republican</td>\n",
       "      <td>PROPN</td>\n",
       "      <td>NNP</td>\n",
       "      <td>compound</td>\n",
       "      <td>Xxxxx</td>\n",
       "      <td>True</td>\n",
       "      <td>False</td>\n",
       "    </tr>\n",
       "    <tr>\n",
       "      <th>18</th>\n",
       "      <td>Party</td>\n",
       "      <td>Party</td>\n",
       "      <td>PROPN</td>\n",
       "      <td>NNP</td>\n",
       "      <td>pobj</td>\n",
       "      <td>Xxxxx</td>\n",
       "      <td>True</td>\n",
       "      <td>False</td>\n",
       "    </tr>\n",
       "    <tr>\n",
       "      <th>19</th>\n",
       "      <td>and</td>\n",
       "      <td>and</td>\n",
       "      <td>CCONJ</td>\n",
       "      <td>CC</td>\n",
       "      <td>cc</td>\n",
       "      <td>xxx</td>\n",
       "      <td>True</td>\n",
       "      <td>True</td>\n",
       "    </tr>\n",
       "    <tr>\n",
       "      <th>20</th>\n",
       "      <td>52</td>\n",
       "      <td>52</td>\n",
       "      <td>NUM</td>\n",
       "      <td>CD</td>\n",
       "      <td>nummod</td>\n",
       "      <td>dd</td>\n",
       "      <td>False</td>\n",
       "      <td>False</td>\n",
       "    </tr>\n",
       "    <tr>\n",
       "      <th>21</th>\n",
       "      <td>%</td>\n",
       "      <td>%</td>\n",
       "      <td>NOUN</td>\n",
       "      <td>NN</td>\n",
       "      <td>conj</td>\n",
       "      <td>%</td>\n",
       "      <td>False</td>\n",
       "      <td>False</td>\n",
       "    </tr>\n",
       "    <tr>\n",
       "      <th>22</th>\n",
       "      <td>overall</td>\n",
       "      <td>overall</td>\n",
       "      <td>ADJ</td>\n",
       "      <td>JJ</td>\n",
       "      <td>advmod</td>\n",
       "      <td>xxxx</td>\n",
       "      <td>True</td>\n",
       "      <td>False</td>\n",
       "    </tr>\n",
       "    <tr>\n",
       "      <th>23</th>\n",
       "      <td>.</td>\n",
       "      <td>.</td>\n",
       "      <td>PUNCT</td>\n",
       "      <td>.</td>\n",
       "      <td>punct</td>\n",
       "      <td>.</td>\n",
       "      <td>False</td>\n",
       "      <td>False</td>\n",
       "    </tr>\n",
       "    <tr>\n",
       "      <th>24</th>\n",
       "      <td>This</td>\n",
       "      <td>this</td>\n",
       "      <td>PRON</td>\n",
       "      <td>DT</td>\n",
       "      <td>ROOT</td>\n",
       "      <td>Xxxx</td>\n",
       "      <td>True</td>\n",
       "      <td>True</td>\n",
       "    </tr>\n",
       "    <tr>\n",
       "      <th>25</th>\n",
       "      <td>despite</td>\n",
       "      <td>despite</td>\n",
       "      <td>SCONJ</td>\n",
       "      <td>IN</td>\n",
       "      <td>prep</td>\n",
       "      <td>xxxx</td>\n",
       "      <td>True</td>\n",
       "      <td>False</td>\n",
       "    </tr>\n",
       "    <tr>\n",
       "      <th>26</th>\n",
       "      <td>all</td>\n",
       "      <td>all</td>\n",
       "      <td>PRON</td>\n",
       "      <td>DT</td>\n",
       "      <td>pobj</td>\n",
       "      <td>xxx</td>\n",
       "      <td>True</td>\n",
       "      <td>True</td>\n",
       "    </tr>\n",
       "    <tr>\n",
       "      <th>27</th>\n",
       "      <td>of</td>\n",
       "      <td>of</td>\n",
       "      <td>ADP</td>\n",
       "      <td>IN</td>\n",
       "      <td>prep</td>\n",
       "      <td>xx</td>\n",
       "      <td>True</td>\n",
       "      <td>True</td>\n",
       "    </tr>\n",
       "    <tr>\n",
       "      <th>28</th>\n",
       "      <td>the</td>\n",
       "      <td>the</td>\n",
       "      <td>DET</td>\n",
       "      <td>DT</td>\n",
       "      <td>det</td>\n",
       "      <td>xxx</td>\n",
       "      <td>True</td>\n",
       "      <td>True</td>\n",
       "    </tr>\n",
       "    <tr>\n",
       "      <th>29</th>\n",
       "      <td>made</td>\n",
       "      <td>make</td>\n",
       "      <td>VERB</td>\n",
       "      <td>VBN</td>\n",
       "      <td>amod</td>\n",
       "      <td>xxxx</td>\n",
       "      <td>True</td>\n",
       "      <td>True</td>\n",
       "    </tr>\n",
       "    <tr>\n",
       "      <th>30</th>\n",
       "      <td>up</td>\n",
       "      <td>up</td>\n",
       "      <td>ADP</td>\n",
       "      <td>RP</td>\n",
       "      <td>prt</td>\n",
       "      <td>xx</td>\n",
       "      <td>True</td>\n",
       "      <td>True</td>\n",
       "    </tr>\n",
       "    <tr>\n",
       "      <th>31</th>\n",
       "      <td>stories</td>\n",
       "      <td>story</td>\n",
       "      <td>NOUN</td>\n",
       "      <td>NNS</td>\n",
       "      <td>pobj</td>\n",
       "      <td>xxxx</td>\n",
       "      <td>True</td>\n",
       "      <td>False</td>\n",
       "    </tr>\n",
       "    <tr>\n",
       "      <th>32</th>\n",
       "      <td>by</td>\n",
       "      <td>by</td>\n",
       "      <td>ADP</td>\n",
       "      <td>IN</td>\n",
       "      <td>prep</td>\n",
       "      <td>xx</td>\n",
       "      <td>True</td>\n",
       "      <td>True</td>\n",
       "    </tr>\n",
       "    <tr>\n",
       "      <th>33</th>\n",
       "      <td>the</td>\n",
       "      <td>the</td>\n",
       "      <td>DET</td>\n",
       "      <td>DT</td>\n",
       "      <td>det</td>\n",
       "      <td>xxx</td>\n",
       "      <td>True</td>\n",
       "      <td>True</td>\n",
       "    </tr>\n",
       "    <tr>\n",
       "      <th>34</th>\n",
       "      <td>Fake</td>\n",
       "      <td>Fake</td>\n",
       "      <td>PROPN</td>\n",
       "      <td>NNP</td>\n",
       "      <td>compound</td>\n",
       "      <td>Xxxx</td>\n",
       "      <td>True</td>\n",
       "      <td>False</td>\n",
       "    </tr>\n",
       "    <tr>\n",
       "      <th>35</th>\n",
       "      <td>News</td>\n",
       "      <td>News</td>\n",
       "      <td>PROPN</td>\n",
       "      <td>NNP</td>\n",
       "      <td>compound</td>\n",
       "      <td>Xxxx</td>\n",
       "      <td>True</td>\n",
       "      <td>False</td>\n",
       "    </tr>\n",
       "    <tr>\n",
       "      <th>36</th>\n",
       "      <td>Media</td>\n",
       "      <td>medium</td>\n",
       "      <td>NOUN</td>\n",
       "      <td>NNS</td>\n",
       "      <td>pobj</td>\n",
       "      <td>Xxxxx</td>\n",
       "      <td>True</td>\n",
       "      <td>False</td>\n",
       "    </tr>\n",
       "    <tr>\n",
       "      <th>37</th>\n",
       "      <td>trying</td>\n",
       "      <td>try</td>\n",
       "      <td>VERB</td>\n",
       "      <td>VBG</td>\n",
       "      <td>acl</td>\n",
       "      <td>xxxx</td>\n",
       "      <td>True</td>\n",
       "      <td>False</td>\n",
       "    </tr>\n",
       "    <tr>\n",
       "      <th>38</th>\n",
       "      <td>endlessly</td>\n",
       "      <td>endlessly</td>\n",
       "      <td>ADV</td>\n",
       "      <td>RB</td>\n",
       "      <td>advmod</td>\n",
       "      <td>xxxx</td>\n",
       "      <td>True</td>\n",
       "      <td>False</td>\n",
       "    </tr>\n",
       "    <tr>\n",
       "      <th>39</th>\n",
       "      <td>to</td>\n",
       "      <td>to</td>\n",
       "      <td>PART</td>\n",
       "      <td>TO</td>\n",
       "      <td>aux</td>\n",
       "      <td>xx</td>\n",
       "      <td>True</td>\n",
       "      <td>True</td>\n",
       "    </tr>\n",
       "    <tr>\n",
       "      <th>40</th>\n",
       "      <td>make</td>\n",
       "      <td>make</td>\n",
       "      <td>VERB</td>\n",
       "      <td>VB</td>\n",
       "      <td>xcomp</td>\n",
       "      <td>xxxx</td>\n",
       "      <td>True</td>\n",
       "      <td>True</td>\n",
       "    </tr>\n",
       "    <tr>\n",
       "      <th>41</th>\n",
       "      <td>me</td>\n",
       "      <td>I</td>\n",
       "      <td>PRON</td>\n",
       "      <td>PRP</td>\n",
       "      <td>nsubj</td>\n",
       "      <td>xx</td>\n",
       "      <td>True</td>\n",
       "      <td>True</td>\n",
       "    </tr>\n",
       "    <tr>\n",
       "      <th>42</th>\n",
       "      <td>look</td>\n",
       "      <td>look</td>\n",
       "      <td>VERB</td>\n",
       "      <td>VB</td>\n",
       "      <td>ccomp</td>\n",
       "      <td>xxxx</td>\n",
       "      <td>True</td>\n",
       "      <td>False</td>\n",
       "    </tr>\n",
       "    <tr>\n",
       "      <th>43</th>\n",
       "      <td>as</td>\n",
       "      <td>as</td>\n",
       "      <td>ADV</td>\n",
       "      <td>RB</td>\n",
       "      <td>advmod</td>\n",
       "      <td>xx</td>\n",
       "      <td>True</td>\n",
       "      <td>True</td>\n",
       "    </tr>\n",
       "    <tr>\n",
       "      <th>44</th>\n",
       "      <td>bad</td>\n",
       "      <td>bad</td>\n",
       "      <td>ADJ</td>\n",
       "      <td>JJ</td>\n",
       "      <td>acomp</td>\n",
       "      <td>xxx</td>\n",
       "      <td>True</td>\n",
       "      <td>False</td>\n",
       "    </tr>\n",
       "    <tr>\n",
       "      <th>45</th>\n",
       "      <td>and</td>\n",
       "      <td>and</td>\n",
       "      <td>CCONJ</td>\n",
       "      <td>CC</td>\n",
       "      <td>cc</td>\n",
       "      <td>xxx</td>\n",
       "      <td>True</td>\n",
       "      <td>True</td>\n",
       "    </tr>\n",
       "    <tr>\n",
       "      <th>46</th>\n",
       "      <td>evil</td>\n",
       "      <td>evil</td>\n",
       "      <td>ADJ</td>\n",
       "      <td>JJ</td>\n",
       "      <td>conj</td>\n",
       "      <td>xxxx</td>\n",
       "      <td>True</td>\n",
       "      <td>False</td>\n",
       "    </tr>\n",
       "    <tr>\n",
       "      <th>47</th>\n",
       "      <td>as</td>\n",
       "      <td>as</td>\n",
       "      <td>ADP</td>\n",
       "      <td>IN</td>\n",
       "      <td>prep</td>\n",
       "      <td>xx</td>\n",
       "      <td>True</td>\n",
       "      <td>True</td>\n",
       "    </tr>\n",
       "    <tr>\n",
       "      <th>48</th>\n",
       "      <td>possible</td>\n",
       "      <td>possible</td>\n",
       "      <td>ADJ</td>\n",
       "      <td>JJ</td>\n",
       "      <td>amod</td>\n",
       "      <td>xxxx</td>\n",
       "      <td>True</td>\n",
       "      <td>False</td>\n",
       "    </tr>\n",
       "    <tr>\n",
       "      <th>49</th>\n",
       "      <td>.</td>\n",
       "      <td>.</td>\n",
       "      <td>PUNCT</td>\n",
       "      <td>.</td>\n",
       "      <td>punct</td>\n",
       "      <td>.</td>\n",
       "      <td>False</td>\n",
       "      <td>False</td>\n",
       "    </tr>\n",
       "    <tr>\n",
       "      <th>50</th>\n",
       "      <td>Look</td>\n",
       "      <td>look</td>\n",
       "      <td>VERB</td>\n",
       "      <td>VB</td>\n",
       "      <td>ROOT</td>\n",
       "      <td>Xxxx</td>\n",
       "      <td>True</td>\n",
       "      <td>False</td>\n",
       "    </tr>\n",
       "    <tr>\n",
       "      <th>51</th>\n",
       "      <td>at</td>\n",
       "      <td>at</td>\n",
       "      <td>ADP</td>\n",
       "      <td>IN</td>\n",
       "      <td>prep</td>\n",
       "      <td>xx</td>\n",
       "      <td>True</td>\n",
       "      <td>True</td>\n",
       "    </tr>\n",
       "    <tr>\n",
       "      <th>52</th>\n",
       "      <td>the</td>\n",
       "      <td>the</td>\n",
       "      <td>DET</td>\n",
       "      <td>DT</td>\n",
       "      <td>det</td>\n",
       "      <td>xxx</td>\n",
       "      <td>True</td>\n",
       "      <td>True</td>\n",
       "    </tr>\n",
       "    <tr>\n",
       "      <th>53</th>\n",
       "      <td>real</td>\n",
       "      <td>real</td>\n",
       "      <td>ADJ</td>\n",
       "      <td>JJ</td>\n",
       "      <td>amod</td>\n",
       "      <td>xxxx</td>\n",
       "      <td>True</td>\n",
       "      <td>False</td>\n",
       "    </tr>\n",
       "    <tr>\n",
       "      <th>54</th>\n",
       "      <td>villains</td>\n",
       "      <td>villain</td>\n",
       "      <td>NOUN</td>\n",
       "      <td>NNS</td>\n",
       "      <td>pobj</td>\n",
       "      <td>xxxx</td>\n",
       "      <td>True</td>\n",
       "      <td>False</td>\n",
       "    </tr>\n",
       "    <tr>\n",
       "      <th>55</th>\n",
       "      <td>please</td>\n",
       "      <td>please</td>\n",
       "      <td>INTJ</td>\n",
       "      <td>UH</td>\n",
       "      <td>intj</td>\n",
       "      <td>xxxx</td>\n",
       "      <td>True</td>\n",
       "      <td>True</td>\n",
       "    </tr>\n",
       "    <tr>\n",
       "      <th>56</th>\n",
       "      <td>!</td>\n",
       "      <td>!</td>\n",
       "      <td>PUNCT</td>\n",
       "      <td>.</td>\n",
       "      <td>punct</td>\n",
       "      <td>!</td>\n",
       "      <td>False</td>\n",
       "      <td>False</td>\n",
       "    </tr>\n",
       "  </tbody>\n",
       "</table>\n",
       "</div>"
      ],
      "text/plain": [
       "          text       lemma    POS    TAG        dep  shape  is_alpha  is_stop\n",
       "0         Over        over    ADP     IN   quantmod   Xxxx      True     True\n",
       "1           90          90    NUM     CD     nummod     dd     False    False\n",
       "2            %           %   NOUN     NN   compound      %     False    False\n",
       "3     approval    approval   NOUN     NN   compound   xxxx      True    False\n",
       "4       rating      rating   NOUN     NN       ROOT   xxxx      True    False\n",
       "5          for         for    ADP     IN       prep    xxx      True     True\n",
       "6         your        your   PRON   PRP$       poss   xxxx      True     True\n",
       "7          all         all    DET     DT        det    xxx      True     True\n",
       "8         time        time   NOUN     NN   npadvmod   xxxx      True    False\n",
       "9     favorite    favorite    ADJ     JJ       pobj   xxxx      True    False\n",
       "10           (           (  PUNCT  -LRB-      punct      (     False    False\n",
       "11           I           I   PRON    PRP      nsubj      X      True     True\n",
       "12        hope        hope   VERB    VBP  parataxis   xxxx      True    False\n",
       "13           )           )  PUNCT  -RRB-      punct      )     False    False\n",
       "14   President   President  PROPN    NNP       ROOT  Xxxxx      True    False\n",
       "15      within      within    ADP     IN       prep   xxxx      True     True\n",
       "16         the         the    DET     DT        det    xxx      True     True\n",
       "17  Republican  Republican  PROPN    NNP   compound  Xxxxx      True    False\n",
       "18       Party       Party  PROPN    NNP       pobj  Xxxxx      True    False\n",
       "19         and         and  CCONJ     CC         cc    xxx      True     True\n",
       "20          52          52    NUM     CD     nummod     dd     False    False\n",
       "21           %           %   NOUN     NN       conj      %     False    False\n",
       "22     overall     overall    ADJ     JJ     advmod   xxxx      True    False\n",
       "23           .           .  PUNCT      .      punct      .     False    False\n",
       "24        This        this   PRON     DT       ROOT   Xxxx      True     True\n",
       "25     despite     despite  SCONJ     IN       prep   xxxx      True    False\n",
       "26         all         all   PRON     DT       pobj    xxx      True     True\n",
       "27          of          of    ADP     IN       prep     xx      True     True\n",
       "28         the         the    DET     DT        det    xxx      True     True\n",
       "29        made        make   VERB    VBN       amod   xxxx      True     True\n",
       "30          up          up    ADP     RP        prt     xx      True     True\n",
       "31     stories       story   NOUN    NNS       pobj   xxxx      True    False\n",
       "32          by          by    ADP     IN       prep     xx      True     True\n",
       "33         the         the    DET     DT        det    xxx      True     True\n",
       "34        Fake        Fake  PROPN    NNP   compound   Xxxx      True    False\n",
       "35        News        News  PROPN    NNP   compound   Xxxx      True    False\n",
       "36       Media      medium   NOUN    NNS       pobj  Xxxxx      True    False\n",
       "37      trying         try   VERB    VBG        acl   xxxx      True    False\n",
       "38   endlessly   endlessly    ADV     RB     advmod   xxxx      True    False\n",
       "39          to          to   PART     TO        aux     xx      True     True\n",
       "40        make        make   VERB     VB      xcomp   xxxx      True     True\n",
       "41          me           I   PRON    PRP      nsubj     xx      True     True\n",
       "42        look        look   VERB     VB      ccomp   xxxx      True    False\n",
       "43          as          as    ADV     RB     advmod     xx      True     True\n",
       "44         bad         bad    ADJ     JJ      acomp    xxx      True    False\n",
       "45         and         and  CCONJ     CC         cc    xxx      True     True\n",
       "46        evil        evil    ADJ     JJ       conj   xxxx      True    False\n",
       "47          as          as    ADP     IN       prep     xx      True     True\n",
       "48    possible    possible    ADJ     JJ       amod   xxxx      True    False\n",
       "49           .           .  PUNCT      .      punct      .     False    False\n",
       "50        Look        look   VERB     VB       ROOT   Xxxx      True    False\n",
       "51          at          at    ADP     IN       prep     xx      True     True\n",
       "52         the         the    DET     DT        det    xxx      True     True\n",
       "53        real        real    ADJ     JJ       amod   xxxx      True    False\n",
       "54    villains     villain   NOUN    NNS       pobj   xxxx      True    False\n",
       "55      please      please   INTJ     UH       intj   xxxx      True     True\n",
       "56           !           !  PUNCT      .      punct      !     False    False"
      ]
     },
     "execution_count": 9,
     "metadata": {},
     "output_type": "execute_result"
    }
   ],
   "source": [
    "text_doc = []\n",
    "for token in doc:\n",
    "    data = {\n",
    "        'text': token.text,\n",
    "        'lemma': token.lemma_,\n",
    "        'POS': token.pos_,\n",
    "        'TAG': token.tag_,\n",
    "        'dep': token.dep_,\n",
    "        'shape': token.shape_,\n",
    "        'is_alpha': token.is_alpha,\n",
    "        'is_stop': token.is_stop,\n",
    "    }\n",
    "    text_doc.append(data)\n",
    "\n",
    "pd.DataFrame(text_doc)"
   ]
  },
  {
   "cell_type": "markdown",
   "metadata": {
    "canvas": {
     "comments": [],
     "componentType": "CodeCell",
     "copiedOriginId": null,
     "diskcache": false,
     "headerColor": "none",
     "id": "caced19a-a0d0-453a-8b6a-8382ac0422f2",
     "isComponent": false,
     "name": "",
     "parents": []
    },
    "id": "GulUhwnc9YkD"
   },
   "source": [
    "# NER"
   ]
  },
  {
   "cell_type": "code",
   "execution_count": 10,
   "metadata": {
    "canvas": {
     "comments": [],
     "componentType": "CodeCell",
     "copiedOriginId": null,
     "diskcache": false,
     "headerColor": "none",
     "id": "1119fa0b-60a0-4e85-9060-f8b72f094f02",
     "isComponent": false,
     "name": "",
     "parents": []
    },
    "colab": {
     "base_uri": "https://localhost:8080/"
    },
    "id": "b5S1cQ9R5_ua",
    "outputId": "7dcd9db4-bbb6-4e6e-bb76-7fe26e40074f"
   },
   "outputs": [
    {
     "data": {
      "text/plain": [
       "Over 90% approval rating for your all time favorite (I hope) President within the Republican Party and 52% overall. This despite all of the made up stories by the Fake News Media trying endlessly to make me look as bad and evil as possible. Look at the real villains please!"
      ]
     },
     "execution_count": 10,
     "metadata": {},
     "output_type": "execute_result"
    }
   ],
   "source": [
    "doc"
   ]
  },
  {
   "cell_type": "code",
   "execution_count": 11,
   "metadata": {
    "canvas": {
     "comments": [],
     "componentType": "CodeCell",
     "copiedOriginId": null,
     "diskcache": false,
     "headerColor": "none",
     "id": "f6eb471a-6db5-40cc-b516-18e3bfbaf300",
     "isComponent": false,
     "name": "",
     "parents": []
    },
    "id": "tFg6TeVw9a_6"
   },
   "outputs": [],
   "source": [
    "def explain_text_entity(text: str):\n",
    "    doc = nlp(text)\n",
    "    for ent in doc.ents:\n",
    "        print(f\"\"\"Entity: \"{ent}\" - LABEL - {ent.label_} - {spacy.explain(ent.label_)}\"\"\")"
   ]
  },
  {
   "cell_type": "code",
   "execution_count": 12,
   "metadata": {
    "canvas": {
     "comments": [],
     "componentType": "CodeCell",
     "copiedOriginId": null,
     "diskcache": false,
     "headerColor": "none",
     "id": "b3b7a3ef-4719-43a3-b1dc-3a52fd87afe5",
     "isComponent": false,
     "name": "",
     "parents": []
    },
    "colab": {
     "base_uri": "https://localhost:8080/"
    },
    "id": "w53YusyI-3g3",
    "outputId": "2d9cb4f5-8392-491b-c99e-5e4736a30dbd"
   },
   "outputs": [
    {
     "name": "stdout",
     "output_type": "stream",
     "text": [
      "Entity: \"Over 90%\" - LABEL - PERCENT - Percentage, including \"%\"\n",
      "Entity: \"the Republican Party\" - LABEL - ORG - Companies, agencies, institutions, etc.\n",
      "Entity: \"52%\" - LABEL - PERCENT - Percentage, including \"%\"\n",
      "Entity: \"the Fake News Media\" - LABEL - ORG - Companies, agencies, institutions, etc.\n"
     ]
    }
   ],
   "source": [
    "explain_text_entity(tweets.loc[0, 'text'])"
   ]
  },
  {
   "cell_type": "code",
   "execution_count": 13,
   "metadata": {
    "canvas": {
     "comments": [],
     "componentType": "CodeCell",
     "copiedOriginId": null,
     "diskcache": false,
     "headerColor": "none",
     "id": "9da1c907-8e11-495f-b23c-7e9a240fd864",
     "isComponent": false,
     "name": "",
     "parents": []
    },
    "colab": {
     "base_uri": "https://localhost:8080/"
    },
    "id": "uTNIU6B8_Dpk",
    "outputId": "c5c876a4-b3ef-4e2c-f3b0-768889dd9d2a"
   },
   "outputs": [
    {
     "name": "stdout",
     "output_type": "stream",
     "text": [
      "Entity: \"Mexico\" - LABEL - GPE - Countries, cities, states\n",
      "Entity: \"the hour\" - LABEL - TIME - Times smaller than a day\n",
      "Entity: \"Mexico\" - LABEL - GPE - Countries, cities, states\n"
     ]
    }
   ],
   "source": [
    "explain_text_entity(tweets.loc[10, 'text'])"
   ]
  },
  {
   "cell_type": "code",
   "execution_count": 14,
   "metadata": {
    "canvas": {
     "comments": [],
     "componentType": "CodeCell",
     "copiedOriginId": null,
     "diskcache": false,
     "headerColor": "none",
     "id": "8109b824-7692-4528-ad87-386250604b9c",
     "isComponent": false,
     "name": "",
     "parents": []
    },
    "id": "ZY6C-5mR_taU"
   },
   "outputs": [],
   "source": [
    "def display_ent(text: str):\n",
    "    doc = nlp(text)\n",
    "    spacy.displacy.render(doc, style='ent', jupyter=True)"
   ]
  },
  {
   "cell_type": "code",
   "execution_count": 15,
   "metadata": {
    "canvas": {
     "comments": [],
     "componentType": "CodeCell",
     "copiedOriginId": null,
     "diskcache": false,
     "headerColor": "none",
     "id": "ca9a8d45-f1c8-4343-a70c-5fa011597c50",
     "isComponent": false,
     "name": "",
     "parents": []
    },
    "colab": {
     "base_uri": "https://localhost:8080/",
     "height": 87
    },
    "id": "D3m4DALT_wmb",
    "outputId": "3603e07b-c9c8-47e2-a1f8-5cafe9b56c0a"
   },
   "outputs": [
    {
     "data": {
      "text/html": [
       "<span class=\"tex2jax_ignore\"><div class=\"entities\" style=\"line-height: 2.5; direction: ltr\">\n",
       "<mark class=\"entity\" style=\"background: #e4e7d2; padding: 0.45em 0.6em; margin: 0 0.25em; line-height: 1; border-radius: 0.35em;\">\n",
       "    Over 90%\n",
       "    <span style=\"font-size: 0.8em; font-weight: bold; line-height: 1; border-radius: 0.35em; vertical-align: middle; margin-left: 0.5rem\">PERCENT</span>\n",
       "</mark>\n",
       " approval rating for your all time favorite (I hope) President within \n",
       "<mark class=\"entity\" style=\"background: #7aecec; padding: 0.45em 0.6em; margin: 0 0.25em; line-height: 1; border-radius: 0.35em;\">\n",
       "    the Republican Party\n",
       "    <span style=\"font-size: 0.8em; font-weight: bold; line-height: 1; border-radius: 0.35em; vertical-align: middle; margin-left: 0.5rem\">ORG</span>\n",
       "</mark>\n",
       " and \n",
       "<mark class=\"entity\" style=\"background: #e4e7d2; padding: 0.45em 0.6em; margin: 0 0.25em; line-height: 1; border-radius: 0.35em;\">\n",
       "    52%\n",
       "    <span style=\"font-size: 0.8em; font-weight: bold; line-height: 1; border-radius: 0.35em; vertical-align: middle; margin-left: 0.5rem\">PERCENT</span>\n",
       "</mark>\n",
       " overall. This despite all of the made up stories by \n",
       "<mark class=\"entity\" style=\"background: #7aecec; padding: 0.45em 0.6em; margin: 0 0.25em; line-height: 1; border-radius: 0.35em;\">\n",
       "    the Fake News Media\n",
       "    <span style=\"font-size: 0.8em; font-weight: bold; line-height: 1; border-radius: 0.35em; vertical-align: middle; margin-left: 0.5rem\">ORG</span>\n",
       "</mark>\n",
       " trying endlessly to make me look as bad and evil as possible. Look at the real villains please!</div></span>"
      ],
      "text/plain": [
       "<IPython.core.display.HTML object>"
      ]
     },
     "metadata": {},
     "output_type": "display_data"
    }
   ],
   "source": [
    "display_ent(tweets.loc[0, 'text'])"
   ]
  },
  {
   "cell_type": "code",
   "execution_count": 16,
   "metadata": {
    "canvas": {
     "comments": [],
     "componentType": "CodeCell",
     "copiedOriginId": null,
     "diskcache": false,
     "headerColor": "none",
     "id": "bf1b5649-893f-47ab-8d95-47835f233c56",
     "isComponent": false,
     "name": "",
     "parents": []
    },
    "colab": {
     "base_uri": "https://localhost:8080/",
     "height": 52
    },
    "id": "l57N3Pp1AeB-",
    "outputId": "6a3ddf69-51b8-48c8-a68f-e2820f08082a"
   },
   "outputs": [
    {
     "data": {
      "text/html": [
       "<span class=\"tex2jax_ignore\"><div class=\"entities\" style=\"line-height: 2.5; direction: ltr\">Fantastic numbers on consumer spending released on \n",
       "<mark class=\"entity\" style=\"background: #bfe1d9; padding: 0.45em 0.6em; margin: 0 0.25em; line-height: 1; border-radius: 0.35em;\">\n",
       "    Friday\n",
       "    <span style=\"font-size: 0.8em; font-weight: bold; line-height: 1; border-radius: 0.35em; vertical-align: middle; margin-left: 0.5rem\">DATE</span>\n",
       "</mark>\n",
       ". Stock Market hits all time high!</div></span>"
      ],
      "text/plain": [
       "<IPython.core.display.HTML object>"
      ]
     },
     "metadata": {},
     "output_type": "display_data"
    }
   ],
   "source": [
    "display_ent(tweets.loc[2, 'text'])"
   ]
  },
  {
   "cell_type": "code",
   "execution_count": 17,
   "metadata": {
    "canvas": {
     "comments": [],
     "componentType": "CodeCell",
     "copiedOriginId": null,
     "diskcache": false,
     "headerColor": "none",
     "id": "435da4ac-d0eb-4eda-840e-b9f3c539d170",
     "isComponent": false,
     "name": "",
     "parents": []
    },
    "colab": {
     "base_uri": "https://localhost:8080/",
     "height": 52
    },
    "id": "rz8ZTwUKAwPP",
    "outputId": "7d4ed756-d4e6-4897-e8e9-855e515e343b"
   },
   "outputs": [
    {
     "data": {
      "text/html": [
       "<span class=\"tex2jax_ignore\"><div class=\"entities\" style=\"line-height: 2.5; direction: ltr\">\n",
       "<mark class=\"entity\" style=\"background: #bfe1d9; padding: 0.45em 0.6em; margin: 0 0.25em; line-height: 1; border-radius: 0.35em;\">\n",
       "    Today\n",
       "    <span style=\"font-size: 0.8em; font-weight: bold; line-height: 1; border-radius: 0.35em; vertical-align: middle; margin-left: 0.5rem\">DATE</span>\n",
       "</mark>\n",
       " is \n",
       "<mark class=\"entity\" style=\"background: #bfe1d9; padding: 0.45em 0.6em; margin: 0 0.25em; line-height: 1; border-radius: 0.35em;\">\n",
       "    the day\n",
       "    <span style=\"font-size: 0.8em; font-weight: bold; line-height: 1; border-radius: 0.35em; vertical-align: middle; margin-left: 0.5rem\">DATE</span>\n",
       "</mark>\n",
       " to vote for \n",
       "<mark class=\"entity\" style=\"background: #aa9cfc; padding: 0.45em 0.6em; margin: 0 0.25em; line-height: 1; border-radius: 0.35em;\">\n",
       "    Brian Kemp\n",
       "    <span style=\"font-size: 0.8em; font-weight: bold; line-height: 1; border-radius: 0.35em; vertical-align: middle; margin-left: 0.5rem\">PERSON</span>\n",
       "</mark>\n",
       ". Will be great for \n",
       "<mark class=\"entity\" style=\"background: #feca74; padding: 0.45em 0.6em; margin: 0 0.25em; line-height: 1; border-radius: 0.35em;\">\n",
       "    Georgia\n",
       "    <span style=\"font-size: 0.8em; font-weight: bold; line-height: 1; border-radius: 0.35em; vertical-align: middle; margin-left: 0.5rem\">GPE</span>\n",
       "</mark>\n",
       ", full Endorsement! https://t.co/yPND2bJ219</div></span>"
      ],
      "text/plain": [
       "<IPython.core.display.HTML object>"
      ]
     },
     "metadata": {},
     "output_type": "display_data"
    }
   ],
   "source": [
    "display_ent(tweets.loc[420, 'text'])"
   ]
  },
  {
   "cell_type": "markdown",
   "metadata": {
    "canvas": {
     "comments": [],
     "componentType": "CodeCell",
     "copiedOriginId": null,
     "diskcache": false,
     "headerColor": "none",
     "id": "2f94cd46-df11-429e-932c-46071876d9a7",
     "isComponent": false,
     "name": "",
     "parents": []
    },
    "id": "vaNFkiKfBsRL"
   },
   "source": [
    "# Redact names"
   ]
  },
  {
   "cell_type": "code",
   "execution_count": 18,
   "metadata": {
    "canvas": {
     "comments": [],
     "componentType": "CodeCell",
     "copiedOriginId": null,
     "diskcache": false,
     "headerColor": "none",
     "id": "6a6c9cb2-1c97-405d-be87-5f9d66aae837",
     "isComponent": false,
     "name": "",
     "parents": []
    },
    "id": "nnv7x1fTBwqV"
   },
   "outputs": [],
   "source": [
    "def redact_names(text):\n",
    "    doc = nlp(text)\n",
    "    redacted_sentece = []\n",
    "\n",
    "    with doc.retokenize() as retokenize:\n",
    "        for ent in doc.ents:\n",
    "            retokenize.merge(ent)\n",
    "\n",
    "    for token in doc:\n",
    "        if token.ent_type_ == \"PERSON\":\n",
    "            redacted_sentece.append(\"[REDACTED]\")\n",
    "        else:\n",
    "            redacted_sentece.append(token.text)\n",
    "    return \" \".join(redacted_sentece)"
   ]
  },
  {
   "cell_type": "code",
   "execution_count": 19,
   "metadata": {
    "canvas": {
     "comments": [],
     "componentType": "CodeCell",
     "copiedOriginId": null,
     "diskcache": false,
     "headerColor": "none",
     "id": "3114f41b-e390-4ac4-8c29-d75b49b7ae56",
     "isComponent": false,
     "name": "",
     "parents": []
    },
    "colab": {
     "base_uri": "https://localhost:8080/",
     "height": 35
    },
    "id": "z1EZOcuFC7eu",
    "outputId": "2028fac7-ec14-41ae-890e-cd7f3c1d5db9"
   },
   "outputs": [
    {
     "data": {
      "text/plain": [
       "'Today is the day to vote for [REDACTED] . Will be great for Georgia , full Endorsement ! https://t.co/yPND2bJ219'"
      ]
     },
     "execution_count": 19,
     "metadata": {},
     "output_type": "execute_result"
    }
   ],
   "source": [
    "redact_names(tweets.loc[420, 'text'])"
   ]
  },
  {
   "cell_type": "code",
   "execution_count": 20,
   "metadata": {
    "canvas": {
     "comments": [],
     "componentType": "CodeCell",
     "copiedOriginId": null,
     "diskcache": false,
     "headerColor": "none",
     "id": "29b1578a-54a7-4050-8031-ca5f61f7688f",
     "isComponent": false,
     "name": "",
     "parents": []
    },
    "colab": {
     "base_uri": "https://localhost:8080/",
     "height": 87
    },
    "id": "69BpRAs2Dfa8",
    "outputId": "e89b3bde-c09a-4ce9-e8fb-3b18239c6ee8"
   },
   "outputs": [
    {
     "data": {
      "text/html": [
       "<span class=\"tex2jax_ignore\"><div class=\"entities\" style=\"line-height: 2.5; direction: ltr\">\n",
       "<mark class=\"entity\" style=\"background: #bfe1d9; padding: 0.45em 0.6em; margin: 0 0.25em; line-height: 1; border-radius: 0.35em;\">\n",
       "    Today\n",
       "    <span style=\"font-size: 0.8em; font-weight: bold; line-height: 1; border-radius: 0.35em; vertical-align: middle; margin-left: 0.5rem\">DATE</span>\n",
       "</mark>\n",
       " is \n",
       "<mark class=\"entity\" style=\"background: #bfe1d9; padding: 0.45em 0.6em; margin: 0 0.25em; line-height: 1; border-radius: 0.35em;\">\n",
       "    the day\n",
       "    <span style=\"font-size: 0.8em; font-weight: bold; line-height: 1; border-radius: 0.35em; vertical-align: middle; margin-left: 0.5rem\">DATE</span>\n",
       "</mark>\n",
       " to vote for \n",
       "<mark class=\"entity\" style=\"background: #aa9cfc; padding: 0.45em 0.6em; margin: 0 0.25em; line-height: 1; border-radius: 0.35em;\">\n",
       "    Brian Kemp\n",
       "    <span style=\"font-size: 0.8em; font-weight: bold; line-height: 1; border-radius: 0.35em; vertical-align: middle; margin-left: 0.5rem\">PERSON</span>\n",
       "</mark>\n",
       ". Will be great for \n",
       "<mark class=\"entity\" style=\"background: #feca74; padding: 0.45em 0.6em; margin: 0 0.25em; line-height: 1; border-radius: 0.35em;\">\n",
       "    Georgia\n",
       "    <span style=\"font-size: 0.8em; font-weight: bold; line-height: 1; border-radius: 0.35em; vertical-align: middle; margin-left: 0.5rem\">GPE</span>\n",
       "</mark>\n",
       ", full Endorsement! https://t.co/yPND2bJ219</div></span>"
      ],
      "text/plain": [
       "<IPython.core.display.HTML object>"
      ]
     },
     "metadata": {},
     "output_type": "display_data"
    },
    {
     "data": {
      "text/html": [
       "<span class=\"tex2jax_ignore\"><div class=\"entities\" style=\"line-height: 2.5; direction: ltr\">\n",
       "<mark class=\"entity\" style=\"background: #bfe1d9; padding: 0.45em 0.6em; margin: 0 0.25em; line-height: 1; border-radius: 0.35em;\">\n",
       "    Today\n",
       "    <span style=\"font-size: 0.8em; font-weight: bold; line-height: 1; border-radius: 0.35em; vertical-align: middle; margin-left: 0.5rem\">DATE</span>\n",
       "</mark>\n",
       " is \n",
       "<mark class=\"entity\" style=\"background: #bfe1d9; padding: 0.45em 0.6em; margin: 0 0.25em; line-height: 1; border-radius: 0.35em;\">\n",
       "    the day\n",
       "    <span style=\"font-size: 0.8em; font-weight: bold; line-height: 1; border-radius: 0.35em; vertical-align: middle; margin-left: 0.5rem\">DATE</span>\n",
       "</mark>\n",
       " to vote for [REDACTED] . Will be great for \n",
       "<mark class=\"entity\" style=\"background: #feca74; padding: 0.45em 0.6em; margin: 0 0.25em; line-height: 1; border-radius: 0.35em;\">\n",
       "    Georgia\n",
       "    <span style=\"font-size: 0.8em; font-weight: bold; line-height: 1; border-radius: 0.35em; vertical-align: middle; margin-left: 0.5rem\">GPE</span>\n",
       "</mark>\n",
       " , full Endorsement ! https://t.co/yPND2bJ219</div></span>"
      ],
      "text/plain": [
       "<IPython.core.display.HTML object>"
      ]
     },
     "metadata": {},
     "output_type": "display_data"
    }
   ],
   "source": [
    "tweet = tweets.loc[420, 'text']\n",
    "display_ent(tweet)\n",
    "\n",
    "r_tweet = redact_names(tweet)\n",
    "display_ent(r_tweet)"
   ]
  },
  {
   "cell_type": "markdown",
   "metadata": {
    "canvas": {
     "comments": [],
     "componentType": "CodeCell",
     "copiedOriginId": null,
     "diskcache": false,
     "headerColor": "none",
     "id": "56f71b36-a0a3-4ac4-a73c-db32f184fa0d",
     "isComponent": false,
     "name": "",
     "parents": []
    },
    "id": "fCyqxrtTFQdD"
   },
   "source": [
    "# Noun chunks"
   ]
  },
  {
   "cell_type": "code",
   "execution_count": 21,
   "metadata": {
    "canvas": {
     "comments": [],
     "componentType": "CodeCell",
     "copiedOriginId": null,
     "diskcache": false,
     "headerColor": "none",
     "id": "e41af308-baf9-48b3-b0ea-4e3ddb36f2bc",
     "isComponent": false,
     "name": "",
     "parents": []
    },
    "colab": {
     "base_uri": "https://localhost:8080/"
    },
    "id": "RsgxojqIFQLx",
    "outputId": "508af907-a2eb-4f41-d13a-f15fc2bff9d6"
   },
   "outputs": [
    {
     "name": "stdout",
     "output_type": "stream",
     "text": [
      "Over 90% approval rating for your all time favorite (I hope)\n",
      "President within the Republican Party and 52% overall.\n",
      "This despite all of the made up stories by the Fake News Media trying endlessly to make me look as bad and evil as possible.\n",
      "Look at the real villains please!\n"
     ]
    }
   ],
   "source": [
    "for s in doc.sents:\n",
    "    print(s)"
   ]
  },
  {
   "cell_type": "code",
   "execution_count": 22,
   "metadata": {
    "canvas": {
     "comments": [],
     "componentType": "CodeCell",
     "copiedOriginId": null,
     "diskcache": false,
     "headerColor": "none",
     "id": "76169944-da58-4363-89b3-98709475de94",
     "isComponent": false,
     "name": "",
     "parents": []
    },
    "colab": {
     "base_uri": "https://localhost:8080/",
     "height": 87
    },
    "id": "B8VCkcPYF5XX",
    "outputId": "b93acd18-bceb-4c3e-d148-ec662d105fe6"
   },
   "outputs": [
    {
     "data": {
      "text/html": [
       "<span class=\"tex2jax_ignore\"><div class=\"entities\" style=\"line-height: 2.5; direction: ltr\">\n",
       "<mark class=\"entity\" style=\"background: #e4e7d2; padding: 0.45em 0.6em; margin: 0 0.25em; line-height: 1; border-radius: 0.35em;\">\n",
       "    Over 90%\n",
       "    <span style=\"font-size: 0.8em; font-weight: bold; line-height: 1; border-radius: 0.35em; vertical-align: middle; margin-left: 0.5rem\">PERCENT</span>\n",
       "</mark>\n",
       " approval rating for your all time favorite (I hope) President within \n",
       "<mark class=\"entity\" style=\"background: #7aecec; padding: 0.45em 0.6em; margin: 0 0.25em; line-height: 1; border-radius: 0.35em;\">\n",
       "    the Republican Party\n",
       "    <span style=\"font-size: 0.8em; font-weight: bold; line-height: 1; border-radius: 0.35em; vertical-align: middle; margin-left: 0.5rem\">ORG</span>\n",
       "</mark>\n",
       " and \n",
       "<mark class=\"entity\" style=\"background: #e4e7d2; padding: 0.45em 0.6em; margin: 0 0.25em; line-height: 1; border-radius: 0.35em;\">\n",
       "    52%\n",
       "    <span style=\"font-size: 0.8em; font-weight: bold; line-height: 1; border-radius: 0.35em; vertical-align: middle; margin-left: 0.5rem\">PERCENT</span>\n",
       "</mark>\n",
       " overall. This despite all of the made up stories by \n",
       "<mark class=\"entity\" style=\"background: #7aecec; padding: 0.45em 0.6em; margin: 0 0.25em; line-height: 1; border-radius: 0.35em;\">\n",
       "    the Fake News Media\n",
       "    <span style=\"font-size: 0.8em; font-weight: bold; line-height: 1; border-radius: 0.35em; vertical-align: middle; margin-left: 0.5rem\">ORG</span>\n",
       "</mark>\n",
       " trying endlessly to make me look as bad and evil as possible. Look at the real villains please!</div></span>"
      ],
      "text/plain": [
       "<IPython.core.display.HTML object>"
      ]
     },
     "metadata": {},
     "output_type": "display_data"
    }
   ],
   "source": [
    "example_text = tweets.loc[0, 'text']\n",
    "doc = nlp(example_text)\n",
    "display_ent(example_text)"
   ]
  },
  {
   "cell_type": "code",
   "execution_count": 23,
   "metadata": {
    "canvas": {
     "comments": [],
     "componentType": "CodeCell",
     "copiedOriginId": null,
     "diskcache": false,
     "headerColor": "none",
     "id": "881d9e85-2ea2-4d5c-8270-37a32439fac7",
     "isComponent": false,
     "name": "",
     "parents": []
    },
    "colab": {
     "base_uri": "https://localhost:8080/"
    },
    "id": "wU9znOILGiea",
    "outputId": "3653b1df-9109-4bba-b91e-fa9d3b02d5d6"
   },
   "outputs": [
    {
     "name": "stdout",
     "output_type": "stream",
     "text": [
      "sentence: 1 has noun chunk: Over 90% approval rating\n",
      "sentence: 1 has noun chunk: I\n",
      "sentence: 2 has noun chunk: President\n",
      "sentence: 2 has noun chunk: the Republican Party\n",
      "sentence: 2 has noun chunk: 52%\n",
      "sentence: 3 has noun chunk: This\n",
      "sentence: 3 has noun chunk: all\n",
      "sentence: 3 has noun chunk: the made up stories\n",
      "sentence: 3 has noun chunk: the Fake News Media\n",
      "sentence: 3 has noun chunk: me\n",
      "sentence: 4 has noun chunk: the real villains\n"
     ]
    }
   ],
   "source": [
    "for idx, sentence in enumerate(doc.sents):\n",
    "    for noun in sentence.noun_chunks:\n",
    "        print(f\"sentence: {idx + 1} has noun chunk: {noun}\")"
   ]
  },
  {
   "cell_type": "markdown",
   "metadata": {
    "canvas": {
     "comments": [],
     "componentType": "CodeCell",
     "copiedOriginId": null,
     "diskcache": false,
     "headerColor": "none",
     "id": "fe5edbb8-3905-4fbc-8c64-8af133d3a01d",
     "isComponent": false,
     "name": "",
     "parents": []
    },
    "id": "k96SbGWl0bsH"
   },
   "source": [
    "# Semantic analysis"
   ]
  },
  {
   "cell_type": "code",
   "execution_count": 24,
   "metadata": {
    "canvas": {
     "comments": [],
     "componentType": "CodeCell",
     "copiedOriginId": null,
     "diskcache": false,
     "headerColor": "none",
     "id": "db8fb74d-b440-40e3-b624-6e13017a7a4f",
     "isComponent": false,
     "name": "",
     "parents": []
    },
    "colab": {
     "base_uri": "https://localhost:8080/",
     "height": 659
    },
    "id": "Y90S3sn30bgp",
    "outputId": "3c29b424-43c1-4a3b-b493-d00c68ea3678"
   },
   "outputs": [
    {
     "data": {
      "text/html": [
       "<div>\n",
       "<style scoped>\n",
       "    .dataframe tbody tr th:only-of-type {\n",
       "        vertical-align: middle;\n",
       "    }\n",
       "\n",
       "    .dataframe tbody tr th {\n",
       "        vertical-align: top;\n",
       "    }\n",
       "\n",
       "    .dataframe thead th {\n",
       "        text-align: right;\n",
       "    }\n",
       "</style>\n",
       "<table border=\"1\" class=\"dataframe\">\n",
       "  <thead>\n",
       "    <tr style=\"text-align: right;\">\n",
       "      <th></th>\n",
       "      <th>Unnamed: 0</th>\n",
       "      <th>source</th>\n",
       "      <th>text</th>\n",
       "      <th>created_at</th>\n",
       "      <th>retweet_count</th>\n",
       "      <th>favorite_count</th>\n",
       "      <th>is_retweet</th>\n",
       "      <th>id_str</th>\n",
       "    </tr>\n",
       "  </thead>\n",
       "  <tbody>\n",
       "    <tr>\n",
       "      <th>0</th>\n",
       "      <td>0</td>\n",
       "      <td>Twitter for iPhone</td>\n",
       "      <td>Over 90% approval rating for your all time fav...</td>\n",
       "      <td>Mon Aug 27 00:39:38 +0000 2018</td>\n",
       "      <td>27040</td>\n",
       "      <td>106838.0</td>\n",
       "      <td>False</td>\n",
       "      <td>1.033877e+18</td>\n",
       "    </tr>\n",
       "    <tr>\n",
       "      <th>1</th>\n",
       "      <td>1</td>\n",
       "      <td>Twitter for iPhone</td>\n",
       "      <td>“Mainstream Media tries to rewrite history to ...</td>\n",
       "      <td>Sun Aug 26 22:01:33 +0000 2018</td>\n",
       "      <td>21346</td>\n",
       "      <td>76682.0</td>\n",
       "      <td>False</td>\n",
       "      <td>1.033837e+18</td>\n",
       "    </tr>\n",
       "    <tr>\n",
       "      <th>2</th>\n",
       "      <td>2</td>\n",
       "      <td>Twitter for iPhone</td>\n",
       "      <td>Fantastic numbers on consumer spending release...</td>\n",
       "      <td>Sun Aug 26 14:31:06 +0000 2018</td>\n",
       "      <td>18960</td>\n",
       "      <td>87334.0</td>\n",
       "      <td>False</td>\n",
       "      <td>1.033724e+18</td>\n",
       "    </tr>\n",
       "    <tr>\n",
       "      <th>3</th>\n",
       "      <td>3</td>\n",
       "      <td>Twitter for iPhone</td>\n",
       "      <td>...And it will get, as I have always said, muc...</td>\n",
       "      <td>Sun Aug 26 14:27:16 +0000 2018</td>\n",
       "      <td>14963</td>\n",
       "      <td>62956.0</td>\n",
       "      <td>False</td>\n",
       "      <td>1.033723e+18</td>\n",
       "    </tr>\n",
       "    <tr>\n",
       "      <th>4</th>\n",
       "      <td>4</td>\n",
       "      <td>Twitter for iPhone</td>\n",
       "      <td>RT @realDonaldTrump: Social Media Giants are s...</td>\n",
       "      <td>Sun Aug 26 14:25:47 +0000 2018</td>\n",
       "      <td>50142</td>\n",
       "      <td>0.0</td>\n",
       "      <td>True</td>\n",
       "      <td>1.033722e+18</td>\n",
       "    </tr>\n",
       "    <tr>\n",
       "      <th>...</th>\n",
       "      <td>...</td>\n",
       "      <td>...</td>\n",
       "      <td>...</td>\n",
       "      <td>...</td>\n",
       "      <td>...</td>\n",
       "      <td>...</td>\n",
       "      <td>...</td>\n",
       "      <td>...</td>\n",
       "    </tr>\n",
       "    <tr>\n",
       "      <th>328048</th>\n",
       "      <td>34835</td>\n",
       "      <td>Twitter Web Client</td>\n",
       "      <td>\"My persona will never be that of a wallflower...</td>\n",
       "      <td>Tue May 12 14:07:28 +0000 2009</td>\n",
       "      <td>1421</td>\n",
       "      <td>1950.0</td>\n",
       "      <td>False</td>\n",
       "      <td>1.773561e+09</td>\n",
       "    </tr>\n",
       "    <tr>\n",
       "      <th>328049</th>\n",
       "      <td>34836</td>\n",
       "      <td>Twitter Web Client</td>\n",
       "      <td>New Blog Post: Celebrity Apprentice Finale and...</td>\n",
       "      <td>Fri May 08 20:40:15 +0000 2009</td>\n",
       "      <td>8</td>\n",
       "      <td>27.0</td>\n",
       "      <td>False</td>\n",
       "      <td>1.741161e+09</td>\n",
       "    </tr>\n",
       "    <tr>\n",
       "      <th>328050</th>\n",
       "      <td>34837</td>\n",
       "      <td>Twitter Web Client</td>\n",
       "      <td>Donald Trump reads Top Ten Financial Tips on L...</td>\n",
       "      <td>Fri May 08 13:38:08 +0000 2009</td>\n",
       "      <td>3</td>\n",
       "      <td>2.0</td>\n",
       "      <td>False</td>\n",
       "      <td>1.737480e+09</td>\n",
       "    </tr>\n",
       "    <tr>\n",
       "      <th>328051</th>\n",
       "      <td>34838</td>\n",
       "      <td>Twitter Web Client</td>\n",
       "      <td>Donald Trump will be appearing on The View tom...</td>\n",
       "      <td>Tue May 05 01:00:10 +0000 2009</td>\n",
       "      <td>2</td>\n",
       "      <td>3.0</td>\n",
       "      <td>False</td>\n",
       "      <td>1.701461e+09</td>\n",
       "    </tr>\n",
       "    <tr>\n",
       "      <th>328052</th>\n",
       "      <td>34839</td>\n",
       "      <td>Twitter Web Client</td>\n",
       "      <td>Be sure to tune in and watch Donald Trump on L...</td>\n",
       "      <td>Mon May 04 18:54:25 +0000 2009</td>\n",
       "      <td>253</td>\n",
       "      <td>202.0</td>\n",
       "      <td>False</td>\n",
       "      <td>1.698309e+09</td>\n",
       "    </tr>\n",
       "  </tbody>\n",
       "</table>\n",
       "<p>328053 rows × 8 columns</p>\n",
       "</div>"
      ],
      "text/plain": [
       "       Unnamed: 0              source  \\\n",
       "0               0  Twitter for iPhone   \n",
       "1               1  Twitter for iPhone   \n",
       "2               2  Twitter for iPhone   \n",
       "3               3  Twitter for iPhone   \n",
       "4               4  Twitter for iPhone   \n",
       "...           ...                 ...   \n",
       "328048      34835  Twitter Web Client   \n",
       "328049      34836  Twitter Web Client   \n",
       "328050      34837  Twitter Web Client   \n",
       "328051      34838  Twitter Web Client   \n",
       "328052      34839  Twitter Web Client   \n",
       "\n",
       "                                                     text  \\\n",
       "0       Over 90% approval rating for your all time fav...   \n",
       "1       “Mainstream Media tries to rewrite history to ...   \n",
       "2       Fantastic numbers on consumer spending release...   \n",
       "3       ...And it will get, as I have always said, muc...   \n",
       "4       RT @realDonaldTrump: Social Media Giants are s...   \n",
       "...                                                   ...   \n",
       "328048  \"My persona will never be that of a wallflower...   \n",
       "328049  New Blog Post: Celebrity Apprentice Finale and...   \n",
       "328050  Donald Trump reads Top Ten Financial Tips on L...   \n",
       "328051  Donald Trump will be appearing on The View tom...   \n",
       "328052  Be sure to tune in and watch Donald Trump on L...   \n",
       "\n",
       "                            created_at retweet_count  favorite_count  \\\n",
       "0       Mon Aug 27 00:39:38 +0000 2018         27040        106838.0   \n",
       "1       Sun Aug 26 22:01:33 +0000 2018         21346         76682.0   \n",
       "2       Sun Aug 26 14:31:06 +0000 2018         18960         87334.0   \n",
       "3       Sun Aug 26 14:27:16 +0000 2018         14963         62956.0   \n",
       "4       Sun Aug 26 14:25:47 +0000 2018         50142             0.0   \n",
       "...                                ...           ...             ...   \n",
       "328048  Tue May 12 14:07:28 +0000 2009          1421          1950.0   \n",
       "328049  Fri May 08 20:40:15 +0000 2009             8            27.0   \n",
       "328050  Fri May 08 13:38:08 +0000 2009             3             2.0   \n",
       "328051  Tue May 05 01:00:10 +0000 2009             2             3.0   \n",
       "328052  Mon May 04 18:54:25 +0000 2009           253           202.0   \n",
       "\n",
       "       is_retweet        id_str  \n",
       "0           False  1.033877e+18  \n",
       "1           False  1.033837e+18  \n",
       "2           False  1.033724e+18  \n",
       "3           False  1.033723e+18  \n",
       "4            True  1.033722e+18  \n",
       "...           ...           ...  \n",
       "328048      False  1.773561e+09  \n",
       "328049      False  1.741161e+09  \n",
       "328050      False  1.737480e+09  \n",
       "328051      False  1.701461e+09  \n",
       "328052      False  1.698309e+09  \n",
       "\n",
       "[328053 rows x 8 columns]"
      ]
     },
     "execution_count": 24,
     "metadata": {},
     "output_type": "execute_result"
    }
   ],
   "source": [
    "tweets"
   ]
  },
  {
   "cell_type": "code",
   "execution_count": 25,
   "metadata": {
    "canvas": {
     "comments": [],
     "componentType": "CodeCell",
     "copiedOriginId": null,
     "diskcache": false,
     "headerColor": "none",
     "id": "d9a87acb-3775-4e62-8049-cfdc47fcd432",
     "isComponent": false,
     "name": "",
     "parents": []
    },
    "id": "1kXEi1jNHbp1"
   },
   "outputs": [],
   "source": [
    "text = tweets['text'].str.cat(sep=' ')"
   ]
  },
  {
   "cell_type": "code",
   "execution_count": 26,
   "metadata": {
    "canvas": {
     "comments": [],
     "componentType": "CodeCell",
     "copiedOriginId": null,
     "diskcache": false,
     "headerColor": "none",
     "id": "79acc246-cb39-409c-b1d2-6f01b8dd0534",
     "isComponent": false,
     "name": "",
     "parents": []
    },
    "id": "kOfH_78L1XUD"
   },
   "outputs": [
    {
     "data": {
      "text/plain": [
       "'Over 90% approval rating for your all time favorite (I hope) President within the Republican Party and 52% overall. This despite all of the made up stories by the Fake News Media trying endlessly to make me look as bad and evil as possible. Look at the real villains please! “Mainstream Media tries to rewrite history to credit Obama for Trump accomplishments. Since President Trump took office, the economy is booming. The stronger the economy gets, the more desperate his critics are. O had weakest recovery since Great Depression.” @WashTimes Fantastic numbers on consumer spending released on Friday. Stock Market hits all time high! ...And it will get, as I have always said, much better from even here! https://t.co/El26RzBjpG RT @realDonaldTrump: Social Media Giants are silencing millions of people. Can’t do this even if it means we must continue to hear Fake New… RT @realDonaldTrump: Big story out that the FBI ignored tens of thousands of Crooked Hillary Emails, many of which are REALLY BAD. Also gav… RT @realDonaldTrump: ....FISA abuse, Christopher Steele &amp; his phony and corrupt Dossier, the Clinton Foundation, illegal surveillance of Tr… RT @realDonaldTrump: “Department of Justice will not be improperly influenced by political considerations.” Jeff, this is GREAT, what every… My deepest sympathies and respect go out to the family of Senator John McCain. Our hearts and prayers are with you! Stock Market hit all time high on Friday. Congratulations U.S.A.! Our relationship with Mexico is getting closer by the hour. Some really good people within both the new and old government, and all working closely together....A big Trade Agreement with Mexico could be happening soon! “The FBI looked at less than 1%” of Crooked’s Emails! “The FBI only looked at 3000 of 675,000 Crooked Hillary Clinton Emails.” They purposely didn’t look at the disasters. This news is just out. @FoxNews Big story out that the FBI ignored tens of thousands of Crooked Hillary Emails, many of which are REALLY BAD. Also gave false election info. I feel sure that we will soon be getting to the bottom of all of this corruption. At some point I may have to get involved! .@LindseyGrahamSC  “Every President deserves an Attorney General they have confidence in. I believe every President has a right to their Cabinet, these are not lifetime appointments. You serve at the pleasure of the President.” Jeff Sessions said he wouldn’t allow politics to influence him only because he doesn’t understand wha'"
      ]
     },
     "execution_count": 26,
     "metadata": {},
     "output_type": "execute_result"
    }
   ],
   "source": [
    "max_length = 1_000_000 - 1\n",
    "text = text[:max_length]\n",
    "text[0:2500]"
   ]
  },
  {
   "cell_type": "code",
   "execution_count": 27,
   "metadata": {
    "canvas": {
     "comments": [],
     "componentType": "CodeCell",
     "copiedOriginId": null,
     "diskcache": false,
     "headerColor": "none",
     "id": "b8fb5d56-6f97-4a78-afa6-2b7b84bd94e5",
     "isComponent": false,
     "name": "",
     "parents": []
    },
    "id": "tD0gDo2r10JO"
   },
   "outputs": [],
   "source": [
    "url_reg = r'[a-z]*[:.]\\S+'\n",
    "text = re.sub(url_reg, '', text)"
   ]
  },
  {
   "cell_type": "code",
   "execution_count": 28,
   "metadata": {
    "canvas": {
     "comments": [],
     "componentType": "CodeCell",
     "copiedOriginId": null,
     "diskcache": false,
     "headerColor": "none",
     "id": "0d595ace-b6ac-414e-a430-01570dbd8e67",
     "isComponent": false,
     "name": "",
     "parents": []
    },
    "colab": {
     "base_uri": "https://localhost:8080/",
     "height": 157
    },
    "id": "EjgHrmg55tSc",
    "outputId": "054143ea-fd91-4cea-a46f-8a16a52412a7"
   },
   "outputs": [
    {
     "data": {
      "text/plain": [
       "'Over 90% approval rating for your all time favorite (I hope) President within the Republican Party and 52% overall. This despite all of the made up stories by the Fake News Media trying endlessly to make me look as bad and evil as possible. Look at the real villains please! “Mainstream Media tries to rewrite history to credit Obama for Trump accomplishments. Since President Trump took office, the economy is booming. The stronger the economy gets, the more desperate his critics are. O had weakest recovery since Great D @WashTimes Fantastic numbers on consumer spending released on Friday. Stock Market hits all time high!  it will get, as I have always said, much better from even here!  RT @realDonaldTrump: Social Media Giants are silencing millions of people. Can’t do this even if it means we must continue to hear Fake New… RT @realDonaldTrump: Big story out that the FBI ignored tens of thousands of Crooked Hillary Emails, many of which are REALLY BAD. Also gav… RT @realDonaldTrump:  abuse, Christopher Steele &amp; his phony and corrupt Dossier, the Clinton Foundation, illegal surveillance of Tr… RT @realDonaldTrump: “Department of Justice will not be improperly influenced by political  Jeff, this is GREAT, what every… My deepest sympathies and respect go out to the family of Senator John McCain. Our hearts and prayers are with you! Stock Market hit all time high on Friday. Congratulations U Our relationship with Mexico is getting closer by the hour. Some really good people within both the new and old government, and all working closely  big Trade Agreement with Mexico could be happening soon! “The FBI looked at less than 1%” of Crooked’s Emails! “The FBI only looked at 3000 of 675,000 Crooked Hillary Clinton E They purposely didn’t look at the disasters. This news is just out. @FoxNews Big story out that the FBI ignored tens of thousands of Crooked Hillary Emails, many of which are REALLY BAD. Also gave false election info. I feel sure that we will soon be getting to the bottom of all of this corruption. At some point I may have to get involved!   “Every President deserves an Attorney General they have confidence in. I believe every President has a right to their Cabinet, these are not lifetime appointments. You serve at the pleasure of the P Jeff Sessions said he wouldn’t allow politics to influence him only because he doesn’t understand what is happening underneath his command position. Highly conflicted Bob Mueller and his gang of 17 Angry Dems are havin'"
      ]
     },
     "execution_count": 28,
     "metadata": {},
     "output_type": "execute_result"
    }
   ],
   "source": [
    "text[0:2500]"
   ]
  },
  {
   "cell_type": "code",
   "execution_count": 29,
   "metadata": {
    "canvas": {
     "comments": [],
     "componentType": "CodeCell",
     "copiedOriginId": null,
     "diskcache": false,
     "headerColor": "none",
     "id": "4dd24cd5-fd5a-412f-b03d-ed26ab475781",
     "isComponent": false,
     "name": "",
     "parents": []
    },
    "colab": {
     "base_uri": "https://localhost:8080/"
    },
    "id": "e7M3BYaB5uFg",
    "outputId": "16bb0a37-eaa1-4286-929c-7977904e9e87"
   },
   "outputs": [
    {
     "name": "stdout",
     "output_type": "stream",
     "text": [
      "CPU times: user 22.3 s, sys: 3.62 s, total: 26 s\n",
      "Wall time: 27.2 s\n"
     ]
    }
   ],
   "source": [
    "%%time\n",
    "doc = nlp(text)"
   ]
  },
  {
   "cell_type": "code",
   "execution_count": 30,
   "metadata": {
    "canvas": {
     "comments": [],
     "componentType": "CodeCell",
     "copiedOriginId": null,
     "diskcache": false,
     "headerColor": "none",
     "id": "86e28488-c954-49b5-838d-c99902bb091d",
     "isComponent": false,
     "name": "",
     "parents": []
    },
    "id": "YG1Gu7y48WMo"
   },
   "outputs": [],
   "source": [
    "# items_of_interest = []\n",
    "# for x in doc.noun_chunks:\n",
    "#   items_of_interest.append(x.text)\n",
    "items_of_interest = [x.text for x in doc.noun_chunks]\n",
    "# items_of_interest = list(doc.noun_chunks)"
   ]
  },
  {
   "cell_type": "code",
   "execution_count": 31,
   "metadata": {
    "canvas": {
     "comments": [],
     "componentType": "CodeCell",
     "copiedOriginId": null,
     "diskcache": false,
     "headerColor": "none",
     "id": "de9e9d08-2c79-42ad-8d41-876c0d67d872",
     "isComponent": false,
     "name": "",
     "parents": []
    },
    "id": "aHp5QW5n8jI_"
   },
   "outputs": [
    {
     "name": "stdout",
     "output_type": "stream",
     "text": [
      "Over 90% approval rating, I, President, the Republican Party, 52%, This, all, the made up stories, the Fake News Media, me, the real villains, Mainstream Media, history, Obama, Trump accomplishments, President Trump, office, the economy, the economy, his critics, weakest recovery, Great D @WashTimes Fantastic numbers, consumer spending, Friday, Stock Market, it, I, RT @realDonaldTrump, Social Media Giants, millions, people, this, it, we, Fake New, Big story, the FBI, tens of thousands, Crooked Hillary Emails, which, Also gav… RT @realDonaldTrump:  abuse, Christopher Steele, amp, his phony and corrupt Dossier, the Clinton Foundation, illegal surveillance, Tr, RT @realDonaldTrump, Department, Justice, political  Jeff, this, what, My deepest sympathies, respect, the family, Senator John McCain, Our hearts, prayers, you, Stock Market, all time, Friday, Congratulations U, Our relationship, Mexico, the hour, Some really good people, both the new and old government, all, closely  big Trade Agreement, Mexico, The FBI, less than 1%, Crooked’s Emails, The FBI, They, the disasters, This news, Big story, the FBI, tens of thousands, Crooked Hillary Emails, which, false election info, I, we, the bottom, all, this corruption, some point, I, Every President, an Attorney General, they, confidence, I, every President, a right, their Cabinet, these, lifetime appointments, You, the pleasure, the P Jeff Sessions, he, politics, him, he, what, his command position, Highly conflicted Bob Mueller, his gang, 17 Angry Dems, a field day, real corruption, No Collusion, Michaels Cohen’s attorney, the record, his client, President Trump, the Trump Tower meeting, which, nothing, The answer, I, the meeting, Just another phony story, the Fake News Media, Vince, you, the greats, Great #StateDinner2018, Ohio, we, AMERICA, the Senate, solutions, the secrecy, ridiculously high drug prices, I, my drug pricing Blueprint, the House, American patients, #AmericanPatientsFirst Congratulations, new Australian Prime Minister Scott Morrison, no greater friends, the United States, Australia, I, Governor David Ige, Hawaii, our full support, the people, Hawaii, the State, #HurricaneLane, The Federal Government, the people, Hawaii, you, I, you, Pompeo, North Korea, the near future, our Trading relationship, China, the meantime, I, my warmest regards, respect, Chairman Kim, I, him, our much tougher Trading stance, China, I, they, the process, denuclearization, they, the UN Sanctions, which, place, I, State,\n"
     ]
    }
   ],
   "source": [
    "print((', '.join(items_of_interest))[0:2500])"
   ]
  },
  {
   "cell_type": "code",
   "execution_count": 32,
   "metadata": {
    "canvas": {
     "comments": [],
     "componentType": "CodeCell",
     "copiedOriginId": null,
     "diskcache": false,
     "headerColor": "none",
     "id": "33247dc7-18b1-4222-b9e9-fbfe4bc3509d",
     "isComponent": false,
     "name": "",
     "parents": []
    },
    "colab": {
     "base_uri": "https://localhost:8080/",
     "height": 279
    },
    "id": "6nSHLOxb9CDq",
    "outputId": "d817e3e7-682c-40e8-d744-63212ecfdbb0"
   },
   "outputs": [
    {
     "data": {
      "image/png": "[encoded data removed]",
      "text/plain": [
       "<Figure size 500x400 with 1 Axes>"
      ]
     },
     "metadata": {},
     "output_type": "display_data"
    }
   ],
   "source": [
    "df_nouns = pd.DataFrame(items_of_interest, columns=['TrumpSays'])\n",
    "\n",
    "plt.figure(figsize=(5, 4))\n",
    "sns.countplot(y='TrumpSays',\n",
    "               data=df_nouns,\n",
    "               order=df_nouns['TrumpSays'].value_counts().iloc[:10].index)\n",
    "plt.show()"
   ]
  },
  {
   "cell_type": "code",
   "execution_count": 33,
   "metadata": {
    "canvas": {
     "comments": [],
     "componentType": "CodeCell",
     "copiedOriginId": null,
     "diskcache": false,
     "headerColor": "none",
     "id": "0aff51ac-e8ad-45d4-aa08-26c2eb4a6b9b",
     "isComponent": false,
     "name": "",
     "parents": []
    },
    "id": "uLx_C24v-93v"
   },
   "outputs": [],
   "source": [
    "trump_topic = []\n",
    "for token in doc:\n",
    "    if (not token.is_stop) and \\\n",
    "        (token.pos_ == 'NOUN') and \\\n",
    "        (len(token.text) > 3):\n",
    "        trump_topic.append(token.text)"
   ]
  },
  {
   "cell_type": "code",
   "execution_count": 34,
   "metadata": {
    "canvas": {
     "comments": [],
     "componentType": "CodeCell",
     "copiedOriginId": null,
     "diskcache": false,
     "headerColor": "none",
     "id": "0abb42ac-6f35-4acc-b2ea-292beb1d70c7",
     "isComponent": false,
     "name": "",
     "parents": []
    },
    "id": "2EkvzMlE_3HQ"
   },
   "outputs": [
    {
     "name": "stdout",
     "output_type": "stream",
     "text": [
      "approval, rating, time, stories, Media, villains, history, accomplishments, office, economy, economy, critics, recovery, @WashTimes, numbers, consumer, spending, time, millions, people, story, tens, thousands, abuse, surveillance, sympathies, respect, family, hearts, prayers, time, Congratulations, relationship, hour, people, government, Emails, disasters, news, story, tens, thousands, election, info, corruption, point, confidence, right, lifetime, appointments, pleasure, politics, command, position, gang, field, corruption, Collusion, attorney, record, client, meeting, answer, meeting, story, birthday, greats, StateDinner2018, tonight, solutions, secrecy, drug, prices, drug, pricing, patients, Congratulations, friends, today, support, people, people, future, Trading, relationship, meantime, regards, respect, Trading, stance, process, denuclearization, place, time, progress, respect, denuclearization, millions, people, ratings, People, censorship, contractor, months, jail, information, potatoes, abuse, surveillance, collusion, papers, documents, redaction, country, corruption, Emails, leaks, conflicts, Economy, records, country, value, Companies, Economy, consumer, environment, statement, executive, Deals, cost, cutting, today, odds, challenger, @SecretsBedard, @dcexaminer, time, Vets, emergency, disaster, declaration, support, teams, state, authorities, thoughts, honor, today, COLLUSION, HUNT, land, farm, seizures, expropriations, scale, killing, farmers, land, land, farm, seizures, expropriations, scale, killing, farmers, land, thing, wrong, election, problem, states, @foxandfriends, tomorrow, Enjoy, Today, family, recipient, bull, history, stock, market, path, advice, officials, updates, remarks, @foxandfriends, resident, decades, counts, campaign, finance, violations, crime, campaign, finance, violation, number, counts, case, family, year, case, things, pressure, stories, order, respect, lawyer, services, crowd, tonight, Tickets, people, TODAY, campaign, slogan, imagination, @foxandfriends, tonight, race, odds, fighter, things, consequences, consequences, country, people, system, time, step, rails, things, businessman, working, person, VOTE, condition, Clearance, @seanhannity, woman, accomplishment, potential, seat, friend, support, crime, STOP, poison, children, country, delay, center, ALLEGATIONS, dollar, investigation, word, family, money, phony, joke, prestige, dollars, board, seats, people, country, history, lawsuit, records, texts, emails, docume\n"
     ]
    }
   ],
   "source": [
    "print((', '.join(trump_topic))[0:2500])"
   ]
  },
  {
   "cell_type": "code",
   "execution_count": 35,
   "metadata": {
    "canvas": {
     "comments": [],
     "componentType": "CodeCell",
     "copiedOriginId": null,
     "diskcache": false,
     "headerColor": "none",
     "id": "063b9ed5-9b6b-4357-9836-c1efd1baa207",
     "isComponent": false,
     "name": "",
     "parents": []
    },
    "colab": {
     "base_uri": "https://localhost:8080/",
     "height": 279
    },
    "id": "jLgKEtT7_3e4",
    "outputId": "6f112a3a-983a-4073-f60c-cb01e2545efa"
   },
   "outputs": [
    {
     "data": {
      "image/png": "[encoded data removed]",
      "text/plain": [
       "<Figure size 500x400 with 1 Axes>"
      ]
     },
     "metadata": {},
     "output_type": "display_data"
    }
   ],
   "source": [
    "df_nouns = pd.DataFrame(trump_topic, columns=['TrumpTopic'])\n",
    "\n",
    "plt.figure(figsize=(5, 4))\n",
    "sns.countplot(y='TrumpTopic',\n",
    "              data=df_nouns,\n",
    "              order=df_nouns['TrumpTopic'].value_counts().iloc[:10].index)\n",
    "plt.show()"
   ]
  },
  {
   "cell_type": "code",
   "execution_count": 36,
   "metadata": {
    "canvas": {
     "comments": [],
     "componentType": "CodeCell",
     "copiedOriginId": null,
     "diskcache": false,
     "headerColor": "none",
     "id": "9296beb8-75a1-42ef-b118-8e5d0b005ad0",
     "isComponent": false,
     "name": "",
     "parents": []
    },
    "id": "Zl2-RbIIEZbU"
   },
   "outputs": [],
   "source": [
    "trump_ent = []\n",
    "for ent in doc.ents:\n",
    "    if ent.label_ not in ['PERCENT', 'DATE', 'TIME', 'CARDINAL']:\n",
    "        trump_ent.append(ent.text)"
   ]
  },
  {
   "cell_type": "code",
   "execution_count": 37,
   "metadata": {
    "canvas": {
     "comments": [],
     "componentType": "CodeCell",
     "copiedOriginId": null,
     "diskcache": false,
     "headerColor": "none",
     "id": "c00589cc-f4eb-42de-a0f1-db5b553a4cdf",
     "isComponent": false,
     "name": "",
     "parents": []
    },
    "id": "A4noyeEiE-zC"
   },
   "outputs": [
    {
     "name": "stdout",
     "output_type": "stream",
     "text": [
      "the Republican Party, the Fake News Media, Obama, Trump, Trump, RT @realDonaldTrump, Social Media Giants, FBI, Christopher Steele &amp, Dossier, the Clinton Foundation, Department of Justice, Jeff, GREAT, John McCain, Mexico, Trade Agreement, Mexico, FBI, FBI, Hillary Clinton, FBI, Cabinet, Bob Mueller, Dems, Michaels Cohen, Trump, Trump Tower, the Fake News Media, Vince, Great #StateDinner2018, Ohio, Senate, Blueprint, House, American, AmericanPatientsFirst Congratulations, Australian, Scott Morrison, the United States, Australia, David Ige, Hawaii, Hawaii, State, The Federal Government, Hawaii, Ohio, Pompeo, North Korea, China, Kim, China, the UN Sanctions, State, Mike Pompeo, North Korea, Social Media Giants, Fake News, CNN, Hillary Clinton, Jeff, Christopher Steele &amp, Dossier, the Clinton Foundation, Trump Campaign, Russian, Dems, Jeff, Department of Justice, Jeff, GREAT, Comey, Mueller, McCabe, Strzok, Page, Election, U Target, @DRUDGE_REPORT, Polls, RT @DanScavino, @realDonaldTrump, @dcexaminer, Senate, Cindy, Mississippi, America, First, Vets, Hawaii, the Foreign Investment Risk Review Modernization Act Roundtable, @WhiteHouse, State @SecPompeo, South Africa, South African Government, State, @MikePompeo4USA, South Africa, South African Government, @TuckerCarlson  , Hillary Clinton, Democrats, @ainsleyearhardt, RT @Scavino45, Trump, @usairforce Tech, John A. Chapman, America, State, @NWSHonolulu, Democrat, Dov Hikind, New York, Nazi, Germany, Michael Cohen, Obama, Paul Manafort, Hunt, Paul Manafort, Justice, Michael Cohen, Michael Cohen, West Virginia, West Virginia, the Charleston Civic Center, West Virginia, the Great State of Wyoming:, Foster Friess - He, Borders &amp, 2nd Amendment, Vets, Bill DeBlasio, NYC, KEPT, West Virginia, Patrick Morrisey, GREAT, U Senate, West Virginia, Patrick, Border, the United States, New Yorker, Intelligence Briefings, Obama, James Clapper, John Brennan, Clapper, Congress, Red Wave, the Republican Party, California Gubernatorial Candidate, John Cox, Taxes &amp, the Great State of West Virginia, Patrick Morrisey, the U Senate, Patrick, Energy &amp, VOTE, MAGA, Intelligence, Phillip Mudd, @PARISDENNARD, Brennan, Dennard, REVOKED, @seanhannity, Republican, Congressional, Darrell Issa, Diane, the U Postal System, China, END, Senate, the STOP ACT, Bruce Ohr, multi-million dollar, Darrell Issa, House, Will Bruce Ohr, Dossier, the Jeff Sessions, Justice, Brennan, John Brennan, CIA, Collusion, Collusion, the Rigged Witch \n"
     ]
    }
   ],
   "source": [
    "print((', '.join(trump_ent))[0:2500])"
   ]
  },
  {
   "cell_type": "code",
   "execution_count": 38,
   "metadata": {
    "canvas": {
     "comments": [],
     "componentType": "CodeCell",
     "copiedOriginId": null,
     "diskcache": false,
     "headerColor": "none",
     "id": "9331af61-3536-4e81-84b8-8dcba2932f4f",
     "isComponent": false,
     "name": "",
     "parents": []
    },
    "colab": {
     "base_uri": "https://localhost:8080/",
     "height": 279
    },
    "id": "opSNmO5sFAAI",
    "outputId": "5a39534a-7252-4f98-b102-f78a90801862"
   },
   "outputs": [
    {
     "data": {
      "image/png": "[encoded data removed]",
      "text/plain": [
       "<Figure size 500x400 with 1 Axes>"
      ]
     },
     "metadata": {},
     "output_type": "display_data"
    }
   ],
   "source": [
    "df_ent = pd.DataFrame(trump_ent, columns=['TrumpEnt'])\n",
    "plt.figure(figsize=(5, 4))\n",
    "sns.countplot(y='TrumpEnt',\n",
    "              data=df_ent,\n",
    "              order=df_ent['TrumpEnt'].value_counts().iloc[:10].index)\n",
    "plt.show()"
   ]
  },
  {
   "cell_type": "markdown",
   "metadata": {
    "canvas": {
     "comments": [],
     "componentType": "CodeCell",
     "copiedOriginId": null,
     "diskcache": false,
     "headerColor": "none",
     "id": "ee8d119e-6315-4629-aa71-799014ad44f1",
     "isComponent": false,
     "name": "",
     "parents": []
    },
    "id": "DhL_ArgZII5A"
   },
   "source": [
    "# Word Cloud"
   ]
  },
  {
   "cell_type": "code",
   "execution_count": 39,
   "metadata": {
    "canvas": {
     "comments": [],
     "componentType": "CodeCell",
     "copiedOriginId": null,
     "diskcache": false,
     "headerColor": "none",
     "id": "41df4fbf-7f1c-45e4-81ee-51c6b47d92df",
     "isComponent": false,
     "name": "",
     "parents": []
    },
    "colab": {
     "base_uri": "https://localhost:8080/",
     "height": 303
    },
    "id": "pQWEg-GmIKwA",
    "outputId": "e5c582e4-3ac2-4ddf-8354-74d2454e74cb"
   },
   "outputs": [
    {
     "data": {
      "image/png": "[encoded data removed]",
      "text/plain": [
       "<Figure size 1000x500 with 1 Axes>"
      ]
     },
     "metadata": {},
     "output_type": "display_data"
    }
   ],
   "source": [
    "plt.figure(figsize=(10, 5))\n",
    "wordcloud = WordCloud(width = 1000, height = 600, background_color='white',\n",
    "                      stopwords=STOP_WORDS,\n",
    "                      max_words=100,\n",
    "                      # max_font_size=30,\n",
    "                      random_state=42 \n",
    "                      ).generate(\"\\n\".join(trump_ent))\n",
    "plt.imshow(wordcloud)\n",
    "plt.axis('off')\n",
    "plt.show()"
   ]
  },
  {
   "cell_type": "code",
   "execution_count": 40,
   "metadata": {
    "canvas": {
     "comments": [],
     "componentType": "CodeCell",
     "copiedOriginId": null,
     "diskcache": false,
     "headerColor": "none",
     "id": "bfeefa5c-4ff3-43ac-b7de-a33255bf19c6",
     "isComponent": false,
     "name": "",
     "parents": []
    },
    "colab": {
     "base_uri": "https://localhost:8080/",
     "height": 157
    },
    "id": "AIgC1Y0IJVJo",
    "outputId": "ca54fc80-1a3d-454f-801b-0083732fcb19"
   },
   "outputs": [
    {
     "name": "stdout",
     "output_type": "stream",
     "text": [
      "the Republican Party, the Fake News Media, Obama, Trump, Trump, RT @realDonaldTrump, Social Media Giants, FBI, Christopher Steele &amp, Dossier, the Clinton Foundation, Department of Justice, Jeff, GREAT, John McCain, Mexico, Trade Agreement, Mexico, FBI, FBI, Hillary Clinton, FBI, Cabinet, Bob Mueller, Dems, Michaels Cohen, Trump, Trump Tower, the Fake News Media, Vince, Great #StateDinner2018, Ohio, Senate, Blueprint, House, American, AmericanPatientsFirst Congratulations, Australian, Scott Morrison, the United States, Australia, David Ige, Hawaii, Hawaii, State, The Federal Government, Hawaii, Ohio, Pompeo, North Korea, China, Kim, China, the UN Sanctions, State, Mike Pompeo, North Korea, Social Media Giants, Fake News, CNN, Hillary Clinton, Jeff, Christopher Steele &amp, Dossier, the Clinton Foundation, Trump Campaign, Russian, Dems, Jeff, Department of Justice, Jeff, GREAT, Comey, Mueller, McCabe, Strzok, Page, Election, U Target, @DRUDGE_REPORT, Polls, RT @DanScavino, @realDonaldTrump, @dcexaminer, Senate, Cindy, Mississippi, America, First, Vets, Hawaii, the Foreign Investment Risk Review Modernization Act Roundtable, @WhiteHouse, State @SecPompeo, South Africa, South African Government, State, @MikePompeo4USA, South Africa, South African Government, @TuckerCarlson  , Hillary Clinton, Democrats, @ainsleyearhardt, RT @Scavino45, Trump, @usairforce Tech, John A. Chapman, America, State, @NWSHonolulu, Democrat, Dov Hikind, New York, Nazi, Germany, Michael Cohen, Obama, Paul Manafort, Hunt, Paul Manafort, Justice, Michael Cohen, Michael Cohen, West Virginia, West Virginia, the Charleston Civic Center, West Virginia, the Great State of Wyoming:, Foster Friess - He, Borders &amp, 2nd Amendment, Vets, Bill DeBlasio, NYC, KEPT, West Virginia, Patrick Morrisey, GREAT, U Senate, West Virginia, Patrick, Border, the United States, New Yorker, Intelligence Briefings, Obama, James Clapper, John Brennan, Clapper, Congress, Red Wave, the Republican Party, California Gubernatorial Candidate, John Cox, Taxes &amp, the Great State of West Virginia, Patrick Morrisey, the U Senate, Patrick, Energy &amp, VOTE, MAGA, Intelligence, Phillip Mudd, @PARISDENNARD, Brennan, Dennard, REVOKED, @seanhannity, Republican, Congressional, Darrell Issa, Diane, the U Postal System, China, END, Senate, the STOP ACT, Bruce Ohr, multi-million dollar, Darrell Issa, House, Will Bruce Ohr, Dossier, the Jeff Sessions, Justice, Brennan, John Brennan, CIA, Collusion, Collusion, the Rigged Witch \n"
     ]
    }
   ],
   "source": [
    "print(\", \".join(trump_ent)[:2500])"
   ]
  },
  {
   "cell_type": "markdown",
   "metadata": {
    "canvas": {
     "comments": [],
     "componentType": "CodeCell",
     "copiedOriginId": null,
     "diskcache": false,
     "headerColor": "none",
     "id": "7e01fada-7e57-4792-9734-ed01940b0842",
     "isComponent": false,
     "name": "",
     "parents": []
    },
    "id": "ZsI6oD4APHZQ"
   },
   "source": [
    "# Matcher"
   ]
  },
  {
   "cell_type": "code",
   "execution_count": 41,
   "metadata": {
    "canvas": {
     "comments": [],
     "componentType": "CodeCell",
     "copiedOriginId": null,
     "diskcache": false,
     "headerColor": "none",
     "id": "2573faf1-26e9-4283-bf56-598bd06da4ea",
     "isComponent": false,
     "name": "",
     "parents": []
    },
    "id": "kGqIKo_YPIrS"
   },
   "outputs": [],
   "source": [
    "# doc = nlp(text) - zdefiniowane wcześniej\n",
    "matcher = Matcher(nlp.vocab)\n",
    "matched_sents = [] # collect data of matched sentences to be visualized\n",
    "\n",
    "def collect_sents(matcher, doc, i, matches, label='MATCH'):\n",
    "    \"\"\"\n",
    "    Function to help reformat data for displacy visualization\n",
    "    \"\"\"\n",
    "    match_id, start, end = matches[i]\n",
    "    span = doc[start : end]  # matched span\n",
    "    sent = span.sent  # sentence containing matched span\n",
    "    \n",
    "    # append mock entity for match in displaCy style to matched_sents\n",
    "    \n",
    "    if doc.vocab.strings[match_id] == 'DEMOCRATS':  # don't forget to get string!\n",
    "        match_ents = [{'start': span.start_char - sent.start_char,\n",
    "                   'end': span.end_char - sent.start_char,\n",
    "                   'label': 'DEMOCRATS'}]\n",
    "        matched_sents.append({'text': sent.text, 'ents': match_ents })\n",
    "    elif doc.vocab.strings[match_id] == 'RUSSIA':  # don't forget to get string!\n",
    "        match_ents = [{'start': span.start_char - sent.start_char,\n",
    "               'end': span.end_char - sent.start_char,\n",
    "               'label': 'RUSSIA'}]\n",
    "        matched_sents.append({'text': sent.text, 'ents': match_ents })\n",
    "    elif doc.vocab.strings[match_id] == 'I':  # don't forget to get string!\n",
    "        match_ents = [{'start': span.start_char - sent.start_char,\n",
    "               'end': span.end_char - sent.start_char,\n",
    "               'label': 'NARC'}]\n",
    "        matched_sents.append({'text': sent.text, 'ents': match_ents })"
   ]
  },
  {
   "cell_type": "code",
   "execution_count": 42,
   "metadata": {
    "canvas": {
     "comments": [],
     "componentType": "CodeCell",
     "copiedOriginId": null,
     "diskcache": false,
     "headerColor": "none",
     "id": "ceef0376-2f5b-43b9-a11f-af06427d554b",
     "isComponent": false,
     "name": "",
     "parents": []
    },
    "id": "YmDgfvU2RLUP"
   },
   "outputs": [],
   "source": [
    "russia_pattaern = [[{'LOWER': 'russia'}, {'LEMMA': 'be'}, {'POS': 'ADV', 'OP': '*'}, {'POS': 'ADJ'}]] \n",
    "democrats_pattern = [[{'LOWER': 'democrats'}, {'LEMMA': 'be'}, {'POS': 'ADV', 'OP': '*'}, {'POS': 'ADJ'}]]\n",
    "i_pattern = [[{'LOWER': 'i'}, {'LEMMA': 'be'}, {'POS': 'ADV', 'OP': '*'}, {'POS': 'ADJ'}]]"
   ]
  },
  {
   "cell_type": "code",
   "execution_count": 43,
   "metadata": {
    "canvas": {
     "comments": [],
     "componentType": "CodeCell",
     "copiedOriginId": null,
     "diskcache": false,
     "headerColor": "none",
     "id": "d12d8dbe-6be8-4048-8390-fdc5aefb5bfa",
     "isComponent": false,
     "name": "",
     "parents": []
    },
    "id": "CHf3UCTFSeLR"
   },
   "outputs": [],
   "source": [
    "matcher.add('DEMOCRATS', democrats_pattern, on_match=collect_sents)\n",
    "matcher.add('RUSSIA', russia_pattaern, on_match=collect_sents)\n",
    "matcher.add('I', i_pattern, on_match=collect_sents)\n",
    "matches = matcher(doc)"
   ]
  },
  {
   "cell_type": "code",
   "execution_count": 44,
   "metadata": {
    "canvas": {
     "comments": [],
     "componentType": "CodeCell",
     "copiedOriginId": null,
     "diskcache": false,
     "headerColor": "none",
     "id": "17264987-6e89-4e82-9640-14593ce95789",
     "isComponent": false,
     "name": "",
     "parents": []
    },
    "colab": {
     "base_uri": "https://localhost:8080/",
     "height": 1000
    },
    "id": "c8bL8RYCT3MD",
    "outputId": "f5db12ab-cdba-4214-a791-a9f934994b19"
   },
   "outputs": [
    {
     "data": {
      "text/html": [
       "<span class=\"tex2jax_ignore\"><div class=\"entities\" style=\"line-height: 2.5; direction: ltr\">\n",
       "<mark class=\"entity\" style=\"background: #6290c8; padding: 0.45em 0.6em; margin: 0 0.25em; line-height: 1; border-radius: 0.35em;\">\n",
       "    I am sorry\n",
       "    <span style=\"font-size: 0.8em; font-weight: bold; line-height: 1; border-radius: 0.35em; vertical-align: middle; margin-left: 0.5rem\">NARC</span>\n",
       "</mark>\n",
       " to have to reiterate that there are serious and unpleasant consequences to crossing the Border into the United States ILLEGALLY!</div>\n",
       "\n",
       "<div class=\"entities\" style=\"line-height: 2.5; direction: ltr\">It was Fusion GPS that hired Steele to write the phony &amp;amp; discredited Dossier, paid for by Crooked Hillary &amp;amp; the DNC \n",
       "<mark class=\"entity\" style=\"background: #6290c8; padding: 0.45em 0.6em; margin: 0 0.25em; line-height: 1; border-radius: 0.35em;\">\n",
       "    I am proud\n",
       "    <span style=\"font-size: 0.8em; font-weight: bold; line-height: 1; border-radius: 0.35em; vertical-align: middle; margin-left: 0.5rem\">NARC</span>\n",
       "</mark>\n",
       " to have fought for and secured the LOWEST African American and Hispanic unemployment rates in history.</div>\n",
       "\n",
       "<div class=\"entities\" style=\"line-height: 2.5; direction: ltr\">“Collusion with \n",
       "<mark class=\"entity\" style=\"background: #cc2936; padding: 0.45em 0.6em; margin: 0 0.25em; line-height: 1; border-radius: 0.35em;\">\n",
       "    Russia was very real\n",
       "    <span style=\"font-size: 0.8em; font-weight: bold; line-height: 1; border-radius: 0.35em; vertical-align: middle; margin-left: 0.5rem\">RUSSIA</span>\n",
       "</mark>\n",
       ".</div>\n",
       "\n",
       "<div class=\"entities\" style=\"line-height: 2.5; direction: ltr\">Fake News reporting, a complete fabrication, that \n",
       "<mark class=\"entity\" style=\"background: #6290c8; padding: 0.45em 0.6em; margin: 0 0.25em; line-height: 1; border-radius: 0.35em;\">\n",
       "    I am concerned\n",
       "    <span style=\"font-size: 0.8em; font-weight: bold; line-height: 1; border-radius: 0.35em; vertical-align: middle; margin-left: 0.5rem\">NARC</span>\n",
       "</mark>\n",
       " about the meeting my wonderful son, Donald, had in Trump Tower.</div>\n",
       "\n",
       "<div class=\"entities\" style=\"line-height: 2.5; direction: ltr\">\n",
       "<mark class=\"entity\" style=\"background: #6290c8; padding: 0.45em 0.6em; margin: 0 0.25em; line-height: 1; border-radius: 0.35em;\">\n",
       "    I am thrilled\n",
       "    <span style=\"font-size: 0.8em; font-weight: bold; line-height: 1; border-radius: 0.35em; vertical-align: middle; margin-left: 0.5rem\">NARC</span>\n",
       "</mark>\n",
       " to announce that in the second quarter of this year, the U Economy grew at the amazing rate of 4   of Ohio is running for Congress - so important to the Republican Party.</div>\n",
       "\n",
       "<div class=\"entities\" style=\"line-height: 2.5; direction: ltr\">But the Fake News is saying, without ever asking me (always anonymous sources), that \n",
       "<mark class=\"entity\" style=\"background: #6290c8; padding: 0.45em 0.6em; margin: 0 0.25em; line-height: 1; border-radius: 0.35em;\">\n",
       "    I am angry\n",
       "    <span style=\"font-size: 0.8em; font-weight: bold; line-height: 1; border-radius: 0.35em; vertical-align: middle; margin-left: 0.5rem\">NARC</span>\n",
       "</mark>\n",
       " because it is not going fast enough.</div>\n",
       "\n",
       "<div class=\"entities\" style=\"line-height: 2.5; direction: ltr\">If \n",
       "<mark class=\"entity\" style=\"background: #6290c8; padding: 0.45em 0.6em; margin: 0 0.25em; line-height: 1; border-radius: 0.35em;\">\n",
       "    I was loud\n",
       "    <span style=\"font-size: 0.8em; font-weight: bold; line-height: 1; border-radius: 0.35em; vertical-align: middle; margin-left: 0.5rem\">NARC</span>\n",
       "</mark>\n",
       " &amp;amp; vicious, I would have been criticized for being too tough.</div>\n",
       "\n",
       "<div class=\"entities\" style=\"line-height: 2.5; direction: ltr\">Remember when they said \n",
       "<mark class=\"entity\" style=\"background: #6290c8; padding: 0.45em 0.6em; margin: 0 0.25em; line-height: 1; border-radius: 0.35em;\">\n",
       "    I was too tough\n",
       "    <span style=\"font-size: 0.8em; font-weight: bold; line-height: 1; border-radius: 0.35em; vertical-align: middle; margin-left: 0.5rem\">NARC</span>\n",
       "</mark>\n",
       " with Chairman Kim?</div>\n",
       "\n",
       "<div class=\"entities\" style=\"line-height: 2.5; direction: ltr\">The media only says \n",
       "<mark class=\"entity\" style=\"background: #6290c8; padding: 0.45em 0.6em; margin: 0 0.25em; line-height: 1; border-radius: 0.35em;\">\n",
       "    I was rude\n",
       "    <span style=\"font-size: 0.8em; font-weight: bold; line-height: 1; border-radius: 0.35em; vertical-align: middle; margin-left: 0.5rem\">NARC</span>\n",
       "</mark>\n",
       " to leaders, never mentions the money!</div>\n",
       "\n",
       "<div class=\"entities\" style=\"line-height: 2.5; direction: ltr\">The people of our Country want and demand Safety and Security, while the \n",
       "<mark class=\"entity\" style=\"background: #f2cd5d; padding: 0.45em 0.6em; margin: 0 0.25em; line-height: 1; border-radius: 0.35em;\">\n",
       "    Democrats are more interested\n",
       "    <span style=\"font-size: 0.8em; font-weight: bold; line-height: 1; border-radius: 0.35em; vertical-align: middle; margin-left: 0.5rem\">DEMOCRATS</span>\n",
       "</mark>\n",
       " in  ripping apart and demeaning (and not properly funding)</div>\n",
       "\n",
       "<div class=\"entities\" style=\"line-height: 2.5; direction: ltr\">Many \n",
       "<mark class=\"entity\" style=\"background: #f2cd5d; padding: 0.45em 0.6em; margin: 0 0.25em; line-height: 1; border-radius: 0.35em;\">\n",
       "    Democrats are deeply concerned\n",
       "    <span style=\"font-size: 0.8em; font-weight: bold; line-height: 1; border-radius: 0.35em; vertical-align: middle; margin-left: 0.5rem\">DEMOCRATS</span>\n",
       "</mark>\n",
       " about the fact that their “leadership” wants to denounce and abandon the great men and women of ICE, thereby declaring war on Law &amp;amp; Order.</div>\n",
       "\n",
       "<div class=\"entities\" style=\"line-height: 2.5; direction: ltr\">#SCOTUS  Today, \n",
       "<mark class=\"entity\" style=\"background: #6290c8; padding: 0.45em 0.6em; margin: 0 0.25em; line-height: 1; border-radius: 0.35em;\">\n",
       "    I was thrilled\n",
       "    <span style=\"font-size: 0.8em; font-weight: bold; line-height: 1; border-radius: 0.35em; vertical-align: middle; margin-left: 0.5rem\">NARC</span>\n",
       "</mark>\n",
       " to join student leaders from Colleges and Universities across the   Harley-Davidson should stay 100% in America, with the people that got you your success.</div>\n",
       "\n",
       "<div class=\"entities\" style=\"line-height: 2.5; direction: ltr\">\n",
       "<mark class=\"entity\" style=\"background: #6290c8; padding: 0.45em 0.6em; margin: 0 0.25em; line-height: 1; border-radius: 0.35em;\">\n",
       "    I was thrilled\n",
       "    <span style=\"font-size: 0.8em; font-weight: bold; line-height: 1; border-radius: 0.35em; vertical-align: middle; margin-left: 0.5rem\">NARC</span>\n",
       "</mark>\n",
       " to be back in Minnesota for a roundtable with hardworking American Patriots.</div>\n",
       "\n",
       "<div class=\"entities\" style=\"line-height: 2.5; direction: ltr\">\n",
       "<mark class=\"entity\" style=\"background: #f2cd5d; padding: 0.45em 0.6em; margin: 0 0.25em; line-height: 1; border-radius: 0.35em;\">\n",
       "    Democrats are good\n",
       "    <span style=\"font-size: 0.8em; font-weight: bold; line-height: 1; border-radius: 0.35em; vertical-align: middle; margin-left: 0.5rem\">DEMOCRATS</span>\n",
       "</mark>\n",
       " at only three things, High Taxes, High Crime and Obstruction.</div>\n",
       "\n",
       "<div class=\"entities\" style=\"line-height: 2.5; direction: ltr\">These are experimental treatments and products that have shown great   Today \n",
       "<mark class=\"entity\" style=\"background: #6290c8; padding: 0.45em 0.6em; margin: 0 0.25em; line-height: 1; border-radius: 0.35em;\">\n",
       "    I am proud\n",
       "    <span style=\"font-size: 0.8em; font-weight: bold; line-height: 1; border-radius: 0.35em; vertical-align: middle; margin-left: 0.5rem\">NARC</span>\n",
       "</mark>\n",
       " to keep another promise to the American people as I sign the #RightToTry Legislation into law.  </div>\n",
       "\n",
       "<div class=\"entities\" style=\"line-height: 2.5; direction: ltr\">\n",
       "<mark class=\"entity\" style=\"background: #6290c8; padding: 0.45em 0.6em; margin: 0 0.25em; line-height: 1; border-radius: 0.35em;\">\n",
       "    I am pleased\n",
       "    <span style=\"font-size: 0.8em; font-weight: bold; line-height: 1; border-radius: 0.35em; vertical-align: middle; margin-left: 0.5rem\">NARC</span>\n",
       "</mark>\n",
       " to inform you that Secretary of State Mike Pompeo is in the air and on his way back from North Korea with the 3 wonderful gentlemen that everyone is looking so forward to meeting.</div>\n",
       "\n",
       "<div class=\"entities\" style=\"line-height: 2.5; direction: ltr\">They call him a Spy, but \n",
       "<mark class=\"entity\" style=\"background: #6290c8; padding: 0.45em 0.6em; margin: 0 0.25em; line-height: 1; border-radius: 0.35em;\">\n",
       "    I am more\n",
       "    <span style=\"font-size: 0.8em; font-weight: bold; line-height: 1; border-radius: 0.35em; vertical-align: middle; margin-left: 0.5rem\">NARC</span>\n",
       "</mark>\n",
       " a Spy than he is.</div>\n",
       "\n",
       "<div class=\"entities\" style=\"line-height: 2.5; direction: ltr\">Our relationship with \n",
       "<mark class=\"entity\" style=\"background: #cc2936; padding: 0.45em 0.6em; margin: 0 0.25em; line-height: 1; border-radius: 0.35em;\">\n",
       "    Russia is worse\n",
       "    <span style=\"font-size: 0.8em; font-weight: bold; line-height: 1; border-radius: 0.35em; vertical-align: middle; margin-left: 0.5rem\">RUSSIA</span>\n",
       "</mark>\n",
       " now than it has ever been, and that includes the Cold War.</div>\n",
       "\n",
       "<div class=\"entities\" style=\"line-height: 2.5; direction: ltr\">\n",
       "<mark class=\"entity\" style=\"background: #6290c8; padding: 0.45em 0.6em; margin: 0 0.25em; line-height: 1; border-radius: 0.35em;\">\n",
       "    I was very positive\n",
       "    <span style=\"font-size: 0.8em; font-weight: bold; line-height: 1; border-radius: 0.35em; vertical-align: middle; margin-left: 0.5rem\">NARC</span>\n",
       "</mark>\n",
       " about Ukraine-another negative to the Fake Russia  C story!</div>\n",
       "\n",
       "<div class=\"entities\" style=\"line-height: 2.5; direction: ltr\">#BalticSummit:   \n",
       "<mark class=\"entity\" style=\"background: #6290c8; padding: 0.45em 0.6em; margin: 0 0.25em; line-height: 1; border-radius: 0.35em;\">\n",
       "    I am right\n",
       "    <span style=\"font-size: 0.8em; font-weight: bold; line-height: 1; border-radius: 0.35em; vertical-align: middle; margin-left: 0.5rem\">NARC</span>\n",
       "</mark>\n",
       " about Amazon costing the United States Post Office massive amounts of money for being their Delivery Boy.</div>\n",
       "\n",
       "<div class=\"entities\" style=\"line-height: 2.5; direction: ltr\">\n",
       "<mark class=\"entity\" style=\"background: #6290c8; padding: 0.45em 0.6em; margin: 0 0.25em; line-height: 1; border-radius: 0.35em;\">\n",
       "    I am thankful\n",
       "    <span style=\"font-size: 0.8em; font-weight: bold; line-height: 1; border-radius: 0.35em; vertical-align: middle; margin-left: 0.5rem\">NARC</span>\n",
       "</mark>\n",
       " for Dr. David Shulkin’s service to our country and to our GREAT VETERANS!</div>\n",
       "\n",
       "<div class=\"entities\" style=\"line-height: 2.5; direction: ltr\">\n",
       "<mark class=\"entity\" style=\"background: #6290c8; padding: 0.45em 0.6em; margin: 0 0.25em; line-height: 1; border-radius: 0.35em;\">\n",
       "    I am pleased\n",
       "    <span style=\"font-size: 0.8em; font-weight: bold; line-height: 1; border-radius: 0.35em; vertical-align: middle; margin-left: 0.5rem\">NARC</span>\n",
       "</mark>\n",
       " to announce that I intend to nominate highly respected Admiral Ronny L. Jackson, MD, as the new Secretary of Veterans A Great briefing this afternoon on the start of our Southern Border WALL!   </div>\n",
       "\n",
       "<div class=\"entities\" style=\"line-height: 2.5; direction: ltr\">\n",
       "<mark class=\"entity\" style=\"background: #6290c8; padding: 0.45em 0.6em; margin: 0 0.25em; line-height: 1; border-radius: 0.35em;\">\n",
       "    I am very pleased\n",
       "    <span style=\"font-size: 0.8em; font-weight: bold; line-height: 1; border-radius: 0.35em; vertical-align: middle; margin-left: 0.5rem\">NARC</span>\n",
       "</mark>\n",
       " to welcome the opioid memorial to the President's Park in April.</div>\n",
       "\n",
       "<div class=\"entities\" style=\"line-height: 2.5; direction: ltr\">or law firm will take months to get up to speed (if for no other reason than they can bill more), which is unfair to our great country - and \n",
       "<mark class=\"entity\" style=\"background: #6290c8; padding: 0.45em 0.6em; margin: 0 0.25em; line-height: 1; border-radius: 0.35em;\">\n",
       "    I am very happy\n",
       "    <span style=\"font-size: 0.8em; font-weight: bold; line-height: 1; border-radius: 0.35em; vertical-align: middle; margin-left: 0.5rem\">NARC</span>\n",
       "</mark>\n",
       " with my existing team.</div>\n",
       "\n",
       "<div class=\"entities\" style=\"line-height: 2.5; direction: ltr\">\n",
       "<mark class=\"entity\" style=\"background: #6290c8; padding: 0.45em 0.6em; margin: 0 0.25em; line-height: 1; border-radius: 0.35em;\">\n",
       "    I am pleased\n",
       "    <span style=\"font-size: 0.8em; font-weight: bold; line-height: 1; border-radius: 0.35em; vertical-align: middle; margin-left: 0.5rem\">NARC</span>\n",
       "</mark>\n",
       " to announce that, effective 4/9/18, @AmbJohnBolton will be my new National Security Advisor.</div>\n",
       "\n",
       "<div class=\"entities\" style=\"line-height: 2.5; direction: ltr\">\n",
       "<mark class=\"entity\" style=\"background: #6290c8; padding: 0.45em 0.6em; margin: 0 0.25em; line-height: 1; border-radius: 0.35em;\">\n",
       "    I am very thankful\n",
       "    <span style=\"font-size: 0.8em; font-weight: bold; line-height: 1; border-radius: 0.35em; vertical-align: middle; margin-left: 0.5rem\">NARC</span>\n",
       "</mark>\n",
       " for the service of General H McMaster who has done an outstanding job &amp;amp; will always remain my friend.</div>\n",
       "\n",
       "<div class=\"entities\" style=\"line-height: 2.5; direction: ltr\">\n",
       "<mark class=\"entity\" style=\"background: #6290c8; padding: 0.45em 0.6em; margin: 0 0.25em; line-height: 1; border-radius: 0.35em;\">\n",
       "    I am still opposed\n",
       "    <span style=\"font-size: 0.8em; font-weight: bold; line-height: 1; border-radius: 0.35em; vertical-align: middle; margin-left: 0.5rem\">NARC</span>\n",
       "</mark>\n",
       " to it.</div>\n",
       "\n",
       "<div class=\"entities\" style=\"line-height: 2.5; direction: ltr\">The Failing New York Times purposely wrote a false story stating that \n",
       "<mark class=\"entity\" style=\"background: #6290c8; padding: 0.45em 0.6em; margin: 0 0.25em; line-height: 1; border-radius: 0.35em;\">\n",
       "    I am unhappy\n",
       "    <span style=\"font-size: 0.8em; font-weight: bold; line-height: 1; border-radius: 0.35em; vertical-align: middle; margin-left: 0.5rem\">NARC</span>\n",
       "</mark>\n",
       " with my legal team on the Russia case and am going to add another lawyer to help out.</div>\n",
       "\n",
       "<div class=\"entities\" style=\"line-height: 2.5; direction: ltr\">\n",
       "<mark class=\"entity\" style=\"background: #6290c8; padding: 0.45em 0.6em; margin: 0 0.25em; line-height: 1; border-radius: 0.35em;\">\n",
       "    I am VERY happy\n",
       "    <span style=\"font-size: 0.8em; font-weight: bold; line-height: 1; border-radius: 0.35em; vertical-align: middle; margin-left: 0.5rem\">NARC</span>\n",
       "</mark>\n",
       " with my lawyers, John Dowd, Ty Cobb and Jay Sekulow.</div>\n",
       "\n",
       "<div class=\"entities\" style=\"line-height: 2.5; direction: ltr\">RT @realDonaldTrump: \n",
       "<mark class=\"entity\" style=\"background: #f2cd5d; padding: 0.45em 0.6em; margin: 0 0.25em; line-height: 1; border-radius: 0.35em;\">\n",
       "    Democrats are far more concerned\n",
       "    <span style=\"font-size: 0.8em; font-weight: bold; line-height: 1; border-radius: 0.35em; vertical-align: middle; margin-left: 0.5rem\">DEMOCRATS</span>\n",
       "</mark>\n",
       " with Illegal Immigrants than they are with our great Military or Safety at our danger… Unprecedented success for our Country, in so many ways, since the Election.</div>\n",
       "\n",
       "<div class=\"entities\" style=\"line-height: 2.5; direction: ltr\">#DemocratShutdown \n",
       "<mark class=\"entity\" style=\"background: #f2cd5d; padding: 0.45em 0.6em; margin: 0 0.25em; line-height: 1; border-radius: 0.35em;\">\n",
       "    Democrats are far more concerned\n",
       "    <span style=\"font-size: 0.8em; font-weight: bold; line-height: 1; border-radius: 0.35em; vertical-align: middle; margin-left: 0.5rem\">DEMOCRATS</span>\n",
       "</mark>\n",
       " with Illegal Immigrants than they are with our great Military or Safety at our dangerous Southern Border.</div>\n",
       "\n",
       "<div class=\"entities\" style=\"line-height: 2.5; direction: ltr\">\n",
       "<mark class=\"entity\" style=\"background: #6290c8; padding: 0.45em 0.6em; margin: 0 0.25em; line-height: 1; border-radius: 0.35em;\">\n",
       "    I am very proud\n",
       "    <span style=\"font-size: 0.8em; font-weight: bold; line-height: 1; border-radius: 0.35em; vertical-align: middle; margin-left: 0.5rem\">NARC</span>\n",
       "</mark>\n",
       " to see companies like Chrysler moving operations from Mexico to Michigan where there are so many great American workers!  </div>\n",
       "\n",
       "<div class=\"entities\" style=\"line-height: 2.5; direction: ltr\">\n",
       "<mark class=\"entity\" style=\"background: #6290c8; padding: 0.45em 0.6em; margin: 0 0.25em; line-height: 1; border-radius: 0.35em;\">\n",
       "    I am proud\n",
       "    <span style=\"font-size: 0.8em; font-weight: bold; line-height: 1; border-radius: 0.35em; vertical-align: middle; margin-left: 0.5rem\">NARC</span>\n",
       "</mark>\n",
       " to have led the charge against the assault of our cherished and beautiful phrase.</div>\n",
       "\n",
       "<div class=\"entities\" style=\"line-height: 2.5; direction: ltr\">With all my Administration has done on Legislative Approvals (broke Harry Truman’s Record), Regulation Cutting, Judicial Appointments, Building Military, VA, TAX CUTS &amp;amp; REFORM, Record Economy/Stock Market and so much more, \n",
       "<mark class=\"entity\" style=\"background: #6290c8; padding: 0.45em 0.6em; margin: 0 0.25em; line-height: 1; border-radius: 0.35em;\">\n",
       "    I am sure\n",
       "    <span style=\"font-size: 0.8em; font-weight: bold; line-height: 1; border-radius: 0.35em; vertical-align: middle; margin-left: 0.5rem\">NARC</span>\n",
       "</mark>\n",
       " great credit will be given by mainstream news?</div>\n",
       "\n",
       "<div class=\"entities\" style=\"line-height: 2.5; direction: ltr\">A  story in the @washingtonpost that \n",
       "<mark class=\"entity\" style=\"background: #6290c8; padding: 0.45em 0.6em; margin: 0 0.25em; line-height: 1; border-radius: 0.35em;\">\n",
       "    I was close\n",
       "    <span style=\"font-size: 0.8em; font-weight: bold; line-height: 1; border-radius: 0.35em; vertical-align: middle; margin-left: 0.5rem\">NARC</span>\n",
       "</mark>\n",
       " to “rescinding” the nomination of Justice Gorsuch prior to confirmation is FAKE NEWS.</div>\n",
       "\n",
       "<div class=\"entities\" style=\"line-height: 2.5; direction: ltr\">\n",
       "<mark class=\"entity\" style=\"background: #6290c8; padding: 0.45em 0.6em; margin: 0 0.25em; line-height: 1; border-radius: 0.35em;\">\n",
       "    I was right\n",
       "    <span style=\"font-size: 0.8em; font-weight: bold; line-height: 1; border-radius: 0.35em; vertical-align: middle; margin-left: 0.5rem\">NARC</span>\n",
       "</mark>\n",
       "!</div>\n",
       "\n",
       "<div class=\"entities\" style=\"line-height: 2.5; direction: ltr\">Tonight, @FLOTUS Melania and \n",
       "<mark class=\"entity\" style=\"background: #6290c8; padding: 0.45em 0.6em; margin: 0 0.25em; line-height: 1; border-radius: 0.35em;\">\n",
       "    I were thrilled\n",
       "    <span style=\"font-size: 0.8em; font-weight: bold; line-height: 1; border-radius: 0.35em; vertical-align: middle; margin-left: 0.5rem\">NARC</span>\n",
       "</mark>\n",
       " to welcome so many wonderful friends to the @WhiteHouse – and wish them all a very #HappyHanukkah\r",
       "</br>  Across the battlefields, oceans, and harrowing skies of Europe and the Pacific throughout the war, one great battle cry could be heard by America’s friends and foes alike:\r",
       "</br>“REMEMBER PEARL HARBOR  </div>\n",
       "\n",
       "<div class=\"entities\" style=\"line-height: 2.5; direction: ltr\">Yesterday, \n",
       "<mark class=\"entity\" style=\"background: #6290c8; padding: 0.45em 0.6em; margin: 0 0.25em; line-height: 1; border-radius: 0.35em;\">\n",
       "    I was thrilled\n",
       "    <span style=\"font-size: 0.8em; font-weight: bold; line-height: 1; border-radius: 0.35em; vertical-align: middle; margin-left: 0.5rem\">NARC</span>\n",
       "</mark>\n",
       " to be with so many WONDERFUL friends, in Utah’s MAGNIFICENT Capitol.\r",
       "</br>\r",
       "</br></div>\n",
       "\n",
       "<div class=\"entities\" style=\"line-height: 2.5; direction: ltr\">The Schumer/Pelosi \n",
       "<mark class=\"entity\" style=\"background: #f2cd5d; padding: 0.45em 0.6em; margin: 0 0.25em; line-height: 1; border-radius: 0.35em;\">\n",
       "    Democrats are so weak\n",
       "    <span style=\"font-size: 0.8em; font-weight: bold; line-height: 1; border-radius: 0.35em; vertical-align: middle; margin-left: 0.5rem\">DEMOCRATS</span>\n",
       "</mark>\n",
       " on Crime that they will pay a big price in the 2018 and 2020 Elections.</div>\n",
       "\n",
       "<div class=\"entities\" style=\"line-height: 2.5; direction: ltr\">\n",
       "<mark class=\"entity\" style=\"background: #6290c8; padding: 0.45em 0.6em; margin: 0 0.25em; line-height: 1; border-radius: 0.35em;\">\n",
       "    I am proud\n",
       "    <span style=\"font-size: 0.8em; font-weight: bold; line-height: 1; border-radius: 0.35em; vertical-align: middle; margin-left: 0.5rem\">NARC</span>\n",
       "</mark>\n",
       " of the Rep. House &amp;amp; Senate for working so hard on cutting taxes {&amp;amp;  We’re getting close!</div>\n",
       "\n",
       "<div class=\"entities\" style=\"line-height: 2.5; direction: ltr\">I always felt I would be running and winning against Bernie Sanders, not Crooked H, without cheating, \n",
       "<mark class=\"entity\" style=\"background: #6290c8; padding: 0.45em 0.6em; margin: 0 0.25em; line-height: 1; border-radius: 0.35em;\">\n",
       "    I was right\n",
       "    <span style=\"font-size: 0.8em; font-weight: bold; line-height: 1; border-radius: 0.35em; vertical-align: middle; margin-left: 0.5rem\">NARC</span>\n",
       "</mark>\n",
       ".</div>\n",
       "\n",
       "<div class=\"entities\" style=\"line-height: 2.5; direction: ltr\">More:   \n",
       "<mark class=\"entity\" style=\"background: #6290c8; padding: 0.45em 0.6em; margin: 0 0.25em; line-height: 1; border-radius: 0.35em;\">\n",
       "    I am supportive\n",
       "    <span style=\"font-size: 0.8em; font-weight: bold; line-height: 1; border-radius: 0.35em; vertical-align: middle; margin-left: 0.5rem\">NARC</span>\n",
       "</mark>\n",
       " of Lamar as a person &amp;amp; also of the process, but I can never support bailing out ins co's who have made a fortune w/ O'Care.</div>\n",
       "\n",
       "<div class=\"entities\" style=\"line-height: 2.5; direction: ltr\">\n",
       "<mark class=\"entity\" style=\"background: #6290c8; padding: 0.45em 0.6em; margin: 0 0.25em; line-height: 1; border-radius: 0.35em;\">\n",
       "    I am proud\n",
       "    <span style=\"font-size: 0.8em; font-weight: bold; line-height: 1; border-radius: 0.35em; vertical-align: middle; margin-left: 0.5rem\">NARC</span>\n",
       "</mark>\n",
       " of him and @SecondLady Karen.  </div>\n",
       "\n",
       "<div class=\"entities\" style=\"line-height: 2.5; direction: ltr\">\n",
       "<mark class=\"entity\" style=\"background: #6290c8; padding: 0.45em 0.6em; margin: 0 0.25em; line-height: 1; border-radius: 0.35em;\">\n",
       "    I am so proud\n",
       "    <span style=\"font-size: 0.8em; font-weight: bold; line-height: 1; border-radius: 0.35em; vertical-align: middle; margin-left: 0.5rem\">NARC</span>\n",
       "</mark>\n",
       " of our great Country.</div>\n",
       "\n",
       "<div class=\"entities\" style=\"line-height: 2.5; direction: ltr\">@GovAbbott @FEMA @DHSgov  \n",
       "<mark class=\"entity\" style=\"background: #6290c8; padding: 0.45em 0.6em; margin: 0 0.25em; line-height: 1; border-radius: 0.35em;\">\n",
       "    I am pleased\n",
       "    <span style=\"font-size: 0.8em; font-weight: bold; line-height: 1; border-radius: 0.35em; vertical-align: middle; margin-left: 0.5rem\">NARC</span>\n",
       "</mark>\n",
       " to inform you that I have just granted a full Pardon to 85 year old American patriot Sheriff Joe Arpaio.</div>\n",
       "\n",
       "<div class=\"entities\" style=\"line-height: 2.5; direction: ltr\">\n",
       "<mark class=\"entity\" style=\"background: #6290c8; padding: 0.45em 0.6em; margin: 0 0.25em; line-height: 1; border-radius: 0.35em;\">\n",
       "    I am very disappointed\n",
       "    <span style=\"font-size: 0.8em; font-weight: bold; line-height: 1; border-radius: 0.35em; vertical-align: middle; margin-left: 0.5rem\">NARC</span>\n",
       "</mark>\n",
       " in China.</div>\n",
       "\n",
       "<div class=\"entities\" style=\"line-height: 2.5; direction: ltr\">We accomplished a lot together and \n",
       "<mark class=\"entity\" style=\"background: #6290c8; padding: 0.45em 0.6em; margin: 0 0.25em; line-height: 1; border-radius: 0.35em;\">\n",
       "    I am proud\n",
       "    <span style=\"font-size: 0.8em; font-weight: bold; line-height: 1; border-radius: 0.35em; vertical-align: middle; margin-left: 0.5rem\">NARC</span>\n",
       "</mark>\n",
       " of him!  </div>\n",
       "\n",
       "<div class=\"entities\" style=\"line-height: 2.5; direction: ltr\">He has been a true star of my Administration \n",
       "<mark class=\"entity\" style=\"background: #6290c8; padding: 0.45em 0.6em; margin: 0 0.25em; line-height: 1; border-radius: 0.35em;\">\n",
       "    I am pleased\n",
       "    <span style=\"font-size: 0.8em; font-weight: bold; line-height: 1; border-radius: 0.35em; vertical-align: middle; margin-left: 0.5rem\">NARC</span>\n",
       "</mark>\n",
       " to inform you that I have just named General/Secretary John F Kelly as White House Chief of Staff.</div>\n",
       "\n",
       "<div class=\"entities\" style=\"line-height: 2.5; direction: ltr\">Melania and \n",
       "<mark class=\"entity\" style=\"background: #6290c8; padding: 0.45em 0.6em; margin: 0 0.25em; line-height: 1; border-radius: 0.35em;\">\n",
       "    I were thrilled\n",
       "    <span style=\"font-size: 0.8em; font-weight: bold; line-height: 1; border-radius: 0.35em; vertical-align: middle; margin-left: 0.5rem\">NARC</span>\n",
       "</mark>\n",
       " to join the dedicated men and women of the @USEmbassyFrance, members of the U Military and their families.  </div>\n",
       "\n",
       "<div class=\"entities\" style=\"line-height: 2.5; direction: ltr\">\n",
       "<mark class=\"entity\" style=\"background: #6290c8; padding: 0.45em 0.6em; margin: 0 0.25em; line-height: 1; border-radius: 0.35em;\">\n",
       "    I am extremely pleased\n",
       "    <span style=\"font-size: 0.8em; font-weight: bold; line-height: 1; border-radius: 0.35em; vertical-align: middle; margin-left: 0.5rem\">NARC</span>\n",
       "</mark>\n",
       " to see that @CNN has finally been exposed as #FakeNews and garbage journalism.</div>\n",
       "\n",
       "<div class=\"entities\" style=\"line-height: 2.5; direction: ltr\">\n",
       "<mark class=\"entity\" style=\"background: #6290c8; padding: 0.45em 0.6em; margin: 0 0.25em; line-height: 1; border-radius: 0.35em;\">\n",
       "    I am very supportive\n",
       "    <span style=\"font-size: 0.8em; font-weight: bold; line-height: 1; border-radius: 0.35em; vertical-align: middle; margin-left: 0.5rem\">NARC</span>\n",
       "</mark>\n",
       " of the Senate #HealthcareBill.</div>\n",
       "\n",
       "<div class=\"entities\" style=\"line-height: 2.5; direction: ltr\">\n",
       "<mark class=\"entity\" style=\"background: #6290c8; padding: 0.45em 0.6em; margin: 0 0.25em; line-height: 1; border-radius: 0.35em;\">\n",
       "    I was thrilled\n",
       "    <span style=\"font-size: 0.8em; font-weight: bold; line-height: 1; border-radius: 0.35em; vertical-align: middle; margin-left: 0.5rem\">NARC</span>\n",
       "</mark>\n",
       " to be back @LibertyU.</div>\n",
       "\n",
       "<div class=\"entities\" style=\"line-height: 2.5; direction: ltr\">\n",
       "<mark class=\"entity\" style=\"background: #6290c8; padding: 0.45em 0.6em; margin: 0 0.25em; line-height: 1; border-radius: 0.35em;\">\n",
       "    I am deeply committed\n",
       "    <span style=\"font-size: 0.8em; font-weight: bold; line-height: 1; border-radius: 0.35em; vertical-align: middle; margin-left: 0.5rem\">NARC</span>\n",
       "</mark>\n",
       " to preserving our strong relationship &amp;amp; to strengthening America's long-standing support for…  Great to talk jobs with #NABTU2017.</div>\n",
       "\n",
       "<div class=\"entities\" style=\"line-height: 2.5; direction: ltr\">Today, \n",
       "<mark class=\"entity\" style=\"background: #6290c8; padding: 0.45em 0.6em; margin: 0 0.25em; line-height: 1; border-radius: 0.35em;\">\n",
       "    I was thrilled\n",
       "    <span style=\"font-size: 0.8em; font-weight: bold; line-height: 1; border-radius: 0.35em; vertical-align: middle; margin-left: 0.5rem\">NARC</span>\n",
       "</mark>\n",
       " to announce a commitment of $25 BILLION &amp;amp; 20K AMERICAN JOBS over the next 4 years.</div>\n",
       "\n",
       "<div class=\"entities\" style=\"line-height: 2.5; direction: ltr\">THANK YOU…  Today, \n",
       "<mark class=\"entity\" style=\"background: #6290c8; padding: 0.45em 0.6em; margin: 0 0.25em; line-height: 1; border-radius: 0.35em;\">\n",
       "    I was pleased\n",
       "    <span style=\"font-size: 0.8em; font-weight: bold; line-height: 1; border-radius: 0.35em; vertical-align: middle; margin-left: 0.5rem\">NARC</span>\n",
       "</mark>\n",
       " to announce the official approval of the presidential permit for the #KeystonePipeline.</div>\n",
       "\n",
       "<div class=\"entities\" style=\"line-height: 2.5; direction: ltr\">\n",
       "<mark class=\"entity\" style=\"background: #6290c8; padding: 0.45em 0.6em; margin: 0 0.25em; line-height: 1; border-radius: 0.35em;\">\n",
       "    I am so proud\n",
       "    <span style=\"font-size: 0.8em; font-weight: bold; line-height: 1; border-radius: 0.35em; vertical-align: middle; margin-left: 0.5rem\">NARC</span>\n",
       "</mark>\n",
       " of my daughter Ivanka.</div>\n",
       "\n",
       "<div class=\"entities\" style=\"line-height: 2.5; direction: ltr\">The \n",
       "<mark class=\"entity\" style=\"background: #f2cd5d; padding: 0.45em 0.6em; margin: 0 0.25em; line-height: 1; border-radius: 0.35em;\">\n",
       "    Democrats are most angry\n",
       "    <span style=\"font-size: 0.8em; font-weight: bold; line-height: 1; border-radius: 0.35em; vertical-align: middle; margin-left: 0.5rem\">DEMOCRATS</span>\n",
       "</mark>\n",
       " that so many Obama Democrats voted for me.</div>\n",
       "\n",
       "<div class=\"entities\" style=\"line-height: 2.5; direction: ltr\">\n",
       "<mark class=\"entity\" style=\"background: #6290c8; padding: 0.45em 0.6em; margin: 0 0.25em; line-height: 1; border-radius: 0.35em;\">\n",
       "    I am thrilled\n",
       "    <span style=\"font-size: 0.8em; font-weight: bold; line-height: 1; border-radius: 0.35em; vertical-align: middle; margin-left: 0.5rem\">NARC</span>\n",
       "</mark>\n",
       " to nominate Dr. @RealBenCarson as our next Secretary of the US Dept. of Housing and Urban Development…  their country (the U doesn't tax them) or to build a massive military complex in the middle of the South China Sea?  </div>\n",
       "\n",
       "<div class=\"entities\" style=\"line-height: 2.5; direction: ltr\">Great interview on @foxandfriends by @SteveDoocy w/ Carrier employee- who has a message for #PEOTUS @realDonaldTrump &amp;amp; #VPE… 'President-elect Donald J. Trump today announced his intent to nominate Steven Mnuchin, Wilbur Ross &amp;amp; Todd Ricketts…  Join me in Cincinnati, Ohio tomorrow evening at 7 \n",
       "<mark class=\"entity\" style=\"background: #6290c8; padding: 0.45em 0.6em; margin: 0 0.25em; line-height: 1; border-radius: 0.35em;\">\n",
       "    I am grateful\n",
       "    <span style=\"font-size: 0.8em; font-weight: bold; line-height: 1; border-radius: 0.35em; vertical-align: middle; margin-left: 0.5rem\">NARC</span>\n",
       "</mark>\n",
       " for all of your support.</div>\n",
       "\n",
       "<div class=\"entities\" style=\"line-height: 2.5; direction: ltr\">\n",
       "<mark class=\"entity\" style=\"background: #6290c8; padding: 0.45em 0.6em; margin: 0 0.25em; line-height: 1; border-radius: 0.35em;\">\n",
       "    I am always available\n",
       "    <span style=\"font-size: 0.8em; font-weight: bold; line-height: 1; border-radius: 0.35em; vertical-align: middle; margin-left: 0.5rem\">NARC</span>\n",
       "</mark>\n",
       " to them.</div>\n",
       "\n",
       "<div class=\"entities\" style=\"line-height: 2.5; direction: ltr\">\n",
       "<mark class=\"entity\" style=\"background: #6290c8; padding: 0.45em 0.6em; margin: 0 0.25em; line-height: 1; border-radius: 0.35em;\">\n",
       "    I am forever grateful\n",
       "    <span style=\"font-size: 0.8em; font-weight: bold; line-height: 1; border-radius: 0.35em; vertical-align: middle; margin-left: 0.5rem\">NARC</span>\n",
       "</mark>\n",
       " for your amazing support.</div>\n",
       "\n",
       "<div class=\"entities\" style=\"line-height: 2.5; direction: ltr\">\n",
       "<mark class=\"entity\" style=\"background: #6290c8; padding: 0.45em 0.6em; margin: 0 0.25em; line-height: 1; border-radius: 0.35em;\">\n",
       "    I'm incredibly grateful\n",
       "    <span style=\"font-size: 0.8em; font-weight: bold; line-height: 1; border-radius: 0.35em; vertical-align: middle; margin-left: 0.5rem\">NARC</span>\n",
       "</mark>\n",
       " to have so many…  RT @IvankaTrump:</div>\n",
       "\n",
       "<div class=\"entities\" style=\"line-height: 2.5; direction: ltr\">\n",
       "<mark class=\"entity\" style=\"background: #6290c8; padding: 0.45em 0.6em; margin: 0 0.25em; line-height: 1; border-radius: 0.35em;\">\n",
       "    I am very proud\n",
       "    <span style=\"font-size: 0.8em; font-weight: bold; line-height: 1; border-radius: 0.35em; vertical-align: middle; margin-left: 0.5rem\">NARC</span>\n",
       "</mark>\n",
       " to have brought the subject of illegal immigration back into the discussion.</div>\n",
       "\n",
       "<div class=\"entities\" style=\"line-height: 2.5; direction: ltr\">People are saying it's terrific - knowing Ann \n",
       "<mark class=\"entity\" style=\"background: #6290c8; padding: 0.45em 0.6em; margin: 0 0.25em; line-height: 1; border-radius: 0.35em;\">\n",
       "    I am sure\n",
       "    <span style=\"font-size: 0.8em; font-weight: bold; line-height: 1; border-radius: 0.35em; vertical-align: middle; margin-left: 0.5rem\">NARC</span>\n",
       "</mark>\n",
       " it is!</div>\n",
       "\n",
       "<div class=\"entities\" style=\"line-height: 2.5; direction: ltr\">\n",
       "<mark class=\"entity\" style=\"background: #6290c8; padding: 0.45em 0.6em; margin: 0 0.25em; line-height: 1; border-radius: 0.35em;\">\n",
       "    I am soooo proud\n",
       "    <span style=\"font-size: 0.8em; font-weight: bold; line-height: 1; border-radius: 0.35em; vertical-align: middle; margin-left: 0.5rem\">NARC</span>\n",
       "</mark>\n",
       " of my children, Don, Eric and Tiffany - their speeches, under enormous pressure, were incredible.</div>\n",
       "\n",
       "<div class=\"entities\" style=\"line-height: 2.5; direction: ltr\">\n",
       "<mark class=\"entity\" style=\"background: #6290c8; padding: 0.45em 0.6em; margin: 0 0.25em; line-height: 1; border-radius: 0.35em;\">\n",
       "    I am very proud\n",
       "    <span style=\"font-size: 0.8em; font-weight: bold; line-height: 1; border-radius: 0.35em; vertical-align: middle; margin-left: 0.5rem\">NARC</span>\n",
       "</mark>\n",
       " of you!</div>\n",
       "\n",
       "<div class=\"entities\" style=\"line-height: 2.5; direction: ltr\">\n",
       "<mark class=\"entity\" style=\"background: #6290c8; padding: 0.45em 0.6em; margin: 0 0.25em; line-height: 1; border-radius: 0.35em;\">\n",
       "    I am pleased\n",
       "    <span style=\"font-size: 0.8em; font-weight: bold; line-height: 1; border-radius: 0.35em; vertical-align: middle; margin-left: 0.5rem\">NARC</span>\n",
       "</mark>\n",
       " to announce that I have chosen Governor Mike Pence as my Vice Presidential running mate.</div>\n",
       "\n",
       "<div class=\"entities\" style=\"line-height: 2.5; direction: ltr\">\n",
       "<mark class=\"entity\" style=\"background: #6290c8; padding: 0.45em 0.6em; margin: 0 0.25em; line-height: 1; border-radius: 0.35em;\">\n",
       "    I am somewhat surprised\n",
       "    <span style=\"font-size: 0.8em; font-weight: bold; line-height: 1; border-radius: 0.35em; vertical-align: middle; margin-left: 0.5rem\">NARC</span>\n",
       "</mark>\n",
       " that Bernie Sanders was not true to himself and his supporters.</div>\n",
       "\n",
       "<div class=\"entities\" style=\"line-height: 2.5; direction: ltr\">China, and many others, are taking advantage of U with our terrible trade pacts Iron Mike Tyson was not asked to speak at the Convention though \n",
       "<mark class=\"entity\" style=\"background: #6290c8; padding: 0.45em 0.6em; margin: 0 0.25em; line-height: 1; border-radius: 0.35em;\">\n",
       "    I'm sure\n",
       "    <span style=\"font-size: 0.8em; font-weight: bold; line-height: 1; border-radius: 0.35em; vertical-align: middle; margin-left: 0.5rem\">NARC</span>\n",
       "</mark>\n",
       " he would do a good job if he was.</div>\n",
       "\n",
       "<div class=\"entities\" style=\"line-height: 2.5; direction: ltr\">\n",
       "<mark class=\"entity\" style=\"background: #6290c8; padding: 0.45em 0.6em; margin: 0 0.25em; line-height: 1; border-radius: 0.35em;\">\n",
       "    I'm sure\n",
       "    <span style=\"font-size: 0.8em; font-weight: bold; line-height: 1; border-radius: 0.35em; vertical-align: middle; margin-left: 0.5rem\">NARC</span>\n",
       "</mark>\n",
       " u will crush #CrookedHillary in general&quot; The &quot;dirty&quot; poll done by @ABC @washingtonpost is a disgrace.</div>\n",
       "\n",
       "<div class=\"entities\" style=\"line-height: 2.5; direction: ltr\">RT @FoxBusiness:  &quot;\n",
       "<mark class=\"entity\" style=\"background: #6290c8; padding: 0.45em 0.6em; margin: 0 0.25em; line-height: 1; border-radius: 0.35em;\">\n",
       "    I was so impressed\n",
       "    <span style=\"font-size: 0.8em; font-weight: bold; line-height: 1; border-radius: 0.35em; vertical-align: middle; margin-left: 0.5rem\">NARC</span>\n",
       "</mark>\n",
       " by [@realDonaldTrump's] speech yesterday.</div>\n",
       "\n",
       "<div class=\"entities\" style=\"line-height: 2.5; direction: ltr\">\n",
       "<mark class=\"entity\" style=\"background: #6290c8; padding: 0.45em 0.6em; margin: 0 0.25em; line-height: 1; border-radius: 0.35em;\">\n",
       "    I was right\n",
       "    <span style=\"font-size: 0.8em; font-weight: bold; line-height: 1; border-radius: 0.35em; vertical-align: middle; margin-left: 0.5rem\">NARC</span>\n",
       "</mark>\n",
       ".  </div>\n",
       "\n",
       "<div class=\"entities\" style=\"line-height: 2.5; direction: ltr\">Now he calls me racist-but \n",
       "<mark class=\"entity\" style=\"background: #6290c8; padding: 0.45em 0.6em; margin: 0 0.25em; line-height: 1; border-radius: 0.35em;\">\n",
       "    I am least\n",
       "    <span style=\"font-size: 0.8em; font-weight: bold; line-height: 1; border-radius: 0.35em; vertical-align: middle; margin-left: 0.5rem\">NARC</span>\n",
       "</mark>\n",
       " racist person there is Thank you Richmond, Virginia! \r",
       "</br></div>\n",
       "\n",
       "<div class=\"entities\" style=\"line-height: 2.5; direction: ltr\">\n",
       "<mark class=\"entity\" style=\"background: #6290c8; padding: 0.45em 0.6em; margin: 0 0.25em; line-height: 1; border-radius: 0.35em;\">\n",
       "    I'm Hispanic\n",
       "    <span style=\"font-size: 0.8em; font-weight: bold; line-height: 1; border-radius: 0.35em; vertical-align: middle; margin-left: 0.5rem\">NARC</span>\n",
       "</mark>\n",
       ", I'm proud to be Hispanic and I'm 100% behind T\r",
       "</br> </div>\n",
       "\n",
       "<div class=\"entities\" style=\"line-height: 2.5; direction: ltr\">I'm Hispanic, \n",
       "<mark class=\"entity\" style=\"background: #6290c8; padding: 0.45em 0.6em; margin: 0 0.25em; line-height: 1; border-radius: 0.35em;\">\n",
       "    I'm proud\n",
       "    <span style=\"font-size: 0.8em; font-weight: bold; line-height: 1; border-radius: 0.35em; vertical-align: middle; margin-left: 0.5rem\">NARC</span>\n",
       "</mark>\n",
       " to be Hispanic and I'm 100% behind T\r",
       "</br> </div></span>"
      ],
      "text/plain": [
       "<IPython.core.display.HTML object>"
      ]
     },
     "metadata": {},
     "output_type": "display_data"
    }
   ],
   "source": [
    "spacy.displacy.render(matched_sents, style='ent', jupyter=True, manual=True, \n",
    "                      options={'colors': {'NARC': '#6290c8', 'RUSSIA': '#cc2936', 'DEMOCRATS':'#f2cd5d'}})"
   ]
  },
  {
   "cell_type": "markdown",
   "metadata": {
    "canvas": {
     "comments": [],
     "componentType": "CodeCell",
     "copiedOriginId": null,
     "diskcache": false,
     "headerColor": "none",
     "id": "4d5ce96d-4cfb-44d7-a799-d7efe1c971fa",
     "isComponent": false,
     "name": "",
     "parents": []
    },
    "id": "gXmzptFaVx7a"
   },
   "source": [
    "# Parser"
   ]
  },
  {
   "cell_type": "code",
   "execution_count": 45,
   "metadata": {
    "canvas": {
     "comments": [],
     "componentType": "CodeCell",
     "copiedOriginId": null,
     "diskcache": false,
     "headerColor": "none",
     "id": "10d34e21-f0dc-4297-ab95-7242bfdc25c7",
     "isComponent": false,
     "name": "",
     "parents": []
    },
    "id": "-99VZkwPVxfZ"
   },
   "outputs": [],
   "source": [
    "example_tweet = tweets.loc[180, 'text']\n",
    "doc = nlp(example_tweet)"
   ]
  },
  {
   "cell_type": "code",
   "execution_count": 46,
   "metadata": {
    "canvas": {
     "comments": [],
     "componentType": "CodeCell",
     "copiedOriginId": null,
     "diskcache": false,
     "headerColor": "none",
     "id": "44939d03-7ba6-4d59-a4c6-08f40b2fe588",
     "isComponent": false,
     "name": "",
     "parents": []
    },
    "colab": {
     "base_uri": "https://localhost:8080/",
     "height": 616
    },
    "id": "d8LJ1CquWWOE",
    "outputId": "d92472be-da35-4aa2-e261-5fa92e62fc7c"
   },
   "outputs": [
    {
     "data": {
      "text/html": [
       "<span class=\"tex2jax_ignore\"><svg xmlns=\"http://www.w3.org/2000/svg\" xmlns:xlink=\"http://www.w3.org/1999/xlink\" xml:lang=\"en\" id=\"83812d85145e4e62bef580b2ab80fc15-0\" class=\"displacy\" width=\"1800\" height=\"574.5\" direction=\"ltr\" style=\"max-width: none; height: 574.5px; color: #000000; background: #ffffff; font-family: Arial; direction: ltr\">\n",
       "<text class=\"displacy-token\" fill=\"currentColor\" text-anchor=\"middle\" y=\"484.5\">\n",
       "    <tspan class=\"displacy-word\" fill=\"currentColor\" x=\"50\">Wacky</tspan>\n",
       "    <tspan class=\"displacy-tag\" dy=\"2em\" fill=\"currentColor\" x=\"50\">PROPN</tspan>\n",
       "</text>\n",
       "\n",
       "<text class=\"displacy-token\" fill=\"currentColor\" text-anchor=\"middle\" y=\"484.5\">\n",
       "    <tspan class=\"displacy-word\" fill=\"currentColor\" x=\"225\">Omarosa</tspan>\n",
       "    <tspan class=\"displacy-tag\" dy=\"2em\" fill=\"currentColor\" x=\"225\">PROPN</tspan>\n",
       "</text>\n",
       "\n",
       "<text class=\"displacy-token\" fill=\"currentColor\" text-anchor=\"middle\" y=\"484.5\">\n",
       "    <tspan class=\"displacy-word\" fill=\"currentColor\" x=\"400\">already</tspan>\n",
       "    <tspan class=\"displacy-tag\" dy=\"2em\" fill=\"currentColor\" x=\"400\">ADV</tspan>\n",
       "</text>\n",
       "\n",
       "<text class=\"displacy-token\" fill=\"currentColor\" text-anchor=\"middle\" y=\"484.5\">\n",
       "    <tspan class=\"displacy-word\" fill=\"currentColor\" x=\"575\">has</tspan>\n",
       "    <tspan class=\"displacy-tag\" dy=\"2em\" fill=\"currentColor\" x=\"575\">VERB</tspan>\n",
       "</text>\n",
       "\n",
       "<text class=\"displacy-token\" fill=\"currentColor\" text-anchor=\"middle\" y=\"484.5\">\n",
       "    <tspan class=\"displacy-word\" fill=\"currentColor\" x=\"750\">a</tspan>\n",
       "    <tspan class=\"displacy-tag\" dy=\"2em\" fill=\"currentColor\" x=\"750\">DET</tspan>\n",
       "</text>\n",
       "\n",
       "<text class=\"displacy-token\" fill=\"currentColor\" text-anchor=\"middle\" y=\"484.5\">\n",
       "    <tspan class=\"displacy-word\" fill=\"currentColor\" x=\"925\">fully</tspan>\n",
       "    <tspan class=\"displacy-tag\" dy=\"2em\" fill=\"currentColor\" x=\"925\">ADV</tspan>\n",
       "</text>\n",
       "\n",
       "<text class=\"displacy-token\" fill=\"currentColor\" text-anchor=\"middle\" y=\"484.5\">\n",
       "    <tspan class=\"displacy-word\" fill=\"currentColor\" x=\"1100\">signed</tspan>\n",
       "    <tspan class=\"displacy-tag\" dy=\"2em\" fill=\"currentColor\" x=\"1100\">VERB</tspan>\n",
       "</text>\n",
       "\n",
       "<text class=\"displacy-token\" fill=\"currentColor\" text-anchor=\"middle\" y=\"484.5\">\n",
       "    <tspan class=\"displacy-word\" fill=\"currentColor\" x=\"1275\">Non-</tspan>\n",
       "    <tspan class=\"displacy-tag\" dy=\"2em\" fill=\"currentColor\" x=\"1275\">PROPN</tspan>\n",
       "</text>\n",
       "\n",
       "<text class=\"displacy-token\" fill=\"currentColor\" text-anchor=\"middle\" y=\"484.5\">\n",
       "    <tspan class=\"displacy-word\" fill=\"currentColor\" x=\"1450\">Disclosure</tspan>\n",
       "    <tspan class=\"displacy-tag\" dy=\"2em\" fill=\"currentColor\" x=\"1450\">PROPN</tspan>\n",
       "</text>\n",
       "\n",
       "<text class=\"displacy-token\" fill=\"currentColor\" text-anchor=\"middle\" y=\"484.5\">\n",
       "    <tspan class=\"displacy-word\" fill=\"currentColor\" x=\"1625\">Agreement!</tspan>\n",
       "    <tspan class=\"displacy-tag\" dy=\"2em\" fill=\"currentColor\" x=\"1625\">PROPN</tspan>\n",
       "</text>\n",
       "\n",
       "<g class=\"displacy-arrow\">\n",
       "    <path class=\"displacy-arc\" id=\"arrow-83812d85145e4e62bef580b2ab80fc15-0-0\" stroke-width=\"2px\" d=\"M70,439.5 C70,352.0 205.0,352.0 205.0,439.5\" fill=\"none\" stroke=\"currentColor\"/>\n",
       "    <text dy=\"1.25em\" style=\"font-size: 0.8em; letter-spacing: 1px\">\n",
       "        <textPath xlink:href=\"#arrow-83812d85145e4e62bef580b2ab80fc15-0-0\" class=\"displacy-label\" startOffset=\"50%\" side=\"left\" fill=\"currentColor\" text-anchor=\"middle\">compound</textPath>\n",
       "    </text>\n",
       "    <path class=\"displacy-arrowhead\" d=\"M70,441.5 L62,429.5 78,429.5\" fill=\"currentColor\"/>\n",
       "</g>\n",
       "\n",
       "<g class=\"displacy-arrow\">\n",
       "    <path class=\"displacy-arc\" id=\"arrow-83812d85145e4e62bef580b2ab80fc15-0-1\" stroke-width=\"2px\" d=\"M245,439.5 C245,264.5 560.0,264.5 560.0,439.5\" fill=\"none\" stroke=\"currentColor\"/>\n",
       "    <text dy=\"1.25em\" style=\"font-size: 0.8em; letter-spacing: 1px\">\n",
       "        <textPath xlink:href=\"#arrow-83812d85145e4e62bef580b2ab80fc15-0-1\" class=\"displacy-label\" startOffset=\"50%\" side=\"left\" fill=\"currentColor\" text-anchor=\"middle\">nsubj</textPath>\n",
       "    </text>\n",
       "    <path class=\"displacy-arrowhead\" d=\"M245,441.5 L237,429.5 253,429.5\" fill=\"currentColor\"/>\n",
       "</g>\n",
       "\n",
       "<g class=\"displacy-arrow\">\n",
       "    <path class=\"displacy-arc\" id=\"arrow-83812d85145e4e62bef580b2ab80fc15-0-2\" stroke-width=\"2px\" d=\"M420,439.5 C420,352.0 555.0,352.0 555.0,439.5\" fill=\"none\" stroke=\"currentColor\"/>\n",
       "    <text dy=\"1.25em\" style=\"font-size: 0.8em; letter-spacing: 1px\">\n",
       "        <textPath xlink:href=\"#arrow-83812d85145e4e62bef580b2ab80fc15-0-2\" class=\"displacy-label\" startOffset=\"50%\" side=\"left\" fill=\"currentColor\" text-anchor=\"middle\">advmod</textPath>\n",
       "    </text>\n",
       "    <path class=\"displacy-arrowhead\" d=\"M420,441.5 L412,429.5 428,429.5\" fill=\"currentColor\"/>\n",
       "</g>\n",
       "\n",
       "<g class=\"displacy-arrow\">\n",
       "    <path class=\"displacy-arc\" id=\"arrow-83812d85145e4e62bef580b2ab80fc15-0-3\" stroke-width=\"2px\" d=\"M770,439.5 C770,89.5 1620.0,89.5 1620.0,439.5\" fill=\"none\" stroke=\"currentColor\"/>\n",
       "    <text dy=\"1.25em\" style=\"font-size: 0.8em; letter-spacing: 1px\">\n",
       "        <textPath xlink:href=\"#arrow-83812d85145e4e62bef580b2ab80fc15-0-3\" class=\"displacy-label\" startOffset=\"50%\" side=\"left\" fill=\"currentColor\" text-anchor=\"middle\">det</textPath>\n",
       "    </text>\n",
       "    <path class=\"displacy-arrowhead\" d=\"M770,441.5 L762,429.5 778,429.5\" fill=\"currentColor\"/>\n",
       "</g>\n",
       "\n",
       "<g class=\"displacy-arrow\">\n",
       "    <path class=\"displacy-arc\" id=\"arrow-83812d85145e4e62bef580b2ab80fc15-0-4\" stroke-width=\"2px\" d=\"M945,439.5 C945,352.0 1080.0,352.0 1080.0,439.5\" fill=\"none\" stroke=\"currentColor\"/>\n",
       "    <text dy=\"1.25em\" style=\"font-size: 0.8em; letter-spacing: 1px\">\n",
       "        <textPath xlink:href=\"#arrow-83812d85145e4e62bef580b2ab80fc15-0-4\" class=\"displacy-label\" startOffset=\"50%\" side=\"left\" fill=\"currentColor\" text-anchor=\"middle\">advmod</textPath>\n",
       "    </text>\n",
       "    <path class=\"displacy-arrowhead\" d=\"M945,441.5 L937,429.5 953,429.5\" fill=\"currentColor\"/>\n",
       "</g>\n",
       "\n",
       "<g class=\"displacy-arrow\">\n",
       "    <path class=\"displacy-arc\" id=\"arrow-83812d85145e4e62bef580b2ab80fc15-0-5\" stroke-width=\"2px\" d=\"M1120,439.5 C1120,177.0 1615.0,177.0 1615.0,439.5\" fill=\"none\" stroke=\"currentColor\"/>\n",
       "    <text dy=\"1.25em\" style=\"font-size: 0.8em; letter-spacing: 1px\">\n",
       "        <textPath xlink:href=\"#arrow-83812d85145e4e62bef580b2ab80fc15-0-5\" class=\"displacy-label\" startOffset=\"50%\" side=\"left\" fill=\"currentColor\" text-anchor=\"middle\">amod</textPath>\n",
       "    </text>\n",
       "    <path class=\"displacy-arrowhead\" d=\"M1120,441.5 L1112,429.5 1128,429.5\" fill=\"currentColor\"/>\n",
       "</g>\n",
       "\n",
       "<g class=\"displacy-arrow\">\n",
       "    <path class=\"displacy-arc\" id=\"arrow-83812d85145e4e62bef580b2ab80fc15-0-6\" stroke-width=\"2px\" d=\"M1295,439.5 C1295,264.5 1610.0,264.5 1610.0,439.5\" fill=\"none\" stroke=\"currentColor\"/>\n",
       "    <text dy=\"1.25em\" style=\"font-size: 0.8em; letter-spacing: 1px\">\n",
       "        <textPath xlink:href=\"#arrow-83812d85145e4e62bef580b2ab80fc15-0-6\" class=\"displacy-label\" startOffset=\"50%\" side=\"left\" fill=\"currentColor\" text-anchor=\"middle\">compound</textPath>\n",
       "    </text>\n",
       "    <path class=\"displacy-arrowhead\" d=\"M1295,441.5 L1287,429.5 1303,429.5\" fill=\"currentColor\"/>\n",
       "</g>\n",
       "\n",
       "<g class=\"displacy-arrow\">\n",
       "    <path class=\"displacy-arc\" id=\"arrow-83812d85145e4e62bef580b2ab80fc15-0-7\" stroke-width=\"2px\" d=\"M1470,439.5 C1470,352.0 1605.0,352.0 1605.0,439.5\" fill=\"none\" stroke=\"currentColor\"/>\n",
       "    <text dy=\"1.25em\" style=\"font-size: 0.8em; letter-spacing: 1px\">\n",
       "        <textPath xlink:href=\"#arrow-83812d85145e4e62bef580b2ab80fc15-0-7\" class=\"displacy-label\" startOffset=\"50%\" side=\"left\" fill=\"currentColor\" text-anchor=\"middle\">compound</textPath>\n",
       "    </text>\n",
       "    <path class=\"displacy-arrowhead\" d=\"M1470,441.5 L1462,429.5 1478,429.5\" fill=\"currentColor\"/>\n",
       "</g>\n",
       "\n",
       "<g class=\"displacy-arrow\">\n",
       "    <path class=\"displacy-arc\" id=\"arrow-83812d85145e4e62bef580b2ab80fc15-0-8\" stroke-width=\"2px\" d=\"M595,439.5 C595,2.0 1625.0,2.0 1625.0,439.5\" fill=\"none\" stroke=\"currentColor\"/>\n",
       "    <text dy=\"1.25em\" style=\"font-size: 0.8em; letter-spacing: 1px\">\n",
       "        <textPath xlink:href=\"#arrow-83812d85145e4e62bef580b2ab80fc15-0-8\" class=\"displacy-label\" startOffset=\"50%\" side=\"left\" fill=\"currentColor\" text-anchor=\"middle\">dobj</textPath>\n",
       "    </text>\n",
       "    <path class=\"displacy-arrowhead\" d=\"M1625.0,441.5 L1633.0,429.5 1617.0,429.5\" fill=\"currentColor\"/>\n",
       "</g>\n",
       "</svg></span>"
      ],
      "text/plain": [
       "<IPython.core.display.HTML object>"
      ]
     },
     "metadata": {},
     "output_type": "display_data"
    }
   ],
   "source": [
    "spacy.displacy.render(doc, jupyter=True, style='dep')"
   ]
  },
  {
   "cell_type": "code",
   "execution_count": 47,
   "metadata": {
    "canvas": {
     "comments": [],
     "componentType": "CodeCell",
     "copiedOriginId": null,
     "diskcache": false,
     "headerColor": "none",
     "id": "a5ce8c56-646a-4aed-a4a0-6ab7490d2f83",
     "isComponent": false,
     "name": "",
     "parents": []
    },
    "colab": {
     "base_uri": "https://localhost:8080/",
     "height": 426
    },
    "id": "dpvj7pqeXEjB",
    "outputId": "6811ce9d-2268-4d71-c1aa-bd72bb134de1"
   },
   "outputs": [
    {
     "data": {
      "text/html": [
       "<div>\n",
       "<style scoped>\n",
       "    .dataframe tbody tr th:only-of-type {\n",
       "        vertical-align: middle;\n",
       "    }\n",
       "\n",
       "    .dataframe tbody tr th {\n",
       "        vertical-align: top;\n",
       "    }\n",
       "\n",
       "    .dataframe thead th {\n",
       "        text-align: right;\n",
       "    }\n",
       "</style>\n",
       "<table border=\"1\" class=\"dataframe\">\n",
       "  <thead>\n",
       "    <tr style=\"text-align: right;\">\n",
       "      <th></th>\n",
       "      <th>text</th>\n",
       "      <th>dep</th>\n",
       "      <th>pos</th>\n",
       "      <th>head_text</th>\n",
       "      <th>head_pos</th>\n",
       "      <th>child</th>\n",
       "    </tr>\n",
       "  </thead>\n",
       "  <tbody>\n",
       "    <tr>\n",
       "      <th>0</th>\n",
       "      <td>Wacky</td>\n",
       "      <td>compound</td>\n",
       "      <td>PROPN</td>\n",
       "      <td>Omarosa</td>\n",
       "      <td>PROPN</td>\n",
       "      <td>[]</td>\n",
       "    </tr>\n",
       "    <tr>\n",
       "      <th>1</th>\n",
       "      <td>Omarosa</td>\n",
       "      <td>nsubj</td>\n",
       "      <td>PROPN</td>\n",
       "      <td>has</td>\n",
       "      <td>VERB</td>\n",
       "      <td>[Wacky]</td>\n",
       "    </tr>\n",
       "    <tr>\n",
       "      <th>2</th>\n",
       "      <td>already</td>\n",
       "      <td>advmod</td>\n",
       "      <td>ADV</td>\n",
       "      <td>has</td>\n",
       "      <td>VERB</td>\n",
       "      <td>[]</td>\n",
       "    </tr>\n",
       "    <tr>\n",
       "      <th>3</th>\n",
       "      <td>has</td>\n",
       "      <td>ROOT</td>\n",
       "      <td>VERB</td>\n",
       "      <td>has</td>\n",
       "      <td>VERB</td>\n",
       "      <td>[Omarosa, already, Agreement, !]</td>\n",
       "    </tr>\n",
       "    <tr>\n",
       "      <th>4</th>\n",
       "      <td>a</td>\n",
       "      <td>det</td>\n",
       "      <td>DET</td>\n",
       "      <td>Agreement</td>\n",
       "      <td>PROPN</td>\n",
       "      <td>[]</td>\n",
       "    </tr>\n",
       "    <tr>\n",
       "      <th>5</th>\n",
       "      <td>fully</td>\n",
       "      <td>advmod</td>\n",
       "      <td>ADV</td>\n",
       "      <td>signed</td>\n",
       "      <td>VERB</td>\n",
       "      <td>[]</td>\n",
       "    </tr>\n",
       "    <tr>\n",
       "      <th>6</th>\n",
       "      <td>signed</td>\n",
       "      <td>amod</td>\n",
       "      <td>VERB</td>\n",
       "      <td>Agreement</td>\n",
       "      <td>PROPN</td>\n",
       "      <td>[fully]</td>\n",
       "    </tr>\n",
       "    <tr>\n",
       "      <th>7</th>\n",
       "      <td>Non</td>\n",
       "      <td>compound</td>\n",
       "      <td>PROPN</td>\n",
       "      <td>Agreement</td>\n",
       "      <td>PROPN</td>\n",
       "      <td>[]</td>\n",
       "    </tr>\n",
       "    <tr>\n",
       "      <th>8</th>\n",
       "      <td>-</td>\n",
       "      <td>compound</td>\n",
       "      <td>PROPN</td>\n",
       "      <td>Agreement</td>\n",
       "      <td>PROPN</td>\n",
       "      <td>[]</td>\n",
       "    </tr>\n",
       "    <tr>\n",
       "      <th>9</th>\n",
       "      <td>Disclosure</td>\n",
       "      <td>compound</td>\n",
       "      <td>PROPN</td>\n",
       "      <td>Agreement</td>\n",
       "      <td>PROPN</td>\n",
       "      <td>[]</td>\n",
       "    </tr>\n",
       "    <tr>\n",
       "      <th>10</th>\n",
       "      <td>Agreement</td>\n",
       "      <td>dobj</td>\n",
       "      <td>PROPN</td>\n",
       "      <td>has</td>\n",
       "      <td>VERB</td>\n",
       "      <td>[a, signed, Non, -, Disclosure]</td>\n",
       "    </tr>\n",
       "    <tr>\n",
       "      <th>11</th>\n",
       "      <td>!</td>\n",
       "      <td>punct</td>\n",
       "      <td>PUNCT</td>\n",
       "      <td>has</td>\n",
       "      <td>VERB</td>\n",
       "      <td>[]</td>\n",
       "    </tr>\n",
       "  </tbody>\n",
       "</table>\n",
       "</div>"
      ],
      "text/plain": [
       "          text       dep    pos  head_text head_pos  \\\n",
       "0        Wacky  compound  PROPN    Omarosa    PROPN   \n",
       "1      Omarosa     nsubj  PROPN        has     VERB   \n",
       "2      already    advmod    ADV        has     VERB   \n",
       "3          has      ROOT   VERB        has     VERB   \n",
       "4            a       det    DET  Agreement    PROPN   \n",
       "5        fully    advmod    ADV     signed     VERB   \n",
       "6       signed      amod   VERB  Agreement    PROPN   \n",
       "7          Non  compound  PROPN  Agreement    PROPN   \n",
       "8            -  compound  PROPN  Agreement    PROPN   \n",
       "9   Disclosure  compound  PROPN  Agreement    PROPN   \n",
       "10   Agreement      dobj  PROPN        has     VERB   \n",
       "11           !     punct  PUNCT        has     VERB   \n",
       "\n",
       "                               child  \n",
       "0                                 []  \n",
       "1                            [Wacky]  \n",
       "2                                 []  \n",
       "3   [Omarosa, already, Agreement, !]  \n",
       "4                                 []  \n",
       "5                                 []  \n",
       "6                            [fully]  \n",
       "7                                 []  \n",
       "8                                 []  \n",
       "9                                 []  \n",
       "10   [a, signed, Non, -, Disclosure]  \n",
       "11                                []  "
      ]
     },
     "execution_count": 47,
     "metadata": {},
     "output_type": "execute_result"
    }
   ],
   "source": [
    "df_data = []\n",
    "for token in doc:\n",
    "    data = {\n",
    "        'text': token.text,\n",
    "        'dep': token.dep_,\n",
    "        'pos': token.pos_,\n",
    "        'head_text': token.head.text,\n",
    "        'head_pos': token.head.pos_,\n",
    "        'child': [child for child in token.children]\n",
    "    }\n",
    "    df_data.append(data)\n",
    "pd.DataFrame(df_data)"
   ]
  },
  {
   "cell_type": "code",
   "execution_count": 48,
   "metadata": {
    "canvas": {
     "comments": [],
     "componentType": "CodeCell",
     "copiedOriginId": null,
     "diskcache": false,
     "headerColor": "none",
     "id": "ed5a64eb-cf4a-4b14-8fb9-b8cd2f6f0f4a",
     "isComponent": false,
     "name": "",
     "parents": []
    },
    "colab": {
     "base_uri": "https://localhost:8080/"
    },
    "id": "prpjCKMcZBDP",
    "outputId": "2b7b5a25-8354-465b-e325-edb755e75746"
   },
   "outputs": [
    {
     "name": "stdout",
     "output_type": "stream",
     "text": [
      "Wacky Omarosa already has a fully signed Non-Disclosure Agreement!\n"
     ]
    }
   ],
   "source": [
    "for s in doc.sents:\n",
    "    print(s)"
   ]
  },
  {
   "cell_type": "code",
   "execution_count": 49,
   "metadata": {
    "canvas": {
     "comments": [],
     "componentType": "CodeCell",
     "copiedOriginId": null,
     "diskcache": false,
     "headerColor": "none",
     "id": "511097d5-2aea-438b-b5e9-686111c0ca56",
     "isComponent": false,
     "name": "",
     "parents": []
    },
    "colab": {
     "base_uri": "https://localhost:8080/"
    },
    "id": "e_k0W2g_ZDij",
    "outputId": "f2895f3b-b205-4107-9f47-16d43bd98a07"
   },
   "outputs": [
    {
     "data": {
      "text/plain": [
       "[Omarosa]"
      ]
     },
     "execution_count": 49,
     "metadata": {},
     "output_type": "execute_result"
    }
   ],
   "source": [
    "spacy_utils.get_subjects_of_verb(s.root)"
   ]
  },
  {
   "cell_type": "code",
   "execution_count": 50,
   "metadata": {
    "canvas": {
     "comments": [],
     "componentType": "CodeCell",
     "copiedOriginId": null,
     "diskcache": false,
     "headerColor": "none",
     "id": "5a7ac368-0c5b-40cd-a2bd-43d519cf44f6",
     "isComponent": false,
     "name": "",
     "parents": []
    },
    "colab": {
     "base_uri": "https://localhost:8080/"
    },
    "id": "UbdK_at4Z7sU",
    "outputId": "71ba85ce-0f05-460a-c8b9-acef150620df"
   },
   "outputs": [
    {
     "data": {
      "text/plain": [
       "[Agreement]"
      ]
     },
     "execution_count": 50,
     "metadata": {},
     "output_type": "execute_result"
    }
   ],
   "source": [
    "spacy_utils.get_objects_of_verb(s.root)"
   ]
  },
  {
   "cell_type": "code",
   "execution_count": 51,
   "metadata": {
    "canvas": {
     "comments": [],
     "componentType": "CodeCell",
     "copiedOriginId": null,
     "diskcache": false,
     "headerColor": "none",
     "id": "2d26f6dd-aeb7-415e-8d6c-a8729babd2ed",
     "isComponent": false,
     "name": "",
     "parents": []
    },
    "id": "9P7dOFYLaMNY"
   },
   "outputs": [],
   "source": [
    "def ask_question(text: str):\n",
    "    doc = nlp(text)\n",
    "\n",
    "    for sentence in doc.sents:\n",
    "        print(sentence.text)\n",
    "\n",
    "        ask_about = spacy_utils.get_subjects_of_verb(sentence.root)\n",
    "        answers = spacy_utils.get_objects_of_verb(sentence.root)\n",
    "    \n",
    "        if ask_about and answers:\n",
    "            if sentence.root.lemma_ == \"be\":\n",
    "                quection = f\"What {sentence.root} {ask_about[0]}?\"\n",
    "            else:\n",
    "                question = f\"What does {ask_about[0]} {sentence.root.lemma_}?\"\n",
    "            print(question)\n",
    "            print(f\"Answer: {answers[0]}\")\n",
    "        else:\n",
    "            print(\"...\")"
   ]
  },
  {
   "cell_type": "code",
   "execution_count": 52,
   "metadata": {
    "canvas": {
     "comments": [],
     "componentType": "CodeCell",
     "copiedOriginId": null,
     "diskcache": false,
     "headerColor": "none",
     "id": "c7fdeedb-d248-4b67-9478-f7b7f3fcf4ca",
     "isComponent": false,
     "name": "",
     "parents": []
    },
    "colab": {
     "base_uri": "https://localhost:8080/"
    },
    "id": "RBLWn60Rabjs",
    "outputId": "33f2cdf2-27e0-4f42-de07-e22cf28b0da8"
   },
   "outputs": [
    {
     "name": "stdout",
     "output_type": "stream",
     "text": [
      "Wacky Omarosa already has a fully signed Non-Disclosure Agreement!\n",
      "What does Omarosa have?\n",
      "Answer: Agreement\n"
     ]
    }
   ],
   "source": [
    "ask_question(example_tweet)"
   ]
  }
 ],
 "metadata": {
  "canvas": {
   "colorPalette": [
    "inherit",
    "inherit",
    "inherit",
    "inherit",
    "inherit",
    "inherit",
    "inherit",
    "inherit",
    "inherit",
    "inherit"
   ],
   "parameters": [],
   "version": "1.0"
  },
  "colab": {
   "provenance": []
  },
  "kernelspec": {
   "display_name": "Python 3 (ipykernel)",
   "language": "python",
   "name": "python3"
  },
  "language_info": {
   "codemirror_mode": {
    "name": "ipython",
    "version": 3
   },
   "file_extension": ".py",
   "mimetype": "text/x-python",
   "name": "python",
   "nbconvert_exporter": "python",
   "pygments_lexer": "ipython3",
   "version": "3.9.13"
  }
 },
 "nbformat": 4,
 "nbformat_minor": 4
}
